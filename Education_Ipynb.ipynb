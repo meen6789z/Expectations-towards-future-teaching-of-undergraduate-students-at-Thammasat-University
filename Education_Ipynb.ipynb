{
  "cells": [
    {
      "cell_type": "markdown",
      "metadata": {
        "id": "Cy_G1X4-bR6g"
      },
      "source": [
        "# การเรียนการสอน\n",
        "\n",
        "\n",
        "*   นางสาวณกมล ทรัพย์ฟูเกียรติ 6409620025\n",
        "*   นายชุติพนธ์ กัลยาประสิทธิ์ 6409680110"
      ]
    },
    {
      "cell_type": "markdown",
      "metadata": {
        "id": "ImfYXrQrbV4p"
      },
      "source": [
        "# Import Library & Data"
      ]
    },
    {
      "cell_type": "code",
      "execution_count": null,
      "metadata": {
        "colab": {
          "base_uri": "https://localhost:8080/"
        },
        "id": "-hxnEFkIboVY",
        "outputId": "819ae56c-2a5e-4e9b-b81b-d77db8adf309"
      },
      "outputs": [
        {
          "name": "stdout",
          "output_type": "stream",
          "text": [
            "Collecting pythainlp\n",
            "  Downloading pythainlp-5.0.2-py3-none-any.whl (17.9 MB)\n",
            "\u001b[2K     \u001b[90m━━━━━━━━━━━━━━━━━━━━━━━━━━━━━━━━━━━━━━━━\u001b[0m \u001b[32m17.9/17.9 MB\u001b[0m \u001b[31m34.2 MB/s\u001b[0m eta \u001b[36m0:00:00\u001b[0m\n",
            "\u001b[?25hRequirement already satisfied: requests>=2.22.0 in /usr/local/lib/python3.10/dist-packages (from pythainlp) (2.31.0)\n",
            "Requirement already satisfied: charset-normalizer<4,>=2 in /usr/local/lib/python3.10/dist-packages (from requests>=2.22.0->pythainlp) (3.3.2)\n",
            "Requirement already satisfied: idna<4,>=2.5 in /usr/local/lib/python3.10/dist-packages (from requests>=2.22.0->pythainlp) (3.7)\n",
            "Requirement already satisfied: urllib3<3,>=1.21.1 in /usr/local/lib/python3.10/dist-packages (from requests>=2.22.0->pythainlp) (2.0.7)\n",
            "Requirement already satisfied: certifi>=2017.4.17 in /usr/local/lib/python3.10/dist-packages (from requests>=2.22.0->pythainlp) (2024.2.2)\n",
            "Installing collected packages: pythainlp\n",
            "Successfully installed pythainlp-5.0.2\n"
          ]
        }
      ],
      "source": [
        "pip install pythainlp"
      ]
    },
    {
      "cell_type": "code",
      "execution_count": null,
      "metadata": {
        "colab": {
          "base_uri": "https://localhost:8080/"
        },
        "id": "ePxfpEC0bLAP",
        "outputId": "089f72e5-04b1-45db-e99c-beceeaf1efac"
      },
      "outputs": [
        {
          "name": "stdout",
          "output_type": "stream",
          "text": [
            "Mounted at /content/drive\n"
          ]
        }
      ],
      "source": [
        "import matplotlib.pyplot as plt\n",
        "import matplotlib as mpl\n",
        "import seaborn as sns\n",
        "import plotly.express as px\n",
        "import plotly.graph_objects as go\n",
        "import pandas as pd\n",
        "import numpy as np\n",
        "import bokeh.plotting as bplt\n",
        "import re\n",
        "\n",
        "import wordcloud\n",
        "from wordcloud import WordCloud\n",
        "\n",
        "import pythainlp\n",
        "from pythainlp import word_tokenize\n",
        "from pythainlp.corpus import get_corpus\n",
        "\n",
        "from google.colab import drive\n",
        "drive.mount('/content/drive')"
      ]
    },
    {
      "cell_type": "code",
      "execution_count": null,
      "metadata": {
        "colab": {
          "base_uri": "https://localhost:8080/",
          "height": 1000
        },
        "id": "DudGo56yb6ct",
        "outputId": "b7c33259-21f8-44f7-cea0-6c017c9f2ef0"
      },
      "outputs": [
        {
          "data": {
            "application/vnd.google.colaboratory.intrinsic+json": {
              "type": "dataframe",
              "variable_name": "data"
            },
            "text/html": [
              "\n",
              "  <div id=\"df-8979ce71-2db8-4fb8-a161-e3ae02a8390c\" class=\"colab-df-container\">\n",
              "    <div>\n",
              "<style scoped>\n",
              "    .dataframe tbody tr th:only-of-type {\n",
              "        vertical-align: middle;\n",
              "    }\n",
              "\n",
              "    .dataframe tbody tr th {\n",
              "        vertical-align: top;\n",
              "    }\n",
              "\n",
              "    .dataframe thead th {\n",
              "        text-align: right;\n",
              "    }\n",
              "</style>\n",
              "<table border=\"1\" class=\"dataframe\">\n",
              "  <thead>\n",
              "    <tr style=\"text-align: right;\">\n",
              "      <th></th>\n",
              "      <th>Timestamp</th>\n",
              "      <th>เพศ</th>\n",
              "      <th>ระดับชั้นปี</th>\n",
              "      <th>คณะ</th>\n",
              "      <th>สาขาวิชา (ถ้าไม่มีทำเครื่องหมาย -)</th>\n",
              "      <th>เหตุผลที่ท่านเข้ารับการศึกษาในมหาวิทยาลัยธรรมศาสตร์</th>\n",
              "      <th>ท่านพึงพอใจกับสภาพแวดล้อมการเรียนรู้</th>\n",
              "      <th>ท่านคิดว่าสภาพแวดล้อมการเรียนรู้มีผลต่อประสิทธิภาพในการเรียนการสอน</th>\n",
              "      <th>ท่านมีความพึงพอใจในวิธีการสอนของครูหรืออาจารย์</th>\n",
              "      <th>ท่านรู้สึกว่าครูหรืออาจารย์มีส่วนร่วมในการสร้างประสบการณ์การเรียนที่ดี</th>\n",
              "      <th>...</th>\n",
              "      <th>จากข้อที่แล้ว ท่านคิดว่าเป็นเพราะเหตุ?</th>\n",
              "      <th>ทักษะอะไรที่นักศึกษาจำเป็นต้องมีสำหรับการเรียนการสอนในอนาคต?</th>\n",
              "      <th>ท่านคิดว่าอะไรคือสิ่งที่สำคัญที่สุดที่เราควรทำเพื่อเตรียมพร้อมสำหรับการศึกษาในอนาคต?</th>\n",
              "      <th>ท่านคิดว่ารูปแบบการเรียนการสอนในอนาคตจะเปลี่ยนไปอย่างไร?</th>\n",
              "      <th>ท่านคิดว่าเทคโนโลยีอะไรบ้างจะส่งผลต่อการศึกษาอนาคต</th>\n",
              "      <th>จากข้อที่แล้ว ท่านคิดว่าเทคโนโลยีที่ท่านเลือกจะมีบทบาทอย่างไรในการศึกษาในอนาคต</th>\n",
              "      <th>ท่านคิดว่าระบบการประเมินผลในอนาคตควรเป็นอย่างไร</th>\n",
              "      <th>ท่านคิดว่าอะไรคืออุปสรรคที่สำคัญที่สุดต่อการศึกษาที่มีคุณภาพในอนาคต?</th>\n",
              "      <th>ท่านมีความคิดเห็นหรือข้อเสนอแนะเพิ่มเติมเกี่ยวกับการศึกษาในอนาคตหรือไม่?</th>\n",
              "      <th>หากท่านมีความประสงค์จะรับผลการสำรวจของโครงงานเรา กรุณากรอกอีเมลลงช่องที่เว้นไว้ให้</th>\n",
              "    </tr>\n",
              "  </thead>\n",
              "  <tbody>\n",
              "    <tr>\n",
              "      <th>0</th>\n",
              "      <td>4/1/2024 11:08:06</td>\n",
              "      <td>หญิง</td>\n",
              "      <td>ปีที่ 3 (รหัส 64)</td>\n",
              "      <td>คณะวิทยาศาสตร์และเทคโนโลยี</td>\n",
              "      <td>สถิติ</td>\n",
              "      <td>สภาพแสดล้อม การให้อิสระกับนักศึกษา และสอบติดที...</td>\n",
              "      <td>4</td>\n",
              "      <td>5</td>\n",
              "      <td>3</td>\n",
              "      <td>3</td>\n",
              "      <td>...</td>\n",
              "      <td>ทุกคนต้องมีความรู้พื้นฐานในระดับปริญญาตรี เพื่...</td>\n",
              "      <td>ทักษะการคิดวิเคราะห์และแก้ปัญหา, ทักษะการเรียน...</td>\n",
              "      <td>คิดวิเคราะห์ แก้ปัญหา</td>\n",
              "      <td>เน้นการเรียนรู้แบบ Blended Learning : คือ ผสมผ...</td>\n",
              "      <td>ปัญญาประดิษฐ์ (AI) คือ วิเคราะห์ข้อมูล แนะนำแน...</td>\n",
              "      <td>ช่วยในการค้นคว้าหาความรู้ได้ง่ายขึ้น</td>\n",
              "      <td>ประเมินผลแบบ Real-time คือ ประเมินผลตลอดการเรี...</td>\n",
              "      <td>ความเหลื่อมล้ำ</td>\n",
              "      <td>NaN</td>\n",
              "      <td>NaN</td>\n",
              "    </tr>\n",
              "    <tr>\n",
              "      <th>1</th>\n",
              "      <td>4/1/2024 11:08:06</td>\n",
              "      <td>ชาย</td>\n",
              "      <td>ปีที่ 4 (รหัส 63)</td>\n",
              "      <td>คณะวิทยาศาสตร์และเทคโนโลยี</td>\n",
              "      <td>สถิติ</td>\n",
              "      <td>เป็นมหาวิทยาลัยชั้นนำของประเทศ</td>\n",
              "      <td>5</td>\n",
              "      <td>5</td>\n",
              "      <td>4</td>\n",
              "      <td>4</td>\n",
              "      <td>...</td>\n",
              "      <td>มีความรู้ติดตัวไว้ย่อมดีกว่า</td>\n",
              "      <td>ทักษะการคิดวิเคราะห์และแก้ปัญหา, ทักษะการเรียน...</td>\n",
              "      <td>สื่อสาร ทำงานเป็นทีม</td>\n",
              "      <td>เน้นการเรียนรู้แบบ Active Learning : คือ ผู้เร...</td>\n",
              "      <td>ปัญญาประดิษฐ์ (AI) คือ วิเคราะห์ข้อมูล แนะนำแน...</td>\n",
              "      <td>เวลาต้องการศึกษาด้วยตัวเองแต่ไม่เข้าใจ สามารถใ...</td>\n",
              "      <td>ประเมินผลแบบองค์รวม คือ ประเมินผลมากกว่าความรู...</td>\n",
              "      <td>แรงจูงใจ</td>\n",
              "      <td>NaN</td>\n",
              "      <td>NaN</td>\n",
              "    </tr>\n",
              "    <tr>\n",
              "      <th>2</th>\n",
              "      <td>4/1/2024 11:38:37</td>\n",
              "      <td>ชาย</td>\n",
              "      <td>ปีที่ 4 (รหัส 63)</td>\n",
              "      <td>คณะวิทยาศาสตร์และเทคโนโลยี</td>\n",
              "      <td>สถิติ</td>\n",
              "      <td>ต้องการวุฒิการศึกษาที่ดี</td>\n",
              "      <td>4</td>\n",
              "      <td>5</td>\n",
              "      <td>4</td>\n",
              "      <td>4</td>\n",
              "      <td>...</td>\n",
              "      <td>การวัดผลจากการศึกษาเป็นสิ่งที่จำเป็นมี</td>\n",
              "      <td>ทักษะการคิดวิเคราะห์และแก้ปัญหา, ทักษะการเรียน...</td>\n",
              "      <td>ยืดหยุ่น ปรับตัว</td>\n",
              "      <td>เน้นการเรียนรู้แบบ Active Learning : คือ ผู้เร...</td>\n",
              "      <td>ปัญญาประดิษฐ์ (AI) คือ วิเคราะห์ข้อมูล แนะนำแน...</td>\n",
              "      <td>เป็นผู้ช่วยในการทำงานและการเรียนรู้ต่างๆ</td>\n",
              "      <td>ประเมินผลแบบ Personalized คือ ออกแบบการประเมิน...</td>\n",
              "      <td>แรงจูงใจ</td>\n",
              "      <td>NaN</td>\n",
              "      <td>kitakan.wis@dome.tu.ac.th</td>\n",
              "    </tr>\n",
              "    <tr>\n",
              "      <th>3</th>\n",
              "      <td>4/1/2024 12:05:39</td>\n",
              "      <td>บุคคลที่มีความหลากหลายทางเพศ (LGBTQIA+)</td>\n",
              "      <td>ปีที่ 1 (รหัส 66)</td>\n",
              "      <td>คณะวิศวกรรมศาสตร์</td>\n",
              "      <td>EBM</td>\n",
              "      <td>คิดว่าเรียนสบาย</td>\n",
              "      <td>1</td>\n",
              "      <td>5</td>\n",
              "      <td>2</td>\n",
              "      <td>3</td>\n",
              "      <td>...</td>\n",
              "      <td>ในอดีตปริญญาตรีอาจถูกมองว่าเป็นสิ่งพิเศษ แต่ถ้...</td>\n",
              "      <td>ทักษะการเรียนรู้และปรับตัว</td>\n",
              "      <td>ยืดหยุ่น ปรับตัว</td>\n",
              "      <td>เน้นการเรียนรู้แบบ Personalized : คือ ปรับเนื้...</td>\n",
              "      <td>เกม (Gamification) คือ ฝึกทักษะการคิดวิเคราะห์...</td>\n",
              "      <td>ดี</td>\n",
              "      <td>ประเมินผลแบบ Personalized คือ ออกแบบการประเมิน...</td>\n",
              "      <td>ความเหลื่อมล้ำ</td>\n",
              "      <td>ไม่มี</td>\n",
              "      <td>บ่</td>\n",
              "    </tr>\n",
              "    <tr>\n",
              "      <th>4</th>\n",
              "      <td>4/1/2024 12:17:18</td>\n",
              "      <td>หญิง</td>\n",
              "      <td>ปีที่ 3 (รหัส 64)</td>\n",
              "      <td>คณะพยาบาลศาสตร์</td>\n",
              "      <td>-</td>\n",
              "      <td>ชื่อเสียง</td>\n",
              "      <td>5</td>\n",
              "      <td>4</td>\n",
              "      <td>4</td>\n",
              "      <td>4</td>\n",
              "      <td>...</td>\n",
              "      <td>เพราะเป็นพื้นฐานเกินไป ใครๆก็จบป.ตรี</td>\n",
              "      <td>ทักษะการคิดวิเคราะห์และแก้ปัญหา, ทักษะการเรียน...</td>\n",
              "      <td>เรียนรู้ด้วยตนเอง</td>\n",
              "      <td>เน้นการเรียนรู้แบบ Active Learning : คือ ผู้เร...</td>\n",
              "      <td>ปัญญาประดิษฐ์ (AI) คือ วิเคราะห์ข้อมูล แนะนำแน...</td>\n",
              "      <td>รวบรวดและข้อมูลแม่นยำ ปรับใช้ได้กับหลายวิชาชีพ</td>\n",
              "      <td>ประเมินผลแบบองค์รวม คือ ประเมินผลมากกว่าความรู...</td>\n",
              "      <td>ความเหลื่อมล้ำ</td>\n",
              "      <td>NaN</td>\n",
              "      <td>NaN</td>\n",
              "    </tr>\n",
              "    <tr>\n",
              "      <th>...</th>\n",
              "      <td>...</td>\n",
              "      <td>...</td>\n",
              "      <td>...</td>\n",
              "      <td>...</td>\n",
              "      <td>...</td>\n",
              "      <td>...</td>\n",
              "      <td>...</td>\n",
              "      <td>...</td>\n",
              "      <td>...</td>\n",
              "      <td>...</td>\n",
              "      <td>...</td>\n",
              "      <td>...</td>\n",
              "      <td>...</td>\n",
              "      <td>...</td>\n",
              "      <td>...</td>\n",
              "      <td>...</td>\n",
              "      <td>...</td>\n",
              "      <td>...</td>\n",
              "      <td>...</td>\n",
              "      <td>...</td>\n",
              "      <td>...</td>\n",
              "    </tr>\n",
              "    <tr>\n",
              "      <th>104</th>\n",
              "      <td>4/11/2024 9:09:56</td>\n",
              "      <td>หญิง</td>\n",
              "      <td>ปีที่ 3 (รหัส 64)</td>\n",
              "      <td>คณะวารสารศาสตร์และสื่อสารมวลชน</td>\n",
              "      <td>วิทยุโทรทัศน์</td>\n",
              "      <td>ชื่อเสียง โอกาสในการทำงานในอนาคต หลักสูตรการเร...</td>\n",
              "      <td>4</td>\n",
              "      <td>5</td>\n",
              "      <td>4</td>\n",
              "      <td>5</td>\n",
              "      <td>...</td>\n",
              "      <td>เป็นพื้นที่ที่ได้เรียนรู้ความหลากหลาย มีประสบก...</td>\n",
              "      <td>ทักษะการคิดวิเคราะห์และแก้ปัญหา, ทักษะการเรียน...</td>\n",
              "      <td>เรียนรู้ด้วยตนเอง</td>\n",
              "      <td>เน้นการเรียนรู้แบบ Active Learning : คือ ผู้เร...</td>\n",
              "      <td>ปัญญาประดิษฐ์ (AI) คือ วิเคราะห์ข้อมูล แนะนำแน...</td>\n",
              "      <td>ช่วยอำนวยความสะดวกในการค้นหาข้อมูล เป็นแนวทางใ...</td>\n",
              "      <td>ประเมินผลแบบ Real-time คือ ประเมินผลตลอดการเรี...</td>\n",
              "      <td>ความเหลื่อมล้ำ</td>\n",
              "      <td>ปรับหลักสูตรให้สอดคล้องกับยุคสมัยและสามารถนำไป...</td>\n",
              "      <td>-</td>\n",
              "    </tr>\n",
              "    <tr>\n",
              "      <th>105</th>\n",
              "      <td>4/11/2024 9:35:52</td>\n",
              "      <td>หญิง</td>\n",
              "      <td>ปีที่ 3 (รหัส 64)</td>\n",
              "      <td>คณะสังคมวิทยาและมานุษยวิทยา</td>\n",
              "      <td>-</td>\n",
              "      <td>พ่อต้องการให้เข้า</td>\n",
              "      <td>3</td>\n",
              "      <td>5</td>\n",
              "      <td>3</td>\n",
              "      <td>5</td>\n",
              "      <td>...</td>\n",
              "      <td>เพราะสังคมยังแยกแรงงานด้วยใบปริญญา</td>\n",
              "      <td>ทักษะการคิดวิเคราะห์และแก้ปัญหา, ทักษะการเรียน...</td>\n",
              "      <td>ยืดหยุ่น ปรับตัว</td>\n",
              "      <td>เน้นการเรียนรู้แบบ Active Learning : คือ ผู้เร...</td>\n",
              "      <td>เกม (Gamification) คือ ฝึกทักษะการคิดวิเคราะห์...</td>\n",
              "      <td>การเรียนการสอนมีความน่าสนใจ</td>\n",
              "      <td>ประเมินผลแบบ Personalized คือ ออกแบบการประเมิน...</td>\n",
              "      <td>ความเหลื่อมล้ำ</td>\n",
              "      <td>NaN</td>\n",
              "      <td>NaN</td>\n",
              "    </tr>\n",
              "    <tr>\n",
              "      <th>106</th>\n",
              "      <td>4/11/2024 10:13:56</td>\n",
              "      <td>หญิง</td>\n",
              "      <td>ปีที่ 3 (รหัส 64)</td>\n",
              "      <td>คณะเศรษฐศาสตร์</td>\n",
              "      <td>-</td>\n",
              "      <td>คณะที่ตัวเองอยู่มีชื่อเสียง</td>\n",
              "      <td>4</td>\n",
              "      <td>5</td>\n",
              "      <td>3</td>\n",
              "      <td>4</td>\n",
              "      <td>...</td>\n",
              "      <td>เพราะมีสื่อการสอน(ฟรี)มากมาย เช่น ในยูทูป ทำให...</td>\n",
              "      <td>ทักษะด้านเทคโนโลยี, ทักษะด้านความคิดสร้างสรรค์...</td>\n",
              "      <td>เรียนรู้ด้วยตนเอง</td>\n",
              "      <td>เน้นการเรียนรู้แบบ Blended Learning : คือ ผสมผ...</td>\n",
              "      <td>ปัญญาประดิษฐ์ (AI) คือ วิเคราะห์ข้อมูล แนะนำแน...</td>\n",
              "      <td>เป็นเครื่องมือที่ใช้เบื้องต้นในการเรียนรู้อะไร...</td>\n",
              "      <td>ประเมินผลแบบ Real-time คือ ประเมินผลตลอดการเรี...</td>\n",
              "      <td>ความเหลื่อมล้ำ</td>\n",
              "      <td>ควรมีการลดความกดดันระหว่างกลุ่มคนให้น้อยลง การ...</td>\n",
              "      <td>noonjustin12345@gmail.com</td>\n",
              "    </tr>\n",
              "    <tr>\n",
              "      <th>107</th>\n",
              "      <td>4/11/2024 12:34:39</td>\n",
              "      <td>ชาย</td>\n",
              "      <td>ปีที่ 3 (รหัส 64)</td>\n",
              "      <td>คณะวิทยาศาสตร์และเทคโนโลยี และสถาบันเทคโนโลยีน...</td>\n",
              "      <td>Cpe</td>\n",
              "      <td>สอบชิงทุนได้</td>\n",
              "      <td>5</td>\n",
              "      <td>5</td>\n",
              "      <td>4</td>\n",
              "      <td>4</td>\n",
              "      <td>...</td>\n",
              "      <td>เป็นความรู้พื้นฐานเพื่อไปประกอบอาชีพที่ต้องใช้...</td>\n",
              "      <td>ทักษะการคิดวิเคราะห์และแก้ปัญหา, ทักษะการเรียน...</td>\n",
              "      <td>คิดวิเคราะห์ แก้ปัญหา</td>\n",
              "      <td>เน้นการเรียนรู้แบบ Active Learning : คือ ผู้เร...</td>\n",
              "      <td>ปัญญาประดิษฐ์ (AI) คือ วิเคราะห์ข้อมูล แนะนำแน...</td>\n",
              "      <td>ช่วยในการหาข้อมูล</td>\n",
              "      <td>ประเมินผลแบบ Personalized คือ ออกแบบการประเมิน...</td>\n",
              "      <td>การจัดการเวลา</td>\n",
              "      <td>NaN</td>\n",
              "      <td>6422782589@g.siit.tu.ac.th</td>\n",
              "    </tr>\n",
              "    <tr>\n",
              "      <th>108</th>\n",
              "      <td>4/11/2024 13:43:53</td>\n",
              "      <td>หญิง</td>\n",
              "      <td>ปีที่ 3 (รหัส 64)</td>\n",
              "      <td>คณะวิทยาศาสตร์และเทคโนโลยี</td>\n",
              "      <td>วิทยาการคอมพิวเตอร์</td>\n",
              "      <td>สอบติด</td>\n",
              "      <td>4</td>\n",
              "      <td>4</td>\n",
              "      <td>3</td>\n",
              "      <td>5</td>\n",
              "      <td>...</td>\n",
              "      <td>เพราะสมัยนี้การรับเข้าทำงานยังโฟกัสในเรื่องของ...</td>\n",
              "      <td>ทักษะการคิดวิเคราะห์และแก้ปัญหา, ทักษะการเรียน...</td>\n",
              "      <td>ยืดหยุ่น ปรับตัว</td>\n",
              "      <td>เน้นการเรียนรู้แบบ Personalized : คือ ปรับเนื้...</td>\n",
              "      <td>ปัญญาประดิษฐ์ (AI) คือ วิเคราะห์ข้อมูล แนะนำแน...</td>\n",
              "      <td>ในปัจจุบัน AI กำลังเริ่มมีบทบาทในด้านต่าง ๆ จึ...</td>\n",
              "      <td>ประเมินผลแบบองค์รวม คือ ประเมินผลมากกว่าความรู...</td>\n",
              "      <td>การจัดการเวลา</td>\n",
              "      <td>NaN</td>\n",
              "      <td>NaN</td>\n",
              "    </tr>\n",
              "  </tbody>\n",
              "</table>\n",
              "<p>109 rows × 27 columns</p>\n",
              "</div>\n",
              "    <div class=\"colab-df-buttons\">\n",
              "\n",
              "  <div class=\"colab-df-container\">\n",
              "    <button class=\"colab-df-convert\" onclick=\"convertToInteractive('df-8979ce71-2db8-4fb8-a161-e3ae02a8390c')\"\n",
              "            title=\"Convert this dataframe to an interactive table.\"\n",
              "            style=\"display:none;\">\n",
              "\n",
              "  <svg xmlns=\"http://www.w3.org/2000/svg\" height=\"24px\" viewBox=\"0 -960 960 960\">\n",
              "    <path d=\"M120-120v-720h720v720H120Zm60-500h600v-160H180v160Zm220 220h160v-160H400v160Zm0 220h160v-160H400v160ZM180-400h160v-160H180v160Zm440 0h160v-160H620v160ZM180-180h160v-160H180v160Zm440 0h160v-160H620v160Z\"/>\n",
              "  </svg>\n",
              "    </button>\n",
              "\n",
              "  <style>\n",
              "    .colab-df-container {\n",
              "      display:flex;\n",
              "      gap: 12px;\n",
              "    }\n",
              "\n",
              "    .colab-df-convert {\n",
              "      background-color: #E8F0FE;\n",
              "      border: none;\n",
              "      border-radius: 50%;\n",
              "      cursor: pointer;\n",
              "      display: none;\n",
              "      fill: #1967D2;\n",
              "      height: 32px;\n",
              "      padding: 0 0 0 0;\n",
              "      width: 32px;\n",
              "    }\n",
              "\n",
              "    .colab-df-convert:hover {\n",
              "      background-color: #E2EBFA;\n",
              "      box-shadow: 0px 1px 2px rgba(60, 64, 67, 0.3), 0px 1px 3px 1px rgba(60, 64, 67, 0.15);\n",
              "      fill: #174EA6;\n",
              "    }\n",
              "\n",
              "    .colab-df-buttons div {\n",
              "      margin-bottom: 4px;\n",
              "    }\n",
              "\n",
              "    [theme=dark] .colab-df-convert {\n",
              "      background-color: #3B4455;\n",
              "      fill: #D2E3FC;\n",
              "    }\n",
              "\n",
              "    [theme=dark] .colab-df-convert:hover {\n",
              "      background-color: #434B5C;\n",
              "      box-shadow: 0px 1px 3px 1px rgba(0, 0, 0, 0.15);\n",
              "      filter: drop-shadow(0px 1px 2px rgba(0, 0, 0, 0.3));\n",
              "      fill: #FFFFFF;\n",
              "    }\n",
              "  </style>\n",
              "\n",
              "    <script>\n",
              "      const buttonEl =\n",
              "        document.querySelector('#df-8979ce71-2db8-4fb8-a161-e3ae02a8390c button.colab-df-convert');\n",
              "      buttonEl.style.display =\n",
              "        google.colab.kernel.accessAllowed ? 'block' : 'none';\n",
              "\n",
              "      async function convertToInteractive(key) {\n",
              "        const element = document.querySelector('#df-8979ce71-2db8-4fb8-a161-e3ae02a8390c');\n",
              "        const dataTable =\n",
              "          await google.colab.kernel.invokeFunction('convertToInteractive',\n",
              "                                                    [key], {});\n",
              "        if (!dataTable) return;\n",
              "\n",
              "        const docLinkHtml = 'Like what you see? Visit the ' +\n",
              "          '<a target=\"_blank\" href=https://colab.research.google.com/notebooks/data_table.ipynb>data table notebook</a>'\n",
              "          + ' to learn more about interactive tables.';\n",
              "        element.innerHTML = '';\n",
              "        dataTable['output_type'] = 'display_data';\n",
              "        await google.colab.output.renderOutput(dataTable, element);\n",
              "        const docLink = document.createElement('div');\n",
              "        docLink.innerHTML = docLinkHtml;\n",
              "        element.appendChild(docLink);\n",
              "      }\n",
              "    </script>\n",
              "  </div>\n",
              "\n",
              "\n",
              "<div id=\"df-94b980ff-b28b-4f94-befe-678a62edb2f4\">\n",
              "  <button class=\"colab-df-quickchart\" onclick=\"quickchart('df-94b980ff-b28b-4f94-befe-678a62edb2f4')\"\n",
              "            title=\"Suggest charts\"\n",
              "            style=\"display:none;\">\n",
              "\n",
              "<svg xmlns=\"http://www.w3.org/2000/svg\" height=\"24px\"viewBox=\"0 0 24 24\"\n",
              "     width=\"24px\">\n",
              "    <g>\n",
              "        <path d=\"M19 3H5c-1.1 0-2 .9-2 2v14c0 1.1.9 2 2 2h14c1.1 0 2-.9 2-2V5c0-1.1-.9-2-2-2zM9 17H7v-7h2v7zm4 0h-2V7h2v10zm4 0h-2v-4h2v4z\"/>\n",
              "    </g>\n",
              "</svg>\n",
              "  </button>\n",
              "\n",
              "<style>\n",
              "  .colab-df-quickchart {\n",
              "      --bg-color: #E8F0FE;\n",
              "      --fill-color: #1967D2;\n",
              "      --hover-bg-color: #E2EBFA;\n",
              "      --hover-fill-color: #174EA6;\n",
              "      --disabled-fill-color: #AAA;\n",
              "      --disabled-bg-color: #DDD;\n",
              "  }\n",
              "\n",
              "  [theme=dark] .colab-df-quickchart {\n",
              "      --bg-color: #3B4455;\n",
              "      --fill-color: #D2E3FC;\n",
              "      --hover-bg-color: #434B5C;\n",
              "      --hover-fill-color: #FFFFFF;\n",
              "      --disabled-bg-color: #3B4455;\n",
              "      --disabled-fill-color: #666;\n",
              "  }\n",
              "\n",
              "  .colab-df-quickchart {\n",
              "    background-color: var(--bg-color);\n",
              "    border: none;\n",
              "    border-radius: 50%;\n",
              "    cursor: pointer;\n",
              "    display: none;\n",
              "    fill: var(--fill-color);\n",
              "    height: 32px;\n",
              "    padding: 0;\n",
              "    width: 32px;\n",
              "  }\n",
              "\n",
              "  .colab-df-quickchart:hover {\n",
              "    background-color: var(--hover-bg-color);\n",
              "    box-shadow: 0 1px 2px rgba(60, 64, 67, 0.3), 0 1px 3px 1px rgba(60, 64, 67, 0.15);\n",
              "    fill: var(--button-hover-fill-color);\n",
              "  }\n",
              "\n",
              "  .colab-df-quickchart-complete:disabled,\n",
              "  .colab-df-quickchart-complete:disabled:hover {\n",
              "    background-color: var(--disabled-bg-color);\n",
              "    fill: var(--disabled-fill-color);\n",
              "    box-shadow: none;\n",
              "  }\n",
              "\n",
              "  .colab-df-spinner {\n",
              "    border: 2px solid var(--fill-color);\n",
              "    border-color: transparent;\n",
              "    border-bottom-color: var(--fill-color);\n",
              "    animation:\n",
              "      spin 1s steps(1) infinite;\n",
              "  }\n",
              "\n",
              "  @keyframes spin {\n",
              "    0% {\n",
              "      border-color: transparent;\n",
              "      border-bottom-color: var(--fill-color);\n",
              "      border-left-color: var(--fill-color);\n",
              "    }\n",
              "    20% {\n",
              "      border-color: transparent;\n",
              "      border-left-color: var(--fill-color);\n",
              "      border-top-color: var(--fill-color);\n",
              "    }\n",
              "    30% {\n",
              "      border-color: transparent;\n",
              "      border-left-color: var(--fill-color);\n",
              "      border-top-color: var(--fill-color);\n",
              "      border-right-color: var(--fill-color);\n",
              "    }\n",
              "    40% {\n",
              "      border-color: transparent;\n",
              "      border-right-color: var(--fill-color);\n",
              "      border-top-color: var(--fill-color);\n",
              "    }\n",
              "    60% {\n",
              "      border-color: transparent;\n",
              "      border-right-color: var(--fill-color);\n",
              "    }\n",
              "    80% {\n",
              "      border-color: transparent;\n",
              "      border-right-color: var(--fill-color);\n",
              "      border-bottom-color: var(--fill-color);\n",
              "    }\n",
              "    90% {\n",
              "      border-color: transparent;\n",
              "      border-bottom-color: var(--fill-color);\n",
              "    }\n",
              "  }\n",
              "</style>\n",
              "\n",
              "  <script>\n",
              "    async function quickchart(key) {\n",
              "      const quickchartButtonEl =\n",
              "        document.querySelector('#' + key + ' button');\n",
              "      quickchartButtonEl.disabled = true;  // To prevent multiple clicks.\n",
              "      quickchartButtonEl.classList.add('colab-df-spinner');\n",
              "      try {\n",
              "        const charts = await google.colab.kernel.invokeFunction(\n",
              "            'suggestCharts', [key], {});\n",
              "      } catch (error) {\n",
              "        console.error('Error during call to suggestCharts:', error);\n",
              "      }\n",
              "      quickchartButtonEl.classList.remove('colab-df-spinner');\n",
              "      quickchartButtonEl.classList.add('colab-df-quickchart-complete');\n",
              "    }\n",
              "    (() => {\n",
              "      let quickchartButtonEl =\n",
              "        document.querySelector('#df-94b980ff-b28b-4f94-befe-678a62edb2f4 button');\n",
              "      quickchartButtonEl.style.display =\n",
              "        google.colab.kernel.accessAllowed ? 'block' : 'none';\n",
              "    })();\n",
              "  </script>\n",
              "</div>\n",
              "    </div>\n",
              "  </div>\n"
            ],
            "text/plain": [
              "              Timestamp                                      เพศ  \\\n",
              "0     4/1/2024 11:08:06                                     หญิง   \n",
              "1     4/1/2024 11:08:06                                      ชาย   \n",
              "2     4/1/2024 11:38:37                                      ชาย   \n",
              "3     4/1/2024 12:05:39  บุคคลที่มีความหลากหลายทางเพศ (LGBTQIA+)   \n",
              "4     4/1/2024 12:17:18                                     หญิง   \n",
              "..                  ...                                      ...   \n",
              "104   4/11/2024 9:09:56                                     หญิง   \n",
              "105   4/11/2024 9:35:52                                     หญิง   \n",
              "106  4/11/2024 10:13:56                                     หญิง   \n",
              "107  4/11/2024 12:34:39                                      ชาย   \n",
              "108  4/11/2024 13:43:53                                     หญิง   \n",
              "\n",
              "           ระดับชั้นปี                                                คณะ  \\\n",
              "0    ปีที่ 3 (รหัส 64)                         คณะวิทยาศาสตร์และเทคโนโลยี   \n",
              "1    ปีที่ 4 (รหัส 63)                         คณะวิทยาศาสตร์และเทคโนโลยี   \n",
              "2    ปีที่ 4 (รหัส 63)                         คณะวิทยาศาสตร์และเทคโนโลยี   \n",
              "3    ปีที่ 1 (รหัส 66)                                  คณะวิศวกรรมศาสตร์   \n",
              "4    ปีที่ 3 (รหัส 64)                                    คณะพยาบาลศาสตร์   \n",
              "..                 ...                                                ...   \n",
              "104  ปีที่ 3 (รหัส 64)                     คณะวารสารศาสตร์และสื่อสารมวลชน   \n",
              "105  ปีที่ 3 (รหัส 64)                        คณะสังคมวิทยาและมานุษยวิทยา   \n",
              "106  ปีที่ 3 (รหัส 64)                                     คณะเศรษฐศาสตร์   \n",
              "107  ปีที่ 3 (รหัส 64)  คณะวิทยาศาสตร์และเทคโนโลยี และสถาบันเทคโนโลยีน...   \n",
              "108  ปีที่ 3 (รหัส 64)                         คณะวิทยาศาสตร์และเทคโนโลยี   \n",
              "\n",
              "    สาขาวิชา (ถ้าไม่มีทำเครื่องหมาย -)  \\\n",
              "0                                สถิติ   \n",
              "1                                สถิติ   \n",
              "2                                สถิติ   \n",
              "3                                  EBM   \n",
              "4                                    -   \n",
              "..                                 ...   \n",
              "104                      วิทยุโทรทัศน์   \n",
              "105                                  -   \n",
              "106                                  -   \n",
              "107                                Cpe   \n",
              "108                วิทยาการคอมพิวเตอร์   \n",
              "\n",
              "    เหตุผลที่ท่านเข้ารับการศึกษาในมหาวิทยาลัยธรรมศาสตร์  \\\n",
              "0    สภาพแสดล้อม การให้อิสระกับนักศึกษา และสอบติดที...    \n",
              "1                       เป็นมหาวิทยาลัยชั้นนำของประเทศ    \n",
              "2                             ต้องการวุฒิการศึกษาที่ดี    \n",
              "3                                      คิดว่าเรียนสบาย    \n",
              "4                                            ชื่อเสียง    \n",
              "..                                                 ...    \n",
              "104  ชื่อเสียง โอกาสในการทำงานในอนาคต หลักสูตรการเร...    \n",
              "105                                  พ่อต้องการให้เข้า    \n",
              "106                        คณะที่ตัวเองอยู่มีชื่อเสียง    \n",
              "107                                       สอบชิงทุนได้    \n",
              "108                                             สอบติด    \n",
              "\n",
              "     ท่านพึงพอใจกับสภาพแวดล้อมการเรียนรู้  \\\n",
              "0                                       4   \n",
              "1                                       5   \n",
              "2                                       4   \n",
              "3                                       1   \n",
              "4                                       5   \n",
              "..                                    ...   \n",
              "104                                     4   \n",
              "105                                     3   \n",
              "106                                     4   \n",
              "107                                     5   \n",
              "108                                     4   \n",
              "\n",
              "     ท่านคิดว่าสภาพแวดล้อมการเรียนรู้มีผลต่อประสิทธิภาพในการเรียนการสอน  \\\n",
              "0                                                    5                    \n",
              "1                                                    5                    \n",
              "2                                                    5                    \n",
              "3                                                    5                    \n",
              "4                                                    4                    \n",
              "..                                                 ...                    \n",
              "104                                                  5                    \n",
              "105                                                  5                    \n",
              "106                                                  5                    \n",
              "107                                                  5                    \n",
              "108                                                  4                    \n",
              "\n",
              "     ท่านมีความพึงพอใจในวิธีการสอนของครูหรืออาจารย์  \\\n",
              "0                                                 3   \n",
              "1                                                 4   \n",
              "2                                                 4   \n",
              "3                                                 2   \n",
              "4                                                 4   \n",
              "..                                              ...   \n",
              "104                                               4   \n",
              "105                                               3   \n",
              "106                                               3   \n",
              "107                                               4   \n",
              "108                                               3   \n",
              "\n",
              "     ท่านรู้สึกว่าครูหรืออาจารย์มีส่วนร่วมในการสร้างประสบการณ์การเรียนที่ดี  \\\n",
              "0                                                    3                        \n",
              "1                                                    4                        \n",
              "2                                                    4                        \n",
              "3                                                    3                        \n",
              "4                                                    4                        \n",
              "..                                                 ...                        \n",
              "104                                                  5                        \n",
              "105                                                  5                        \n",
              "106                                                  4                        \n",
              "107                                                  4                        \n",
              "108                                                  5                        \n",
              "\n",
              "     ...             จากข้อที่แล้ว ท่านคิดว่าเป็นเพราะเหตุ?  \\\n",
              "0    ...  ทุกคนต้องมีความรู้พื้นฐานในระดับปริญญาตรี เพื่...   \n",
              "1    ...                       มีความรู้ติดตัวไว้ย่อมดีกว่า   \n",
              "2    ...             การวัดผลจากการศึกษาเป็นสิ่งที่จำเป็นมี   \n",
              "3    ...  ในอดีตปริญญาตรีอาจถูกมองว่าเป็นสิ่งพิเศษ แต่ถ้...   \n",
              "4    ...               เพราะเป็นพื้นฐานเกินไป ใครๆก็จบป.ตรี   \n",
              "..   ...                                                ...   \n",
              "104  ...  เป็นพื้นที่ที่ได้เรียนรู้ความหลากหลาย มีประสบก...   \n",
              "105  ...               เพราะสังคมยังแยกแรงงานด้วยใบปริญญา     \n",
              "106  ...  เพราะมีสื่อการสอน(ฟรี)มากมาย เช่น ในยูทูป ทำให...   \n",
              "107  ...  เป็นความรู้พื้นฐานเพื่อไปประกอบอาชีพที่ต้องใช้...   \n",
              "108  ...  เพราะสมัยนี้การรับเข้าทำงานยังโฟกัสในเรื่องของ...   \n",
              "\n",
              "     ทักษะอะไรที่นักศึกษาจำเป็นต้องมีสำหรับการเรียนการสอนในอนาคต?   \\\n",
              "0    ทักษะการคิดวิเคราะห์และแก้ปัญหา, ทักษะการเรียน...               \n",
              "1    ทักษะการคิดวิเคราะห์และแก้ปัญหา, ทักษะการเรียน...               \n",
              "2    ทักษะการคิดวิเคราะห์และแก้ปัญหา, ทักษะการเรียน...               \n",
              "3                           ทักษะการเรียนรู้และปรับตัว               \n",
              "4    ทักษะการคิดวิเคราะห์และแก้ปัญหา, ทักษะการเรียน...               \n",
              "..                                                 ...               \n",
              "104  ทักษะการคิดวิเคราะห์และแก้ปัญหา, ทักษะการเรียน...               \n",
              "105  ทักษะการคิดวิเคราะห์และแก้ปัญหา, ทักษะการเรียน...               \n",
              "106  ทักษะด้านเทคโนโลยี, ทักษะด้านความคิดสร้างสรรค์...               \n",
              "107  ทักษะการคิดวิเคราะห์และแก้ปัญหา, ทักษะการเรียน...               \n",
              "108  ทักษะการคิดวิเคราะห์และแก้ปัญหา, ทักษะการเรียน...               \n",
              "\n",
              "     ท่านคิดว่าอะไรคือสิ่งที่สำคัญที่สุดที่เราควรทำเพื่อเตรียมพร้อมสำหรับการศึกษาในอนาคต?   \\\n",
              "0                                คิดวิเคราะห์ แก้ปัญหา                                       \n",
              "1                                 สื่อสาร ทำงานเป็นทีม                                       \n",
              "2                                     ยืดหยุ่น ปรับตัว                                       \n",
              "3                                     ยืดหยุ่น ปรับตัว                                       \n",
              "4                                    เรียนรู้ด้วยตนเอง                                       \n",
              "..                                                 ...                                       \n",
              "104                                  เรียนรู้ด้วยตนเอง                                       \n",
              "105                                   ยืดหยุ่น ปรับตัว                                       \n",
              "106                                  เรียนรู้ด้วยตนเอง                                       \n",
              "107                              คิดวิเคราะห์ แก้ปัญหา                                       \n",
              "108                                   ยืดหยุ่น ปรับตัว                                       \n",
              "\n",
              "     ท่านคิดว่ารูปแบบการเรียนการสอนในอนาคตจะเปลี่ยนไปอย่างไร?  \\\n",
              "0    เน้นการเรียนรู้แบบ Blended Learning : คือ ผสมผ...          \n",
              "1    เน้นการเรียนรู้แบบ Active Learning : คือ ผู้เร...          \n",
              "2    เน้นการเรียนรู้แบบ Active Learning : คือ ผู้เร...          \n",
              "3    เน้นการเรียนรู้แบบ Personalized : คือ ปรับเนื้...          \n",
              "4    เน้นการเรียนรู้แบบ Active Learning : คือ ผู้เร...          \n",
              "..                                                 ...          \n",
              "104  เน้นการเรียนรู้แบบ Active Learning : คือ ผู้เร...          \n",
              "105  เน้นการเรียนรู้แบบ Active Learning : คือ ผู้เร...          \n",
              "106  เน้นการเรียนรู้แบบ Blended Learning : คือ ผสมผ...          \n",
              "107  เน้นการเรียนรู้แบบ Active Learning : คือ ผู้เร...          \n",
              "108  เน้นการเรียนรู้แบบ Personalized : คือ ปรับเนื้...          \n",
              "\n",
              "     ท่านคิดว่าเทคโนโลยีอะไรบ้างจะส่งผลต่อการศึกษาอนาคต   \\\n",
              "0    ปัญญาประดิษฐ์ (AI) คือ วิเคราะห์ข้อมูล แนะนำแน...     \n",
              "1    ปัญญาประดิษฐ์ (AI) คือ วิเคราะห์ข้อมูล แนะนำแน...     \n",
              "2    ปัญญาประดิษฐ์ (AI) คือ วิเคราะห์ข้อมูล แนะนำแน...     \n",
              "3    เกม (Gamification) คือ ฝึกทักษะการคิดวิเคราะห์...     \n",
              "4    ปัญญาประดิษฐ์ (AI) คือ วิเคราะห์ข้อมูล แนะนำแน...     \n",
              "..                                                 ...     \n",
              "104  ปัญญาประดิษฐ์ (AI) คือ วิเคราะห์ข้อมูล แนะนำแน...     \n",
              "105  เกม (Gamification) คือ ฝึกทักษะการคิดวิเคราะห์...     \n",
              "106  ปัญญาประดิษฐ์ (AI) คือ วิเคราะห์ข้อมูล แนะนำแน...     \n",
              "107  ปัญญาประดิษฐ์ (AI) คือ วิเคราะห์ข้อมูล แนะนำแน...     \n",
              "108  ปัญญาประดิษฐ์ (AI) คือ วิเคราะห์ข้อมูล แนะนำแน...     \n",
              "\n",
              "     จากข้อที่แล้ว ท่านคิดว่าเทคโนโลยีที่ท่านเลือกจะมีบทบาทอย่างไรในการศึกษาในอนาคต  \\\n",
              "0                 ช่วยในการค้นคว้าหาความรู้ได้ง่ายขึ้น                                \n",
              "1    เวลาต้องการศึกษาด้วยตัวเองแต่ไม่เข้าใจ สามารถใ...                                \n",
              "2             เป็นผู้ช่วยในการทำงานและการเรียนรู้ต่างๆ                                \n",
              "3                                                   ดี                                \n",
              "4      รวบรวดและข้อมูลแม่นยำ ปรับใช้ได้กับหลายวิชาชีพ                                 \n",
              "..                                                 ...                                \n",
              "104  ช่วยอำนวยความสะดวกในการค้นหาข้อมูล เป็นแนวทางใ...                                \n",
              "105                        การเรียนการสอนมีความน่าสนใจ                                \n",
              "106  เป็นเครื่องมือที่ใช้เบื้องต้นในการเรียนรู้อะไร...                                \n",
              "107                                  ช่วยในการหาข้อมูล                                \n",
              "108  ในปัจจุบัน AI กำลังเริ่มมีบทบาทในด้านต่าง ๆ จึ...                                \n",
              "\n",
              "       ท่านคิดว่าระบบการประเมินผลในอนาคตควรเป็นอย่างไร  \\\n",
              "0    ประเมินผลแบบ Real-time คือ ประเมินผลตลอดการเรี...   \n",
              "1    ประเมินผลแบบองค์รวม คือ ประเมินผลมากกว่าความรู...   \n",
              "2    ประเมินผลแบบ Personalized คือ ออกแบบการประเมิน...   \n",
              "3    ประเมินผลแบบ Personalized คือ ออกแบบการประเมิน...   \n",
              "4    ประเมินผลแบบองค์รวม คือ ประเมินผลมากกว่าความรู...   \n",
              "..                                                 ...   \n",
              "104  ประเมินผลแบบ Real-time คือ ประเมินผลตลอดการเรี...   \n",
              "105  ประเมินผลแบบ Personalized คือ ออกแบบการประเมิน...   \n",
              "106  ประเมินผลแบบ Real-time คือ ประเมินผลตลอดการเรี...   \n",
              "107  ประเมินผลแบบ Personalized คือ ออกแบบการประเมิน...   \n",
              "108  ประเมินผลแบบองค์รวม คือ ประเมินผลมากกว่าความรู...   \n",
              "\n",
              "    ท่านคิดว่าอะไรคืออุปสรรคที่สำคัญที่สุดต่อการศึกษาที่มีคุณภาพในอนาคต?  \\\n",
              "0                                       ความเหลื่อมล้ำ                     \n",
              "1                                             แรงจูงใจ                     \n",
              "2                                             แรงจูงใจ                     \n",
              "3                                       ความเหลื่อมล้ำ                     \n",
              "4                                       ความเหลื่อมล้ำ                     \n",
              "..                                                 ...                     \n",
              "104                                     ความเหลื่อมล้ำ                     \n",
              "105                                     ความเหลื่อมล้ำ                     \n",
              "106                                     ความเหลื่อมล้ำ                     \n",
              "107                                      การจัดการเวลา                     \n",
              "108                                      การจัดการเวลา                     \n",
              "\n",
              "    ท่านมีความคิดเห็นหรือข้อเสนอแนะเพิ่มเติมเกี่ยวกับการศึกษาในอนาคตหรือไม่?  \\\n",
              "0                                                  NaN                         \n",
              "1                                                  NaN                         \n",
              "2                                                  NaN                         \n",
              "3                                                ไม่มี                         \n",
              "4                                                  NaN                         \n",
              "..                                                 ...                         \n",
              "104  ปรับหลักสูตรให้สอดคล้องกับยุคสมัยและสามารถนำไป...                         \n",
              "105                                                NaN                         \n",
              "106  ควรมีการลดความกดดันระหว่างกลุ่มคนให้น้อยลง การ...                         \n",
              "107                                                NaN                         \n",
              "108                                                NaN                         \n",
              "\n",
              "    หากท่านมีความประสงค์จะรับผลการสำรวจของโครงงานเรา กรุณากรอกอีเมลลงช่องที่เว้นไว้ให้  \n",
              "0                                                  NaN                                  \n",
              "1                                                  NaN                                  \n",
              "2                            kitakan.wis@dome.tu.ac.th                                  \n",
              "3                                                   บ่                                  \n",
              "4                                                  NaN                                  \n",
              "..                                                 ...                                  \n",
              "104                                                  -                                  \n",
              "105                                                NaN                                  \n",
              "106                          noonjustin12345@gmail.com                                  \n",
              "107                         6422782589@g.siit.tu.ac.th                                  \n",
              "108                                                NaN                                  \n",
              "\n",
              "[109 rows x 27 columns]"
            ]
          },
          "execution_count": 3,
          "metadata": {},
          "output_type": "execute_result"
        }
      ],
      "source": [
        "data=pd.read_csv('/content/drive/MyDrive/CS246/Copy of แบบสอบถามความคาดหวังของการเรียนการสอนใน~งนักศึกษามหาวิทยาลัยธรรมศาสตร์ (Responses) - Form Responses 1 (1).csv')\n",
        "data"
      ]
    },
    {
      "cell_type": "code",
      "execution_count": null,
      "metadata": {
        "colab": {
          "base_uri": "https://localhost:8080/",
          "height": 204
        },
        "id": "EGFgMKtob-nu",
        "outputId": "2a8ece08-8232-4a4e-d988-d6ca9cb44f07"
      },
      "outputs": [
        {
          "data": {
            "text/html": [
              "<div style=\"max-width:800px; border: 1px solid var(--colab-border-color);\"><style>\n",
              "      pre.function-repr-contents {\n",
              "        overflow-x: auto;\n",
              "        padding: 8px 12px;\n",
              "        max-height: 500px;\n",
              "      }\n",
              "\n",
              "      pre.function-repr-contents.function-repr-contents-collapsed {\n",
              "        cursor: pointer;\n",
              "        max-height: 100px;\n",
              "      }\n",
              "    </style>\n",
              "    <pre style=\"white-space: initial; background:\n",
              "         var(--colab-secondary-surface-color); padding: 8px 12px;\n",
              "         border-bottom: 1px solid var(--colab-border-color);\"><b>pandas.core.frame.DataFrame</b><br/>def __init__(data=None, index: Axes | None=None, columns: Axes | None=None, dtype: Dtype | None=None, copy: bool | None=None) -&gt; None</pre><pre class=\"function-repr-contents function-repr-contents-collapsed\" style=\"\"><a class=\"filepath\" style=\"display:none\" href=\"#\">/usr/local/lib/python3.10/dist-packages/pandas/core/frame.py</a>Two-dimensional, size-mutable, potentially heterogeneous tabular data.\n",
              "\n",
              "Data structure also contains labeled axes (rows and columns).\n",
              "Arithmetic operations align on both row and column labels. Can be\n",
              "thought of as a dict-like container for Series objects. The primary\n",
              "pandas data structure.\n",
              "\n",
              "Parameters\n",
              "----------\n",
              "data : ndarray (structured or homogeneous), Iterable, dict, or DataFrame\n",
              "    Dict can contain Series, arrays, constants, dataclass or list-like objects. If\n",
              "    data is a dict, column order follows insertion-order. If a dict contains Series\n",
              "    which have an index defined, it is aligned by its index. This alignment also\n",
              "    occurs if data is a Series or a DataFrame itself. Alignment is done on\n",
              "    Series/DataFrame inputs.\n",
              "\n",
              "    If data is a list of dicts, column order follows insertion-order.\n",
              "\n",
              "index : Index or array-like\n",
              "    Index to use for resulting frame. Will default to RangeIndex if\n",
              "    no indexing information part of input data and no index provided.\n",
              "columns : Index or array-like\n",
              "    Column labels to use for resulting frame when data does not have them,\n",
              "    defaulting to RangeIndex(0, 1, 2, ..., n). If data contains column labels,\n",
              "    will perform column selection instead.\n",
              "dtype : dtype, default None\n",
              "    Data type to force. Only a single dtype is allowed. If None, infer.\n",
              "copy : bool or None, default None\n",
              "    Copy data from inputs.\n",
              "    For dict data, the default of None behaves like ``copy=True``.  For DataFrame\n",
              "    or 2d ndarray input, the default of None behaves like ``copy=False``.\n",
              "    If data is a dict containing one or more Series (possibly of different dtypes),\n",
              "    ``copy=False`` will ensure that these inputs are not copied.\n",
              "\n",
              "    .. versionchanged:: 1.3.0\n",
              "\n",
              "See Also\n",
              "--------\n",
              "DataFrame.from_records : Constructor from tuples, also record arrays.\n",
              "DataFrame.from_dict : From dicts of Series, arrays, or dicts.\n",
              "read_csv : Read a comma-separated values (csv) file into DataFrame.\n",
              "read_table : Read general delimited file into DataFrame.\n",
              "read_clipboard : Read text from clipboard into DataFrame.\n",
              "\n",
              "Notes\n",
              "-----\n",
              "Please reference the :ref:`User Guide &lt;basics.dataframe&gt;` for more information.\n",
              "\n",
              "Examples\n",
              "--------\n",
              "Constructing DataFrame from a dictionary.\n",
              "\n",
              "&gt;&gt;&gt; d = {&#x27;col1&#x27;: [1, 2], &#x27;col2&#x27;: [3, 4]}\n",
              "&gt;&gt;&gt; df = pd.DataFrame(data=d)\n",
              "&gt;&gt;&gt; df\n",
              "   col1  col2\n",
              "0     1     3\n",
              "1     2     4\n",
              "\n",
              "Notice that the inferred dtype is int64.\n",
              "\n",
              "&gt;&gt;&gt; df.dtypes\n",
              "col1    int64\n",
              "col2    int64\n",
              "dtype: object\n",
              "\n",
              "To enforce a single dtype:\n",
              "\n",
              "&gt;&gt;&gt; df = pd.DataFrame(data=d, dtype=np.int8)\n",
              "&gt;&gt;&gt; df.dtypes\n",
              "col1    int8\n",
              "col2    int8\n",
              "dtype: object\n",
              "\n",
              "Constructing DataFrame from a dictionary including Series:\n",
              "\n",
              "&gt;&gt;&gt; d = {&#x27;col1&#x27;: [0, 1, 2, 3], &#x27;col2&#x27;: pd.Series([2, 3], index=[2, 3])}\n",
              "&gt;&gt;&gt; pd.DataFrame(data=d, index=[0, 1, 2, 3])\n",
              "   col1  col2\n",
              "0     0   NaN\n",
              "1     1   NaN\n",
              "2     2   2.0\n",
              "3     3   3.0\n",
              "\n",
              "Constructing DataFrame from numpy ndarray:\n",
              "\n",
              "&gt;&gt;&gt; df2 = pd.DataFrame(np.array([[1, 2, 3], [4, 5, 6], [7, 8, 9]]),\n",
              "...                    columns=[&#x27;a&#x27;, &#x27;b&#x27;, &#x27;c&#x27;])\n",
              "&gt;&gt;&gt; df2\n",
              "   a  b  c\n",
              "0  1  2  3\n",
              "1  4  5  6\n",
              "2  7  8  9\n",
              "\n",
              "Constructing DataFrame from a numpy ndarray that has labeled columns:\n",
              "\n",
              "&gt;&gt;&gt; data = np.array([(1, 2, 3), (4, 5, 6), (7, 8, 9)],\n",
              "...                 dtype=[(&quot;a&quot;, &quot;i4&quot;), (&quot;b&quot;, &quot;i4&quot;), (&quot;c&quot;, &quot;i4&quot;)])\n",
              "&gt;&gt;&gt; df3 = pd.DataFrame(data, columns=[&#x27;c&#x27;, &#x27;a&#x27;])\n",
              "...\n",
              "&gt;&gt;&gt; df3\n",
              "   c  a\n",
              "0  3  1\n",
              "1  6  4\n",
              "2  9  7\n",
              "\n",
              "Constructing DataFrame from dataclass:\n",
              "\n",
              "&gt;&gt;&gt; from dataclasses import make_dataclass\n",
              "&gt;&gt;&gt; Point = make_dataclass(&quot;Point&quot;, [(&quot;x&quot;, int), (&quot;y&quot;, int)])\n",
              "&gt;&gt;&gt; pd.DataFrame([Point(0, 0), Point(0, 3), Point(2, 3)])\n",
              "   x  y\n",
              "0  0  0\n",
              "1  0  3\n",
              "2  2  3\n",
              "\n",
              "Constructing DataFrame from Series/DataFrame:\n",
              "\n",
              "&gt;&gt;&gt; ser = pd.Series([1, 2, 3], index=[&quot;a&quot;, &quot;b&quot;, &quot;c&quot;])\n",
              "&gt;&gt;&gt; df = pd.DataFrame(data=ser, index=[&quot;a&quot;, &quot;c&quot;])\n",
              "&gt;&gt;&gt; df\n",
              "   0\n",
              "a  1\n",
              "c  3\n",
              "\n",
              "&gt;&gt;&gt; df1 = pd.DataFrame([1, 2, 3], index=[&quot;a&quot;, &quot;b&quot;, &quot;c&quot;], columns=[&quot;x&quot;])\n",
              "&gt;&gt;&gt; df2 = pd.DataFrame(data=df1, index=[&quot;a&quot;, &quot;c&quot;])\n",
              "&gt;&gt;&gt; df2\n",
              "   x\n",
              "a  1\n",
              "c  3</pre>\n",
              "      <script>\n",
              "      if (google.colab.kernel.accessAllowed && google.colab.files && google.colab.files.view) {\n",
              "        for (const element of document.querySelectorAll('.filepath')) {\n",
              "          element.style.display = 'block'\n",
              "          element.onclick = (event) => {\n",
              "            event.preventDefault();\n",
              "            event.stopPropagation();\n",
              "            google.colab.files.view(element.textContent, 490);\n",
              "          };\n",
              "        }\n",
              "      }\n",
              "      for (const element of document.querySelectorAll('.function-repr-contents')) {\n",
              "        element.onclick = (event) => {\n",
              "          event.preventDefault();\n",
              "          event.stopPropagation();\n",
              "          element.classList.toggle('function-repr-contents-collapsed');\n",
              "        };\n",
              "      }\n",
              "      </script>\n",
              "      </div>"
            ],
            "text/plain": [
              "pandas.core.frame.DataFrame"
            ]
          },
          "execution_count": 673,
          "metadata": {},
          "output_type": "execute_result"
        }
      ],
      "source": [
        "type(data)"
      ]
    },
    {
      "cell_type": "code",
      "execution_count": null,
      "metadata": {
        "colab": {
          "base_uri": "https://localhost:8080/"
        },
        "id": "PhDkJh7t45y_",
        "outputId": "594923a9-7853-4ceb-f593-c5381db59380"
      },
      "outputs": [
        {
          "name": "stdout",
          "output_type": "stream",
          "text": [
            "<class 'pandas.core.frame.DataFrame'>\n",
            "RangeIndex: 109 entries, 0 to 108\n",
            "Data columns (total 27 columns):\n",
            " #   Column                                                                                               Non-Null Count  Dtype \n",
            "---  ------                                                                                               --------------  ----- \n",
            " 0   Timestamp                                                                                            109 non-null    object\n",
            " 1   เพศ                                                                                                  109 non-null    object\n",
            " 2   ระดับชั้นปี                                                                                          109 non-null    object\n",
            " 3   คณะ                                                                                                  109 non-null    object\n",
            " 4   สาขาวิชา (ถ้าไม่มีทำเครื่องหมาย -)                                                                   109 non-null    object\n",
            " 5   เหตุผลที่ท่านเข้ารับการศึกษาในมหาวิทยาลัยธรรมศาสตร์                                                  109 non-null    object\n",
            " 6   ท่านพึงพอใจกับสภาพแวดล้อมการเรียนรู้                                                                 109 non-null    int64 \n",
            " 7   ท่านคิดว่าสภาพแวดล้อมการเรียนรู้มีผลต่อประสิทธิภาพในการเรียนการสอน                                   109 non-null    int64 \n",
            " 8   ท่านมีความพึงพอใจในวิธีการสอนของครูหรืออาจารย์                                                       109 non-null    int64 \n",
            " 9   ท่านรู้สึกว่าครูหรืออาจารย์มีส่วนร่วมในการสร้างประสบการณ์การเรียนที่ดี                               109 non-null    int64 \n",
            " 10  ท่านรู้สึกพึงพอใจกับการเรียนรู้ในระหว่างการเรียน                                                     109 non-null    int64 \n",
            " 11  ท่านรู้สึกว่าความตั้งใจในการเรียนรู้มีผลต่อการประสบความสำเร็จในการเรียน                              109 non-null    int64 \n",
            " 12  ท่านพึงพอใจกับสื่อการสอนที่ใช้ในชั้นเรียน (เช่น หนังสือเรียน, วิดีโอการสอน, หรือโปรแกรมคอมพิวเตอร์)  109 non-null    int64 \n",
            " 13  ท่านคิดว่าการใช้เทคโนโลยีสารสนเทศและการสื่อสารมีผลต่อการเรียนการสอน                                  109 non-null    int64 \n",
            " 14  ท่านคิดว่าสภาพแวดล้อมสังคมและวัฒนธรรมมีผลต่อการเรียนการสอน                                           109 non-null    int64 \n",
            " 15  ท่านพึงพอใจกับโครงสร้างและการจัดการของระบบการศึกษาที่คุณกำลังศึกษา                                   109 non-null    int64 \n",
            " 16  ท่านคิดว่าในอนาคต การศึกษาปริญญาตรียังมีบทบาทสำคัญอยู่หรือไม่                                        109 non-null    object\n",
            " 17  จากข้อที่แล้ว ท่านคิดว่าเป็นเพราะเหตุ?                                                               109 non-null    object\n",
            " 18  ทักษะอะไรที่นักศึกษาจำเป็นต้องมีสำหรับการเรียนการสอนในอนาคต?                                         109 non-null    object\n",
            " 19  ท่านคิดว่าอะไรคือสิ่งที่สำคัญที่สุดที่เราควรทำเพื่อเตรียมพร้อมสำหรับการศึกษาในอนาคต?                 109 non-null    object\n",
            " 20  ท่านคิดว่ารูปแบบการเรียนการสอนในอนาคตจะเปลี่ยนไปอย่างไร?                                             109 non-null    object\n",
            " 21  ท่านคิดว่าเทคโนโลยีอะไรบ้างจะส่งผลต่อการศึกษาอนาคต                                                   109 non-null    object\n",
            " 22  จากข้อที่แล้ว ท่านคิดว่าเทคโนโลยีที่ท่านเลือกจะมีบทบาทอย่างไรในการศึกษาในอนาคต                       109 non-null    object\n",
            " 23  ท่านคิดว่าระบบการประเมินผลในอนาคตควรเป็นอย่างไร                                                      109 non-null    object\n",
            " 24  ท่านคิดว่าอะไรคืออุปสรรคที่สำคัญที่สุดต่อการศึกษาที่มีคุณภาพในอนาคต?                                 109 non-null    object\n",
            " 25  ท่านมีความคิดเห็นหรือข้อเสนอแนะเพิ่มเติมเกี่ยวกับการศึกษาในอนาคตหรือไม่?                             43 non-null     object\n",
            " 26  หากท่านมีความประสงค์จะรับผลการสำรวจของโครงงานเรา กรุณากรอกอีเมลลงช่องที่เว้นไว้ให้                   37 non-null     object\n",
            "dtypes: int64(10), object(17)\n",
            "memory usage: 23.1+ KB\n"
          ]
        }
      ],
      "source": [
        "data.info()"
      ]
    },
    {
      "cell_type": "code",
      "execution_count": null,
      "metadata": {
        "id": "AHocIPcIHs9c"
      },
      "outputs": [],
      "source": [
        "!wget -q https://github.com/Phonbopit/sarabun-webfont/raw/master/fonts/thsarabunnew-webfont.ttf\n",
        "mpl.font_manager.fontManager.addfont('thsarabunnew-webfont.ttf')\n",
        "mpl.rc('font', family='TH Sarabun New',size = 18)"
      ]
    },
    {
      "cell_type": "code",
      "execution_count": null,
      "metadata": {
        "id": "8zzCU5qlALb-"
      },
      "outputs": [],
      "source": [
        "path = '/content/drive/MyDrive/CS246/Prompt-Black.ttf'"
      ]
    },
    {
      "cell_type": "markdown",
      "metadata": {
        "id": "80f4D_75cKDM"
      },
      "source": [
        "# ส่วนที่ 1 : ข้อมูลส่วนตัวของนักศึกษามหาวิทยาลัยธรรมศาสตร์"
      ]
    },
    {
      "cell_type": "markdown",
      "metadata": {
        "id": "TvTEpEECcLn4"
      },
      "source": [
        "**เพศ**"
      ]
    },
    {
      "cell_type": "code",
      "execution_count": null,
      "metadata": {
        "colab": {
          "base_uri": "https://localhost:8080/",
          "height": 821
        },
        "id": "DJDwYZn6J3VR",
        "outputId": "2ad8321d-d496-43bb-b5ae-a844fa9cd9cf"
      },
      "outputs": [
        {
          "name": "stdout",
          "output_type": "stream",
          "text": [
            "เพศ\n",
            "ชาย                                        34\n",
            "บุคคลที่มีความหลากหลายทางเพศ (LGBTQIA+)     9\n",
            "หญิง                                       65\n",
            "ไม่ต้องการระบุ                              1\n",
            "dtype: int64\n"
          ]
        },
        {
          "data": {
            "text/html": [
              "<html>\n",
              "<head><meta charset=\"utf-8\" /></head>\n",
              "<body>\n",
              "    <div>            <script src=\"https://cdnjs.cloudflare.com/ajax/libs/mathjax/2.7.5/MathJax.js?config=TeX-AMS-MML_SVG\"></script><script type=\"text/javascript\">if (window.MathJax && window.MathJax.Hub && window.MathJax.Hub.Config) {window.MathJax.Hub.Config({SVG: {font: \"STIX-Web\"}});}</script>                <script type=\"text/javascript\">window.PlotlyConfig = {MathJaxConfig: 'local'};</script>\n",
              "        <script charset=\"utf-8\" src=\"https://cdn.plot.ly/plotly-2.24.1.min.js\"></script>                <div id=\"3e0e65d1-9858-4339-abdd-6351c505666d\" class=\"plotly-graph-div\" style=\"height:700px; width:700px;\"></div>            <script type=\"text/javascript\">                                    window.PLOTLYENV=window.PLOTLYENV || {};                                    if (document.getElementById(\"3e0e65d1-9858-4339-abdd-6351c505666d\")) {                    Plotly.newPlot(                        \"3e0e65d1-9858-4339-abdd-6351c505666d\",                        [{\"domain\":{\"x\":[0.0,1.0],\"y\":[0.0,1.0]},\"hovertemplate\":\"label=%{label}\\u003cbr\\u003evalue=%{value}\\u003cextra\\u003e\\u003c\\u002fextra\\u003e\",\"labels\":[\"\\u0e0a\\u0e32\\u0e22\",\"\\u0e1a\\u0e38\\u0e04\\u0e04\\u0e25\\u0e17\\u0e35\\u0e48\\u0e21\\u0e35\\u0e04\\u0e27\\u0e32\\u0e21\\u0e2b\\u0e25\\u0e32\\u0e01\\u0e2b\\u0e25\\u0e32\\u0e22\\u0e17\\u0e32\\u0e07\\u0e40\\u0e1e\\u0e28 (LGBTQIA+)\",\"\\u0e2b\\u0e0d\\u0e34\\u0e07\",\"\\u0e44\\u0e21\\u0e48\\u0e15\\u0e49\\u0e2d\\u0e07\\u0e01\\u0e32\\u0e23\\u0e23\\u0e30\\u0e1a\\u0e38\"],\"legendgroup\":\"\",\"name\":\"\",\"showlegend\":true,\"values\":[34,9,65,1],\"type\":\"pie\",\"textposition\":\"outside\",\"texttemplate\":\"%{value} \\u003cbr\\u003e(%{percent})\"}],                        {\"template\":{\"data\":{\"histogram2dcontour\":[{\"type\":\"histogram2dcontour\",\"colorbar\":{\"outlinewidth\":0,\"ticks\":\"\"},\"colorscale\":[[0.0,\"#0d0887\"],[0.1111111111111111,\"#46039f\"],[0.2222222222222222,\"#7201a8\"],[0.3333333333333333,\"#9c179e\"],[0.4444444444444444,\"#bd3786\"],[0.5555555555555556,\"#d8576b\"],[0.6666666666666666,\"#ed7953\"],[0.7777777777777778,\"#fb9f3a\"],[0.8888888888888888,\"#fdca26\"],[1.0,\"#f0f921\"]]}],\"choropleth\":[{\"type\":\"choropleth\",\"colorbar\":{\"outlinewidth\":0,\"ticks\":\"\"}}],\"histogram2d\":[{\"type\":\"histogram2d\",\"colorbar\":{\"outlinewidth\":0,\"ticks\":\"\"},\"colorscale\":[[0.0,\"#0d0887\"],[0.1111111111111111,\"#46039f\"],[0.2222222222222222,\"#7201a8\"],[0.3333333333333333,\"#9c179e\"],[0.4444444444444444,\"#bd3786\"],[0.5555555555555556,\"#d8576b\"],[0.6666666666666666,\"#ed7953\"],[0.7777777777777778,\"#fb9f3a\"],[0.8888888888888888,\"#fdca26\"],[1.0,\"#f0f921\"]]}],\"heatmap\":[{\"type\":\"heatmap\",\"colorbar\":{\"outlinewidth\":0,\"ticks\":\"\"},\"colorscale\":[[0.0,\"#0d0887\"],[0.1111111111111111,\"#46039f\"],[0.2222222222222222,\"#7201a8\"],[0.3333333333333333,\"#9c179e\"],[0.4444444444444444,\"#bd3786\"],[0.5555555555555556,\"#d8576b\"],[0.6666666666666666,\"#ed7953\"],[0.7777777777777778,\"#fb9f3a\"],[0.8888888888888888,\"#fdca26\"],[1.0,\"#f0f921\"]]}],\"heatmapgl\":[{\"type\":\"heatmapgl\",\"colorbar\":{\"outlinewidth\":0,\"ticks\":\"\"},\"colorscale\":[[0.0,\"#0d0887\"],[0.1111111111111111,\"#46039f\"],[0.2222222222222222,\"#7201a8\"],[0.3333333333333333,\"#9c179e\"],[0.4444444444444444,\"#bd3786\"],[0.5555555555555556,\"#d8576b\"],[0.6666666666666666,\"#ed7953\"],[0.7777777777777778,\"#fb9f3a\"],[0.8888888888888888,\"#fdca26\"],[1.0,\"#f0f921\"]]}],\"contourcarpet\":[{\"type\":\"contourcarpet\",\"colorbar\":{\"outlinewidth\":0,\"ticks\":\"\"}}],\"contour\":[{\"type\":\"contour\",\"colorbar\":{\"outlinewidth\":0,\"ticks\":\"\"},\"colorscale\":[[0.0,\"#0d0887\"],[0.1111111111111111,\"#46039f\"],[0.2222222222222222,\"#7201a8\"],[0.3333333333333333,\"#9c179e\"],[0.4444444444444444,\"#bd3786\"],[0.5555555555555556,\"#d8576b\"],[0.6666666666666666,\"#ed7953\"],[0.7777777777777778,\"#fb9f3a\"],[0.8888888888888888,\"#fdca26\"],[1.0,\"#f0f921\"]]}],\"surface\":[{\"type\":\"surface\",\"colorbar\":{\"outlinewidth\":0,\"ticks\":\"\"},\"colorscale\":[[0.0,\"#0d0887\"],[0.1111111111111111,\"#46039f\"],[0.2222222222222222,\"#7201a8\"],[0.3333333333333333,\"#9c179e\"],[0.4444444444444444,\"#bd3786\"],[0.5555555555555556,\"#d8576b\"],[0.6666666666666666,\"#ed7953\"],[0.7777777777777778,\"#fb9f3a\"],[0.8888888888888888,\"#fdca26\"],[1.0,\"#f0f921\"]]}],\"mesh3d\":[{\"type\":\"mesh3d\",\"colorbar\":{\"outlinewidth\":0,\"ticks\":\"\"}}],\"scatter\":[{\"fillpattern\":{\"fillmode\":\"overlay\",\"size\":10,\"solidity\":0.2},\"type\":\"scatter\"}],\"parcoords\":[{\"type\":\"parcoords\",\"line\":{\"colorbar\":{\"outlinewidth\":0,\"ticks\":\"\"}}}],\"scatterpolargl\":[{\"type\":\"scatterpolargl\",\"marker\":{\"colorbar\":{\"outlinewidth\":0,\"ticks\":\"\"}}}],\"bar\":[{\"error_x\":{\"color\":\"#2a3f5f\"},\"error_y\":{\"color\":\"#2a3f5f\"},\"marker\":{\"line\":{\"color\":\"#E5ECF6\",\"width\":0.5},\"pattern\":{\"fillmode\":\"overlay\",\"size\":10,\"solidity\":0.2}},\"type\":\"bar\"}],\"scattergeo\":[{\"type\":\"scattergeo\",\"marker\":{\"colorbar\":{\"outlinewidth\":0,\"ticks\":\"\"}}}],\"scatterpolar\":[{\"type\":\"scatterpolar\",\"marker\":{\"colorbar\":{\"outlinewidth\":0,\"ticks\":\"\"}}}],\"histogram\":[{\"marker\":{\"pattern\":{\"fillmode\":\"overlay\",\"size\":10,\"solidity\":0.2}},\"type\":\"histogram\"}],\"scattergl\":[{\"type\":\"scattergl\",\"marker\":{\"colorbar\":{\"outlinewidth\":0,\"ticks\":\"\"}}}],\"scatter3d\":[{\"type\":\"scatter3d\",\"line\":{\"colorbar\":{\"outlinewidth\":0,\"ticks\":\"\"}},\"marker\":{\"colorbar\":{\"outlinewidth\":0,\"ticks\":\"\"}}}],\"scattermapbox\":[{\"type\":\"scattermapbox\",\"marker\":{\"colorbar\":{\"outlinewidth\":0,\"ticks\":\"\"}}}],\"scatterternary\":[{\"type\":\"scatterternary\",\"marker\":{\"colorbar\":{\"outlinewidth\":0,\"ticks\":\"\"}}}],\"scattercarpet\":[{\"type\":\"scattercarpet\",\"marker\":{\"colorbar\":{\"outlinewidth\":0,\"ticks\":\"\"}}}],\"carpet\":[{\"aaxis\":{\"endlinecolor\":\"#2a3f5f\",\"gridcolor\":\"white\",\"linecolor\":\"white\",\"minorgridcolor\":\"white\",\"startlinecolor\":\"#2a3f5f\"},\"baxis\":{\"endlinecolor\":\"#2a3f5f\",\"gridcolor\":\"white\",\"linecolor\":\"white\",\"minorgridcolor\":\"white\",\"startlinecolor\":\"#2a3f5f\"},\"type\":\"carpet\"}],\"table\":[{\"cells\":{\"fill\":{\"color\":\"#EBF0F8\"},\"line\":{\"color\":\"white\"}},\"header\":{\"fill\":{\"color\":\"#C8D4E3\"},\"line\":{\"color\":\"white\"}},\"type\":\"table\"}],\"barpolar\":[{\"marker\":{\"line\":{\"color\":\"#E5ECF6\",\"width\":0.5},\"pattern\":{\"fillmode\":\"overlay\",\"size\":10,\"solidity\":0.2}},\"type\":\"barpolar\"}],\"pie\":[{\"automargin\":true,\"type\":\"pie\"}]},\"layout\":{\"autotypenumbers\":\"strict\",\"colorway\":[\"#636efa\",\"#EF553B\",\"#00cc96\",\"#ab63fa\",\"#FFA15A\",\"#19d3f3\",\"#FF6692\",\"#B6E880\",\"#FF97FF\",\"#FECB52\"],\"font\":{\"color\":\"#2a3f5f\"},\"hovermode\":\"closest\",\"hoverlabel\":{\"align\":\"left\"},\"paper_bgcolor\":\"white\",\"plot_bgcolor\":\"#E5ECF6\",\"polar\":{\"bgcolor\":\"#E5ECF6\",\"angularaxis\":{\"gridcolor\":\"white\",\"linecolor\":\"white\",\"ticks\":\"\"},\"radialaxis\":{\"gridcolor\":\"white\",\"linecolor\":\"white\",\"ticks\":\"\"}},\"ternary\":{\"bgcolor\":\"#E5ECF6\",\"aaxis\":{\"gridcolor\":\"white\",\"linecolor\":\"white\",\"ticks\":\"\"},\"baxis\":{\"gridcolor\":\"white\",\"linecolor\":\"white\",\"ticks\":\"\"},\"caxis\":{\"gridcolor\":\"white\",\"linecolor\":\"white\",\"ticks\":\"\"}},\"coloraxis\":{\"colorbar\":{\"outlinewidth\":0,\"ticks\":\"\"}},\"colorscale\":{\"sequential\":[[0.0,\"#0d0887\"],[0.1111111111111111,\"#46039f\"],[0.2222222222222222,\"#7201a8\"],[0.3333333333333333,\"#9c179e\"],[0.4444444444444444,\"#bd3786\"],[0.5555555555555556,\"#d8576b\"],[0.6666666666666666,\"#ed7953\"],[0.7777777777777778,\"#fb9f3a\"],[0.8888888888888888,\"#fdca26\"],[1.0,\"#f0f921\"]],\"sequentialminus\":[[0.0,\"#0d0887\"],[0.1111111111111111,\"#46039f\"],[0.2222222222222222,\"#7201a8\"],[0.3333333333333333,\"#9c179e\"],[0.4444444444444444,\"#bd3786\"],[0.5555555555555556,\"#d8576b\"],[0.6666666666666666,\"#ed7953\"],[0.7777777777777778,\"#fb9f3a\"],[0.8888888888888888,\"#fdca26\"],[1.0,\"#f0f921\"]],\"diverging\":[[0,\"#8e0152\"],[0.1,\"#c51b7d\"],[0.2,\"#de77ae\"],[0.3,\"#f1b6da\"],[0.4,\"#fde0ef\"],[0.5,\"#f7f7f7\"],[0.6,\"#e6f5d0\"],[0.7,\"#b8e186\"],[0.8,\"#7fbc41\"],[0.9,\"#4d9221\"],[1,\"#276419\"]]},\"xaxis\":{\"gridcolor\":\"white\",\"linecolor\":\"white\",\"ticks\":\"\",\"title\":{\"standoff\":15},\"zerolinecolor\":\"white\",\"automargin\":true,\"zerolinewidth\":2},\"yaxis\":{\"gridcolor\":\"white\",\"linecolor\":\"white\",\"ticks\":\"\",\"title\":{\"standoff\":15},\"zerolinecolor\":\"white\",\"automargin\":true,\"zerolinewidth\":2},\"scene\":{\"xaxis\":{\"backgroundcolor\":\"#E5ECF6\",\"gridcolor\":\"white\",\"linecolor\":\"white\",\"showbackground\":true,\"ticks\":\"\",\"zerolinecolor\":\"white\",\"gridwidth\":2},\"yaxis\":{\"backgroundcolor\":\"#E5ECF6\",\"gridcolor\":\"white\",\"linecolor\":\"white\",\"showbackground\":true,\"ticks\":\"\",\"zerolinecolor\":\"white\",\"gridwidth\":2},\"zaxis\":{\"backgroundcolor\":\"#E5ECF6\",\"gridcolor\":\"white\",\"linecolor\":\"white\",\"showbackground\":true,\"ticks\":\"\",\"zerolinecolor\":\"white\",\"gridwidth\":2}},\"shapedefaults\":{\"line\":{\"color\":\"#2a3f5f\"}},\"annotationdefaults\":{\"arrowcolor\":\"#2a3f5f\",\"arrowhead\":0,\"arrowwidth\":1},\"geo\":{\"bgcolor\":\"white\",\"landcolor\":\"#E5ECF6\",\"subunitcolor\":\"white\",\"showland\":true,\"showlakes\":true,\"lakecolor\":\"white\"},\"title\":{\"x\":0.05},\"mapbox\":{\"style\":\"light\"}}},\"legend\":{\"tracegroupgap\":0,\"title\":{\"text\":\"\\u0e40\\u0e1e\\u0e28\"},\"orientation\":\"h\",\"yanchor\":\"bottom\",\"y\":1,\"xanchor\":\"center\",\"x\":0.5},\"margin\":{\"t\":60},\"piecolorway\":[\"rgb(251,180,174)\",\"rgb(179,205,227)\",\"rgb(204,235,197)\",\"rgb(222,203,228)\",\"rgb(254,217,166)\",\"rgb(255,255,204)\",\"rgb(229,216,189)\",\"rgb(253,218,236)\",\"rgb(242,242,242)\"],\"title\":{\"font\":{\"family\":\"TH Sarabun New\"},\"text\":\"\\u0e08\\u0e33\\u0e19\\u0e27\\u0e19\\u0e19\\u0e31\\u0e01\\u0e28\\u0e36\\u0e01\\u0e29\\u0e32\\u0e43\\u0e19\\u0e21\\u0e2b\\u0e32\\u0e25\\u0e31\\u0e22\\u0e41\\u0e1a\\u0e48\\u0e07\\u0e15\\u0e32\\u0e21\\u0e40\\u0e1e\\u0e28\",\"x\":0.5},\"font\":{\"family\":\"TH Sarabun New\"},\"height\":700,\"width\":700},                        {\"responsive\": true}                    ).then(function(){\n",
              "                            \n",
              "var gd = document.getElementById('3e0e65d1-9858-4339-abdd-6351c505666d');\n",
              "var x = new MutationObserver(function (mutations, observer) {{\n",
              "        var display = window.getComputedStyle(gd).display;\n",
              "        if (!display || display === 'none') {{\n",
              "            console.log([gd, 'removed!']);\n",
              "            Plotly.purge(gd);\n",
              "            observer.disconnect();\n",
              "        }}\n",
              "}});\n",
              "\n",
              "// Listen for the removal of the full notebook cells\n",
              "var notebookContainer = gd.closest('#notebook-container');\n",
              "if (notebookContainer) {{\n",
              "    x.observe(notebookContainer, {childList: true});\n",
              "}}\n",
              "\n",
              "// Listen for the clearing of the current output cell\n",
              "var outputEl = gd.closest('.output');\n",
              "if (outputEl) {{\n",
              "    x.observe(outputEl, {childList: true});\n",
              "}}\n",
              "\n",
              "                        })                };                            </script>        </div>\n",
              "</body>\n",
              "</html>"
            ]
          },
          "metadata": {},
          "output_type": "display_data"
        }
      ],
      "source": [
        "sex = data.groupby('เพศ')\n",
        "sex = sex.size()\n",
        "print(sex)\n",
        "\n",
        "fig = px.pie(values=sex.values, names=sex.index,\n",
        "             color_discrete_sequence=px.colors.qualitative.Pastel1)\n",
        "fig.update_traces(texttemplate = \"%{value} <br>(%{percent})\",\n",
        "                 textposition = \"outside\")\n",
        "fig.update_layout(\n",
        "    title={\n",
        "        'text': \"จำนวนนักศึกษาในมหาลัยแบ่งตามเพศ\",\n",
        "        'x': 0.5\n",
        "    },\n",
        "    font_family='TH Sarabun New',\n",
        "    title_font_family='TH Sarabun New',\n",
        "    height=700, width=700,legend=dict(\n",
        "        title=\"เพศ\",\n",
        "        orientation=\"h\",\n",
        "        yanchor=\"bottom\",\n",
        "        y=1,\n",
        "        xanchor=\"center\",\n",
        "        x=0.5\n",
        "    )\n",
        " )\n",
        "fig.show()"
      ]
    },
    {
      "cell_type": "markdown",
      "metadata": {
        "id": "sh89uHeWc31B"
      },
      "source": [
        "**ระดับชั้นปี**"
      ]
    },
    {
      "cell_type": "code",
      "execution_count": null,
      "metadata": {
        "colab": {
          "base_uri": "https://localhost:8080/",
          "height": 664
        },
        "id": "MQW5bLchGUSh",
        "outputId": "e6f99da5-9a93-460f-c023-e136e27b5c66"
      },
      "outputs": [
        {
          "name": "stdout",
          "output_type": "stream",
          "text": [
            "ระดับชั้นปี\n",
            "ปีที่ 1 (รหัส 66)     13\n",
            "ปีที่ 2 (รหัส 65)     27\n",
            "ปีที่ 3 (รหัส 64)     54\n",
            "ปีที่ 4 (รหัส 63)     11\n",
            "สูงกว่าชั้นปีที่ 4     4\n",
            "dtype: int64\n"
          ]
        },
        {
          "data": {
            "text/html": [
              "<html>\n",
              "<head><meta charset=\"utf-8\" /></head>\n",
              "<body>\n",
              "    <div>            <script src=\"https://cdnjs.cloudflare.com/ajax/libs/mathjax/2.7.5/MathJax.js?config=TeX-AMS-MML_SVG\"></script><script type=\"text/javascript\">if (window.MathJax && window.MathJax.Hub && window.MathJax.Hub.Config) {window.MathJax.Hub.Config({SVG: {font: \"STIX-Web\"}});}</script>                <script type=\"text/javascript\">window.PlotlyConfig = {MathJaxConfig: 'local'};</script>\n",
              "        <script charset=\"utf-8\" src=\"https://cdn.plot.ly/plotly-2.24.1.min.js\"></script>                <div id=\"8b4b7aa7-d633-4459-818e-017951122a11\" class=\"plotly-graph-div\" style=\"height:525px; width:100%;\"></div>            <script type=\"text/javascript\">                                    window.PLOTLYENV=window.PLOTLYENV || {};                                    if (document.getElementById(\"8b4b7aa7-d633-4459-818e-017951122a11\")) {                    Plotly.newPlot(                        \"8b4b7aa7-d633-4459-818e-017951122a11\",                        [{\"marker\":{\"color\":[\"#B6BBC7\",\"#FAC2AC\",\"#BEE6A0\",\"#9BCAE7\",\"#D6C3CE\"]},\"orientation\":\"h\",\"text\":[13.0,27.0,54.0,11.0,4.0],\"textposition\":\"inside\",\"x\":[13,27,54,11,4],\"y\":[\"\\u0e1b\\u0e35\\u0e17\\u0e35\\u0e48 1(\\u0e23\\u0e2b\\u0e31\\u0e2a66)\",\"\\u0e1b\\u0e35\\u0e17\\u0e35\\u0e48 2(\\u0e23\\u0e2b\\u0e31\\u0e2a65)\",\"\\u0e1b\\u0e35\\u0e17\\u0e35\\u0e48 3(\\u0e23\\u0e2b\\u0e31\\u0e2a64)\",\"\\u0e1b\\u0e35\\u0e17\\u0e35\\u0e48 4(\\u0e23\\u0e2b\\u0e31\\u0e2a63)\",\"\\u0e2a\\u0e39\\u0e07\\u0e01\\u0e27\\u0e48\\u0e32\\u0e0a\\u0e31\\u0e49\\u0e19\\u0e1b\\u0e35\\u0e17\\u0e35\\u0e48 4\"],\"type\":\"bar\"}],                        {\"template\":{\"data\":{\"histogram2dcontour\":[{\"type\":\"histogram2dcontour\",\"colorbar\":{\"outlinewidth\":0,\"ticks\":\"\"},\"colorscale\":[[0.0,\"#0d0887\"],[0.1111111111111111,\"#46039f\"],[0.2222222222222222,\"#7201a8\"],[0.3333333333333333,\"#9c179e\"],[0.4444444444444444,\"#bd3786\"],[0.5555555555555556,\"#d8576b\"],[0.6666666666666666,\"#ed7953\"],[0.7777777777777778,\"#fb9f3a\"],[0.8888888888888888,\"#fdca26\"],[1.0,\"#f0f921\"]]}],\"choropleth\":[{\"type\":\"choropleth\",\"colorbar\":{\"outlinewidth\":0,\"ticks\":\"\"}}],\"histogram2d\":[{\"type\":\"histogram2d\",\"colorbar\":{\"outlinewidth\":0,\"ticks\":\"\"},\"colorscale\":[[0.0,\"#0d0887\"],[0.1111111111111111,\"#46039f\"],[0.2222222222222222,\"#7201a8\"],[0.3333333333333333,\"#9c179e\"],[0.4444444444444444,\"#bd3786\"],[0.5555555555555556,\"#d8576b\"],[0.6666666666666666,\"#ed7953\"],[0.7777777777777778,\"#fb9f3a\"],[0.8888888888888888,\"#fdca26\"],[1.0,\"#f0f921\"]]}],\"heatmap\":[{\"type\":\"heatmap\",\"colorbar\":{\"outlinewidth\":0,\"ticks\":\"\"},\"colorscale\":[[0.0,\"#0d0887\"],[0.1111111111111111,\"#46039f\"],[0.2222222222222222,\"#7201a8\"],[0.3333333333333333,\"#9c179e\"],[0.4444444444444444,\"#bd3786\"],[0.5555555555555556,\"#d8576b\"],[0.6666666666666666,\"#ed7953\"],[0.7777777777777778,\"#fb9f3a\"],[0.8888888888888888,\"#fdca26\"],[1.0,\"#f0f921\"]]}],\"heatmapgl\":[{\"type\":\"heatmapgl\",\"colorbar\":{\"outlinewidth\":0,\"ticks\":\"\"},\"colorscale\":[[0.0,\"#0d0887\"],[0.1111111111111111,\"#46039f\"],[0.2222222222222222,\"#7201a8\"],[0.3333333333333333,\"#9c179e\"],[0.4444444444444444,\"#bd3786\"],[0.5555555555555556,\"#d8576b\"],[0.6666666666666666,\"#ed7953\"],[0.7777777777777778,\"#fb9f3a\"],[0.8888888888888888,\"#fdca26\"],[1.0,\"#f0f921\"]]}],\"contourcarpet\":[{\"type\":\"contourcarpet\",\"colorbar\":{\"outlinewidth\":0,\"ticks\":\"\"}}],\"contour\":[{\"type\":\"contour\",\"colorbar\":{\"outlinewidth\":0,\"ticks\":\"\"},\"colorscale\":[[0.0,\"#0d0887\"],[0.1111111111111111,\"#46039f\"],[0.2222222222222222,\"#7201a8\"],[0.3333333333333333,\"#9c179e\"],[0.4444444444444444,\"#bd3786\"],[0.5555555555555556,\"#d8576b\"],[0.6666666666666666,\"#ed7953\"],[0.7777777777777778,\"#fb9f3a\"],[0.8888888888888888,\"#fdca26\"],[1.0,\"#f0f921\"]]}],\"surface\":[{\"type\":\"surface\",\"colorbar\":{\"outlinewidth\":0,\"ticks\":\"\"},\"colorscale\":[[0.0,\"#0d0887\"],[0.1111111111111111,\"#46039f\"],[0.2222222222222222,\"#7201a8\"],[0.3333333333333333,\"#9c179e\"],[0.4444444444444444,\"#bd3786\"],[0.5555555555555556,\"#d8576b\"],[0.6666666666666666,\"#ed7953\"],[0.7777777777777778,\"#fb9f3a\"],[0.8888888888888888,\"#fdca26\"],[1.0,\"#f0f921\"]]}],\"mesh3d\":[{\"type\":\"mesh3d\",\"colorbar\":{\"outlinewidth\":0,\"ticks\":\"\"}}],\"scatter\":[{\"fillpattern\":{\"fillmode\":\"overlay\",\"size\":10,\"solidity\":0.2},\"type\":\"scatter\"}],\"parcoords\":[{\"type\":\"parcoords\",\"line\":{\"colorbar\":{\"outlinewidth\":0,\"ticks\":\"\"}}}],\"scatterpolargl\":[{\"type\":\"scatterpolargl\",\"marker\":{\"colorbar\":{\"outlinewidth\":0,\"ticks\":\"\"}}}],\"bar\":[{\"error_x\":{\"color\":\"#2a3f5f\"},\"error_y\":{\"color\":\"#2a3f5f\"},\"marker\":{\"line\":{\"color\":\"#E5ECF6\",\"width\":0.5},\"pattern\":{\"fillmode\":\"overlay\",\"size\":10,\"solidity\":0.2}},\"type\":\"bar\"}],\"scattergeo\":[{\"type\":\"scattergeo\",\"marker\":{\"colorbar\":{\"outlinewidth\":0,\"ticks\":\"\"}}}],\"scatterpolar\":[{\"type\":\"scatterpolar\",\"marker\":{\"colorbar\":{\"outlinewidth\":0,\"ticks\":\"\"}}}],\"histogram\":[{\"marker\":{\"pattern\":{\"fillmode\":\"overlay\",\"size\":10,\"solidity\":0.2}},\"type\":\"histogram\"}],\"scattergl\":[{\"type\":\"scattergl\",\"marker\":{\"colorbar\":{\"outlinewidth\":0,\"ticks\":\"\"}}}],\"scatter3d\":[{\"type\":\"scatter3d\",\"line\":{\"colorbar\":{\"outlinewidth\":0,\"ticks\":\"\"}},\"marker\":{\"colorbar\":{\"outlinewidth\":0,\"ticks\":\"\"}}}],\"scattermapbox\":[{\"type\":\"scattermapbox\",\"marker\":{\"colorbar\":{\"outlinewidth\":0,\"ticks\":\"\"}}}],\"scatterternary\":[{\"type\":\"scatterternary\",\"marker\":{\"colorbar\":{\"outlinewidth\":0,\"ticks\":\"\"}}}],\"scattercarpet\":[{\"type\":\"scattercarpet\",\"marker\":{\"colorbar\":{\"outlinewidth\":0,\"ticks\":\"\"}}}],\"carpet\":[{\"aaxis\":{\"endlinecolor\":\"#2a3f5f\",\"gridcolor\":\"white\",\"linecolor\":\"white\",\"minorgridcolor\":\"white\",\"startlinecolor\":\"#2a3f5f\"},\"baxis\":{\"endlinecolor\":\"#2a3f5f\",\"gridcolor\":\"white\",\"linecolor\":\"white\",\"minorgridcolor\":\"white\",\"startlinecolor\":\"#2a3f5f\"},\"type\":\"carpet\"}],\"table\":[{\"cells\":{\"fill\":{\"color\":\"#EBF0F8\"},\"line\":{\"color\":\"white\"}},\"header\":{\"fill\":{\"color\":\"#C8D4E3\"},\"line\":{\"color\":\"white\"}},\"type\":\"table\"}],\"barpolar\":[{\"marker\":{\"line\":{\"color\":\"#E5ECF6\",\"width\":0.5},\"pattern\":{\"fillmode\":\"overlay\",\"size\":10,\"solidity\":0.2}},\"type\":\"barpolar\"}],\"pie\":[{\"automargin\":true,\"type\":\"pie\"}]},\"layout\":{\"autotypenumbers\":\"strict\",\"colorway\":[\"#636efa\",\"#EF553B\",\"#00cc96\",\"#ab63fa\",\"#FFA15A\",\"#19d3f3\",\"#FF6692\",\"#B6E880\",\"#FF97FF\",\"#FECB52\"],\"font\":{\"color\":\"#2a3f5f\"},\"hovermode\":\"closest\",\"hoverlabel\":{\"align\":\"left\"},\"paper_bgcolor\":\"white\",\"plot_bgcolor\":\"#E5ECF6\",\"polar\":{\"bgcolor\":\"#E5ECF6\",\"angularaxis\":{\"gridcolor\":\"white\",\"linecolor\":\"white\",\"ticks\":\"\"},\"radialaxis\":{\"gridcolor\":\"white\",\"linecolor\":\"white\",\"ticks\":\"\"}},\"ternary\":{\"bgcolor\":\"#E5ECF6\",\"aaxis\":{\"gridcolor\":\"white\",\"linecolor\":\"white\",\"ticks\":\"\"},\"baxis\":{\"gridcolor\":\"white\",\"linecolor\":\"white\",\"ticks\":\"\"},\"caxis\":{\"gridcolor\":\"white\",\"linecolor\":\"white\",\"ticks\":\"\"}},\"coloraxis\":{\"colorbar\":{\"outlinewidth\":0,\"ticks\":\"\"}},\"colorscale\":{\"sequential\":[[0.0,\"#0d0887\"],[0.1111111111111111,\"#46039f\"],[0.2222222222222222,\"#7201a8\"],[0.3333333333333333,\"#9c179e\"],[0.4444444444444444,\"#bd3786\"],[0.5555555555555556,\"#d8576b\"],[0.6666666666666666,\"#ed7953\"],[0.7777777777777778,\"#fb9f3a\"],[0.8888888888888888,\"#fdca26\"],[1.0,\"#f0f921\"]],\"sequentialminus\":[[0.0,\"#0d0887\"],[0.1111111111111111,\"#46039f\"],[0.2222222222222222,\"#7201a8\"],[0.3333333333333333,\"#9c179e\"],[0.4444444444444444,\"#bd3786\"],[0.5555555555555556,\"#d8576b\"],[0.6666666666666666,\"#ed7953\"],[0.7777777777777778,\"#fb9f3a\"],[0.8888888888888888,\"#fdca26\"],[1.0,\"#f0f921\"]],\"diverging\":[[0,\"#8e0152\"],[0.1,\"#c51b7d\"],[0.2,\"#de77ae\"],[0.3,\"#f1b6da\"],[0.4,\"#fde0ef\"],[0.5,\"#f7f7f7\"],[0.6,\"#e6f5d0\"],[0.7,\"#b8e186\"],[0.8,\"#7fbc41\"],[0.9,\"#4d9221\"],[1,\"#276419\"]]},\"xaxis\":{\"gridcolor\":\"white\",\"linecolor\":\"white\",\"ticks\":\"\",\"title\":{\"standoff\":15},\"zerolinecolor\":\"white\",\"automargin\":true,\"zerolinewidth\":2},\"yaxis\":{\"gridcolor\":\"white\",\"linecolor\":\"white\",\"ticks\":\"\",\"title\":{\"standoff\":15},\"zerolinecolor\":\"white\",\"automargin\":true,\"zerolinewidth\":2},\"scene\":{\"xaxis\":{\"backgroundcolor\":\"#E5ECF6\",\"gridcolor\":\"white\",\"linecolor\":\"white\",\"showbackground\":true,\"ticks\":\"\",\"zerolinecolor\":\"white\",\"gridwidth\":2},\"yaxis\":{\"backgroundcolor\":\"#E5ECF6\",\"gridcolor\":\"white\",\"linecolor\":\"white\",\"showbackground\":true,\"ticks\":\"\",\"zerolinecolor\":\"white\",\"gridwidth\":2},\"zaxis\":{\"backgroundcolor\":\"#E5ECF6\",\"gridcolor\":\"white\",\"linecolor\":\"white\",\"showbackground\":true,\"ticks\":\"\",\"zerolinecolor\":\"white\",\"gridwidth\":2}},\"shapedefaults\":{\"line\":{\"color\":\"#2a3f5f\"}},\"annotationdefaults\":{\"arrowcolor\":\"#2a3f5f\",\"arrowhead\":0,\"arrowwidth\":1},\"geo\":{\"bgcolor\":\"white\",\"landcolor\":\"#E5ECF6\",\"subunitcolor\":\"white\",\"showland\":true,\"showlakes\":true,\"lakecolor\":\"white\"},\"title\":{\"x\":0.05},\"mapbox\":{\"style\":\"light\"}}},\"title\":{\"font\":{\"family\":\"TH Sarabun New\"},\"text\":\"\\u0e2a\\u0e31\\u0e14\\u0e2a\\u0e48\\u0e27\\u0e19\\u0e41\\u0e15\\u0e48\\u0e25\\u0e30\\u0e0a\\u0e31\\u0e49\\u0e19\\u0e1b\\u0e35\\u0e17\\u0e35\\u0e48\\u0e01\\u0e23\\u0e2d\\u0e01\\u0e41\\u0e1a\\u0e1a\\u0e1f\\u0e2d\\u0e23\\u0e4c\\u0e21\",\"x\":0.5},\"font\":{\"family\":\"TH Sarabun New\"},\"xaxis\":{\"title\":{\"text\":\"\\u0e08\\u0e33\\u0e19\\u0e27\\u0e19\\u0e04\\u0e19\"}},\"yaxis\":{\"title\":{\"text\":\"\\u0e04\\u0e33\\u0e15\\u0e2d\\u0e1a\"}}},                        {\"responsive\": true}                    ).then(function(){\n",
              "                            \n",
              "var gd = document.getElementById('8b4b7aa7-d633-4459-818e-017951122a11');\n",
              "var x = new MutationObserver(function (mutations, observer) {{\n",
              "        var display = window.getComputedStyle(gd).display;\n",
              "        if (!display || display === 'none') {{\n",
              "            console.log([gd, 'removed!']);\n",
              "            Plotly.purge(gd);\n",
              "            observer.disconnect();\n",
              "        }}\n",
              "}});\n",
              "\n",
              "// Listen for the removal of the full notebook cells\n",
              "var notebookContainer = gd.closest('#notebook-container');\n",
              "if (notebookContainer) {{\n",
              "    x.observe(notebookContainer, {childList: true});\n",
              "}}\n",
              "\n",
              "// Listen for the clearing of the current output cell\n",
              "var outputEl = gd.closest('.output');\n",
              "if (outputEl) {{\n",
              "    x.observe(outputEl, {childList: true});\n",
              "}}\n",
              "\n",
              "                        })                };                            </script>        </div>\n",
              "</body>\n",
              "</html>"
            ]
          },
          "metadata": {},
          "output_type": "display_data"
        }
      ],
      "source": [
        "mpl.rc('font', family='TH Sarabun New',size = 12)\n",
        "\n",
        "year = data.groupby('ระดับชั้นปี')\n",
        "year = year.size()\n",
        "print(year)\n",
        "\n",
        "years = ['ปีที่ 1(รหัส66)', 'ปีที่ 2(รหัส65)', 'ปีที่ 3(รหัส64)', 'ปีที่ 4(รหัส63)', 'สูงกว่าชั้นปีที่ 4']\n",
        "counts = [13, 27, 54, 11, 4]\n",
        "\n",
        "colors = ['#B6BBC7', '#FAC2AC', '#BEE6A0', '#9BCAE7', '#D6C3CE']\n",
        "\n",
        "fig = go.Figure(data=[go.Bar(y=years, x=year.values, orientation='h',\n",
        "                             text=year.values, textposition='inside',\n",
        "                             marker=dict(color=colors))])\n",
        "fig.update_layout(title={\n",
        "        'text': \"สัดส่วนแต่ละชั้นปีที่กรอกแบบฟอร์ม\",\n",
        "        'x': 0.5},\n",
        "                  xaxis_title='จำนวนคน',\n",
        "                  yaxis_title='คำตอบ',\n",
        "                  font_family='TH Sarabun New',\n",
        "                  title_font_family='TH Sarabun New')\n",
        "fig.show()"
      ]
    },
    {
      "cell_type": "markdown",
      "metadata": {
        "id": "AMR9lVXwc7Bk"
      },
      "source": [
        "**คณะ**"
      ]
    },
    {
      "cell_type": "code",
      "execution_count": null,
      "metadata": {
        "colab": {
          "base_uri": "https://localhost:8080/",
          "height": 1000
        },
        "id": "cChls7--1iuP",
        "outputId": "b4aa41aa-4fe5-449d-8e4d-2b980b635e51"
      },
      "outputs": [
        {
          "name": "stdout",
          "output_type": "stream",
          "text": [
            "คณะ\n",
            "คณะทันตแพทยศาสตร์                                                1\n",
            "คณะนิติศาสตร์                                                    1\n",
            "คณะพยาบาลศาสตร์                                                  8\n",
            "คณะพาณิชยศาสตร์และการบัญชี                                       4\n",
            "คณะรัฐศาสตร์                                                     3\n",
            "คณะวารสารศาสตร์และสื่อสารมวลชน                                   2\n",
            "คณะวิทยาศาสตร์และเทคโนโลยี                                      50\n",
            "คณะวิทยาศาสตร์และเทคโนโลยี และสถาบันเทคโนโลยีนานาชาติสิรินธร     4\n",
            "คณะวิศวกรรมศาสตร์                                                8\n",
            "คณะศิลปศาสตร์                                                    2\n",
            "คณะสถาปัตยกรรมศาสตร์และการผังเมือง                               4\n",
            "คณะสหเวชศาสตร์                                                   7\n",
            "คณะสังคมวิทยาและมานุษยวิทยา                                      3\n",
            "คณะสังคมสงเคราะห์ศาสตร์                                          2\n",
            "คณะสาธารณสุขศาสตร์                                               2\n",
            "คณะเภสัชศาสตร์                                                   2\n",
            "คณะเศรษฐศาสตร์                                                   5\n",
            "สถาบันเทคโนโลยีนานาชาติสิรินธร                                   1\n",
            "dtype: int64\n"
          ]
        },
        {
          "data": {
            "text/html": [
              "<html>\n",
              "<head><meta charset=\"utf-8\" /></head>\n",
              "<body>\n",
              "    <div>            <script src=\"https://cdnjs.cloudflare.com/ajax/libs/mathjax/2.7.5/MathJax.js?config=TeX-AMS-MML_SVG\"></script><script type=\"text/javascript\">if (window.MathJax && window.MathJax.Hub && window.MathJax.Hub.Config) {window.MathJax.Hub.Config({SVG: {font: \"STIX-Web\"}});}</script>                <script type=\"text/javascript\">window.PlotlyConfig = {MathJaxConfig: 'local'};</script>\n",
              "        <script charset=\"utf-8\" src=\"https://cdn.plot.ly/plotly-2.24.1.min.js\"></script>                <div id=\"2d72f52f-125c-4e2d-93bb-9d7d65a3176c\" class=\"plotly-graph-div\" style=\"height:1100px; width:1000px;\"></div>            <script type=\"text/javascript\">                                    window.PLOTLYENV=window.PLOTLYENV || {};                                    if (document.getElementById(\"2d72f52f-125c-4e2d-93bb-9d7d65a3176c\")) {                    Plotly.newPlot(                        \"2d72f52f-125c-4e2d-93bb-9d7d65a3176c\",                        [{\"domain\":{\"x\":[0.0,1.0],\"y\":[0.0,1.0]},\"hovertemplate\":\"label=%{label}\\u003cbr\\u003evalue=%{value}\\u003cextra\\u003e\\u003c\\u002fextra\\u003e\",\"labels\":[\"\\u0e04\\u0e13\\u0e30\\u0e17\\u0e31\\u0e19\\u0e15\\u0e41\\u0e1e\\u0e17\\u0e22\\u0e28\\u0e32\\u0e2a\\u0e15\\u0e23\\u0e4c\",\"\\u0e04\\u0e13\\u0e30\\u0e19\\u0e34\\u0e15\\u0e34\\u0e28\\u0e32\\u0e2a\\u0e15\\u0e23\\u0e4c\",\"\\u0e04\\u0e13\\u0e30\\u0e1e\\u0e22\\u0e32\\u0e1a\\u0e32\\u0e25\\u0e28\\u0e32\\u0e2a\\u0e15\\u0e23\\u0e4c\",\"\\u0e04\\u0e13\\u0e30\\u0e1e\\u0e32\\u0e13\\u0e34\\u0e0a\\u0e22\\u0e28\\u0e32\\u0e2a\\u0e15\\u0e23\\u0e4c\\u0e41\\u0e25\\u0e30\\u0e01\\u0e32\\u0e23\\u0e1a\\u0e31\\u0e0d\\u0e0a\\u0e35\",\"\\u0e04\\u0e13\\u0e30\\u0e23\\u0e31\\u0e10\\u0e28\\u0e32\\u0e2a\\u0e15\\u0e23\\u0e4c\",\"\\u0e04\\u0e13\\u0e30\\u0e27\\u0e32\\u0e23\\u0e2a\\u0e32\\u0e23\\u0e28\\u0e32\\u0e2a\\u0e15\\u0e23\\u0e4c\\u0e41\\u0e25\\u0e30\\u0e2a\\u0e37\\u0e48\\u0e2d\\u0e2a\\u0e32\\u0e23\\u0e21\\u0e27\\u0e25\\u0e0a\\u0e19\",\"\\u0e04\\u0e13\\u0e30\\u0e27\\u0e34\\u0e17\\u0e22\\u0e32\\u0e28\\u0e32\\u0e2a\\u0e15\\u0e23\\u0e4c\\u0e41\\u0e25\\u0e30\\u0e40\\u0e17\\u0e04\\u0e42\\u0e19\\u0e42\\u0e25\\u0e22\\u0e35\",\"\\u0e04\\u0e13\\u0e30\\u0e27\\u0e34\\u0e17\\u0e22\\u0e32\\u0e28\\u0e32\\u0e2a\\u0e15\\u0e23\\u0e4c\\u0e41\\u0e25\\u0e30\\u0e40\\u0e17\\u0e04\\u0e42\\u0e19\\u0e42\\u0e25\\u0e22\\u0e35 \\u0e41\\u0e25\\u0e30\\u0e2a\\u0e16\\u0e32\\u0e1a\\u0e31\\u0e19\\u0e40\\u0e17\\u0e04\\u0e42\\u0e19\\u0e42\\u0e25\\u0e22\\u0e35\\u0e19\\u0e32\\u0e19\\u0e32\\u0e0a\\u0e32\\u0e15\\u0e34\\u0e2a\\u0e34\\u0e23\\u0e34\\u0e19\\u0e18\\u0e23\",\"\\u0e04\\u0e13\\u0e30\\u0e27\\u0e34\\u0e28\\u0e27\\u0e01\\u0e23\\u0e23\\u0e21\\u0e28\\u0e32\\u0e2a\\u0e15\\u0e23\\u0e4c\",\"\\u0e04\\u0e13\\u0e30\\u0e28\\u0e34\\u0e25\\u0e1b\\u0e28\\u0e32\\u0e2a\\u0e15\\u0e23\\u0e4c\",\"\\u0e04\\u0e13\\u0e30\\u0e2a\\u0e16\\u0e32\\u0e1b\\u0e31\\u0e15\\u0e22\\u0e01\\u0e23\\u0e23\\u0e21\\u0e28\\u0e32\\u0e2a\\u0e15\\u0e23\\u0e4c\\u0e41\\u0e25\\u0e30\\u0e01\\u0e32\\u0e23\\u0e1c\\u0e31\\u0e07\\u0e40\\u0e21\\u0e37\\u0e2d\\u0e07\",\"\\u0e04\\u0e13\\u0e30\\u0e2a\\u0e2b\\u0e40\\u0e27\\u0e0a\\u0e28\\u0e32\\u0e2a\\u0e15\\u0e23\\u0e4c\",\"\\u0e04\\u0e13\\u0e30\\u0e2a\\u0e31\\u0e07\\u0e04\\u0e21\\u0e27\\u0e34\\u0e17\\u0e22\\u0e32\\u0e41\\u0e25\\u0e30\\u0e21\\u0e32\\u0e19\\u0e38\\u0e29\\u0e22\\u0e27\\u0e34\\u0e17\\u0e22\\u0e32\",\"\\u0e04\\u0e13\\u0e30\\u0e2a\\u0e31\\u0e07\\u0e04\\u0e21\\u0e2a\\u0e07\\u0e40\\u0e04\\u0e23\\u0e32\\u0e30\\u0e2b\\u0e4c\\u0e28\\u0e32\\u0e2a\\u0e15\\u0e23\\u0e4c\",\"\\u0e04\\u0e13\\u0e30\\u0e2a\\u0e32\\u0e18\\u0e32\\u0e23\\u0e13\\u0e2a\\u0e38\\u0e02\\u0e28\\u0e32\\u0e2a\\u0e15\\u0e23\\u0e4c\",\"\\u0e04\\u0e13\\u0e30\\u0e40\\u0e20\\u0e2a\\u0e31\\u0e0a\\u0e28\\u0e32\\u0e2a\\u0e15\\u0e23\\u0e4c\",\"\\u0e04\\u0e13\\u0e30\\u0e40\\u0e28\\u0e23\\u0e29\\u0e10\\u0e28\\u0e32\\u0e2a\\u0e15\\u0e23\\u0e4c\",\"\\u0e2a\\u0e16\\u0e32\\u0e1a\\u0e31\\u0e19\\u0e40\\u0e17\\u0e04\\u0e42\\u0e19\\u0e42\\u0e25\\u0e22\\u0e35\\u0e19\\u0e32\\u0e19\\u0e32\\u0e0a\\u0e32\\u0e15\\u0e34\\u0e2a\\u0e34\\u0e23\\u0e34\\u0e19\\u0e18\\u0e23\"],\"legendgroup\":\"\",\"name\":\"\",\"showlegend\":true,\"values\":[1,1,8,4,3,2,50,4,8,2,4,7,3,2,2,2,5,1],\"type\":\"pie\",\"textposition\":\"outside\",\"texttemplate\":\"%{value} \\u003cbr\\u003e(%{percent})\"}],                        {\"template\":{\"data\":{\"histogram2dcontour\":[{\"type\":\"histogram2dcontour\",\"colorbar\":{\"outlinewidth\":0,\"ticks\":\"\"},\"colorscale\":[[0.0,\"#0d0887\"],[0.1111111111111111,\"#46039f\"],[0.2222222222222222,\"#7201a8\"],[0.3333333333333333,\"#9c179e\"],[0.4444444444444444,\"#bd3786\"],[0.5555555555555556,\"#d8576b\"],[0.6666666666666666,\"#ed7953\"],[0.7777777777777778,\"#fb9f3a\"],[0.8888888888888888,\"#fdca26\"],[1.0,\"#f0f921\"]]}],\"choropleth\":[{\"type\":\"choropleth\",\"colorbar\":{\"outlinewidth\":0,\"ticks\":\"\"}}],\"histogram2d\":[{\"type\":\"histogram2d\",\"colorbar\":{\"outlinewidth\":0,\"ticks\":\"\"},\"colorscale\":[[0.0,\"#0d0887\"],[0.1111111111111111,\"#46039f\"],[0.2222222222222222,\"#7201a8\"],[0.3333333333333333,\"#9c179e\"],[0.4444444444444444,\"#bd3786\"],[0.5555555555555556,\"#d8576b\"],[0.6666666666666666,\"#ed7953\"],[0.7777777777777778,\"#fb9f3a\"],[0.8888888888888888,\"#fdca26\"],[1.0,\"#f0f921\"]]}],\"heatmap\":[{\"type\":\"heatmap\",\"colorbar\":{\"outlinewidth\":0,\"ticks\":\"\"},\"colorscale\":[[0.0,\"#0d0887\"],[0.1111111111111111,\"#46039f\"],[0.2222222222222222,\"#7201a8\"],[0.3333333333333333,\"#9c179e\"],[0.4444444444444444,\"#bd3786\"],[0.5555555555555556,\"#d8576b\"],[0.6666666666666666,\"#ed7953\"],[0.7777777777777778,\"#fb9f3a\"],[0.8888888888888888,\"#fdca26\"],[1.0,\"#f0f921\"]]}],\"heatmapgl\":[{\"type\":\"heatmapgl\",\"colorbar\":{\"outlinewidth\":0,\"ticks\":\"\"},\"colorscale\":[[0.0,\"#0d0887\"],[0.1111111111111111,\"#46039f\"],[0.2222222222222222,\"#7201a8\"],[0.3333333333333333,\"#9c179e\"],[0.4444444444444444,\"#bd3786\"],[0.5555555555555556,\"#d8576b\"],[0.6666666666666666,\"#ed7953\"],[0.7777777777777778,\"#fb9f3a\"],[0.8888888888888888,\"#fdca26\"],[1.0,\"#f0f921\"]]}],\"contourcarpet\":[{\"type\":\"contourcarpet\",\"colorbar\":{\"outlinewidth\":0,\"ticks\":\"\"}}],\"contour\":[{\"type\":\"contour\",\"colorbar\":{\"outlinewidth\":0,\"ticks\":\"\"},\"colorscale\":[[0.0,\"#0d0887\"],[0.1111111111111111,\"#46039f\"],[0.2222222222222222,\"#7201a8\"],[0.3333333333333333,\"#9c179e\"],[0.4444444444444444,\"#bd3786\"],[0.5555555555555556,\"#d8576b\"],[0.6666666666666666,\"#ed7953\"],[0.7777777777777778,\"#fb9f3a\"],[0.8888888888888888,\"#fdca26\"],[1.0,\"#f0f921\"]]}],\"surface\":[{\"type\":\"surface\",\"colorbar\":{\"outlinewidth\":0,\"ticks\":\"\"},\"colorscale\":[[0.0,\"#0d0887\"],[0.1111111111111111,\"#46039f\"],[0.2222222222222222,\"#7201a8\"],[0.3333333333333333,\"#9c179e\"],[0.4444444444444444,\"#bd3786\"],[0.5555555555555556,\"#d8576b\"],[0.6666666666666666,\"#ed7953\"],[0.7777777777777778,\"#fb9f3a\"],[0.8888888888888888,\"#fdca26\"],[1.0,\"#f0f921\"]]}],\"mesh3d\":[{\"type\":\"mesh3d\",\"colorbar\":{\"outlinewidth\":0,\"ticks\":\"\"}}],\"scatter\":[{\"fillpattern\":{\"fillmode\":\"overlay\",\"size\":10,\"solidity\":0.2},\"type\":\"scatter\"}],\"parcoords\":[{\"type\":\"parcoords\",\"line\":{\"colorbar\":{\"outlinewidth\":0,\"ticks\":\"\"}}}],\"scatterpolargl\":[{\"type\":\"scatterpolargl\",\"marker\":{\"colorbar\":{\"outlinewidth\":0,\"ticks\":\"\"}}}],\"bar\":[{\"error_x\":{\"color\":\"#2a3f5f\"},\"error_y\":{\"color\":\"#2a3f5f\"},\"marker\":{\"line\":{\"color\":\"#E5ECF6\",\"width\":0.5},\"pattern\":{\"fillmode\":\"overlay\",\"size\":10,\"solidity\":0.2}},\"type\":\"bar\"}],\"scattergeo\":[{\"type\":\"scattergeo\",\"marker\":{\"colorbar\":{\"outlinewidth\":0,\"ticks\":\"\"}}}],\"scatterpolar\":[{\"type\":\"scatterpolar\",\"marker\":{\"colorbar\":{\"outlinewidth\":0,\"ticks\":\"\"}}}],\"histogram\":[{\"marker\":{\"pattern\":{\"fillmode\":\"overlay\",\"size\":10,\"solidity\":0.2}},\"type\":\"histogram\"}],\"scattergl\":[{\"type\":\"scattergl\",\"marker\":{\"colorbar\":{\"outlinewidth\":0,\"ticks\":\"\"}}}],\"scatter3d\":[{\"type\":\"scatter3d\",\"line\":{\"colorbar\":{\"outlinewidth\":0,\"ticks\":\"\"}},\"marker\":{\"colorbar\":{\"outlinewidth\":0,\"ticks\":\"\"}}}],\"scattermapbox\":[{\"type\":\"scattermapbox\",\"marker\":{\"colorbar\":{\"outlinewidth\":0,\"ticks\":\"\"}}}],\"scatterternary\":[{\"type\":\"scatterternary\",\"marker\":{\"colorbar\":{\"outlinewidth\":0,\"ticks\":\"\"}}}],\"scattercarpet\":[{\"type\":\"scattercarpet\",\"marker\":{\"colorbar\":{\"outlinewidth\":0,\"ticks\":\"\"}}}],\"carpet\":[{\"aaxis\":{\"endlinecolor\":\"#2a3f5f\",\"gridcolor\":\"white\",\"linecolor\":\"white\",\"minorgridcolor\":\"white\",\"startlinecolor\":\"#2a3f5f\"},\"baxis\":{\"endlinecolor\":\"#2a3f5f\",\"gridcolor\":\"white\",\"linecolor\":\"white\",\"minorgridcolor\":\"white\",\"startlinecolor\":\"#2a3f5f\"},\"type\":\"carpet\"}],\"table\":[{\"cells\":{\"fill\":{\"color\":\"#EBF0F8\"},\"line\":{\"color\":\"white\"}},\"header\":{\"fill\":{\"color\":\"#C8D4E3\"},\"line\":{\"color\":\"white\"}},\"type\":\"table\"}],\"barpolar\":[{\"marker\":{\"line\":{\"color\":\"#E5ECF6\",\"width\":0.5},\"pattern\":{\"fillmode\":\"overlay\",\"size\":10,\"solidity\":0.2}},\"type\":\"barpolar\"}],\"pie\":[{\"automargin\":true,\"type\":\"pie\"}]},\"layout\":{\"autotypenumbers\":\"strict\",\"colorway\":[\"#636efa\",\"#EF553B\",\"#00cc96\",\"#ab63fa\",\"#FFA15A\",\"#19d3f3\",\"#FF6692\",\"#B6E880\",\"#FF97FF\",\"#FECB52\"],\"font\":{\"color\":\"#2a3f5f\"},\"hovermode\":\"closest\",\"hoverlabel\":{\"align\":\"left\"},\"paper_bgcolor\":\"white\",\"plot_bgcolor\":\"#E5ECF6\",\"polar\":{\"bgcolor\":\"#E5ECF6\",\"angularaxis\":{\"gridcolor\":\"white\",\"linecolor\":\"white\",\"ticks\":\"\"},\"radialaxis\":{\"gridcolor\":\"white\",\"linecolor\":\"white\",\"ticks\":\"\"}},\"ternary\":{\"bgcolor\":\"#E5ECF6\",\"aaxis\":{\"gridcolor\":\"white\",\"linecolor\":\"white\",\"ticks\":\"\"},\"baxis\":{\"gridcolor\":\"white\",\"linecolor\":\"white\",\"ticks\":\"\"},\"caxis\":{\"gridcolor\":\"white\",\"linecolor\":\"white\",\"ticks\":\"\"}},\"coloraxis\":{\"colorbar\":{\"outlinewidth\":0,\"ticks\":\"\"}},\"colorscale\":{\"sequential\":[[0.0,\"#0d0887\"],[0.1111111111111111,\"#46039f\"],[0.2222222222222222,\"#7201a8\"],[0.3333333333333333,\"#9c179e\"],[0.4444444444444444,\"#bd3786\"],[0.5555555555555556,\"#d8576b\"],[0.6666666666666666,\"#ed7953\"],[0.7777777777777778,\"#fb9f3a\"],[0.8888888888888888,\"#fdca26\"],[1.0,\"#f0f921\"]],\"sequentialminus\":[[0.0,\"#0d0887\"],[0.1111111111111111,\"#46039f\"],[0.2222222222222222,\"#7201a8\"],[0.3333333333333333,\"#9c179e\"],[0.4444444444444444,\"#bd3786\"],[0.5555555555555556,\"#d8576b\"],[0.6666666666666666,\"#ed7953\"],[0.7777777777777778,\"#fb9f3a\"],[0.8888888888888888,\"#fdca26\"],[1.0,\"#f0f921\"]],\"diverging\":[[0,\"#8e0152\"],[0.1,\"#c51b7d\"],[0.2,\"#de77ae\"],[0.3,\"#f1b6da\"],[0.4,\"#fde0ef\"],[0.5,\"#f7f7f7\"],[0.6,\"#e6f5d0\"],[0.7,\"#b8e186\"],[0.8,\"#7fbc41\"],[0.9,\"#4d9221\"],[1,\"#276419\"]]},\"xaxis\":{\"gridcolor\":\"white\",\"linecolor\":\"white\",\"ticks\":\"\",\"title\":{\"standoff\":15},\"zerolinecolor\":\"white\",\"automargin\":true,\"zerolinewidth\":2},\"yaxis\":{\"gridcolor\":\"white\",\"linecolor\":\"white\",\"ticks\":\"\",\"title\":{\"standoff\":15},\"zerolinecolor\":\"white\",\"automargin\":true,\"zerolinewidth\":2},\"scene\":{\"xaxis\":{\"backgroundcolor\":\"#E5ECF6\",\"gridcolor\":\"white\",\"linecolor\":\"white\",\"showbackground\":true,\"ticks\":\"\",\"zerolinecolor\":\"white\",\"gridwidth\":2},\"yaxis\":{\"backgroundcolor\":\"#E5ECF6\",\"gridcolor\":\"white\",\"linecolor\":\"white\",\"showbackground\":true,\"ticks\":\"\",\"zerolinecolor\":\"white\",\"gridwidth\":2},\"zaxis\":{\"backgroundcolor\":\"#E5ECF6\",\"gridcolor\":\"white\",\"linecolor\":\"white\",\"showbackground\":true,\"ticks\":\"\",\"zerolinecolor\":\"white\",\"gridwidth\":2}},\"shapedefaults\":{\"line\":{\"color\":\"#2a3f5f\"}},\"annotationdefaults\":{\"arrowcolor\":\"#2a3f5f\",\"arrowhead\":0,\"arrowwidth\":1},\"geo\":{\"bgcolor\":\"white\",\"landcolor\":\"#E5ECF6\",\"subunitcolor\":\"white\",\"showland\":true,\"showlakes\":true,\"lakecolor\":\"white\"},\"title\":{\"x\":0.05},\"mapbox\":{\"style\":\"light\"}}},\"legend\":{\"tracegroupgap\":0,\"title\":{\"text\":\"\\u0e04\\u0e13\\u0e30\"},\"yanchor\":\"bottom\",\"y\":0.001},\"margin\":{\"t\":60},\"piecolorway\":[\"rgb(141,211,199)\",\"rgb(255,255,179)\",\"rgb(190,186,218)\",\"rgb(251,128,114)\",\"rgb(128,177,211)\",\"rgb(253,180,98)\",\"rgb(179,222,105)\",\"rgb(252,205,229)\",\"rgb(217,217,217)\",\"rgb(188,128,189)\",\"rgb(204,235,197)\",\"rgb(255,237,111)\"],\"title\":{\"font\":{\"family\":\"TH Sarabun New\"},\"text\":\"\\u0e08\\u0e33\\u0e19\\u0e27\\u0e19\\u0e19\\u0e31\\u0e01\\u0e28\\u0e36\\u0e01\\u0e29\\u0e32\\u0e43\\u0e19\\u0e21\\u0e2b\\u0e32\\u0e25\\u0e31\\u0e22\\u0e41\\u0e1a\\u0e48\\u0e07\\u0e15\\u0e32\\u0e21\\u0e04\\u0e13\\u0e30\\u0e17\\u0e35\\u0e48\\u0e28\\u0e36\\u0e01\\u0e29\\u0e32\",\"x\":0.5,\"y\":0.85},\"font\":{\"family\":\"TH Sarabun New\"},\"height\":1100,\"width\":1000},                        {\"responsive\": true}                    ).then(function(){\n",
              "                            \n",
              "var gd = document.getElementById('2d72f52f-125c-4e2d-93bb-9d7d65a3176c');\n",
              "var x = new MutationObserver(function (mutations, observer) {{\n",
              "        var display = window.getComputedStyle(gd).display;\n",
              "        if (!display || display === 'none') {{\n",
              "            console.log([gd, 'removed!']);\n",
              "            Plotly.purge(gd);\n",
              "            observer.disconnect();\n",
              "        }}\n",
              "}});\n",
              "\n",
              "// Listen for the removal of the full notebook cells\n",
              "var notebookContainer = gd.closest('#notebook-container');\n",
              "if (notebookContainer) {{\n",
              "    x.observe(notebookContainer, {childList: true});\n",
              "}}\n",
              "\n",
              "// Listen for the clearing of the current output cell\n",
              "var outputEl = gd.closest('.output');\n",
              "if (outputEl) {{\n",
              "    x.observe(outputEl, {childList: true});\n",
              "}}\n",
              "\n",
              "                        })                };                            </script>        </div>\n",
              "</body>\n",
              "</html>"
            ]
          },
          "metadata": {},
          "output_type": "display_data"
        }
      ],
      "source": [
        "faculty = data.groupby('คณะ')\n",
        "faculty = faculty.size()\n",
        "print(faculty)\n",
        "\n",
        "fig = px.pie(values=faculty.values, names=faculty.index,\n",
        "             color_discrete_sequence=px.colors.qualitative.Set3)\n",
        "fig.update_traces(texttemplate = \"%{value} <br>(%{percent})\",\n",
        "                 textposition = \"outside\")\n",
        "fig.update_layout(\n",
        "    title={\n",
        "        'text': \"จำนวนนักศึกษาในมหาลัยแบ่งตามคณะที่ศึกษา\",\n",
        "        'x': 0.5, 'y': 0.85\n",
        "    },\n",
        "    font_family=\"TH Sarabun New\",\n",
        "    title_font_family='TH Sarabun New',\n",
        "    height=1100, width=1000,legend=dict(\n",
        "        title=\"คณะ\",\n",
        "        yanchor=\"bottom\",\n",
        "        y=0.001\n",
        "    )\n",
        " )\n",
        "fig.show()"
      ]
    },
    {
      "cell_type": "markdown",
      "metadata": {
        "id": "VeS4LCWYbJfO"
      },
      "source": [
        "**สาขาวิชา**"
      ]
    },
    {
      "cell_type": "code",
      "execution_count": null,
      "metadata": {
        "colab": {
          "base_uri": "https://localhost:8080/",
          "height": 1000
        },
        "id": "iwWJb06rbMca",
        "outputId": "37888006-681a-4ec2-a1e6-755fc340ed1d"
      },
      "outputs": [
        {
          "name": "stdout",
          "output_type": "stream",
          "text": [
            "สาขาวิชา (ถ้าไม่มีทำเครื่องหมาย -)\n",
            "-                                  25\n",
            "Comsci                              1\n",
            "Cpe                                 1\n",
            "EBM                                 1\n",
            "Food innovation                     1\n",
            "IHP                                 1\n",
            "UP                                  1\n",
            "การจัดการกีฬา                       2\n",
            "การจัดการทางวิศวกรรม                1\n",
            "การตลาด                             1\n",
            "การผังเมือง                         1\n",
            "การฝึกสอน                           2\n",
            "การฝึกสอนกีฬา                       2\n",
            "การเงิน                             2\n",
            "การเมืองการปกครอง                   1\n",
            "คณิตศาสตร์                          1\n",
            "คณิตศาสตร์การเงิน                   1\n",
            "คณิตศาสตร์ประยุกต์                  2\n",
            "คณิตศาสตร์และสถิติ                  2\n",
            "คอม                                 1\n",
            "คอมพิวเตอร์                         1\n",
            "ซอฟแวร์                             1\n",
            "นวัตกรรมการพัฒนาอสังหาริมทรัพย์     1\n",
            "บริหารรัฐกิจ                        1\n",
            "ผังเมือง                            1\n",
            "ฟิสิกอิเล็ก                         1\n",
            "ภาษาญี่ปุ่น                         1\n",
            "ภาษาอังกฤษ                          1\n",
            "วัศดุศาสตร์                         1\n",
            "วัสดุศาสตร์                         1\n",
            "วิจัยทางสังคม                       1\n",
            "วิจัยสังคม                          1\n",
            "วิทยาการคอมพิวเตอร์                 9\n",
            "วิทยุโทรทัศน์                       1\n",
            "วิทย์คอม                            1\n",
            "วิศวกรรมคอมพิวเตอร์                 1\n",
            "สถิติ                              24\n",
            "สถิติ ภาคปกติ                       1\n",
            "สถิติประยุกต์                       1\n",
            "สถิติประยุกต์ ภาคพิเศษ              1\n",
            "อาชีวอนามัยและความปลอดภัย           1\n",
            "เคมี                                1\n",
            "เครื่องกล                           2\n",
            "เทคโนโลยีสารสนเทศ                   1\n",
            "เทคโนโลยีสิ่งทอ                     1\n",
            "เทคโนโลยีอาหาร                      1\n",
            "่้่-                                1\n",
            "dtype: int64\n"
          ]
        },
        {
          "data": {
            "text/html": [
              "<html>\n",
              "<head><meta charset=\"utf-8\" /></head>\n",
              "<body>\n",
              "    <div>            <script src=\"https://cdnjs.cloudflare.com/ajax/libs/mathjax/2.7.5/MathJax.js?config=TeX-AMS-MML_SVG\"></script><script type=\"text/javascript\">if (window.MathJax && window.MathJax.Hub && window.MathJax.Hub.Config) {window.MathJax.Hub.Config({SVG: {font: \"STIX-Web\"}});}</script>                <script type=\"text/javascript\">window.PlotlyConfig = {MathJaxConfig: 'local'};</script>\n",
              "        <script charset=\"utf-8\" src=\"https://cdn.plot.ly/plotly-2.24.1.min.js\"></script>                <div id=\"c5ae5afc-7cec-4c5f-a8c9-cfc90eb8116e\" class=\"plotly-graph-div\" style=\"height:600px; width:900px;\"></div>            <script type=\"text/javascript\">                                    window.PLOTLYENV=window.PLOTLYENV || {};                                    if (document.getElementById(\"c5ae5afc-7cec-4c5f-a8c9-cfc90eb8116e\")) {                    Plotly.newPlot(                        \"c5ae5afc-7cec-4c5f-a8c9-cfc90eb8116e\",                        [{\"alignmentgroup\":\"True\",\"hovertemplate\":\"\\u0e2a\\u0e32\\u0e02\\u0e32=%{x}\\u003cbr\\u003e\\u0e08\\u0e33\\u0e19\\u0e27\\u0e19\\u0e19\\u0e31\\u0e01\\u0e28\\u0e36\\u0e01\\u0e29\\u0e32=%{y}\\u003cbr\\u003ecolor=%{marker.color}\\u003cextra\\u003e\\u003c\\u002fextra\\u003e\",\"legendgroup\":\"\",\"marker\":{\"color\":[25,24,9,2,2,2,2,2,2,2,1,1,1,1,1,1,1,1,1,1,1,1,1,1,1,1,1,1,1,1,1,1,1,1,1,1,1,1,1,1,1,1,1,1,1,1],\"coloraxis\":\"coloraxis\",\"pattern\":{\"shape\":\"\"}},\"name\":\"\",\"offsetgroup\":\"\",\"orientation\":\"v\",\"showlegend\":false,\"textposition\":\"outside\",\"x\":[\"-\",\"\\u0e2a\\u0e16\\u0e34\\u0e15\\u0e34\",\"\\u0e27\\u0e34\\u0e17\\u0e22\\u0e32\\u0e01\\u0e32\\u0e23\\u0e04\\u0e2d\\u0e21\\u0e1e\\u0e34\\u0e27\\u0e40\\u0e15\\u0e2d\\u0e23\\u0e4c\",\"\\u0e04\\u0e13\\u0e34\\u0e15\\u0e28\\u0e32\\u0e2a\\u0e15\\u0e23\\u0e4c\\u0e41\\u0e25\\u0e30\\u0e2a\\u0e16\\u0e34\\u0e15\\u0e34\",\"\\u0e40\\u0e04\\u0e23\\u0e37\\u0e48\\u0e2d\\u0e07\\u0e01\\u0e25\",\"\\u0e01\\u0e32\\u0e23\\u0e1d\\u0e36\\u0e01\\u0e2a\\u0e2d\\u0e19\",\"\\u0e01\\u0e32\\u0e23\\u0e1d\\u0e36\\u0e01\\u0e2a\\u0e2d\\u0e19\\u0e01\\u0e35\\u0e2c\\u0e32\",\"\\u0e04\\u0e13\\u0e34\\u0e15\\u0e28\\u0e32\\u0e2a\\u0e15\\u0e23\\u0e4c\\u0e1b\\u0e23\\u0e30\\u0e22\\u0e38\\u0e01\\u0e15\\u0e4c\",\"\\u0e01\\u0e32\\u0e23\\u0e40\\u0e07\\u0e34\\u0e19\",\"\\u0e01\\u0e32\\u0e23\\u0e08\\u0e31\\u0e14\\u0e01\\u0e32\\u0e23\\u0e01\\u0e35\\u0e2c\\u0e32\",\"\\u0e2d\\u0e32\\u0e0a\\u0e35\\u0e27\\u0e2d\\u0e19\\u0e32\\u0e21\\u0e31\\u0e22\\u0e41\\u0e25\\u0e30\\u0e04\\u0e27\\u0e32\\u0e21\\u0e1b\\u0e25\\u0e2d\\u0e14\\u0e20\\u0e31\\u0e22\",\"\\u0e27\\u0e34\\u0e28\\u0e27\\u0e01\\u0e23\\u0e23\\u0e21\\u0e04\\u0e2d\\u0e21\\u0e1e\\u0e34\\u0e27\\u0e40\\u0e15\\u0e2d\\u0e23\\u0e4c\",\"\\u0e04\\u0e13\\u0e34\\u0e15\\u0e28\\u0e32\\u0e2a\\u0e15\\u0e23\\u0e4c\",\"\\u0e01\\u0e32\\u0e23\\u0e2a\\u0e48\\u0e07\\u0e40\\u0e2a\\u0e23\\u0e34\\u0e21\\u0e2a\\u0e38\\u0e02\\u0e20\\u0e32\\u0e1e\",\"\\u0e2a\\u0e16\\u0e34\\u0e15\\u0e34\\u0e1b\\u0e23\\u0e30\\u0e22\\u0e38\\u0e01\\u0e15\\u0e4c\",\"\\u0e1c\\u0e31\\u0e07\\u0e40\\u0e21\\u0e37\\u0e2d\\u0e07\",\"\\u0e20\\u0e32\\u0e29\\u0e32\\u0e0d\\u0e35\\u0e48\\u0e1b\\u0e38\\u0e48\\u0e19\",\"\\u0e2a\\u0e16\\u0e34\\u0e15\\u0e34\\u0e1b\\u0e23\\u0e30\\u0e22\\u0e38\\u0e01\\u0e15\\u0e4c \\u0e20\\u0e32\\u0e04\\u0e1e\\u0e34\\u0e40\\u0e28\\u0e29\",\"\\u0e27\\u0e34\\u0e08\\u0e31\\u0e22\\u0e17\\u0e32\\u0e07\\u0e2a\\u0e31\\u0e07\\u0e04\\u0e21\",\"\\u0e01\\u0e32\\u0e23\\u0e1c\\u0e31\\u0e07\\u0e40\\u0e21\\u0e37\\u0e2d\\u0e07\",\"\\u0e0b\\u0e2d\\u0e1f\\u0e41\\u0e27\\u0e23\\u0e4c\",\"\\u0e01\\u0e32\\u0e23\\u0e08\\u0e31\\u0e14\\u0e01\\u0e32\\u0e23\\u0e17\\u0e32\\u0e07\\u0e27\\u0e34\\u0e28\\u0e27\\u0e01\\u0e23\\u0e23\\u0e21\",\"Comsci\",\"\\u0e27\\u0e34\\u0e17\\u0e22\\u0e38\\u0e42\\u0e17\\u0e23\\u0e17\\u0e31\\u0e28\\u0e19\\u0e4c\",\"\\u0e2a\\u0e16\\u0e34\\u0e15\\u0e34 \\u0e20\\u0e32\\u0e04\\u0e1b\\u0e01\\u0e15\\u0e34\",\"\\u0e19\\u0e27\\u0e31\\u0e15\\u0e01\\u0e23\\u0e23\\u0e21\\u0e01\\u0e32\\u0e23\\u0e1e\\u0e31\\u0e12\\u0e19\\u0e32\\u0e2d\\u0e2a\\u0e31\\u0e07\\u0e2b\\u0e32\\u0e23\\u0e34\\u0e21\\u0e17\\u0e23\\u0e31\\u0e1e\\u0e22\\u0e4c\",\"\\u0e48\\u0e49\\u0e48-\",\"\\u0e20\\u0e32\\u0e29\\u0e32\\u0e2d\\u0e31\\u0e07\\u0e01\\u0e24\\u0e29\",\"\\u0e04\\u0e2d\\u0e21\\u0e1e\\u0e34\\u0e27\\u0e40\\u0e15\\u0e2d\\u0e23\\u0e4c\",\"\\u0e27\\u0e34\\u0e08\\u0e31\\u0e22\\u0e2a\\u0e31\\u0e07\\u0e04\\u0e21\",\"\\u0e40\\u0e17\\u0e04\\u0e42\\u0e19\\u0e42\\u0e25\\u0e22\\u0e35\\u0e2a\\u0e34\\u0e48\\u0e07\\u0e17\\u0e2d\",\"\\u0e1f\\u0e34\\u0e2a\\u0e34\\u0e01\\u0e2d\\u0e34\\u0e40\\u0e25\\u0e47\\u0e01\",\"\\u0e04\\u0e2d\\u0e21\",\"\\u0e04\\u0e13\\u0e34\\u0e15\\u0e28\\u0e32\\u0e2a\\u0e15\\u0e23\\u0e4c\\u0e01\\u0e32\\u0e23\\u0e40\\u0e07\\u0e34\\u0e19\",\"\\u0e01\\u0e32\\u0e23\\u0e40\\u0e21\\u0e37\\u0e2d\\u0e07\\u0e01\\u0e32\\u0e23\\u0e1b\\u0e01\\u0e04\\u0e23\\u0e2d\\u0e07\",\"\\u0e27\\u0e31\\u0e28\\u0e14\\u0e38\\u0e28\\u0e32\\u0e2a\\u0e15\\u0e23\\u0e4c\",\"\\u0e01\\u0e32\\u0e23\\u0e15\\u0e25\\u0e32\\u0e14\",\"\\u0e1a\\u0e23\\u0e34\\u0e2b\\u0e32\\u0e23\\u0e23\\u0e31\\u0e10\\u0e01\\u0e34\\u0e08\",\"\\u0e40\\u0e04\\u0e21\\u0e35\",\"\\u0e27\\u0e34\\u0e17\\u0e22\\u0e4c\\u0e04\\u0e2d\\u0e21\",\"\\u0e40\\u0e17\\u0e04\\u0e42\\u0e19\\u0e42\\u0e25\\u0e22\\u0e35\\u0e2d\\u0e32\\u0e2b\\u0e32\\u0e23\",\"\\u0e27\\u0e31\\u0e2a\\u0e14\\u0e38\\u0e28\\u0e32\\u0e2a\\u0e15\\u0e23\\u0e4c\",\"\\u0e19\\u0e27\\u0e15\\u0e01\\u0e23\\u0e23\\u0e21\\u0e2d\\u0e32\\u0e2b\\u0e32\\u0e23\",\"\\u0e40\\u0e17\\u0e04\\u0e42\\u0e19\\u0e42\\u0e25\\u0e22\\u0e35\\u0e2a\\u0e32\\u0e23\\u0e2a\\u0e19\\u0e40\\u0e17\\u0e28\",\"\\u0e27\\u0e34\\u0e0a\\u0e32\\u0e27\\u0e34\\u0e28\\u0e27\\u0e01\\u0e23\\u0e23\\u0e21\\u0e42\\u0e22\\u0e18\\u0e32\\u0e41\\u0e25\\u0e30\\u0e01\\u0e32\\u0e23\\u0e1a\\u0e23\\u0e34\\u0e2b\\u0e32\\u0e23\\u0e01\\u0e32\\u0e23\\u0e01\\u0e48\\u0e2d\\u0e2a\\u0e23\\u0e49\\u0e32\\u0e07\",\"\\u0e27\\u0e34\\u0e28\\u0e27\\u0e01\\u0e23\\u0e23\\u0e21\\u0e04\\u0e2d\\u0e21\\u0e1e\\u0e34\\u0e27\\u0e40\\u0e15\\u0e2d\\u0e23\\u0e4c \"],\"xaxis\":\"x\",\"y\":[25,24,9,2,2,2,2,2,2,2,1,1,1,1,1,1,1,1,1,1,1,1,1,1,1,1,1,1,1,1,1,1,1,1,1,1,1,1,1,1,1,1,1,1,1,1],\"yaxis\":\"y\",\"type\":\"bar\",\"text\":[\"25\",\"24\",\"9\",\"2\",\"2\",\"2\",\"2\",\"2\",\"2\",\"2\",\"1\",\"1\",\"1\",\"1\",\"1\",\"1\",\"1\",\"1\",\"1\",\"1\",\"1\",\"1\",\"1\",\"1\",\"1\",\"1\",\"1\",\"1\",\"1\",\"1\",\"1\",\"1\",\"1\",\"1\",\"1\",\"1\",\"1\",\"1\",\"1\",\"1\",\"1\",\"1\",\"1\",\"1\",\"1\",\"1\"]}],                        {\"template\":{\"data\":{\"histogram2dcontour\":[{\"type\":\"histogram2dcontour\",\"colorbar\":{\"outlinewidth\":0,\"ticks\":\"\"},\"colorscale\":[[0.0,\"#0d0887\"],[0.1111111111111111,\"#46039f\"],[0.2222222222222222,\"#7201a8\"],[0.3333333333333333,\"#9c179e\"],[0.4444444444444444,\"#bd3786\"],[0.5555555555555556,\"#d8576b\"],[0.6666666666666666,\"#ed7953\"],[0.7777777777777778,\"#fb9f3a\"],[0.8888888888888888,\"#fdca26\"],[1.0,\"#f0f921\"]]}],\"choropleth\":[{\"type\":\"choropleth\",\"colorbar\":{\"outlinewidth\":0,\"ticks\":\"\"}}],\"histogram2d\":[{\"type\":\"histogram2d\",\"colorbar\":{\"outlinewidth\":0,\"ticks\":\"\"},\"colorscale\":[[0.0,\"#0d0887\"],[0.1111111111111111,\"#46039f\"],[0.2222222222222222,\"#7201a8\"],[0.3333333333333333,\"#9c179e\"],[0.4444444444444444,\"#bd3786\"],[0.5555555555555556,\"#d8576b\"],[0.6666666666666666,\"#ed7953\"],[0.7777777777777778,\"#fb9f3a\"],[0.8888888888888888,\"#fdca26\"],[1.0,\"#f0f921\"]]}],\"heatmap\":[{\"type\":\"heatmap\",\"colorbar\":{\"outlinewidth\":0,\"ticks\":\"\"},\"colorscale\":[[0.0,\"#0d0887\"],[0.1111111111111111,\"#46039f\"],[0.2222222222222222,\"#7201a8\"],[0.3333333333333333,\"#9c179e\"],[0.4444444444444444,\"#bd3786\"],[0.5555555555555556,\"#d8576b\"],[0.6666666666666666,\"#ed7953\"],[0.7777777777777778,\"#fb9f3a\"],[0.8888888888888888,\"#fdca26\"],[1.0,\"#f0f921\"]]}],\"heatmapgl\":[{\"type\":\"heatmapgl\",\"colorbar\":{\"outlinewidth\":0,\"ticks\":\"\"},\"colorscale\":[[0.0,\"#0d0887\"],[0.1111111111111111,\"#46039f\"],[0.2222222222222222,\"#7201a8\"],[0.3333333333333333,\"#9c179e\"],[0.4444444444444444,\"#bd3786\"],[0.5555555555555556,\"#d8576b\"],[0.6666666666666666,\"#ed7953\"],[0.7777777777777778,\"#fb9f3a\"],[0.8888888888888888,\"#fdca26\"],[1.0,\"#f0f921\"]]}],\"contourcarpet\":[{\"type\":\"contourcarpet\",\"colorbar\":{\"outlinewidth\":0,\"ticks\":\"\"}}],\"contour\":[{\"type\":\"contour\",\"colorbar\":{\"outlinewidth\":0,\"ticks\":\"\"},\"colorscale\":[[0.0,\"#0d0887\"],[0.1111111111111111,\"#46039f\"],[0.2222222222222222,\"#7201a8\"],[0.3333333333333333,\"#9c179e\"],[0.4444444444444444,\"#bd3786\"],[0.5555555555555556,\"#d8576b\"],[0.6666666666666666,\"#ed7953\"],[0.7777777777777778,\"#fb9f3a\"],[0.8888888888888888,\"#fdca26\"],[1.0,\"#f0f921\"]]}],\"surface\":[{\"type\":\"surface\",\"colorbar\":{\"outlinewidth\":0,\"ticks\":\"\"},\"colorscale\":[[0.0,\"#0d0887\"],[0.1111111111111111,\"#46039f\"],[0.2222222222222222,\"#7201a8\"],[0.3333333333333333,\"#9c179e\"],[0.4444444444444444,\"#bd3786\"],[0.5555555555555556,\"#d8576b\"],[0.6666666666666666,\"#ed7953\"],[0.7777777777777778,\"#fb9f3a\"],[0.8888888888888888,\"#fdca26\"],[1.0,\"#f0f921\"]]}],\"mesh3d\":[{\"type\":\"mesh3d\",\"colorbar\":{\"outlinewidth\":0,\"ticks\":\"\"}}],\"scatter\":[{\"fillpattern\":{\"fillmode\":\"overlay\",\"size\":10,\"solidity\":0.2},\"type\":\"scatter\"}],\"parcoords\":[{\"type\":\"parcoords\",\"line\":{\"colorbar\":{\"outlinewidth\":0,\"ticks\":\"\"}}}],\"scatterpolargl\":[{\"type\":\"scatterpolargl\",\"marker\":{\"colorbar\":{\"outlinewidth\":0,\"ticks\":\"\"}}}],\"bar\":[{\"error_x\":{\"color\":\"#2a3f5f\"},\"error_y\":{\"color\":\"#2a3f5f\"},\"marker\":{\"line\":{\"color\":\"#E5ECF6\",\"width\":0.5},\"pattern\":{\"fillmode\":\"overlay\",\"size\":10,\"solidity\":0.2}},\"type\":\"bar\"}],\"scattergeo\":[{\"type\":\"scattergeo\",\"marker\":{\"colorbar\":{\"outlinewidth\":0,\"ticks\":\"\"}}}],\"scatterpolar\":[{\"type\":\"scatterpolar\",\"marker\":{\"colorbar\":{\"outlinewidth\":0,\"ticks\":\"\"}}}],\"histogram\":[{\"marker\":{\"pattern\":{\"fillmode\":\"overlay\",\"size\":10,\"solidity\":0.2}},\"type\":\"histogram\"}],\"scattergl\":[{\"type\":\"scattergl\",\"marker\":{\"colorbar\":{\"outlinewidth\":0,\"ticks\":\"\"}}}],\"scatter3d\":[{\"type\":\"scatter3d\",\"line\":{\"colorbar\":{\"outlinewidth\":0,\"ticks\":\"\"}},\"marker\":{\"colorbar\":{\"outlinewidth\":0,\"ticks\":\"\"}}}],\"scattermapbox\":[{\"type\":\"scattermapbox\",\"marker\":{\"colorbar\":{\"outlinewidth\":0,\"ticks\":\"\"}}}],\"scatterternary\":[{\"type\":\"scatterternary\",\"marker\":{\"colorbar\":{\"outlinewidth\":0,\"ticks\":\"\"}}}],\"scattercarpet\":[{\"type\":\"scattercarpet\",\"marker\":{\"colorbar\":{\"outlinewidth\":0,\"ticks\":\"\"}}}],\"carpet\":[{\"aaxis\":{\"endlinecolor\":\"#2a3f5f\",\"gridcolor\":\"white\",\"linecolor\":\"white\",\"minorgridcolor\":\"white\",\"startlinecolor\":\"#2a3f5f\"},\"baxis\":{\"endlinecolor\":\"#2a3f5f\",\"gridcolor\":\"white\",\"linecolor\":\"white\",\"minorgridcolor\":\"white\",\"startlinecolor\":\"#2a3f5f\"},\"type\":\"carpet\"}],\"table\":[{\"cells\":{\"fill\":{\"color\":\"#EBF0F8\"},\"line\":{\"color\":\"white\"}},\"header\":{\"fill\":{\"color\":\"#C8D4E3\"},\"line\":{\"color\":\"white\"}},\"type\":\"table\"}],\"barpolar\":[{\"marker\":{\"line\":{\"color\":\"#E5ECF6\",\"width\":0.5},\"pattern\":{\"fillmode\":\"overlay\",\"size\":10,\"solidity\":0.2}},\"type\":\"barpolar\"}],\"pie\":[{\"automargin\":true,\"type\":\"pie\"}]},\"layout\":{\"autotypenumbers\":\"strict\",\"colorway\":[\"#636efa\",\"#EF553B\",\"#00cc96\",\"#ab63fa\",\"#FFA15A\",\"#19d3f3\",\"#FF6692\",\"#B6E880\",\"#FF97FF\",\"#FECB52\"],\"font\":{\"color\":\"#2a3f5f\"},\"hovermode\":\"closest\",\"hoverlabel\":{\"align\":\"left\"},\"paper_bgcolor\":\"white\",\"plot_bgcolor\":\"#E5ECF6\",\"polar\":{\"bgcolor\":\"#E5ECF6\",\"angularaxis\":{\"gridcolor\":\"white\",\"linecolor\":\"white\",\"ticks\":\"\"},\"radialaxis\":{\"gridcolor\":\"white\",\"linecolor\":\"white\",\"ticks\":\"\"}},\"ternary\":{\"bgcolor\":\"#E5ECF6\",\"aaxis\":{\"gridcolor\":\"white\",\"linecolor\":\"white\",\"ticks\":\"\"},\"baxis\":{\"gridcolor\":\"white\",\"linecolor\":\"white\",\"ticks\":\"\"},\"caxis\":{\"gridcolor\":\"white\",\"linecolor\":\"white\",\"ticks\":\"\"}},\"coloraxis\":{\"colorbar\":{\"outlinewidth\":0,\"ticks\":\"\"}},\"colorscale\":{\"sequential\":[[0.0,\"#0d0887\"],[0.1111111111111111,\"#46039f\"],[0.2222222222222222,\"#7201a8\"],[0.3333333333333333,\"#9c179e\"],[0.4444444444444444,\"#bd3786\"],[0.5555555555555556,\"#d8576b\"],[0.6666666666666666,\"#ed7953\"],[0.7777777777777778,\"#fb9f3a\"],[0.8888888888888888,\"#fdca26\"],[1.0,\"#f0f921\"]],\"sequentialminus\":[[0.0,\"#0d0887\"],[0.1111111111111111,\"#46039f\"],[0.2222222222222222,\"#7201a8\"],[0.3333333333333333,\"#9c179e\"],[0.4444444444444444,\"#bd3786\"],[0.5555555555555556,\"#d8576b\"],[0.6666666666666666,\"#ed7953\"],[0.7777777777777778,\"#fb9f3a\"],[0.8888888888888888,\"#fdca26\"],[1.0,\"#f0f921\"]],\"diverging\":[[0,\"#8e0152\"],[0.1,\"#c51b7d\"],[0.2,\"#de77ae\"],[0.3,\"#f1b6da\"],[0.4,\"#fde0ef\"],[0.5,\"#f7f7f7\"],[0.6,\"#e6f5d0\"],[0.7,\"#b8e186\"],[0.8,\"#7fbc41\"],[0.9,\"#4d9221\"],[1,\"#276419\"]]},\"xaxis\":{\"gridcolor\":\"white\",\"linecolor\":\"white\",\"ticks\":\"\",\"title\":{\"standoff\":15},\"zerolinecolor\":\"white\",\"automargin\":true,\"zerolinewidth\":2},\"yaxis\":{\"gridcolor\":\"white\",\"linecolor\":\"white\",\"ticks\":\"\",\"title\":{\"standoff\":15},\"zerolinecolor\":\"white\",\"automargin\":true,\"zerolinewidth\":2},\"scene\":{\"xaxis\":{\"backgroundcolor\":\"#E5ECF6\",\"gridcolor\":\"white\",\"linecolor\":\"white\",\"showbackground\":true,\"ticks\":\"\",\"zerolinecolor\":\"white\",\"gridwidth\":2},\"yaxis\":{\"backgroundcolor\":\"#E5ECF6\",\"gridcolor\":\"white\",\"linecolor\":\"white\",\"showbackground\":true,\"ticks\":\"\",\"zerolinecolor\":\"white\",\"gridwidth\":2},\"zaxis\":{\"backgroundcolor\":\"#E5ECF6\",\"gridcolor\":\"white\",\"linecolor\":\"white\",\"showbackground\":true,\"ticks\":\"\",\"zerolinecolor\":\"white\",\"gridwidth\":2}},\"shapedefaults\":{\"line\":{\"color\":\"#2a3f5f\"}},\"annotationdefaults\":{\"arrowcolor\":\"#2a3f5f\",\"arrowhead\":0,\"arrowwidth\":1},\"geo\":{\"bgcolor\":\"white\",\"landcolor\":\"#E5ECF6\",\"subunitcolor\":\"white\",\"showland\":true,\"showlakes\":true,\"lakecolor\":\"white\"},\"title\":{\"x\":0.05},\"mapbox\":{\"style\":\"light\"}}},\"xaxis\":{\"anchor\":\"y\",\"domain\":[0.0,1.0],\"title\":{\"text\":\"\\u0e2a\\u0e32\\u0e02\\u0e32\"}},\"yaxis\":{\"anchor\":\"x\",\"domain\":[0.0,1.0],\"title\":{\"text\":\"\\u0e08\\u0e33\\u0e19\\u0e27\\u0e19\\u0e19\\u0e31\\u0e01\\u0e28\\u0e36\\u0e01\\u0e29\\u0e32\"}},\"coloraxis\":{\"colorbar\":{\"title\":{\"text\":\"color\"}},\"colorscale\":[[0.0,\"rgb(247,251,255)\"],[0.125,\"rgb(222,235,247)\"],[0.25,\"rgb(198,219,239)\"],[0.375,\"rgb(158,202,225)\"],[0.5,\"rgb(107,174,214)\"],[0.625,\"rgb(66,146,198)\"],[0.75,\"rgb(33,113,181)\"],[0.875,\"rgb(8,81,156)\"],[1.0,\"rgb(8,48,107)\"]]},\"legend\":{\"tracegroupgap\":0},\"margin\":{\"t\":60},\"barmode\":\"relative\",\"title\":{\"font\":{\"family\":\"TH Sarabun New\"},\"text\":\"\\u0e08\\u0e33\\u0e19\\u0e27\\u0e19\\u0e19\\u0e31\\u0e01\\u0e28\\u0e36\\u0e01\\u0e29\\u0e32\\u0e43\\u0e19\\u0e21\\u0e2b\\u0e32\\u0e25\\u0e31\\u0e22\\u0e41\\u0e1a\\u0e48\\u0e07\\u0e15\\u0e32\\u0e21\\u0e04\\u0e13\\u0e30\\u0e17\\u0e35\\u0e48\\u0e28\\u0e36\\u0e01\\u0e29\\u0e32\",\"x\":0.5},\"font\":{\"family\":\"TH Sarabun New\"},\"width\":900,\"height\":600},                        {\"responsive\": true}                    ).then(function(){\n",
              "                            \n",
              "var gd = document.getElementById('c5ae5afc-7cec-4c5f-a8c9-cfc90eb8116e');\n",
              "var x = new MutationObserver(function (mutations, observer) {{\n",
              "        var display = window.getComputedStyle(gd).display;\n",
              "        if (!display || display === 'none') {{\n",
              "            console.log([gd, 'removed!']);\n",
              "            Plotly.purge(gd);\n",
              "            observer.disconnect();\n",
              "        }}\n",
              "}});\n",
              "\n",
              "// Listen for the removal of the full notebook cells\n",
              "var notebookContainer = gd.closest('#notebook-container');\n",
              "if (notebookContainer) {{\n",
              "    x.observe(notebookContainer, {childList: true});\n",
              "}}\n",
              "\n",
              "// Listen for the clearing of the current output cell\n",
              "var outputEl = gd.closest('.output');\n",
              "if (outputEl) {{\n",
              "    x.observe(outputEl, {childList: true});\n",
              "}}\n",
              "\n",
              "                        })                };                            </script>        </div>\n",
              "</body>\n",
              "</html>"
            ]
          },
          "metadata": {},
          "output_type": "display_data"
        }
      ],
      "source": [
        "major = data.groupby('สาขาวิชา (ถ้าไม่มีทำเครื่องหมาย -)')\n",
        "major = major.size()\n",
        "print(major)\n",
        "\n",
        "data_major = {\n",
        "    '-': 25, 'สถิติ': 24, 'วิทยาการคอมพิวเตอร์': 9, 'คณิตศาสตร์และสถิติ': 2, 'เครื่องกล': 2, 'การฝึกสอน': 2,\n",
        "    'การฝึกสอนกีฬา': 2, 'คณิตศาสตร์ประยุกต์': 2, 'การเงิน': 2, 'การจัดการกีฬา': 2, 'อาชีวอนามัยและความปลอดภัย': 1,\n",
        "    'วิศวกรรมคอมพิวเตอร์': 1, 'คณิตศาสตร์': 1, 'การส่งเสริมสุขภาพ': 1, 'สถิติประยุกต์': 1, 'ผังเมือง': 1, 'ภาษาญี่ปุ่น': 1,\n",
        "    'สถิติประยุกต์ ภาคพิเศษ': 1, 'วิจัยทางสังคม': 1, 'การผังเมือง': 1, 'ซอฟแวร์': 1, 'การจัดการทางวิศวกรรม': 1,\n",
        "    'Comsci': 1, 'ผังเมือง': 1, 'วิทยุโทรทัศน์': 1, 'สถิติ ภาคปกติ': 1, 'นวัตกรรมการพัฒนาอสังหาริมทรัพย์': 1,\n",
        "    '่้่-': 1, 'ภาษาอังกฤษ': 1, 'คอมพิวเตอร์': 1, 'วิจัยสังคม': 1, 'เทคโนโลยีสิ่งทอ': 1, 'ฟิสิกอิเล็ก': 1,\n",
        "    'คอม': 1, 'คณิตศาสตร์การเงิน': 1, 'การเมืองการปกครอง': 1, 'วัศดุศาสตร์': 1, 'การตลาด': 1, 'บริหารรัฐกิจ': 1,\n",
        "    'เคมี': 1, 'วิทย์คอม': 1, 'เทคโนโลยีอาหาร': 1, 'วัสดุศาสตร์': 1, 'นวตกรรมอาหาร': 1, 'เทคโนโลยีสารสนเทศ': 1,\n",
        "    'วิชาวิศวกรรมโยธาและการบริหารการก่อสร้าง': 1, 'วิศวกรรมคอมพิวเตอร์ ': 1\n",
        "}\n",
        "colors = [data_major[key] for key in data_major.keys()]\n",
        "\n",
        "fig = px.bar(x=list(data_major.keys()), y=list(data_major.values()), labels={'x': 'สาขา', 'y': 'จำนวนนักศึกษา'},\n",
        "             color=colors, color_continuous_scale='Blues')\n",
        "\n",
        "fig.update_traces(text=list(data_major.values()), textposition='outside')\n",
        "\n",
        "fig.update_layout(width=900, height=600,title={\n",
        "        'text': \"จำนวนนักศึกษาในมหาลัยแบ่งตามคณะที่ศึกษา\",\n",
        "        'x': 0.5\n",
        "    },            font_family=\"TH Sarabun New\",\n",
        "                  title_font_family='TH Sarabun New')\n",
        "\n",
        "fig.show()\n",
        "\n",
        "\n",
        "#ลองกรุ"
      ]
    },
    {
      "cell_type": "markdown",
      "metadata": {
        "id": "9Q_V7lnMFnex"
      },
      "source": [
        "# ส่วนที่ 2 : ความพึงพอใจของการเรียนการสอนในปัจจุบัน"
      ]
    },
    {
      "cell_type": "markdown",
      "metadata": {
        "id": "Vy3kAtxXGZJD"
      },
      "source": [
        "**เหตุผลที่ท่านเข้ารับการศึกษาในมหาวิทยาลัยธรรมศาสตร์**"
      ]
    },
    {
      "cell_type": "code",
      "execution_count": null,
      "metadata": {
        "id": "tRWtwnJGY27I"
      },
      "outputs": [],
      "source": [
        "#นำแถวที่มี '-' ออก\n",
        "reason1 = data.drop(data[data['เหตุผลที่ท่านเข้ารับการศึกษาในมหาวิทยาลัยธรรมศาสตร์'] == '-'].index)\n",
        "#เปลี่ยนสัญลักษณ์ในแถวที่มี ',' & '/' & 'และ' เป็น ' '\n",
        "reason1['เหตุผลที่ท่านเข้ารับการศึกษาในมหาวิทยาลัยธรรมศาสตร์'] = reason1['เหตุผลที่ท่านเข้ารับการศึกษาในมหาวิทยาลัยธรรมศาสตร์'].str.replace(',',' ')\n",
        "reason1['เหตุผลที่ท่านเข้ารับการศึกษาในมหาวิทยาลัยธรรมศาสตร์'] = reason1['เหตุผลที่ท่านเข้ารับการศึกษาในมหาวิทยาลัยธรรมศาสตร์'].str.replace('/',' ')\n",
        "reason1['เหตุผลที่ท่านเข้ารับการศึกษาในมหาวิทยาลัยธรรมศาสตร์'] = reason1['เหตุผลที่ท่านเข้ารับการศึกษาในมหาวิทยาลัยธรรมศาสตร์'].str.replace('และ',' ')\n",
        "#เปลี่ยนคแลัมน์ 'เหตุผลที่ท่านเข้ารับการศึกษาในมหาวิทยาลัยธรรมศาสตร์' เป็นชนิด list\n",
        "word = reason1['เหตุผลที่ท่านเข้ารับการศึกษาในมหาวิทยาลัยธรรมศาสตร์'].values.tolist()\n",
        "#แบ่งคำ/ประโยคในแต่ละelement\n",
        "wordLists = []\n",
        "for w in word:\n",
        "  wordList = w.split(' ')\n",
        "  wordLists.extend(wordList)\n",
        "#ตัด element ที่เป็น ' ' ออก\n",
        "for wo in wordLists:\n",
        "  if wo == '':\n",
        "    wordLists.remove(wo)\n",
        "#นำทุก elements ใน list มารวมเป็นหนึ่ง str\n",
        "all_word = ' '.join(wordLists).lower().strip('')\n",
        "#จัดกลุ่มคำที่มีความหมายคล้ายๆกันอยู่ในคำเดียวกัน\n",
        "all_word = re.sub('(สภาพแสดล้อม|ชอบบรรยากาศ|สภาพแวดล้อมดี|ชอบบรรยากาศความธรรมศาสต์|ชอบอากาศในมหาวิทยาลัย|\\\n",
        "      ชอบสังคมมหาลัย|สภาพแวดล้อมที่ดี|บรรยากาศ|เป็นมหาวิทยาลัยที่มีสภาพเเวดล้อมเเละธรรมชาติดี|\\\n",
        "      ชอบบรรยากาศในมอ|สภาพแวดล้อมของมหาลัย)','สภาพแวดล้อม',all_word)\n",
        "all_word = re.sub('(สอบติดที่นี้|เพราะยื่นแล้วติด|สอบติดสาขานี้|คะแนนสูงสุดที่เข้าได้|บังเอิญสอบติด|สอบติด|\\\n",
        "      ติด|เพราะสอบติดที่นี่ค่ะ|ติดเลยเข้าเลย|ยื่นลำดับแล้วติด|เพราะสอบติดในรอบแรกพอดี|ติด)','สอบติด',all_word)\n",
        "all_word = re.sub('(เป็นมหาวิทยาลัยชั้นนำของประเทศ|เป็นมหาวิทยาลัยชั้นนำ|เป็นมหาวิทยาชัยชั้นนำ)','มหาวิทยาลัยชั้นนำ',all_word)\n",
        "all_word = re.sub('(ชื่อเสียงมหาลัย|มหาวิทยาลัยมีชื่อเสียง|เป็นมหาลัยที่มีชื่อเสียง|มีชื่อเสียง|ชื่อเสียงของมหาวิทยาลัย|สถาบันชื่อดัง|\\\n",
        "      มีชื่อเสียง|มอดังครับ|มหาลัยดัง|มอมีชื่อเสียง|เพราะคิดว่าธรรมศาสตร์เป็นมหาลัยที่ค่อนข้างมีชื่อเสียง|มอดัง|มีชื่อเสียง|\\\n",
        "      เพราะเป็นมหาลัยที่มีชื่อเสียง|มีชื่อเสียง|ชื่อเสียงของมหาวิทยาลัย|มหาลัยชื่อดัง|เป็นมหาลัยที่มีชื่อเสียง)','ชื่อเสียง',all_word)\n",
        "all_word = re.sub('(เสรีภาพ|อยากทำไรก้ได้ไม่มีใครสนใจ|เพราะว่าเป็นมหาลัยที่เสรี|มีความอิสระ|เพราะธรรมศาสตร์เป็นดินแดนแห่งเสรีภาพ|\\\n",
        "      เพราะมีอิสระในการใช้ชีวิต|ให้อิสระทางความคิด|เสรีภาพในวิทยาลัย|ความอิสระที่ตอบสนองความต้องการ|\\\n",
        "      เพราะธรรมศาสตร์เป็นดินแดนแห่งเสรีภาพ|การให้อิสระกับนักศึกษา|จุดสำคัญคือเสรีในด้านความคิดเห็นต่างๆ|\\\n",
        "      มหาลัยให้อิสระกับความคิด|มีเสรีภาพทางความคิด|ดูมีความเป็นอิสระ|อิสระเสรีในวิทยาลัย)','อิสระเสรี',all_word)\n",
        "all_word = re.sub('(มหาลัยดีมาก|เป็นมหาลัยที่อยู่อันดับต้นๆของประเทศ|มีมาตราฐานที่ดี)','มหาลัยดี',all_word)\n",
        "all_word = re.sub('(คุณภาพ|คิดว่าเป็นมหาลัยมีคุณภาพ|เป็นมหาวิทยาลัยที่มีคุณภาพ|เป็นมหาวิทยาลัยที่มีมาตรฐาน)','คุณภาพมหาลัย',all_word)\n",
        "all_word = re.sub('(ชอบมากที่สุด|ก่อนเข้าชอบมหาวิทยาลัย|ชอบสถาบัน|เพราะชื่นชอบมหาวิทยาลัย|ชอบในมหาวิทยาลัย)','ชอบ',all_word)\n",
        "all_word = re.sub('(เป็นหนึ่งมหาวิทยาลัยที่ต้องการจะเข้าอยู่แล้ว|เป็นมหาวิทยาลัยที่ต้องการศึกษาตั้งแต่แรก|อยากเข้าครับ|\\\n",
        "      อยากเข้าค่ะ)','ต้องการเข้า',all_word)\n",
        "all_word = re.sub('(คิดว่าคอนเนคชั่นน่าจะเยอะ|มีคอนเนคชั่นที่ดี)','คอนเนคชัน',all_word)\n",
        "all_word = re.sub('(หลักสูตร|หลักสูตรการสอน|หลักสูตรน่าสนใจ|รวมถึงตัวหลักสูตรเองด้วย|มีหลักสูตรที่สนใจ|\\\n",
        "      สาขามีหลักสูตรที่สนใจ|หลักสูตรการเรียนการสอน|เพราะเป็นมหาวิทยาลัยที่ชื่อเสียงเเล้วสาขาที่เข้าชื่อก็น่าสนใจดี)','หลักสูตร',all_word)\n",
        "all_word = re.sub('(การทำงานในอนาคตฅ|มีผลต่อการรับเข้าทำงาน|มองเห็นการต่อยอดในอนาคตได้|\\\n",
        "      เอาชื่อมหาลัยก่อนในอนาคตหางานได้|โอกาสในการทำงานในอนาคต)','ใช้ในอนาคต',all_word)\n",
        "all_word = re.sub('(ได้ใส่ชุดไปรเวท|เห็นที่รุ่นพี่รีวิวว่าเราไม่จำเป็นต้องใส่ชุดนักศึกษามาเรียนก็ทำให้น่าสนใจ)','การแต่งตัว',all_word)\n",
        "all_word = re.sub('(ชอบคณะนี้จึงยื่นเข้ามา|คณะที่สนใจในมหาลัยนี้มีชื่อเสียงเป็นอย่างมาก|ได้คณะที่อยากเข้า|ชอบคณะนี้|คณะที่ตัวเองอยู่มีชื่อเสียง)','คณะ',all_word)\n",
        "all_word = re.sub('(โลโก้มหาลัยเป็นสีเหลือง|ส่วนตัวชอบสีเหลืองคั้บบ)','สีเหลือง',all_word)\n",
        "all_word = re.sub('(ระบบการศึกษา|ความน่าเชื่อถือทางด้านการศึกษา)','ระบบการศึกษา',all_word)\n",
        "all_word = re.sub('(มีพี่เรียนมธ|พี่เลือกให้|พ่อต้องการให้เข้า)','ครอบครัว',all_word)\n",
        "all_word = re.sub('(มีคสามเท่าเทียม|ความเท่าเทียมของทุกคน)','ความเท่าเทียม',all_word)"
      ]
    },
    {
      "cell_type": "code",
      "execution_count": null,
      "metadata": {
        "colab": {
          "base_uri": "https://localhost:8080/",
          "height": 406
        },
        "id": "HvhGBl2jnoOf",
        "outputId": "b4410998-873c-4fc8-f520-f4a4a8c6f6dd"
      },
      "outputs": [
        {
          "data": {
            "image/png": "[encoded data removed]",
            "text/plain": [
              "<Figure size 640x480 with 1 Axes>"
            ]
          },
          "metadata": {},
          "output_type": "display_data"
        }
      ],
      "source": [
        "wordcloud = WordCloud(font_path=path, #กำหนดfontที่ใช้แสดงผล\n",
        "                      stopwords = {'มธ','มธ.','รู้สึกว่า'} ,#คำที่ไม่ให้แสดงผล(ไม่ได้ใช้)\n",
        "                      background_color=\"white\",\n",
        "                      width=1024, # กว้าง\n",
        "                      height=768, # ยาว\n",
        "                      #colormap = 'turbo', #ธีมสีในคำ\n",
        "                      #colormap = 'nipy_spectral',\n",
        "                      colormap = 'tab20',\n",
        "                      collocations=False,\n",
        "                      regexp=r\"[\\u0E00-\\u0E7Fa-zA-Z']+\",\n",
        "                      prefer_horizontal = 0.7, #แสดงผลแนวนอน 0.7\n",
        "                      max_words = 30\n",
        "                      ).generate(all_word)\n",
        "plt.imshow(wordcloud, cmap=plt.cm.gray, interpolation='bilinear')\n",
        "plt.axis(\"off\")\n",
        "plt.show()"
      ]
    },
    {
      "cell_type": "markdown",
      "metadata": {
        "id": "HxAUgRJz9NmY"
      },
      "source": [
        "**ความพึงพอใจของการเรียนการสอนในด้านต่างๆ**"
      ]
    },
    {
      "cell_type": "code",
      "execution_count": null,
      "metadata": {
        "colab": {
          "base_uri": "https://localhost:8080/",
          "height": 1000
        },
        "id": "ENHC-Q_p9F-o",
        "outputId": "02369040-5888-4148-85fc-9ee220f3e079"
      },
      "outputs": [
        {
          "data": {
            "text/html": [
              "<html>\n",
              "<head><meta charset=\"utf-8\" /></head>\n",
              "<body>\n",
              "    <div>            <script src=\"https://cdnjs.cloudflare.com/ajax/libs/mathjax/2.7.5/MathJax.js?config=TeX-AMS-MML_SVG\"></script><script type=\"text/javascript\">if (window.MathJax && window.MathJax.Hub && window.MathJax.Hub.Config) {window.MathJax.Hub.Config({SVG: {font: \"STIX-Web\"}});}</script>                <script type=\"text/javascript\">window.PlotlyConfig = {MathJaxConfig: 'local'};</script>\n",
              "        <script charset=\"utf-8\" src=\"https://cdn.plot.ly/plotly-2.24.1.min.js\"></script>                <div id=\"fd06e89e-f45a-4eb6-bed6-a098487884e0\" class=\"plotly-graph-div\" style=\"height:1000px; width:1000px;\"></div>            <script type=\"text/javascript\">                                    window.PLOTLYENV=window.PLOTLYENV || {};                                    if (document.getElementById(\"fd06e89e-f45a-4eb6-bed6-a098487884e0\")) {                    Plotly.newPlot(                        \"fd06e89e-f45a-4eb6-bed6-a098487884e0\",                        [{\"marker\":{\"color\":[\"rgb(141,211,199)\",\"rgb(255,255,179)\",\"rgb(190,186,218)\",\"rgb(251,128,114)\",\"rgb(128,177,211)\",\"rgb(253,180,98)\",\"rgb(179,222,105)\",\"rgb(252,205,229)\",\"rgb(217,217,217)\",\"rgb(188,128,189)\",\"rgb(204,235,197)\",\"rgb(255,237,111)\"]},\"orientation\":\"h\",\"text\":[4.027522935779817,4.724770642201835,3.541284403669725,4.293577981651376,3.7247706422018347,4.541284403669724,3.7522935779816513,4.486238532110092,4.5504587155963305,3.458715596330275],\"texttemplate\":\"%{value}\",\"x\":[4.027522935779817,4.724770642201835,3.541284403669725,4.293577981651376,3.7247706422018347,4.541284403669724,3.7522935779816513,4.486238532110092,4.5504587155963305,3.458715596330275],\"y\":[\"\\u0e2a\\u0e20\\u0e32\\u0e1e\\u0e41\\u0e27\\u0e14\\u0e25\\u0e49\\u0e2d\\u0e21\\u0e01\\u0e32\\u0e23\\u0e40\\u0e23\\u0e35\\u0e22\\u0e19\\u0e23\\u0e39\\u0e49\",\"\\u0e2a\\u0e20\\u0e32\\u0e1e\\u0e41\\u0e27\\u0e14\\u0e25\\u0e49\\u0e2d\\u0e21\\u0e01\\u0e32\\u0e23\\u0e40\\u0e23\\u0e35\\u0e22\\u0e19\\u0e23\\u0e39\\u0e49\\u0e15\\u0e48\\u0e2d\\u0e1b\\u0e23\\u0e30\\u0e2a\\u0e34\\u0e17\\u0e18\\u0e34\\u0e20\\u0e32\\u0e1e\\u0e43\\u0e19\\u0e01\\u0e32\\u0e23\\u0e40\\u0e23\\u0e35\\u0e22\\u0e19\",\"\\u0e27\\u0e34\\u0e18\\u0e35\\u0e01\\u0e32\\u0e23\\u0e2a\\u0e2d\\u0e19\",\"\\u0e2d\\u0e32\\u0e08\\u0e32\\u0e23\\u0e22\\u0e4c\\u0e21\\u0e35\\u0e2a\\u0e48\\u0e27\\u0e19\\u0e23\\u0e48\\u0e27\\u0e21\\u0e43\\u0e19\\u0e01\\u0e32\\u0e23\\u0e2a\\u0e23\\u0e49\\u0e32\\u0e07\\u0e1b\\u0e23\\u0e30\\u0e2a\\u0e1a\\u0e01\\u0e32\\u0e23\\u0e13\\u0e4c\\u0e01\\u0e32\\u0e23\\u0e40\\u0e23\\u0e35\\u0e22\\u0e19\\u0e17\\u0e35\\u0e48\\u0e14\\u0e35\\u0e01\\u0e32\\u0e23\\u0e40\\u0e23\\u0e35\\u0e22\\u0e19\\u0e23\\u0e39\\u0e49\\u0e43\\u0e19\\u0e23\\u0e30\\u0e2b\\u0e27\\u0e48\\u0e32\\u0e07\\u0e01\\u0e32\\u0e23\\u0e40\\u0e23\\u0e35\\u0e22\\u0e19\",\"\\u0e04\\u0e27\\u0e32\\u0e21\\u0e15\\u0e31\\u0e49\\u0e07\\u0e43\\u0e08\\u0e43\\u0e19\\u0e15\\u0e48\\u0e2d\\u0e01\\u0e32\\u0e23\\u0e1b\\u0e23\\u0e30\\u0e2a\\u0e1a\\u0e04\\u0e27\\u0e32\\u0e21\\u0e2a\\u0e33\\u0e40\\u0e23\\u0e47\\u0e08\",\"\\u0e2a\\u0e37\\u0e48\\u0e2d\\u0e01\\u0e32\\u0e23\\u0e2a\\u0e2d\\u0e19\",\"\\u0e40\\u0e17\\u0e04\\u0e42\\u0e19\\u0e42\\u0e25\\u0e22\\u0e35\\u0e2a\\u0e32\\u0e23\\u0e2a\\u0e19\\u0e40\\u0e17\\u0e28\\u0e41\\u0e25\\u0e30\\u0e01\\u0e32\\u0e23\\u0e2a\\u0e37\\u0e48\\u0e2d\\u0e2a\\u0e32\\u0e23\\u0e15\\u0e48\\u0e2d\\u0e01\\u0e32\\u0e23\\u0e40\\u0e23\\u0e35\\u0e22\\u0e19\",\"\\u0e2a\\u0e20\\u0e32\\u0e1e\\u0e41\\u0e27\\u0e14\\u0e25\\u0e49\\u0e2d\\u0e21\\u0e2a\\u0e31\\u0e07\\u0e04\\u0e21\\u0e41\\u0e25\\u0e30\\u0e27\\u0e31\\u0e12\\u0e19\\u0e18\\u0e23\\u0e23\\u0e21\\u0e15\\u0e48\\u0e2d\\u0e01\\u0e32\\u0e23\\u0e40\\u0e23\\u0e35\\u0e22\\u0e19\",\"\\u0e42\\u0e04\\u0e23\\u0e07\\u0e2a\\u0e23\\u0e49\\u0e32\\u0e07\\u0e41\\u0e25\\u0e30\\u0e01\\u0e32\\u0e23\\u0e08\\u0e31\\u0e14\\u0e01\\u0e32\\u0e23\\u0e02\\u0e2d\\u0e07\\u0e23\\u0e30\\u0e1a\\u0e1a\\u0e01\\u0e32\\u0e23\\u0e28\\u0e36\\u0e01\\u0e29\\u0e32\"],\"type\":\"bar\"}],                        {\"template\":{\"data\":{\"histogram2dcontour\":[{\"type\":\"histogram2dcontour\",\"colorbar\":{\"outlinewidth\":0,\"ticks\":\"\"},\"colorscale\":[[0.0,\"#0d0887\"],[0.1111111111111111,\"#46039f\"],[0.2222222222222222,\"#7201a8\"],[0.3333333333333333,\"#9c179e\"],[0.4444444444444444,\"#bd3786\"],[0.5555555555555556,\"#d8576b\"],[0.6666666666666666,\"#ed7953\"],[0.7777777777777778,\"#fb9f3a\"],[0.8888888888888888,\"#fdca26\"],[1.0,\"#f0f921\"]]}],\"choropleth\":[{\"type\":\"choropleth\",\"colorbar\":{\"outlinewidth\":0,\"ticks\":\"\"}}],\"histogram2d\":[{\"type\":\"histogram2d\",\"colorbar\":{\"outlinewidth\":0,\"ticks\":\"\"},\"colorscale\":[[0.0,\"#0d0887\"],[0.1111111111111111,\"#46039f\"],[0.2222222222222222,\"#7201a8\"],[0.3333333333333333,\"#9c179e\"],[0.4444444444444444,\"#bd3786\"],[0.5555555555555556,\"#d8576b\"],[0.6666666666666666,\"#ed7953\"],[0.7777777777777778,\"#fb9f3a\"],[0.8888888888888888,\"#fdca26\"],[1.0,\"#f0f921\"]]}],\"heatmap\":[{\"type\":\"heatmap\",\"colorbar\":{\"outlinewidth\":0,\"ticks\":\"\"},\"colorscale\":[[0.0,\"#0d0887\"],[0.1111111111111111,\"#46039f\"],[0.2222222222222222,\"#7201a8\"],[0.3333333333333333,\"#9c179e\"],[0.4444444444444444,\"#bd3786\"],[0.5555555555555556,\"#d8576b\"],[0.6666666666666666,\"#ed7953\"],[0.7777777777777778,\"#fb9f3a\"],[0.8888888888888888,\"#fdca26\"],[1.0,\"#f0f921\"]]}],\"heatmapgl\":[{\"type\":\"heatmapgl\",\"colorbar\":{\"outlinewidth\":0,\"ticks\":\"\"},\"colorscale\":[[0.0,\"#0d0887\"],[0.1111111111111111,\"#46039f\"],[0.2222222222222222,\"#7201a8\"],[0.3333333333333333,\"#9c179e\"],[0.4444444444444444,\"#bd3786\"],[0.5555555555555556,\"#d8576b\"],[0.6666666666666666,\"#ed7953\"],[0.7777777777777778,\"#fb9f3a\"],[0.8888888888888888,\"#fdca26\"],[1.0,\"#f0f921\"]]}],\"contourcarpet\":[{\"type\":\"contourcarpet\",\"colorbar\":{\"outlinewidth\":0,\"ticks\":\"\"}}],\"contour\":[{\"type\":\"contour\",\"colorbar\":{\"outlinewidth\":0,\"ticks\":\"\"},\"colorscale\":[[0.0,\"#0d0887\"],[0.1111111111111111,\"#46039f\"],[0.2222222222222222,\"#7201a8\"],[0.3333333333333333,\"#9c179e\"],[0.4444444444444444,\"#bd3786\"],[0.5555555555555556,\"#d8576b\"],[0.6666666666666666,\"#ed7953\"],[0.7777777777777778,\"#fb9f3a\"],[0.8888888888888888,\"#fdca26\"],[1.0,\"#f0f921\"]]}],\"surface\":[{\"type\":\"surface\",\"colorbar\":{\"outlinewidth\":0,\"ticks\":\"\"},\"colorscale\":[[0.0,\"#0d0887\"],[0.1111111111111111,\"#46039f\"],[0.2222222222222222,\"#7201a8\"],[0.3333333333333333,\"#9c179e\"],[0.4444444444444444,\"#bd3786\"],[0.5555555555555556,\"#d8576b\"],[0.6666666666666666,\"#ed7953\"],[0.7777777777777778,\"#fb9f3a\"],[0.8888888888888888,\"#fdca26\"],[1.0,\"#f0f921\"]]}],\"mesh3d\":[{\"type\":\"mesh3d\",\"colorbar\":{\"outlinewidth\":0,\"ticks\":\"\"}}],\"scatter\":[{\"fillpattern\":{\"fillmode\":\"overlay\",\"size\":10,\"solidity\":0.2},\"type\":\"scatter\"}],\"parcoords\":[{\"type\":\"parcoords\",\"line\":{\"colorbar\":{\"outlinewidth\":0,\"ticks\":\"\"}}}],\"scatterpolargl\":[{\"type\":\"scatterpolargl\",\"marker\":{\"colorbar\":{\"outlinewidth\":0,\"ticks\":\"\"}}}],\"bar\":[{\"error_x\":{\"color\":\"#2a3f5f\"},\"error_y\":{\"color\":\"#2a3f5f\"},\"marker\":{\"line\":{\"color\":\"#E5ECF6\",\"width\":0.5},\"pattern\":{\"fillmode\":\"overlay\",\"size\":10,\"solidity\":0.2}},\"type\":\"bar\"}],\"scattergeo\":[{\"type\":\"scattergeo\",\"marker\":{\"colorbar\":{\"outlinewidth\":0,\"ticks\":\"\"}}}],\"scatterpolar\":[{\"type\":\"scatterpolar\",\"marker\":{\"colorbar\":{\"outlinewidth\":0,\"ticks\":\"\"}}}],\"histogram\":[{\"marker\":{\"pattern\":{\"fillmode\":\"overlay\",\"size\":10,\"solidity\":0.2}},\"type\":\"histogram\"}],\"scattergl\":[{\"type\":\"scattergl\",\"marker\":{\"colorbar\":{\"outlinewidth\":0,\"ticks\":\"\"}}}],\"scatter3d\":[{\"type\":\"scatter3d\",\"line\":{\"colorbar\":{\"outlinewidth\":0,\"ticks\":\"\"}},\"marker\":{\"colorbar\":{\"outlinewidth\":0,\"ticks\":\"\"}}}],\"scattermapbox\":[{\"type\":\"scattermapbox\",\"marker\":{\"colorbar\":{\"outlinewidth\":0,\"ticks\":\"\"}}}],\"scatterternary\":[{\"type\":\"scatterternary\",\"marker\":{\"colorbar\":{\"outlinewidth\":0,\"ticks\":\"\"}}}],\"scattercarpet\":[{\"type\":\"scattercarpet\",\"marker\":{\"colorbar\":{\"outlinewidth\":0,\"ticks\":\"\"}}}],\"carpet\":[{\"aaxis\":{\"endlinecolor\":\"#2a3f5f\",\"gridcolor\":\"white\",\"linecolor\":\"white\",\"minorgridcolor\":\"white\",\"startlinecolor\":\"#2a3f5f\"},\"baxis\":{\"endlinecolor\":\"#2a3f5f\",\"gridcolor\":\"white\",\"linecolor\":\"white\",\"minorgridcolor\":\"white\",\"startlinecolor\":\"#2a3f5f\"},\"type\":\"carpet\"}],\"table\":[{\"cells\":{\"fill\":{\"color\":\"#EBF0F8\"},\"line\":{\"color\":\"white\"}},\"header\":{\"fill\":{\"color\":\"#C8D4E3\"},\"line\":{\"color\":\"white\"}},\"type\":\"table\"}],\"barpolar\":[{\"marker\":{\"line\":{\"color\":\"#E5ECF6\",\"width\":0.5},\"pattern\":{\"fillmode\":\"overlay\",\"size\":10,\"solidity\":0.2}},\"type\":\"barpolar\"}],\"pie\":[{\"automargin\":true,\"type\":\"pie\"}]},\"layout\":{\"autotypenumbers\":\"strict\",\"colorway\":[\"#636efa\",\"#EF553B\",\"#00cc96\",\"#ab63fa\",\"#FFA15A\",\"#19d3f3\",\"#FF6692\",\"#B6E880\",\"#FF97FF\",\"#FECB52\"],\"font\":{\"color\":\"#2a3f5f\"},\"hovermode\":\"closest\",\"hoverlabel\":{\"align\":\"left\"},\"paper_bgcolor\":\"white\",\"plot_bgcolor\":\"#E5ECF6\",\"polar\":{\"bgcolor\":\"#E5ECF6\",\"angularaxis\":{\"gridcolor\":\"white\",\"linecolor\":\"white\",\"ticks\":\"\"},\"radialaxis\":{\"gridcolor\":\"white\",\"linecolor\":\"white\",\"ticks\":\"\"}},\"ternary\":{\"bgcolor\":\"#E5ECF6\",\"aaxis\":{\"gridcolor\":\"white\",\"linecolor\":\"white\",\"ticks\":\"\"},\"baxis\":{\"gridcolor\":\"white\",\"linecolor\":\"white\",\"ticks\":\"\"},\"caxis\":{\"gridcolor\":\"white\",\"linecolor\":\"white\",\"ticks\":\"\"}},\"coloraxis\":{\"colorbar\":{\"outlinewidth\":0,\"ticks\":\"\"}},\"colorscale\":{\"sequential\":[[0.0,\"#0d0887\"],[0.1111111111111111,\"#46039f\"],[0.2222222222222222,\"#7201a8\"],[0.3333333333333333,\"#9c179e\"],[0.4444444444444444,\"#bd3786\"],[0.5555555555555556,\"#d8576b\"],[0.6666666666666666,\"#ed7953\"],[0.7777777777777778,\"#fb9f3a\"],[0.8888888888888888,\"#fdca26\"],[1.0,\"#f0f921\"]],\"sequentialminus\":[[0.0,\"#0d0887\"],[0.1111111111111111,\"#46039f\"],[0.2222222222222222,\"#7201a8\"],[0.3333333333333333,\"#9c179e\"],[0.4444444444444444,\"#bd3786\"],[0.5555555555555556,\"#d8576b\"],[0.6666666666666666,\"#ed7953\"],[0.7777777777777778,\"#fb9f3a\"],[0.8888888888888888,\"#fdca26\"],[1.0,\"#f0f921\"]],\"diverging\":[[0,\"#8e0152\"],[0.1,\"#c51b7d\"],[0.2,\"#de77ae\"],[0.3,\"#f1b6da\"],[0.4,\"#fde0ef\"],[0.5,\"#f7f7f7\"],[0.6,\"#e6f5d0\"],[0.7,\"#b8e186\"],[0.8,\"#7fbc41\"],[0.9,\"#4d9221\"],[1,\"#276419\"]]},\"xaxis\":{\"gridcolor\":\"white\",\"linecolor\":\"white\",\"ticks\":\"\",\"title\":{\"standoff\":15},\"zerolinecolor\":\"white\",\"automargin\":true,\"zerolinewidth\":2},\"yaxis\":{\"gridcolor\":\"white\",\"linecolor\":\"white\",\"ticks\":\"\",\"title\":{\"standoff\":15},\"zerolinecolor\":\"white\",\"automargin\":true,\"zerolinewidth\":2},\"scene\":{\"xaxis\":{\"backgroundcolor\":\"#E5ECF6\",\"gridcolor\":\"white\",\"linecolor\":\"white\",\"showbackground\":true,\"ticks\":\"\",\"zerolinecolor\":\"white\",\"gridwidth\":2},\"yaxis\":{\"backgroundcolor\":\"#E5ECF6\",\"gridcolor\":\"white\",\"linecolor\":\"white\",\"showbackground\":true,\"ticks\":\"\",\"zerolinecolor\":\"white\",\"gridwidth\":2},\"zaxis\":{\"backgroundcolor\":\"#E5ECF6\",\"gridcolor\":\"white\",\"linecolor\":\"white\",\"showbackground\":true,\"ticks\":\"\",\"zerolinecolor\":\"white\",\"gridwidth\":2}},\"shapedefaults\":{\"line\":{\"color\":\"#2a3f5f\"}},\"annotationdefaults\":{\"arrowcolor\":\"#2a3f5f\",\"arrowhead\":0,\"arrowwidth\":1},\"geo\":{\"bgcolor\":\"white\",\"landcolor\":\"#E5ECF6\",\"subunitcolor\":\"white\",\"showland\":true,\"showlakes\":true,\"lakecolor\":\"white\"},\"title\":{\"x\":0.05},\"mapbox\":{\"style\":\"light\"}}},\"font\":{\"family\":\"TH Sarabun New\"},\"height\":1000,\"width\":1000,\"title\":{\"text\":\"\\u0e04\\u0e27\\u0e32\\u0e21\\u0e1e\\u0e36\\u0e07\\u0e1e\\u0e2d\\u0e43\\u0e08\\u0e02\\u0e2d\\u0e07\\u0e01\\u0e32\\u0e23\\u0e40\\u0e23\\u0e35\\u0e22\\u0e19\\u0e01\\u0e32\\u0e23\\u0e2a\\u0e2d\\u0e19\\u0e43\\u0e19\\u0e14\\u0e49\\u0e32\\u0e19\\u0e15\\u0e48\\u0e32\\u0e07\\u0e46\",\"x\":0.5},\"yaxis\":{\"title\":{\"text\":\"\\u0e2b\\u0e31\\u0e27\\u0e02\\u0e49\\u0e2d\\u0e04\\u0e27\\u0e32\\u0e21\\u0e1e\\u0e36\\u0e07\\u0e1e\\u0e2d\\u0e43\\u0e08\"},\"categoryorder\":\"total ascending\"},\"xaxis\":{\"title\":{\"text\":\"\\u0e08\\u0e33\\u0e19\\u0e27\\u0e19\\u0e19\\u0e31\\u0e01\\u0e28\\u0e36\\u0e01\\u0e29\\u0e32(\\u0e04\\u0e19)\"},\"range\":[1,5],\"tickmode\":\"array\",\"tickvals\":[1,2,3,4,5,6,7,8,9,10],\"ticktext\":[\"1 (\\u0e19\\u0e49\\u0e2d\\u0e22\\u0e17\\u0e35\\u0e48\\u0e2a\\u0e38\\u0e14)\",\"2\",\"3\",\"4\",\"5 (\\u0e21\\u0e32\\u0e01\\u0e17\\u0e35\\u0e48\\u0e2a\\u0e38\\u0e14)\"]}},                        {\"responsive\": true}                    ).then(function(){\n",
              "                            \n",
              "var gd = document.getElementById('fd06e89e-f45a-4eb6-bed6-a098487884e0');\n",
              "var x = new MutationObserver(function (mutations, observer) {{\n",
              "        var display = window.getComputedStyle(gd).display;\n",
              "        if (!display || display === 'none') {{\n",
              "            console.log([gd, 'removed!']);\n",
              "            Plotly.purge(gd);\n",
              "            observer.disconnect();\n",
              "        }}\n",
              "}});\n",
              "\n",
              "// Listen for the removal of the full notebook cells\n",
              "var notebookContainer = gd.closest('#notebook-container');\n",
              "if (notebookContainer) {{\n",
              "    x.observe(notebookContainer, {childList: true});\n",
              "}}\n",
              "\n",
              "// Listen for the clearing of the current output cell\n",
              "var outputEl = gd.closest('.output');\n",
              "if (outputEl) {{\n",
              "    x.observe(outputEl, {childList: true});\n",
              "}}\n",
              "\n",
              "                        })                };                            </script>        </div>\n",
              "</body>\n",
              "</html>"
            ]
          },
          "metadata": {},
          "output_type": "display_data"
        }
      ],
      "source": [
        "scale = { '(มากที่สด)': 5, '(มาก)': 4, '(ปานกลาง)': 3, '(น้อย)': 2, '(น้อยทสด)': 1 }\n",
        "satisfication = data.loc[: , ['ท่านพึงพอใจกับสภาพแวดล้อมการเรียนรู้',\n",
        "                  'ท่านคิดว่าสภาพแวดล้อมการเรียนรู้มีผลต่อประสิทธิภาพในการเรียนการสอน',\n",
        "                  'ท่านมีความพึงพอใจในวิธีการสอนของครูหรืออาจารย์',\n",
        "                  'ท่านรู้สึกว่าครูหรืออาจารย์มีส่วนร่วมในการสร้างประสบการณ์การเรียนที่ดี',\n",
        "                  'ท่านรู้สึกพึงพอใจกับการเรียนรู้ในระหว่างการเรียน',\n",
        "                  'ท่านรู้สึกว่าความตั้งใจในการเรียนรู้มีผลต่อการประสบความสำเร็จในการเรียน',\n",
        "                  'ท่านพึงพอใจกับสื่อการสอนที่ใช้ในชั้นเรียน (เช่น หนังสือเรียน, วิดีโอการสอน, หรือโปรแกรมคอมพิวเตอร์)',\n",
        "                  'ท่านคิดว่าการใช้เทคโนโลยีสารสนเทศและการสื่อสารมีผลต่อการเรียนการสอน',\n",
        "                  'ท่านคิดว่าสภาพแวดล้อมสังคมและวัฒนธรรมมีผลต่อการเรียนการสอน',\n",
        "                  'ท่านพึงพอใจกับโครงสร้างและการจัดการของระบบการศึกษาที่คุณกำลังศึกษา']].replace(regex=scale)\n",
        "labels = ['สภาพแวดล้อมการเรียนรู้',\n",
        "          'สภาพแวดล้อมการเรียนรู้ต่อประสิทธิภาพในการเรียน',\n",
        "          'วิธีการสอน',\n",
        "          'อาจารย์มีส่วนร่วมในการสร้างประสบการณ์การเรียนที่ดี'\n",
        "          'การเรียนรู้ในระหว่างการเรียน',\n",
        "          'ความตั้งใจในต่อการประสบความสำเร็จ',\n",
        "          'สื่อการสอน',\n",
        "          'เทคโนโลยีสารสนเทศและการสื่อสารต่อการเรียน',\n",
        "          'สภาพแวดล้อมสังคมและวัฒนธรรมต่อการเรียน',\n",
        "          'โครงสร้างและการจัดการของระบบการศึกษา']\n",
        "vals = satisfication.mean()\n",
        "fig = go.Figure(go.Bar(\n",
        "        y=labels,\n",
        "        x=vals,\n",
        "        text=vals,\n",
        "        texttemplate=\"%{value}\",\n",
        "        orientation='h',\n",
        "        marker=dict(color=px.colors.qualitative.Set3),\n",
        "    ))\n",
        "fig.update_layout(\n",
        "    font_family=\"TH Sarabun New\",\n",
        "    height=1000, width=1000\n",
        " )\n",
        "fig.update_layout(title={\n",
        "        'text': \"ความพึงพอใจของการเรียนการสอนในด้านต่างๆ\",\n",
        "        'x': 0.5},\n",
        "                  xaxis_title=\"จำนวนนักศึกษา(คน)\",\n",
        "                  yaxis_title=\"หัวข้อความพึงพอใจ\",\n",
        "                  yaxis={'categoryorder':'total ascending'},\n",
        "                  xaxis_range=[1,5],\n",
        "                  xaxis = dict(\n",
        "                      tickmode = \"array\",\n",
        "                      tickvals = np.arange(len(vals))+1,\n",
        "                      ticktext = [\"1 (น้อยที่สุด)\", '2', '3', '4', \"5 (มากที่สุด)\"]\n",
        "                  ))\n",
        "fig.show()"
      ]
    },
    {
      "cell_type": "markdown",
      "metadata": {
        "id": "YlNKZR5xfHOZ"
      },
      "source": [
        "**ท่านพึงพอใจกับสภาพแวดล้อมการเรียนรู้**"
      ]
    },
    {
      "cell_type": "code",
      "execution_count": null,
      "metadata": {
        "colab": {
          "base_uri": "https://localhost:8080/"
        },
        "id": "OUHiffArfOOQ",
        "outputId": "e81952c5-e2d8-4773-f15a-212ec3127d11"
      },
      "outputs": [
        {
          "name": "stdout",
          "output_type": "stream",
          "text": [
            "{4: 55, 5: 31, 3: 20, 1: 2, 2: 1}\n"
          ]
        }
      ],
      "source": [
        "column_position = 6\n",
        "\n",
        "data_exam = data.iloc[:, column_position].value_counts()\n",
        "\n",
        "data_exam_dict = data_exam.to_dict()\n",
        "\n",
        "print(data_exam_dict)"
      ]
    },
    {
      "cell_type": "code",
      "execution_count": null,
      "metadata": {
        "colab": {
          "base_uri": "https://localhost:8080/",
          "height": 717
        },
        "id": "R04_JqacfPD_",
        "outputId": "ea1276ae-2cb9-43e7-8ba6-382b51597f0d"
      },
      "outputs": [
        {
          "data": {
            "text/html": [
              "<html>\n",
              "<head><meta charset=\"utf-8\" /></head>\n",
              "<body>\n",
              "    <div>            <script src=\"https://cdnjs.cloudflare.com/ajax/libs/mathjax/2.7.5/MathJax.js?config=TeX-AMS-MML_SVG\"></script><script type=\"text/javascript\">if (window.MathJax && window.MathJax.Hub && window.MathJax.Hub.Config) {window.MathJax.Hub.Config({SVG: {font: \"STIX-Web\"}});}</script>                <script type=\"text/javascript\">window.PlotlyConfig = {MathJaxConfig: 'local'};</script>\n",
              "        <script charset=\"utf-8\" src=\"https://cdn.plot.ly/plotly-2.24.1.min.js\"></script>                <div id=\"f0de59be-ace5-48e7-81cb-09aeebef57e4\" class=\"plotly-graph-div\" style=\"height:700px; width:800px;\"></div>            <script type=\"text/javascript\">                                    window.PLOTLYENV=window.PLOTLYENV || {};                                    if (document.getElementById(\"f0de59be-ace5-48e7-81cb-09aeebef57e4\")) {                    Plotly.newPlot(                        \"f0de59be-ace5-48e7-81cb-09aeebef57e4\",                        [{\"hovertext\":[\"\\u0e04\\u0e30\\u0e41\\u0e19\\u0e19: 2\",\"\\u0e04\\u0e30\\u0e41\\u0e19\\u0e19: 1\",\"\\u0e04\\u0e30\\u0e41\\u0e19\\u0e19: 20\",\"\\u0e04\\u0e30\\u0e41\\u0e19\\u0e19: 55\",\"\\u0e04\\u0e30\\u0e41\\u0e19\\u0e19: 31\"],\"marker\":{\"color\":[\"#A96E7F\",\"#D69593\",\"#794B69\",\"#492D53\",\"#5B5581\"],\"size\":25,\"symbol\":\"circle\"},\"mode\":\"markers+text\",\"name\":\"Scatter Plot\",\"text\":[\"2\",\"1\",\"20\",\"55\",\"31\"],\"textposition\":\"top center\",\"x\":[\"\\u0e44\\u0e21\\u0e48\\u0e40\\u0e2b\\u0e47\\u0e19\\u0e14\\u0e49\\u0e27\\u0e22\\u0e2d\\u0e22\\u0e48\\u0e32\\u0e07\\u0e22\\u0e34\\u0e48\\u0e07\",\"\\u0e44\\u0e21\\u0e48\\u0e40\\u0e2b\\u0e47\\u0e19\\u0e14\\u0e49\\u0e27\\u0e22 \",\"\\u0e40\\u0e2b\\u0e47\\u0e19\\u0e14\\u0e49\\u0e27\\u0e22\\u0e1b\\u0e32\\u0e19\\u0e01\\u0e25\\u0e32\\u0e07\",\"\\u0e40\\u0e2b\\u0e47\\u0e19\\u0e14\\u0e49\\u0e27\\u0e22\\u0e21\\u0e32\\u0e01\",\"\\u0e40\\u0e2b\\u0e47\\u0e19\\u0e14\\u0e49\\u0e27\\u0e22\\u0e21\\u0e32\\u0e01\\u0e17\\u0e35\\u0e48\\u0e2a\\u0e38\\u0e14\"],\"y\":[2,1,20,55,31],\"type\":\"scatter\"}],                        {\"template\":{\"data\":{\"histogram2dcontour\":[{\"type\":\"histogram2dcontour\",\"colorbar\":{\"outlinewidth\":0,\"ticks\":\"\"},\"colorscale\":[[0.0,\"#0d0887\"],[0.1111111111111111,\"#46039f\"],[0.2222222222222222,\"#7201a8\"],[0.3333333333333333,\"#9c179e\"],[0.4444444444444444,\"#bd3786\"],[0.5555555555555556,\"#d8576b\"],[0.6666666666666666,\"#ed7953\"],[0.7777777777777778,\"#fb9f3a\"],[0.8888888888888888,\"#fdca26\"],[1.0,\"#f0f921\"]]}],\"choropleth\":[{\"type\":\"choropleth\",\"colorbar\":{\"outlinewidth\":0,\"ticks\":\"\"}}],\"histogram2d\":[{\"type\":\"histogram2d\",\"colorbar\":{\"outlinewidth\":0,\"ticks\":\"\"},\"colorscale\":[[0.0,\"#0d0887\"],[0.1111111111111111,\"#46039f\"],[0.2222222222222222,\"#7201a8\"],[0.3333333333333333,\"#9c179e\"],[0.4444444444444444,\"#bd3786\"],[0.5555555555555556,\"#d8576b\"],[0.6666666666666666,\"#ed7953\"],[0.7777777777777778,\"#fb9f3a\"],[0.8888888888888888,\"#fdca26\"],[1.0,\"#f0f921\"]]}],\"heatmap\":[{\"type\":\"heatmap\",\"colorbar\":{\"outlinewidth\":0,\"ticks\":\"\"},\"colorscale\":[[0.0,\"#0d0887\"],[0.1111111111111111,\"#46039f\"],[0.2222222222222222,\"#7201a8\"],[0.3333333333333333,\"#9c179e\"],[0.4444444444444444,\"#bd3786\"],[0.5555555555555556,\"#d8576b\"],[0.6666666666666666,\"#ed7953\"],[0.7777777777777778,\"#fb9f3a\"],[0.8888888888888888,\"#fdca26\"],[1.0,\"#f0f921\"]]}],\"heatmapgl\":[{\"type\":\"heatmapgl\",\"colorbar\":{\"outlinewidth\":0,\"ticks\":\"\"},\"colorscale\":[[0.0,\"#0d0887\"],[0.1111111111111111,\"#46039f\"],[0.2222222222222222,\"#7201a8\"],[0.3333333333333333,\"#9c179e\"],[0.4444444444444444,\"#bd3786\"],[0.5555555555555556,\"#d8576b\"],[0.6666666666666666,\"#ed7953\"],[0.7777777777777778,\"#fb9f3a\"],[0.8888888888888888,\"#fdca26\"],[1.0,\"#f0f921\"]]}],\"contourcarpet\":[{\"type\":\"contourcarpet\",\"colorbar\":{\"outlinewidth\":0,\"ticks\":\"\"}}],\"contour\":[{\"type\":\"contour\",\"colorbar\":{\"outlinewidth\":0,\"ticks\":\"\"},\"colorscale\":[[0.0,\"#0d0887\"],[0.1111111111111111,\"#46039f\"],[0.2222222222222222,\"#7201a8\"],[0.3333333333333333,\"#9c179e\"],[0.4444444444444444,\"#bd3786\"],[0.5555555555555556,\"#d8576b\"],[0.6666666666666666,\"#ed7953\"],[0.7777777777777778,\"#fb9f3a\"],[0.8888888888888888,\"#fdca26\"],[1.0,\"#f0f921\"]]}],\"surface\":[{\"type\":\"surface\",\"colorbar\":{\"outlinewidth\":0,\"ticks\":\"\"},\"colorscale\":[[0.0,\"#0d0887\"],[0.1111111111111111,\"#46039f\"],[0.2222222222222222,\"#7201a8\"],[0.3333333333333333,\"#9c179e\"],[0.4444444444444444,\"#bd3786\"],[0.5555555555555556,\"#d8576b\"],[0.6666666666666666,\"#ed7953\"],[0.7777777777777778,\"#fb9f3a\"],[0.8888888888888888,\"#fdca26\"],[1.0,\"#f0f921\"]]}],\"mesh3d\":[{\"type\":\"mesh3d\",\"colorbar\":{\"outlinewidth\":0,\"ticks\":\"\"}}],\"scatter\":[{\"fillpattern\":{\"fillmode\":\"overlay\",\"size\":10,\"solidity\":0.2},\"type\":\"scatter\"}],\"parcoords\":[{\"type\":\"parcoords\",\"line\":{\"colorbar\":{\"outlinewidth\":0,\"ticks\":\"\"}}}],\"scatterpolargl\":[{\"type\":\"scatterpolargl\",\"marker\":{\"colorbar\":{\"outlinewidth\":0,\"ticks\":\"\"}}}],\"bar\":[{\"error_x\":{\"color\":\"#2a3f5f\"},\"error_y\":{\"color\":\"#2a3f5f\"},\"marker\":{\"line\":{\"color\":\"#E5ECF6\",\"width\":0.5},\"pattern\":{\"fillmode\":\"overlay\",\"size\":10,\"solidity\":0.2}},\"type\":\"bar\"}],\"scattergeo\":[{\"type\":\"scattergeo\",\"marker\":{\"colorbar\":{\"outlinewidth\":0,\"ticks\":\"\"}}}],\"scatterpolar\":[{\"type\":\"scatterpolar\",\"marker\":{\"colorbar\":{\"outlinewidth\":0,\"ticks\":\"\"}}}],\"histogram\":[{\"marker\":{\"pattern\":{\"fillmode\":\"overlay\",\"size\":10,\"solidity\":0.2}},\"type\":\"histogram\"}],\"scattergl\":[{\"type\":\"scattergl\",\"marker\":{\"colorbar\":{\"outlinewidth\":0,\"ticks\":\"\"}}}],\"scatter3d\":[{\"type\":\"scatter3d\",\"line\":{\"colorbar\":{\"outlinewidth\":0,\"ticks\":\"\"}},\"marker\":{\"colorbar\":{\"outlinewidth\":0,\"ticks\":\"\"}}}],\"scattermapbox\":[{\"type\":\"scattermapbox\",\"marker\":{\"colorbar\":{\"outlinewidth\":0,\"ticks\":\"\"}}}],\"scatterternary\":[{\"type\":\"scatterternary\",\"marker\":{\"colorbar\":{\"outlinewidth\":0,\"ticks\":\"\"}}}],\"scattercarpet\":[{\"type\":\"scattercarpet\",\"marker\":{\"colorbar\":{\"outlinewidth\":0,\"ticks\":\"\"}}}],\"carpet\":[{\"aaxis\":{\"endlinecolor\":\"#2a3f5f\",\"gridcolor\":\"white\",\"linecolor\":\"white\",\"minorgridcolor\":\"white\",\"startlinecolor\":\"#2a3f5f\"},\"baxis\":{\"endlinecolor\":\"#2a3f5f\",\"gridcolor\":\"white\",\"linecolor\":\"white\",\"minorgridcolor\":\"white\",\"startlinecolor\":\"#2a3f5f\"},\"type\":\"carpet\"}],\"table\":[{\"cells\":{\"fill\":{\"color\":\"#EBF0F8\"},\"line\":{\"color\":\"white\"}},\"header\":{\"fill\":{\"color\":\"#C8D4E3\"},\"line\":{\"color\":\"white\"}},\"type\":\"table\"}],\"barpolar\":[{\"marker\":{\"line\":{\"color\":\"#E5ECF6\",\"width\":0.5},\"pattern\":{\"fillmode\":\"overlay\",\"size\":10,\"solidity\":0.2}},\"type\":\"barpolar\"}],\"pie\":[{\"automargin\":true,\"type\":\"pie\"}]},\"layout\":{\"autotypenumbers\":\"strict\",\"colorway\":[\"#636efa\",\"#EF553B\",\"#00cc96\",\"#ab63fa\",\"#FFA15A\",\"#19d3f3\",\"#FF6692\",\"#B6E880\",\"#FF97FF\",\"#FECB52\"],\"font\":{\"color\":\"#2a3f5f\"},\"hovermode\":\"closest\",\"hoverlabel\":{\"align\":\"left\"},\"paper_bgcolor\":\"white\",\"plot_bgcolor\":\"#E5ECF6\",\"polar\":{\"bgcolor\":\"#E5ECF6\",\"angularaxis\":{\"gridcolor\":\"white\",\"linecolor\":\"white\",\"ticks\":\"\"},\"radialaxis\":{\"gridcolor\":\"white\",\"linecolor\":\"white\",\"ticks\":\"\"}},\"ternary\":{\"bgcolor\":\"#E5ECF6\",\"aaxis\":{\"gridcolor\":\"white\",\"linecolor\":\"white\",\"ticks\":\"\"},\"baxis\":{\"gridcolor\":\"white\",\"linecolor\":\"white\",\"ticks\":\"\"},\"caxis\":{\"gridcolor\":\"white\",\"linecolor\":\"white\",\"ticks\":\"\"}},\"coloraxis\":{\"colorbar\":{\"outlinewidth\":0,\"ticks\":\"\"}},\"colorscale\":{\"sequential\":[[0.0,\"#0d0887\"],[0.1111111111111111,\"#46039f\"],[0.2222222222222222,\"#7201a8\"],[0.3333333333333333,\"#9c179e\"],[0.4444444444444444,\"#bd3786\"],[0.5555555555555556,\"#d8576b\"],[0.6666666666666666,\"#ed7953\"],[0.7777777777777778,\"#fb9f3a\"],[0.8888888888888888,\"#fdca26\"],[1.0,\"#f0f921\"]],\"sequentialminus\":[[0.0,\"#0d0887\"],[0.1111111111111111,\"#46039f\"],[0.2222222222222222,\"#7201a8\"],[0.3333333333333333,\"#9c179e\"],[0.4444444444444444,\"#bd3786\"],[0.5555555555555556,\"#d8576b\"],[0.6666666666666666,\"#ed7953\"],[0.7777777777777778,\"#fb9f3a\"],[0.8888888888888888,\"#fdca26\"],[1.0,\"#f0f921\"]],\"diverging\":[[0,\"#8e0152\"],[0.1,\"#c51b7d\"],[0.2,\"#de77ae\"],[0.3,\"#f1b6da\"],[0.4,\"#fde0ef\"],[0.5,\"#f7f7f7\"],[0.6,\"#e6f5d0\"],[0.7,\"#b8e186\"],[0.8,\"#7fbc41\"],[0.9,\"#4d9221\"],[1,\"#276419\"]]},\"xaxis\":{\"gridcolor\":\"white\",\"linecolor\":\"white\",\"ticks\":\"\",\"title\":{\"standoff\":15},\"zerolinecolor\":\"white\",\"automargin\":true,\"zerolinewidth\":2},\"yaxis\":{\"gridcolor\":\"white\",\"linecolor\":\"white\",\"ticks\":\"\",\"title\":{\"standoff\":15},\"zerolinecolor\":\"white\",\"automargin\":true,\"zerolinewidth\":2},\"scene\":{\"xaxis\":{\"backgroundcolor\":\"#E5ECF6\",\"gridcolor\":\"white\",\"linecolor\":\"white\",\"showbackground\":true,\"ticks\":\"\",\"zerolinecolor\":\"white\",\"gridwidth\":2},\"yaxis\":{\"backgroundcolor\":\"#E5ECF6\",\"gridcolor\":\"white\",\"linecolor\":\"white\",\"showbackground\":true,\"ticks\":\"\",\"zerolinecolor\":\"white\",\"gridwidth\":2},\"zaxis\":{\"backgroundcolor\":\"#E5ECF6\",\"gridcolor\":\"white\",\"linecolor\":\"white\",\"showbackground\":true,\"ticks\":\"\",\"zerolinecolor\":\"white\",\"gridwidth\":2}},\"shapedefaults\":{\"line\":{\"color\":\"#2a3f5f\"}},\"annotationdefaults\":{\"arrowcolor\":\"#2a3f5f\",\"arrowhead\":0,\"arrowwidth\":1},\"geo\":{\"bgcolor\":\"white\",\"landcolor\":\"#E5ECF6\",\"subunitcolor\":\"white\",\"showland\":true,\"showlakes\":true,\"lakecolor\":\"white\"},\"title\":{\"x\":0.05},\"mapbox\":{\"style\":\"light\"}}},\"title\":{\"text\":\"\\u0e04\\u0e27\\u0e32\\u0e21\\u0e1e\\u0e36\\u0e07\\u0e1e\\u0e2d\\u0e43\\u0e08\\u0e01\\u0e31\\u0e1a\\u0e2a\\u0e20\\u0e32\\u0e1e\\u0e41\\u0e27\\u0e14\\u0e25\\u0e49\\u0e2d\\u0e21\\u0e01\\u0e32\\u0e23\\u0e40\\u0e23\\u0e35\\u0e22\\u0e19\\u0e23\\u0e39\\u0e49\",\"x\":0.5},\"font\":{\"family\":\"TH Sarabun New\"},\"height\":700,\"width\":800},                        {\"responsive\": true}                    ).then(function(){\n",
              "                            \n",
              "var gd = document.getElementById('f0de59be-ace5-48e7-81cb-09aeebef57e4');\n",
              "var x = new MutationObserver(function (mutations, observer) {{\n",
              "        var display = window.getComputedStyle(gd).display;\n",
              "        if (!display || display === 'none') {{\n",
              "            console.log([gd, 'removed!']);\n",
              "            Plotly.purge(gd);\n",
              "            observer.disconnect();\n",
              "        }}\n",
              "}});\n",
              "\n",
              "// Listen for the removal of the full notebook cells\n",
              "var notebookContainer = gd.closest('#notebook-container');\n",
              "if (notebookContainer) {{\n",
              "    x.observe(notebookContainer, {childList: true});\n",
              "}}\n",
              "\n",
              "// Listen for the clearing of the current output cell\n",
              "var outputEl = gd.closest('.output');\n",
              "if (outputEl) {{\n",
              "    x.observe(outputEl, {childList: true});\n",
              "}}\n",
              "\n",
              "                        })                };                            </script>        </div>\n",
              "</body>\n",
              "</html>"
            ]
          },
          "metadata": {},
          "output_type": "display_data"
        }
      ],
      "source": [
        "A='เห็นด้วยมากที่สุด'\n",
        "B='เห็นด้วยมาก'\n",
        "C='เห็นด้วยปานกลาง'\n",
        "D='ไม่เห็นด้วย '\n",
        "E='ไม่เห็นด้วยอย่างยิ่ง'\n",
        "x_values = [E, D, C, B, A]\n",
        "y_values = [2, 1, 20, 55, 31]\n",
        "hover_text = [\"คะแนน: \" + str(val) for val in y_values]\n",
        "point_positions = [2, 1, 20, 55, 31]\n",
        "colors = ['#A96E7F', '#D69593', '#794B69','#492D53','#5B5581']\n",
        "fig = go.Figure()\n",
        "fig.add_trace(go.Scatter(\n",
        "    x=x_values,\n",
        "    y=y_values,\n",
        "    mode='markers+text',\n",
        "    name='Scatter Plot',\n",
        "    marker=dict(\n",
        "        size=25,\n",
        "        symbol='circle',\n",
        "        color=colors\n",
        "    ),\n",
        "    text=point_positions,\n",
        "    textposition='top center',\n",
        "    hovertext=hover_text\n",
        "))\n",
        "fig.update_layout(title='ความพึงพอใจกับสภาพแวดล้อมการเรียนรู้')\n",
        "\n",
        "fig.update_layout(\n",
        "    font_family=\"TH Sarabun New\",\n",
        "    height=700, width=800,\n",
        "    title={\n",
        "        'text': \"ความพึงพอใจกับสภาพแวดล้อมการเรียนรู้\",\n",
        "        'x': 0.5}\n",
        " )\n",
        "\n",
        "fig.show()"
      ]
    },
    {
      "cell_type": "markdown",
      "metadata": {
        "id": "nZGi0n1qfXld"
      },
      "source": [
        "**ท่านคิดว่าสภาพแวดล้อมการเรียนรู้มีผลต่อประสิทธิภาพในการเรียนการสอน**"
      ]
    },
    {
      "cell_type": "code",
      "execution_count": null,
      "metadata": {
        "colab": {
          "base_uri": "https://localhost:8080/"
        },
        "id": "6AJ-dtvEffZj",
        "outputId": "f2eee213-3799-4186-9522-e79c525f7ca8"
      },
      "outputs": [
        {
          "name": "stdout",
          "output_type": "stream",
          "text": [
            "{5: 82, 4: 24, 3: 3}\n"
          ]
        }
      ],
      "source": [
        "column_position = 7\n",
        "\n",
        "data_exam = data.iloc[:, column_position].value_counts()\n",
        "\n",
        "data_exam_dict = data_exam.to_dict()\n",
        "\n",
        "print(data_exam_dict)"
      ]
    },
    {
      "cell_type": "code",
      "execution_count": null,
      "metadata": {
        "colab": {
          "base_uri": "https://localhost:8080/",
          "height": 717
        },
        "id": "wqIpOuS0f8PV",
        "outputId": "bd42e239-e6d3-4d28-dfff-6f8e2a7fe0bd"
      },
      "outputs": [
        {
          "data": {
            "text/html": [
              "<html>\n",
              "<head><meta charset=\"utf-8\" /></head>\n",
              "<body>\n",
              "    <div>            <script src=\"https://cdnjs.cloudflare.com/ajax/libs/mathjax/2.7.5/MathJax.js?config=TeX-AMS-MML_SVG\"></script><script type=\"text/javascript\">if (window.MathJax && window.MathJax.Hub && window.MathJax.Hub.Config) {window.MathJax.Hub.Config({SVG: {font: \"STIX-Web\"}});}</script>                <script type=\"text/javascript\">window.PlotlyConfig = {MathJaxConfig: 'local'};</script>\n",
              "        <script charset=\"utf-8\" src=\"https://cdn.plot.ly/plotly-2.24.1.min.js\"></script>                <div id=\"fd205fda-c70b-49a3-9569-1911215510c8\" class=\"plotly-graph-div\" style=\"height:700px; width:800px;\"></div>            <script type=\"text/javascript\">                                    window.PLOTLYENV=window.PLOTLYENV || {};                                    if (document.getElementById(\"fd205fda-c70b-49a3-9569-1911215510c8\")) {                    Plotly.newPlot(                        \"fd205fda-c70b-49a3-9569-1911215510c8\",                        [{\"marker\":{\"color\":[\"#A96E7F\",\"#D69593\",\"#794B69\",\"#5B5581\",\"#492D53\"],\"size\":[0,0,3,24,82],\"sizemin\":4,\"sizemode\":\"diameter\",\"sizeref\":0.41},\"mode\":\"markers+text\",\"text\":[\"0\",\"0\",\"3\",\"24\",\"82\"],\"textposition\":\"bottom center\",\"x\":[\"\\u0e44\\u0e21\\u0e48\\u0e40\\u0e2b\\u0e47\\u0e19\\u0e14\\u0e49\\u0e27\\u0e22\\u0e2d\\u0e22\\u0e48\\u0e32\\u0e07\\u0e22\\u0e34\\u0e48\\u0e07\",\"\\u0e44\\u0e21\\u0e48\\u0e40\\u0e2b\\u0e47\\u0e19\\u0e14\\u0e49\\u0e27\\u0e22 \",\"\\u0e40\\u0e2b\\u0e47\\u0e19\\u0e14\\u0e49\\u0e27\\u0e22\\u0e1b\\u0e32\\u0e19\\u0e01\\u0e25\\u0e32\\u0e07\",\"\\u0e40\\u0e2b\\u0e47\\u0e19\\u0e14\\u0e49\\u0e27\\u0e22\\u0e21\\u0e32\\u0e01\",\"\\u0e40\\u0e2b\\u0e47\\u0e19\\u0e14\\u0e49\\u0e27\\u0e22\\u0e21\\u0e32\\u0e01\\u0e17\\u0e35\\u0e48\\u0e2a\\u0e38\\u0e14\"],\"y\":[0,0,3,24,82],\"type\":\"scatter\"}],                        {\"template\":{\"data\":{\"histogram2dcontour\":[{\"type\":\"histogram2dcontour\",\"colorbar\":{\"outlinewidth\":0,\"ticks\":\"\"},\"colorscale\":[[0.0,\"#0d0887\"],[0.1111111111111111,\"#46039f\"],[0.2222222222222222,\"#7201a8\"],[0.3333333333333333,\"#9c179e\"],[0.4444444444444444,\"#bd3786\"],[0.5555555555555556,\"#d8576b\"],[0.6666666666666666,\"#ed7953\"],[0.7777777777777778,\"#fb9f3a\"],[0.8888888888888888,\"#fdca26\"],[1.0,\"#f0f921\"]]}],\"choropleth\":[{\"type\":\"choropleth\",\"colorbar\":{\"outlinewidth\":0,\"ticks\":\"\"}}],\"histogram2d\":[{\"type\":\"histogram2d\",\"colorbar\":{\"outlinewidth\":0,\"ticks\":\"\"},\"colorscale\":[[0.0,\"#0d0887\"],[0.1111111111111111,\"#46039f\"],[0.2222222222222222,\"#7201a8\"],[0.3333333333333333,\"#9c179e\"],[0.4444444444444444,\"#bd3786\"],[0.5555555555555556,\"#d8576b\"],[0.6666666666666666,\"#ed7953\"],[0.7777777777777778,\"#fb9f3a\"],[0.8888888888888888,\"#fdca26\"],[1.0,\"#f0f921\"]]}],\"heatmap\":[{\"type\":\"heatmap\",\"colorbar\":{\"outlinewidth\":0,\"ticks\":\"\"},\"colorscale\":[[0.0,\"#0d0887\"],[0.1111111111111111,\"#46039f\"],[0.2222222222222222,\"#7201a8\"],[0.3333333333333333,\"#9c179e\"],[0.4444444444444444,\"#bd3786\"],[0.5555555555555556,\"#d8576b\"],[0.6666666666666666,\"#ed7953\"],[0.7777777777777778,\"#fb9f3a\"],[0.8888888888888888,\"#fdca26\"],[1.0,\"#f0f921\"]]}],\"heatmapgl\":[{\"type\":\"heatmapgl\",\"colorbar\":{\"outlinewidth\":0,\"ticks\":\"\"},\"colorscale\":[[0.0,\"#0d0887\"],[0.1111111111111111,\"#46039f\"],[0.2222222222222222,\"#7201a8\"],[0.3333333333333333,\"#9c179e\"],[0.4444444444444444,\"#bd3786\"],[0.5555555555555556,\"#d8576b\"],[0.6666666666666666,\"#ed7953\"],[0.7777777777777778,\"#fb9f3a\"],[0.8888888888888888,\"#fdca26\"],[1.0,\"#f0f921\"]]}],\"contourcarpet\":[{\"type\":\"contourcarpet\",\"colorbar\":{\"outlinewidth\":0,\"ticks\":\"\"}}],\"contour\":[{\"type\":\"contour\",\"colorbar\":{\"outlinewidth\":0,\"ticks\":\"\"},\"colorscale\":[[0.0,\"#0d0887\"],[0.1111111111111111,\"#46039f\"],[0.2222222222222222,\"#7201a8\"],[0.3333333333333333,\"#9c179e\"],[0.4444444444444444,\"#bd3786\"],[0.5555555555555556,\"#d8576b\"],[0.6666666666666666,\"#ed7953\"],[0.7777777777777778,\"#fb9f3a\"],[0.8888888888888888,\"#fdca26\"],[1.0,\"#f0f921\"]]}],\"surface\":[{\"type\":\"surface\",\"colorbar\":{\"outlinewidth\":0,\"ticks\":\"\"},\"colorscale\":[[0.0,\"#0d0887\"],[0.1111111111111111,\"#46039f\"],[0.2222222222222222,\"#7201a8\"],[0.3333333333333333,\"#9c179e\"],[0.4444444444444444,\"#bd3786\"],[0.5555555555555556,\"#d8576b\"],[0.6666666666666666,\"#ed7953\"],[0.7777777777777778,\"#fb9f3a\"],[0.8888888888888888,\"#fdca26\"],[1.0,\"#f0f921\"]]}],\"mesh3d\":[{\"type\":\"mesh3d\",\"colorbar\":{\"outlinewidth\":0,\"ticks\":\"\"}}],\"scatter\":[{\"fillpattern\":{\"fillmode\":\"overlay\",\"size\":10,\"solidity\":0.2},\"type\":\"scatter\"}],\"parcoords\":[{\"type\":\"parcoords\",\"line\":{\"colorbar\":{\"outlinewidth\":0,\"ticks\":\"\"}}}],\"scatterpolargl\":[{\"type\":\"scatterpolargl\",\"marker\":{\"colorbar\":{\"outlinewidth\":0,\"ticks\":\"\"}}}],\"bar\":[{\"error_x\":{\"color\":\"#2a3f5f\"},\"error_y\":{\"color\":\"#2a3f5f\"},\"marker\":{\"line\":{\"color\":\"#E5ECF6\",\"width\":0.5},\"pattern\":{\"fillmode\":\"overlay\",\"size\":10,\"solidity\":0.2}},\"type\":\"bar\"}],\"scattergeo\":[{\"type\":\"scattergeo\",\"marker\":{\"colorbar\":{\"outlinewidth\":0,\"ticks\":\"\"}}}],\"scatterpolar\":[{\"type\":\"scatterpolar\",\"marker\":{\"colorbar\":{\"outlinewidth\":0,\"ticks\":\"\"}}}],\"histogram\":[{\"marker\":{\"pattern\":{\"fillmode\":\"overlay\",\"size\":10,\"solidity\":0.2}},\"type\":\"histogram\"}],\"scattergl\":[{\"type\":\"scattergl\",\"marker\":{\"colorbar\":{\"outlinewidth\":0,\"ticks\":\"\"}}}],\"scatter3d\":[{\"type\":\"scatter3d\",\"line\":{\"colorbar\":{\"outlinewidth\":0,\"ticks\":\"\"}},\"marker\":{\"colorbar\":{\"outlinewidth\":0,\"ticks\":\"\"}}}],\"scattermapbox\":[{\"type\":\"scattermapbox\",\"marker\":{\"colorbar\":{\"outlinewidth\":0,\"ticks\":\"\"}}}],\"scatterternary\":[{\"type\":\"scatterternary\",\"marker\":{\"colorbar\":{\"outlinewidth\":0,\"ticks\":\"\"}}}],\"scattercarpet\":[{\"type\":\"scattercarpet\",\"marker\":{\"colorbar\":{\"outlinewidth\":0,\"ticks\":\"\"}}}],\"carpet\":[{\"aaxis\":{\"endlinecolor\":\"#2a3f5f\",\"gridcolor\":\"white\",\"linecolor\":\"white\",\"minorgridcolor\":\"white\",\"startlinecolor\":\"#2a3f5f\"},\"baxis\":{\"endlinecolor\":\"#2a3f5f\",\"gridcolor\":\"white\",\"linecolor\":\"white\",\"minorgridcolor\":\"white\",\"startlinecolor\":\"#2a3f5f\"},\"type\":\"carpet\"}],\"table\":[{\"cells\":{\"fill\":{\"color\":\"#EBF0F8\"},\"line\":{\"color\":\"white\"}},\"header\":{\"fill\":{\"color\":\"#C8D4E3\"},\"line\":{\"color\":\"white\"}},\"type\":\"table\"}],\"barpolar\":[{\"marker\":{\"line\":{\"color\":\"#E5ECF6\",\"width\":0.5},\"pattern\":{\"fillmode\":\"overlay\",\"size\":10,\"solidity\":0.2}},\"type\":\"barpolar\"}],\"pie\":[{\"automargin\":true,\"type\":\"pie\"}]},\"layout\":{\"autotypenumbers\":\"strict\",\"colorway\":[\"#636efa\",\"#EF553B\",\"#00cc96\",\"#ab63fa\",\"#FFA15A\",\"#19d3f3\",\"#FF6692\",\"#B6E880\",\"#FF97FF\",\"#FECB52\"],\"font\":{\"color\":\"#2a3f5f\"},\"hovermode\":\"closest\",\"hoverlabel\":{\"align\":\"left\"},\"paper_bgcolor\":\"white\",\"plot_bgcolor\":\"#E5ECF6\",\"polar\":{\"bgcolor\":\"#E5ECF6\",\"angularaxis\":{\"gridcolor\":\"white\",\"linecolor\":\"white\",\"ticks\":\"\"},\"radialaxis\":{\"gridcolor\":\"white\",\"linecolor\":\"white\",\"ticks\":\"\"}},\"ternary\":{\"bgcolor\":\"#E5ECF6\",\"aaxis\":{\"gridcolor\":\"white\",\"linecolor\":\"white\",\"ticks\":\"\"},\"baxis\":{\"gridcolor\":\"white\",\"linecolor\":\"white\",\"ticks\":\"\"},\"caxis\":{\"gridcolor\":\"white\",\"linecolor\":\"white\",\"ticks\":\"\"}},\"coloraxis\":{\"colorbar\":{\"outlinewidth\":0,\"ticks\":\"\"}},\"colorscale\":{\"sequential\":[[0.0,\"#0d0887\"],[0.1111111111111111,\"#46039f\"],[0.2222222222222222,\"#7201a8\"],[0.3333333333333333,\"#9c179e\"],[0.4444444444444444,\"#bd3786\"],[0.5555555555555556,\"#d8576b\"],[0.6666666666666666,\"#ed7953\"],[0.7777777777777778,\"#fb9f3a\"],[0.8888888888888888,\"#fdca26\"],[1.0,\"#f0f921\"]],\"sequentialminus\":[[0.0,\"#0d0887\"],[0.1111111111111111,\"#46039f\"],[0.2222222222222222,\"#7201a8\"],[0.3333333333333333,\"#9c179e\"],[0.4444444444444444,\"#bd3786\"],[0.5555555555555556,\"#d8576b\"],[0.6666666666666666,\"#ed7953\"],[0.7777777777777778,\"#fb9f3a\"],[0.8888888888888888,\"#fdca26\"],[1.0,\"#f0f921\"]],\"diverging\":[[0,\"#8e0152\"],[0.1,\"#c51b7d\"],[0.2,\"#de77ae\"],[0.3,\"#f1b6da\"],[0.4,\"#fde0ef\"],[0.5,\"#f7f7f7\"],[0.6,\"#e6f5d0\"],[0.7,\"#b8e186\"],[0.8,\"#7fbc41\"],[0.9,\"#4d9221\"],[1,\"#276419\"]]},\"xaxis\":{\"gridcolor\":\"white\",\"linecolor\":\"white\",\"ticks\":\"\",\"title\":{\"standoff\":15},\"zerolinecolor\":\"white\",\"automargin\":true,\"zerolinewidth\":2},\"yaxis\":{\"gridcolor\":\"white\",\"linecolor\":\"white\",\"ticks\":\"\",\"title\":{\"standoff\":15},\"zerolinecolor\":\"white\",\"automargin\":true,\"zerolinewidth\":2},\"scene\":{\"xaxis\":{\"backgroundcolor\":\"#E5ECF6\",\"gridcolor\":\"white\",\"linecolor\":\"white\",\"showbackground\":true,\"ticks\":\"\",\"zerolinecolor\":\"white\",\"gridwidth\":2},\"yaxis\":{\"backgroundcolor\":\"#E5ECF6\",\"gridcolor\":\"white\",\"linecolor\":\"white\",\"showbackground\":true,\"ticks\":\"\",\"zerolinecolor\":\"white\",\"gridwidth\":2},\"zaxis\":{\"backgroundcolor\":\"#E5ECF6\",\"gridcolor\":\"white\",\"linecolor\":\"white\",\"showbackground\":true,\"ticks\":\"\",\"zerolinecolor\":\"white\",\"gridwidth\":2}},\"shapedefaults\":{\"line\":{\"color\":\"#2a3f5f\"}},\"annotationdefaults\":{\"arrowcolor\":\"#2a3f5f\",\"arrowhead\":0,\"arrowwidth\":1},\"geo\":{\"bgcolor\":\"white\",\"landcolor\":\"#E5ECF6\",\"subunitcolor\":\"white\",\"showland\":true,\"showlakes\":true,\"lakecolor\":\"white\"},\"title\":{\"x\":0.05},\"mapbox\":{\"style\":\"light\"}}},\"font\":{\"family\":\"TH Sarabun New\"},\"title\":{\"text\":\"\\u0e17\\u0e48\\u0e32\\u0e19\\u0e23\\u0e39\\u0e49\\u0e2a\\u0e36\\u0e01\\u0e27\\u0e48\\u0e32\\u0e2a\\u0e20\\u0e32\\u0e1e\\u0e41\\u0e27\\u0e14\\u0e25\\u0e49\\u0e2d\\u0e21\\u0e01\\u0e32\\u0e23\\u0e40\\u0e23\\u0e35\\u0e22\\u0e19\\u0e23\\u0e39\\u0e49\\u0e21\\u0e35\\u0e1c\\u0e25\\u0e15\\u0e48\\u0e2d\\u0e1b\\u0e23\\u0e30\\u0e2a\\u0e34\\u0e17\\u0e18\\u0e34\\u0e20\\u0e32\\u0e1e\\u0e43\\u0e19\\u0e01\\u0e32\\u0e23\\u0e40\\u0e23\\u0e35\\u0e22\\u0e19\\u0e01\\u0e32\\u0e23\\u0e2a\\u0e2d\\u0e19\",\"x\":0.5},\"xaxis\":{\"title\":{\"text\":\"\\u0e04\\u0e27\\u0e32\\u0e21\\u0e40\\u0e2b\\u0e47\\u0e19\"}},\"yaxis\":{\"title\":{\"text\":\"\\u0e08\\u0e33\\u0e19\\u0e27\\u0e19\"}},\"height\":700,\"width\":800},                        {\"responsive\": true}                    ).then(function(){\n",
              "                            \n",
              "var gd = document.getElementById('fd205fda-c70b-49a3-9569-1911215510c8');\n",
              "var x = new MutationObserver(function (mutations, observer) {{\n",
              "        var display = window.getComputedStyle(gd).display;\n",
              "        if (!display || display === 'none') {{\n",
              "            console.log([gd, 'removed!']);\n",
              "            Plotly.purge(gd);\n",
              "            observer.disconnect();\n",
              "        }}\n",
              "}});\n",
              "\n",
              "// Listen for the removal of the full notebook cells\n",
              "var notebookContainer = gd.closest('#notebook-container');\n",
              "if (notebookContainer) {{\n",
              "    x.observe(notebookContainer, {childList: true});\n",
              "}}\n",
              "\n",
              "// Listen for the clearing of the current output cell\n",
              "var outputEl = gd.closest('.output');\n",
              "if (outputEl) {{\n",
              "    x.observe(outputEl, {childList: true});\n",
              "}}\n",
              "\n",
              "                        })                };                            </script>        </div>\n",
              "</body>\n",
              "</html>"
            ]
          },
          "metadata": {},
          "output_type": "display_data"
        }
      ],
      "source": [
        "A='เห็นด้วยมากที่สุด'\n",
        "B='เห็นด้วยมาก'\n",
        "C='เห็นด้วยปานกลาง'\n",
        "D='ไม่เห็นด้วย '\n",
        "E='ไม่เห็นด้วยอย่างยิ่ง'\n",
        "x_values = [E,D, C, B, A]\n",
        "y_values = [0, 0, 3, 24, 82]\n",
        "bubble_sizes = [0, 0, 3, 24, 82]\n",
        "bubble_labels = [str(size) for size in bubble_sizes]\n",
        "colors = ['#A96E7F', '#D69593', '#794B69','#5B5581','#492D53']\n",
        "fig = go.Figure(go.Scatter(\n",
        "    x=x_values,\n",
        "    y=y_values,\n",
        "    mode='markers+text',\n",
        "    text=bubble_labels,\n",
        "    textposition='bottom center',\n",
        "    marker=dict(\n",
        "        size=bubble_sizes,\n",
        "        sizemode='diameter',\n",
        "        sizeref=2.*max(bubble_sizes)/(20.**2),\n",
        "        sizemin=4,\n",
        "        color=colors\n",
        "    )\n",
        "))\n",
        "fig.update_layout(\n",
        "    xaxis=dict(title='ความเห็น'),\n",
        "    yaxis=dict(title='จำนวน'),\n",
        "    font_family=\"TH Sarabun New\",\n",
        "    height=700, width=800,\n",
        "    title={\n",
        "        'text': \"ท่านรู้สึกว่าสภาพแวดล้อมการเรียนรู้มีผลต่อประสิทธิภาพในการเรียนการสอน\",\n",
        "        'x': 0.5}\n",
        ")\n",
        "fig.show()\n"
      ]
    },
    {
      "cell_type": "markdown",
      "metadata": {
        "id": "eErTtQm_gV7l"
      },
      "source": [
        "**ท่านมีความพึงพอใจในวิธีการสอนของครูหรืออาจารย์**"
      ]
    },
    {
      "cell_type": "code",
      "execution_count": null,
      "metadata": {
        "colab": {
          "base_uri": "https://localhost:8080/"
        },
        "id": "z_RP_TXKgVmI",
        "outputId": "d7722f5a-a710-4a4a-88b1-508970a6393b"
      },
      "outputs": [
        {
          "name": "stdout",
          "output_type": "stream",
          "text": [
            "{3: 49, 4: 40, 5: 13, 2: 7}\n"
          ]
        }
      ],
      "source": [
        "column_position = 8\n",
        "\n",
        "data_exam = data.iloc[:, column_position].value_counts()\n",
        "\n",
        "data_exam_dict = data_exam.to_dict()\n",
        "\n",
        "print(data_exam_dict)"
      ]
    },
    {
      "cell_type": "code",
      "execution_count": null,
      "metadata": {
        "colab": {
          "base_uri": "https://localhost:8080/",
          "height": 717
        },
        "id": "zTYmEKbCgbcN",
        "outputId": "d1f9f4f1-1364-4f54-f123-b6d902d44572"
      },
      "outputs": [
        {
          "data": {
            "text/html": [
              "<html>\n",
              "<head><meta charset=\"utf-8\" /></head>\n",
              "<body>\n",
              "    <div>            <script src=\"https://cdnjs.cloudflare.com/ajax/libs/mathjax/2.7.5/MathJax.js?config=TeX-AMS-MML_SVG\"></script><script type=\"text/javascript\">if (window.MathJax && window.MathJax.Hub && window.MathJax.Hub.Config) {window.MathJax.Hub.Config({SVG: {font: \"STIX-Web\"}});}</script>                <script type=\"text/javascript\">window.PlotlyConfig = {MathJaxConfig: 'local'};</script>\n",
              "        <script charset=\"utf-8\" src=\"https://cdn.plot.ly/plotly-2.24.1.min.js\"></script>                <div id=\"6807f3a7-fbec-4fe5-9951-bbedc0bcdec9\" class=\"plotly-graph-div\" style=\"height:700px; width:1000px;\"></div>            <script type=\"text/javascript\">                                    window.PLOTLYENV=window.PLOTLYENV || {};                                    if (document.getElementById(\"6807f3a7-fbec-4fe5-9951-bbedc0bcdec9\")) {                    Plotly.newPlot(                        \"6807f3a7-fbec-4fe5-9951-bbedc0bcdec9\",                        [{\"marker\":{\"color\":[\"rgb(255,237,111)\",\"rgb(204,235,197)\",\"rgb(188,128,189)\",\"rgb(217,217,217)\",\"rgb(252,205,229)\",\"rgb(179,222,105)\",\"rgb(253,180,98)\",\"rgb(128,177,211)\",\"rgb(251,128,114)\",\"rgb(190,186,218)\",\"rgb(255,255,179)\",\"rgb(141,211,199)\"]},\"textinfo\":\"value\",\"x\":[13,40,49,7,0],\"y\":[\"\\u0e40\\u0e2b\\u0e47\\u0e19\\u0e14\\u0e49\\u0e27\\u0e22\\u0e21\\u0e32\\u0e01\\u0e17\\u0e35\\u0e48\\u0e2a\\u0e38\\u0e14\",\"\\u0e40\\u0e2b\\u0e47\\u0e19\\u0e14\\u0e49\\u0e27\\u0e22\\u0e21\\u0e32\\u0e01\",\"\\u0e40\\u0e2b\\u0e47\\u0e19\\u0e14\\u0e49\\u0e27\\u0e22\\u0e1b\\u0e32\\u0e19\\u0e01\\u0e25\\u0e32\\u0e07\",\"\\u0e44\\u0e21\\u0e48\\u0e40\\u0e2b\\u0e47\\u0e19\\u0e14\\u0e49\\u0e27\\u0e22 \",\"\\u0e44\\u0e21\\u0e48\\u0e40\\u0e2b\\u0e47\\u0e19\\u0e14\\u0e49\\u0e27\\u0e22\\u0e2d\\u0e22\\u0e48\\u0e32\\u0e07\\u0e22\\u0e34\\u0e48\\u0e07\"],\"type\":\"funnel\"}],                        {\"template\":{\"data\":{\"histogram2dcontour\":[{\"type\":\"histogram2dcontour\",\"colorbar\":{\"outlinewidth\":0,\"ticks\":\"\"},\"colorscale\":[[0.0,\"#0d0887\"],[0.1111111111111111,\"#46039f\"],[0.2222222222222222,\"#7201a8\"],[0.3333333333333333,\"#9c179e\"],[0.4444444444444444,\"#bd3786\"],[0.5555555555555556,\"#d8576b\"],[0.6666666666666666,\"#ed7953\"],[0.7777777777777778,\"#fb9f3a\"],[0.8888888888888888,\"#fdca26\"],[1.0,\"#f0f921\"]]}],\"choropleth\":[{\"type\":\"choropleth\",\"colorbar\":{\"outlinewidth\":0,\"ticks\":\"\"}}],\"histogram2d\":[{\"type\":\"histogram2d\",\"colorbar\":{\"outlinewidth\":0,\"ticks\":\"\"},\"colorscale\":[[0.0,\"#0d0887\"],[0.1111111111111111,\"#46039f\"],[0.2222222222222222,\"#7201a8\"],[0.3333333333333333,\"#9c179e\"],[0.4444444444444444,\"#bd3786\"],[0.5555555555555556,\"#d8576b\"],[0.6666666666666666,\"#ed7953\"],[0.7777777777777778,\"#fb9f3a\"],[0.8888888888888888,\"#fdca26\"],[1.0,\"#f0f921\"]]}],\"heatmap\":[{\"type\":\"heatmap\",\"colorbar\":{\"outlinewidth\":0,\"ticks\":\"\"},\"colorscale\":[[0.0,\"#0d0887\"],[0.1111111111111111,\"#46039f\"],[0.2222222222222222,\"#7201a8\"],[0.3333333333333333,\"#9c179e\"],[0.4444444444444444,\"#bd3786\"],[0.5555555555555556,\"#d8576b\"],[0.6666666666666666,\"#ed7953\"],[0.7777777777777778,\"#fb9f3a\"],[0.8888888888888888,\"#fdca26\"],[1.0,\"#f0f921\"]]}],\"heatmapgl\":[{\"type\":\"heatmapgl\",\"colorbar\":{\"outlinewidth\":0,\"ticks\":\"\"},\"colorscale\":[[0.0,\"#0d0887\"],[0.1111111111111111,\"#46039f\"],[0.2222222222222222,\"#7201a8\"],[0.3333333333333333,\"#9c179e\"],[0.4444444444444444,\"#bd3786\"],[0.5555555555555556,\"#d8576b\"],[0.6666666666666666,\"#ed7953\"],[0.7777777777777778,\"#fb9f3a\"],[0.8888888888888888,\"#fdca26\"],[1.0,\"#f0f921\"]]}],\"contourcarpet\":[{\"type\":\"contourcarpet\",\"colorbar\":{\"outlinewidth\":0,\"ticks\":\"\"}}],\"contour\":[{\"type\":\"contour\",\"colorbar\":{\"outlinewidth\":0,\"ticks\":\"\"},\"colorscale\":[[0.0,\"#0d0887\"],[0.1111111111111111,\"#46039f\"],[0.2222222222222222,\"#7201a8\"],[0.3333333333333333,\"#9c179e\"],[0.4444444444444444,\"#bd3786\"],[0.5555555555555556,\"#d8576b\"],[0.6666666666666666,\"#ed7953\"],[0.7777777777777778,\"#fb9f3a\"],[0.8888888888888888,\"#fdca26\"],[1.0,\"#f0f921\"]]}],\"surface\":[{\"type\":\"surface\",\"colorbar\":{\"outlinewidth\":0,\"ticks\":\"\"},\"colorscale\":[[0.0,\"#0d0887\"],[0.1111111111111111,\"#46039f\"],[0.2222222222222222,\"#7201a8\"],[0.3333333333333333,\"#9c179e\"],[0.4444444444444444,\"#bd3786\"],[0.5555555555555556,\"#d8576b\"],[0.6666666666666666,\"#ed7953\"],[0.7777777777777778,\"#fb9f3a\"],[0.8888888888888888,\"#fdca26\"],[1.0,\"#f0f921\"]]}],\"mesh3d\":[{\"type\":\"mesh3d\",\"colorbar\":{\"outlinewidth\":0,\"ticks\":\"\"}}],\"scatter\":[{\"fillpattern\":{\"fillmode\":\"overlay\",\"size\":10,\"solidity\":0.2},\"type\":\"scatter\"}],\"parcoords\":[{\"type\":\"parcoords\",\"line\":{\"colorbar\":{\"outlinewidth\":0,\"ticks\":\"\"}}}],\"scatterpolargl\":[{\"type\":\"scatterpolargl\",\"marker\":{\"colorbar\":{\"outlinewidth\":0,\"ticks\":\"\"}}}],\"bar\":[{\"error_x\":{\"color\":\"#2a3f5f\"},\"error_y\":{\"color\":\"#2a3f5f\"},\"marker\":{\"line\":{\"color\":\"#E5ECF6\",\"width\":0.5},\"pattern\":{\"fillmode\":\"overlay\",\"size\":10,\"solidity\":0.2}},\"type\":\"bar\"}],\"scattergeo\":[{\"type\":\"scattergeo\",\"marker\":{\"colorbar\":{\"outlinewidth\":0,\"ticks\":\"\"}}}],\"scatterpolar\":[{\"type\":\"scatterpolar\",\"marker\":{\"colorbar\":{\"outlinewidth\":0,\"ticks\":\"\"}}}],\"histogram\":[{\"marker\":{\"pattern\":{\"fillmode\":\"overlay\",\"size\":10,\"solidity\":0.2}},\"type\":\"histogram\"}],\"scattergl\":[{\"type\":\"scattergl\",\"marker\":{\"colorbar\":{\"outlinewidth\":0,\"ticks\":\"\"}}}],\"scatter3d\":[{\"type\":\"scatter3d\",\"line\":{\"colorbar\":{\"outlinewidth\":0,\"ticks\":\"\"}},\"marker\":{\"colorbar\":{\"outlinewidth\":0,\"ticks\":\"\"}}}],\"scattermapbox\":[{\"type\":\"scattermapbox\",\"marker\":{\"colorbar\":{\"outlinewidth\":0,\"ticks\":\"\"}}}],\"scatterternary\":[{\"type\":\"scatterternary\",\"marker\":{\"colorbar\":{\"outlinewidth\":0,\"ticks\":\"\"}}}],\"scattercarpet\":[{\"type\":\"scattercarpet\",\"marker\":{\"colorbar\":{\"outlinewidth\":0,\"ticks\":\"\"}}}],\"carpet\":[{\"aaxis\":{\"endlinecolor\":\"#2a3f5f\",\"gridcolor\":\"white\",\"linecolor\":\"white\",\"minorgridcolor\":\"white\",\"startlinecolor\":\"#2a3f5f\"},\"baxis\":{\"endlinecolor\":\"#2a3f5f\",\"gridcolor\":\"white\",\"linecolor\":\"white\",\"minorgridcolor\":\"white\",\"startlinecolor\":\"#2a3f5f\"},\"type\":\"carpet\"}],\"table\":[{\"cells\":{\"fill\":{\"color\":\"#EBF0F8\"},\"line\":{\"color\":\"white\"}},\"header\":{\"fill\":{\"color\":\"#C8D4E3\"},\"line\":{\"color\":\"white\"}},\"type\":\"table\"}],\"barpolar\":[{\"marker\":{\"line\":{\"color\":\"#E5ECF6\",\"width\":0.5},\"pattern\":{\"fillmode\":\"overlay\",\"size\":10,\"solidity\":0.2}},\"type\":\"barpolar\"}],\"pie\":[{\"automargin\":true,\"type\":\"pie\"}]},\"layout\":{\"autotypenumbers\":\"strict\",\"colorway\":[\"#636efa\",\"#EF553B\",\"#00cc96\",\"#ab63fa\",\"#FFA15A\",\"#19d3f3\",\"#FF6692\",\"#B6E880\",\"#FF97FF\",\"#FECB52\"],\"font\":{\"color\":\"#2a3f5f\"},\"hovermode\":\"closest\",\"hoverlabel\":{\"align\":\"left\"},\"paper_bgcolor\":\"white\",\"plot_bgcolor\":\"#E5ECF6\",\"polar\":{\"bgcolor\":\"#E5ECF6\",\"angularaxis\":{\"gridcolor\":\"white\",\"linecolor\":\"white\",\"ticks\":\"\"},\"radialaxis\":{\"gridcolor\":\"white\",\"linecolor\":\"white\",\"ticks\":\"\"}},\"ternary\":{\"bgcolor\":\"#E5ECF6\",\"aaxis\":{\"gridcolor\":\"white\",\"linecolor\":\"white\",\"ticks\":\"\"},\"baxis\":{\"gridcolor\":\"white\",\"linecolor\":\"white\",\"ticks\":\"\"},\"caxis\":{\"gridcolor\":\"white\",\"linecolor\":\"white\",\"ticks\":\"\"}},\"coloraxis\":{\"colorbar\":{\"outlinewidth\":0,\"ticks\":\"\"}},\"colorscale\":{\"sequential\":[[0.0,\"#0d0887\"],[0.1111111111111111,\"#46039f\"],[0.2222222222222222,\"#7201a8\"],[0.3333333333333333,\"#9c179e\"],[0.4444444444444444,\"#bd3786\"],[0.5555555555555556,\"#d8576b\"],[0.6666666666666666,\"#ed7953\"],[0.7777777777777778,\"#fb9f3a\"],[0.8888888888888888,\"#fdca26\"],[1.0,\"#f0f921\"]],\"sequentialminus\":[[0.0,\"#0d0887\"],[0.1111111111111111,\"#46039f\"],[0.2222222222222222,\"#7201a8\"],[0.3333333333333333,\"#9c179e\"],[0.4444444444444444,\"#bd3786\"],[0.5555555555555556,\"#d8576b\"],[0.6666666666666666,\"#ed7953\"],[0.7777777777777778,\"#fb9f3a\"],[0.8888888888888888,\"#fdca26\"],[1.0,\"#f0f921\"]],\"diverging\":[[0,\"#8e0152\"],[0.1,\"#c51b7d\"],[0.2,\"#de77ae\"],[0.3,\"#f1b6da\"],[0.4,\"#fde0ef\"],[0.5,\"#f7f7f7\"],[0.6,\"#e6f5d0\"],[0.7,\"#b8e186\"],[0.8,\"#7fbc41\"],[0.9,\"#4d9221\"],[1,\"#276419\"]]},\"xaxis\":{\"gridcolor\":\"white\",\"linecolor\":\"white\",\"ticks\":\"\",\"title\":{\"standoff\":15},\"zerolinecolor\":\"white\",\"automargin\":true,\"zerolinewidth\":2},\"yaxis\":{\"gridcolor\":\"white\",\"linecolor\":\"white\",\"ticks\":\"\",\"title\":{\"standoff\":15},\"zerolinecolor\":\"white\",\"automargin\":true,\"zerolinewidth\":2},\"scene\":{\"xaxis\":{\"backgroundcolor\":\"#E5ECF6\",\"gridcolor\":\"white\",\"linecolor\":\"white\",\"showbackground\":true,\"ticks\":\"\",\"zerolinecolor\":\"white\",\"gridwidth\":2},\"yaxis\":{\"backgroundcolor\":\"#E5ECF6\",\"gridcolor\":\"white\",\"linecolor\":\"white\",\"showbackground\":true,\"ticks\":\"\",\"zerolinecolor\":\"white\",\"gridwidth\":2},\"zaxis\":{\"backgroundcolor\":\"#E5ECF6\",\"gridcolor\":\"white\",\"linecolor\":\"white\",\"showbackground\":true,\"ticks\":\"\",\"zerolinecolor\":\"white\",\"gridwidth\":2}},\"shapedefaults\":{\"line\":{\"color\":\"#2a3f5f\"}},\"annotationdefaults\":{\"arrowcolor\":\"#2a3f5f\",\"arrowhead\":0,\"arrowwidth\":1},\"geo\":{\"bgcolor\":\"white\",\"landcolor\":\"#E5ECF6\",\"subunitcolor\":\"white\",\"showland\":true,\"showlakes\":true,\"lakecolor\":\"white\"},\"title\":{\"x\":0.05},\"mapbox\":{\"style\":\"light\"}}},\"font\":{\"family\":\"TH Sarabun New\"},\"title\":{\"text\":\"\\u0e04\\u0e27\\u0e32\\u0e21\\u0e1e\\u0e36\\u0e07\\u0e1e\\u0e2d\\u0e43\\u0e08\\u0e01\\u0e31\\u0e1a\\u0e27\\u0e34\\u0e18\\u0e35\\u0e01\\u0e32\\u0e23\\u0e2a\\u0e2d\\u0e19\\u0e02\\u0e2d\\u0e07\\u0e04\\u0e23\\u0e39\\u0e2b\\u0e23\\u0e37\\u0e2d\\u0e2d\\u0e32\\u0e08\\u0e32\\u0e23\\u0e22\\u0e4c\",\"x\":0.5},\"xaxis\":{\"title\":{\"text\":\"\\u0e04\\u0e27\\u0e32\\u0e21\\u0e40\\u0e2b\\u0e47\\u0e19\"}},\"yaxis\":{\"title\":{\"text\":\"\\u0e08\\u0e33\\u0e19\\u0e27\\u0e19\"}},\"height\":700,\"width\":1000},                        {\"responsive\": true}                    ).then(function(){\n",
              "                            \n",
              "var gd = document.getElementById('6807f3a7-fbec-4fe5-9951-bbedc0bcdec9');\n",
              "var x = new MutationObserver(function (mutations, observer) {{\n",
              "        var display = window.getComputedStyle(gd).display;\n",
              "        if (!display || display === 'none') {{\n",
              "            console.log([gd, 'removed!']);\n",
              "            Plotly.purge(gd);\n",
              "            observer.disconnect();\n",
              "        }}\n",
              "}});\n",
              "\n",
              "// Listen for the removal of the full notebook cells\n",
              "var notebookContainer = gd.closest('#notebook-container');\n",
              "if (notebookContainer) {{\n",
              "    x.observe(notebookContainer, {childList: true});\n",
              "}}\n",
              "\n",
              "// Listen for the clearing of the current output cell\n",
              "var outputEl = gd.closest('.output');\n",
              "if (outputEl) {{\n",
              "    x.observe(outputEl, {childList: true});\n",
              "}}\n",
              "\n",
              "                        })                };                            </script>        </div>\n",
              "</body>\n",
              "</html>"
            ]
          },
          "metadata": {},
          "output_type": "display_data"
        }
      ],
      "source": [
        "A='เห็นด้วยมากที่สุด'\n",
        "B='เห็นด้วยมาก'\n",
        "C='เห็นด้วยปานกลาง'\n",
        "D='ไม่เห็นด้วย '\n",
        "E='ไม่เห็นด้วยอย่างยิ่ง'\n",
        "labels = [A, B, C, D, E]\n",
        "values = [13, 40, 49, 7, 0]\n",
        "colors = ['#C6AC84', '#E2E5CC',\t'#D9C2BD',\t'#A2C4C6',\t'#82B2B7']\n",
        "\n",
        "fig = go.Figure(go.Funnel(\n",
        "    y=labels,\n",
        "    x=values,\n",
        "    textinfo=\"value\",\n",
        "    #marker=dict(color=colors)\n",
        "    marker=dict(color=px.colors.qualitative.Set3_r)\n",
        "))\n",
        "\n",
        "fig.update_layout(\n",
        "    xaxis=dict(title='ความเห็น'),\n",
        "    yaxis=dict(title='จำนวน'),\n",
        "    font_family=\"TH Sarabun New\",\n",
        "    height=700, width=1000,\n",
        "    title={\n",
        "        'text': \"ความพึงพอใจกับวิธีการสอนของครูหรืออาจารย์\",\n",
        "        'x': 0.5}\n",
        ")\n",
        "\n",
        "fig.show()"
      ]
    },
    {
      "cell_type": "markdown",
      "metadata": {
        "id": "BE8HA4o8gida"
      },
      "source": [
        "**ท่านรู้สึกว่าครูหรืออาจารย์มีส่วนร่วมในการสร้างประสบการณ์การเรียนที่ดี**"
      ]
    },
    {
      "cell_type": "code",
      "execution_count": null,
      "metadata": {
        "colab": {
          "base_uri": "https://localhost:8080/"
        },
        "id": "gTSWQVyBgq42",
        "outputId": "18c9107d-a477-49f5-849e-feac772c12bd"
      },
      "outputs": [
        {
          "name": "stdout",
          "output_type": "stream",
          "text": [
            "{5: 53, 4: 39, 3: 14, 2: 2, 1: 1}\n"
          ]
        }
      ],
      "source": [
        "column_position = 9\n",
        "\n",
        "data_exam = data.iloc[:, column_position].value_counts()\n",
        "\n",
        "data_exam_dict = data_exam.to_dict()\n",
        "\n",
        "print(data_exam_dict)"
      ]
    },
    {
      "cell_type": "code",
      "execution_count": null,
      "metadata": {
        "colab": {
          "base_uri": "https://localhost:8080/",
          "height": 717
        },
        "id": "zhZeJxRzgvWU",
        "outputId": "954f36f3-345d-4fa5-afba-1180b38f821d"
      },
      "outputs": [
        {
          "data": {
            "text/html": [
              "<html>\n",
              "<head><meta charset=\"utf-8\" /></head>\n",
              "<body>\n",
              "    <div>            <script src=\"https://cdnjs.cloudflare.com/ajax/libs/mathjax/2.7.5/MathJax.js?config=TeX-AMS-MML_SVG\"></script><script type=\"text/javascript\">if (window.MathJax && window.MathJax.Hub && window.MathJax.Hub.Config) {window.MathJax.Hub.Config({SVG: {font: \"STIX-Web\"}});}</script>                <script type=\"text/javascript\">window.PlotlyConfig = {MathJaxConfig: 'local'};</script>\n",
              "        <script charset=\"utf-8\" src=\"https://cdn.plot.ly/plotly-2.24.1.min.js\"></script>                <div id=\"2973a330-9230-4731-a803-3ef6414fde42\" class=\"plotly-graph-div\" style=\"height:700px; width:800px;\"></div>            <script type=\"text/javascript\">                                    window.PLOTLYENV=window.PLOTLYENV || {};                                    if (document.getElementById(\"2973a330-9230-4731-a803-3ef6414fde42\")) {                    Plotly.newPlot(                        \"2973a330-9230-4731-a803-3ef6414fde42\",                        [{\"hovertemplate\":\"\\u0e02\\u0e19\\u0e32\\u0e14=%{y}\\u003cbr\\u003esize=%{marker.size}\\u003cbr\\u003etext=%{text}\\u003cbr\\u003ecolor=%{marker.color}\\u003cextra\\u003e\\u003c\\u002fextra\\u003e\",\"legendgroup\":\"\",\"marker\":{\"color\":[1,2,14,39,53],\"coloraxis\":\"coloraxis\",\"size\":[1,2,14,39,53],\"sizemode\":\"area\",\"sizeref\":0.1325,\"symbol\":\"circle\"},\"mode\":\"markers+text\",\"name\":\"\",\"orientation\":\"v\",\"showlegend\":false,\"text\":[\"\\u0e44\\u0e21\\u0e48\\u0e40\\u0e2b\\u0e47\\u0e19\\u0e14\\u0e49\\u0e27\\u0e22\\u0e2d\\u0e22\\u0e48\\u0e32\\u0e07\\u0e22\\u0e34\\u0e48\\u0e07=1\",\"\\u0e44\\u0e21\\u0e48\\u0e40\\u0e2b\\u0e47\\u0e19\\u0e14\\u0e49\\u0e27\\u0e22 =2\",\"\\u0e40\\u0e2b\\u0e47\\u0e19\\u0e14\\u0e49\\u0e27\\u0e22\\u0e1b\\u0e32\\u0e19\\u0e01\\u0e25\\u0e32\\u0e07=14\",\"\\u0e40\\u0e2b\\u0e47\\u0e19\\u0e14\\u0e49\\u0e27\\u0e22\\u0e21\\u0e32\\u0e01=39\",\"\\u0e40\\u0e2b\\u0e47\\u0e19\\u0e14\\u0e49\\u0e27\\u0e22\\u0e21\\u0e32\\u0e01\\u0e17\\u0e35\\u0e48\\u0e2a\\u0e38\\u0e14=53\"],\"x\":[1,2,14,39,53],\"xaxis\":\"x\",\"y\":[1,2,14,39,53],\"yaxis\":\"y\",\"type\":\"scatter\"}],                        {\"template\":{\"data\":{\"histogram2dcontour\":[{\"type\":\"histogram2dcontour\",\"colorbar\":{\"outlinewidth\":0,\"ticks\":\"\"},\"colorscale\":[[0.0,\"#0d0887\"],[0.1111111111111111,\"#46039f\"],[0.2222222222222222,\"#7201a8\"],[0.3333333333333333,\"#9c179e\"],[0.4444444444444444,\"#bd3786\"],[0.5555555555555556,\"#d8576b\"],[0.6666666666666666,\"#ed7953\"],[0.7777777777777778,\"#fb9f3a\"],[0.8888888888888888,\"#fdca26\"],[1.0,\"#f0f921\"]]}],\"choropleth\":[{\"type\":\"choropleth\",\"colorbar\":{\"outlinewidth\":0,\"ticks\":\"\"}}],\"histogram2d\":[{\"type\":\"histogram2d\",\"colorbar\":{\"outlinewidth\":0,\"ticks\":\"\"},\"colorscale\":[[0.0,\"#0d0887\"],[0.1111111111111111,\"#46039f\"],[0.2222222222222222,\"#7201a8\"],[0.3333333333333333,\"#9c179e\"],[0.4444444444444444,\"#bd3786\"],[0.5555555555555556,\"#d8576b\"],[0.6666666666666666,\"#ed7953\"],[0.7777777777777778,\"#fb9f3a\"],[0.8888888888888888,\"#fdca26\"],[1.0,\"#f0f921\"]]}],\"heatmap\":[{\"type\":\"heatmap\",\"colorbar\":{\"outlinewidth\":0,\"ticks\":\"\"},\"colorscale\":[[0.0,\"#0d0887\"],[0.1111111111111111,\"#46039f\"],[0.2222222222222222,\"#7201a8\"],[0.3333333333333333,\"#9c179e\"],[0.4444444444444444,\"#bd3786\"],[0.5555555555555556,\"#d8576b\"],[0.6666666666666666,\"#ed7953\"],[0.7777777777777778,\"#fb9f3a\"],[0.8888888888888888,\"#fdca26\"],[1.0,\"#f0f921\"]]}],\"heatmapgl\":[{\"type\":\"heatmapgl\",\"colorbar\":{\"outlinewidth\":0,\"ticks\":\"\"},\"colorscale\":[[0.0,\"#0d0887\"],[0.1111111111111111,\"#46039f\"],[0.2222222222222222,\"#7201a8\"],[0.3333333333333333,\"#9c179e\"],[0.4444444444444444,\"#bd3786\"],[0.5555555555555556,\"#d8576b\"],[0.6666666666666666,\"#ed7953\"],[0.7777777777777778,\"#fb9f3a\"],[0.8888888888888888,\"#fdca26\"],[1.0,\"#f0f921\"]]}],\"contourcarpet\":[{\"type\":\"contourcarpet\",\"colorbar\":{\"outlinewidth\":0,\"ticks\":\"\"}}],\"contour\":[{\"type\":\"contour\",\"colorbar\":{\"outlinewidth\":0,\"ticks\":\"\"},\"colorscale\":[[0.0,\"#0d0887\"],[0.1111111111111111,\"#46039f\"],[0.2222222222222222,\"#7201a8\"],[0.3333333333333333,\"#9c179e\"],[0.4444444444444444,\"#bd3786\"],[0.5555555555555556,\"#d8576b\"],[0.6666666666666666,\"#ed7953\"],[0.7777777777777778,\"#fb9f3a\"],[0.8888888888888888,\"#fdca26\"],[1.0,\"#f0f921\"]]}],\"surface\":[{\"type\":\"surface\",\"colorbar\":{\"outlinewidth\":0,\"ticks\":\"\"},\"colorscale\":[[0.0,\"#0d0887\"],[0.1111111111111111,\"#46039f\"],[0.2222222222222222,\"#7201a8\"],[0.3333333333333333,\"#9c179e\"],[0.4444444444444444,\"#bd3786\"],[0.5555555555555556,\"#d8576b\"],[0.6666666666666666,\"#ed7953\"],[0.7777777777777778,\"#fb9f3a\"],[0.8888888888888888,\"#fdca26\"],[1.0,\"#f0f921\"]]}],\"mesh3d\":[{\"type\":\"mesh3d\",\"colorbar\":{\"outlinewidth\":0,\"ticks\":\"\"}}],\"scatter\":[{\"fillpattern\":{\"fillmode\":\"overlay\",\"size\":10,\"solidity\":0.2},\"type\":\"scatter\"}],\"parcoords\":[{\"type\":\"parcoords\",\"line\":{\"colorbar\":{\"outlinewidth\":0,\"ticks\":\"\"}}}],\"scatterpolargl\":[{\"type\":\"scatterpolargl\",\"marker\":{\"colorbar\":{\"outlinewidth\":0,\"ticks\":\"\"}}}],\"bar\":[{\"error_x\":{\"color\":\"#2a3f5f\"},\"error_y\":{\"color\":\"#2a3f5f\"},\"marker\":{\"line\":{\"color\":\"#E5ECF6\",\"width\":0.5},\"pattern\":{\"fillmode\":\"overlay\",\"size\":10,\"solidity\":0.2}},\"type\":\"bar\"}],\"scattergeo\":[{\"type\":\"scattergeo\",\"marker\":{\"colorbar\":{\"outlinewidth\":0,\"ticks\":\"\"}}}],\"scatterpolar\":[{\"type\":\"scatterpolar\",\"marker\":{\"colorbar\":{\"outlinewidth\":0,\"ticks\":\"\"}}}],\"histogram\":[{\"marker\":{\"pattern\":{\"fillmode\":\"overlay\",\"size\":10,\"solidity\":0.2}},\"type\":\"histogram\"}],\"scattergl\":[{\"type\":\"scattergl\",\"marker\":{\"colorbar\":{\"outlinewidth\":0,\"ticks\":\"\"}}}],\"scatter3d\":[{\"type\":\"scatter3d\",\"line\":{\"colorbar\":{\"outlinewidth\":0,\"ticks\":\"\"}},\"marker\":{\"colorbar\":{\"outlinewidth\":0,\"ticks\":\"\"}}}],\"scattermapbox\":[{\"type\":\"scattermapbox\",\"marker\":{\"colorbar\":{\"outlinewidth\":0,\"ticks\":\"\"}}}],\"scatterternary\":[{\"type\":\"scatterternary\",\"marker\":{\"colorbar\":{\"outlinewidth\":0,\"ticks\":\"\"}}}],\"scattercarpet\":[{\"type\":\"scattercarpet\",\"marker\":{\"colorbar\":{\"outlinewidth\":0,\"ticks\":\"\"}}}],\"carpet\":[{\"aaxis\":{\"endlinecolor\":\"#2a3f5f\",\"gridcolor\":\"white\",\"linecolor\":\"white\",\"minorgridcolor\":\"white\",\"startlinecolor\":\"#2a3f5f\"},\"baxis\":{\"endlinecolor\":\"#2a3f5f\",\"gridcolor\":\"white\",\"linecolor\":\"white\",\"minorgridcolor\":\"white\",\"startlinecolor\":\"#2a3f5f\"},\"type\":\"carpet\"}],\"table\":[{\"cells\":{\"fill\":{\"color\":\"#EBF0F8\"},\"line\":{\"color\":\"white\"}},\"header\":{\"fill\":{\"color\":\"#C8D4E3\"},\"line\":{\"color\":\"white\"}},\"type\":\"table\"}],\"barpolar\":[{\"marker\":{\"line\":{\"color\":\"#E5ECF6\",\"width\":0.5},\"pattern\":{\"fillmode\":\"overlay\",\"size\":10,\"solidity\":0.2}},\"type\":\"barpolar\"}],\"pie\":[{\"automargin\":true,\"type\":\"pie\"}]},\"layout\":{\"autotypenumbers\":\"strict\",\"colorway\":[\"#636efa\",\"#EF553B\",\"#00cc96\",\"#ab63fa\",\"#FFA15A\",\"#19d3f3\",\"#FF6692\",\"#B6E880\",\"#FF97FF\",\"#FECB52\"],\"font\":{\"color\":\"#2a3f5f\"},\"hovermode\":\"closest\",\"hoverlabel\":{\"align\":\"left\"},\"paper_bgcolor\":\"white\",\"plot_bgcolor\":\"#E5ECF6\",\"polar\":{\"bgcolor\":\"#E5ECF6\",\"angularaxis\":{\"gridcolor\":\"white\",\"linecolor\":\"white\",\"ticks\":\"\"},\"radialaxis\":{\"gridcolor\":\"white\",\"linecolor\":\"white\",\"ticks\":\"\"}},\"ternary\":{\"bgcolor\":\"#E5ECF6\",\"aaxis\":{\"gridcolor\":\"white\",\"linecolor\":\"white\",\"ticks\":\"\"},\"baxis\":{\"gridcolor\":\"white\",\"linecolor\":\"white\",\"ticks\":\"\"},\"caxis\":{\"gridcolor\":\"white\",\"linecolor\":\"white\",\"ticks\":\"\"}},\"coloraxis\":{\"colorbar\":{\"outlinewidth\":0,\"ticks\":\"\"}},\"colorscale\":{\"sequential\":[[0.0,\"#0d0887\"],[0.1111111111111111,\"#46039f\"],[0.2222222222222222,\"#7201a8\"],[0.3333333333333333,\"#9c179e\"],[0.4444444444444444,\"#bd3786\"],[0.5555555555555556,\"#d8576b\"],[0.6666666666666666,\"#ed7953\"],[0.7777777777777778,\"#fb9f3a\"],[0.8888888888888888,\"#fdca26\"],[1.0,\"#f0f921\"]],\"sequentialminus\":[[0.0,\"#0d0887\"],[0.1111111111111111,\"#46039f\"],[0.2222222222222222,\"#7201a8\"],[0.3333333333333333,\"#9c179e\"],[0.4444444444444444,\"#bd3786\"],[0.5555555555555556,\"#d8576b\"],[0.6666666666666666,\"#ed7953\"],[0.7777777777777778,\"#fb9f3a\"],[0.8888888888888888,\"#fdca26\"],[1.0,\"#f0f921\"]],\"diverging\":[[0,\"#8e0152\"],[0.1,\"#c51b7d\"],[0.2,\"#de77ae\"],[0.3,\"#f1b6da\"],[0.4,\"#fde0ef\"],[0.5,\"#f7f7f7\"],[0.6,\"#e6f5d0\"],[0.7,\"#b8e186\"],[0.8,\"#7fbc41\"],[0.9,\"#4d9221\"],[1,\"#276419\"]]},\"xaxis\":{\"gridcolor\":\"white\",\"linecolor\":\"white\",\"ticks\":\"\",\"title\":{\"standoff\":15},\"zerolinecolor\":\"white\",\"automargin\":true,\"zerolinewidth\":2},\"yaxis\":{\"gridcolor\":\"white\",\"linecolor\":\"white\",\"ticks\":\"\",\"title\":{\"standoff\":15},\"zerolinecolor\":\"white\",\"automargin\":true,\"zerolinewidth\":2},\"scene\":{\"xaxis\":{\"backgroundcolor\":\"#E5ECF6\",\"gridcolor\":\"white\",\"linecolor\":\"white\",\"showbackground\":true,\"ticks\":\"\",\"zerolinecolor\":\"white\",\"gridwidth\":2},\"yaxis\":{\"backgroundcolor\":\"#E5ECF6\",\"gridcolor\":\"white\",\"linecolor\":\"white\",\"showbackground\":true,\"ticks\":\"\",\"zerolinecolor\":\"white\",\"gridwidth\":2},\"zaxis\":{\"backgroundcolor\":\"#E5ECF6\",\"gridcolor\":\"white\",\"linecolor\":\"white\",\"showbackground\":true,\"ticks\":\"\",\"zerolinecolor\":\"white\",\"gridwidth\":2}},\"shapedefaults\":{\"line\":{\"color\":\"#2a3f5f\"}},\"annotationdefaults\":{\"arrowcolor\":\"#2a3f5f\",\"arrowhead\":0,\"arrowwidth\":1},\"geo\":{\"bgcolor\":\"white\",\"landcolor\":\"#E5ECF6\",\"subunitcolor\":\"white\",\"showland\":true,\"showlakes\":true,\"lakecolor\":\"white\"},\"title\":{\"x\":0.05},\"mapbox\":{\"style\":\"light\"}}},\"xaxis\":{\"anchor\":\"y\",\"domain\":[0.0,1.0],\"title\":{\"text\":\"\\u0e04\\u0e27\\u0e32\\u0e21\\u0e40\\u0e2b\\u0e47\\u0e19\"}},\"yaxis\":{\"anchor\":\"x\",\"domain\":[0.0,1.0],\"title\":{\"text\":\"\\u0e08\\u0e33\\u0e19\\u0e27\\u0e19\"}},\"coloraxis\":{\"colorbar\":{\"title\":{\"text\":\"color\"}},\"colorscale\":[[0.0,\"#D69593\"],[0.25,\"#A96E7F\"],[0.5,\"#794B69\"],[0.75,\"#5B5581\"],[1.0,\"#492D53\"]]},\"legend\":{\"tracegroupgap\":0,\"itemsizing\":\"constant\"},\"margin\":{\"t\":60},\"showlegend\":false,\"font\":{\"family\":\"TH Sarabun New\"},\"title\":{\"text\":\"\\u0e17\\u0e48\\u0e32\\u0e19\\u0e23\\u0e39\\u0e49\\u0e2a\\u0e36\\u0e01\\u0e27\\u0e48\\u0e32\\u0e04\\u0e23\\u0e39\\u0e2b\\u0e23\\u0e37\\u0e2d\\u0e2d\\u0e32\\u0e08\\u0e32\\u0e23\\u0e22\\u0e4c\\u0e17\\u0e35\\u0e48\\u0e21\\u0e35\\u0e2a\\u0e48\\u0e27\\u0e19\\u0e23\\u0e48\\u0e27\\u0e21\\u0e43\\u0e19\\u0e01\\u0e32\\u0e23\\u0e2a\\u0e23\\u0e49\\u0e32\\u0e07\\u0e1b\\u0e23\\u0e30\\u0e2a\\u0e1a\\u0e01\\u0e32\\u0e23\\u0e13\\u0e4c\\u0e01\\u0e32\\u0e23\\u0e40\\u0e23\\u0e35\\u0e22\\u0e19\\u0e17\\u0e35\\u0e48\\u0e14\\u0e35\",\"x\":0.5},\"height\":700,\"width\":800},                        {\"responsive\": true}                    ).then(function(){\n",
              "                            \n",
              "var gd = document.getElementById('2973a330-9230-4731-a803-3ef6414fde42');\n",
              "var x = new MutationObserver(function (mutations, observer) {{\n",
              "        var display = window.getComputedStyle(gd).display;\n",
              "        if (!display || display === 'none') {{\n",
              "            console.log([gd, 'removed!']);\n",
              "            Plotly.purge(gd);\n",
              "            observer.disconnect();\n",
              "        }}\n",
              "}});\n",
              "\n",
              "// Listen for the removal of the full notebook cells\n",
              "var notebookContainer = gd.closest('#notebook-container');\n",
              "if (notebookContainer) {{\n",
              "    x.observe(notebookContainer, {childList: true});\n",
              "}}\n",
              "\n",
              "// Listen for the clearing of the current output cell\n",
              "var outputEl = gd.closest('.output');\n",
              "if (outputEl) {{\n",
              "    x.observe(outputEl, {childList: true});\n",
              "}}\n",
              "\n",
              "                        })                };                            </script>        </div>\n",
              "</body>\n",
              "</html>"
            ]
          },
          "metadata": {},
          "output_type": "display_data"
        }
      ],
      "source": [
        "\n",
        "A='เห็นด้วยมากที่สุด'\n",
        "B='เห็นด้วยมาก'\n",
        "C='เห็นด้วยปานกลาง'\n",
        "D='ไม่เห็นด้วย '\n",
        "E='ไม่เห็นด้วยอย่างยิ่ง'\n",
        "labels = [f'{E}=1', f'{D}=2', f'{C}=14', f'{B}=39',f'{A}=53']\n",
        "sizes = [1, 2, 14, 39, 53]\n",
        "\n",
        "colors = ['#D69593','#A96E7F', '#794B69','#5B5581','#492D53']\n",
        "\n",
        "fig = px.scatter(x=sizes, y=sizes, size=sizes, color=sizes, text=labels,\n",
        "                 labels={'x': 'ขนาด', 'y': 'ขนาด'}, color_continuous_scale=colors)\n",
        "\n",
        "fig.update_traces(marker=dict(line=dict(width=2, color='DarkSlateGrey')),\n",
        "                  selector=dict(mode='markers'))\n",
        "\n",
        "fig.update_layout(showlegend=False)\n",
        "\n",
        "fig.update_layout(\n",
        "    xaxis=dict(title='ความเห็น'),\n",
        "    yaxis=dict(title='จำนวน'),\n",
        "    font_family=\"TH Sarabun New\",\n",
        "    height=700, width=800,\n",
        "    title={\n",
        "        'text': \"ท่านรู้สึกว่าครูหรืออาจารย์ที่มีส่วนร่วมในการสร้างประสบการณ์การเรียนที่ดี\",\n",
        "        'x': 0.5}\n",
        ")\n",
        "\n",
        "fig.show()"
      ]
    },
    {
      "cell_type": "markdown",
      "metadata": {
        "id": "vPyg3DBMhHRP"
      },
      "source": [
        "**ท่านรู้สึกพึงพอใจกับการเรียนรู้ในระหว่างการเรียน**"
      ]
    },
    {
      "cell_type": "code",
      "execution_count": null,
      "metadata": {
        "colab": {
          "base_uri": "https://localhost:8080/"
        },
        "id": "_3eOAeNwg6kS",
        "outputId": "a4937058-7661-4ca7-a2e2-f538a0bc003e"
      },
      "outputs": [
        {
          "name": "stdout",
          "output_type": "stream",
          "text": [
            "{4: 42, 3: 39, 5: 22, 2: 5, 1: 1}\n"
          ]
        }
      ],
      "source": [
        "column_position = 10\n",
        "\n",
        "data_exam = data.iloc[:, column_position].value_counts()\n",
        "\n",
        "data_exam_dict = data_exam.to_dict()\n",
        "\n",
        "print(data_exam_dict)"
      ]
    },
    {
      "cell_type": "code",
      "execution_count": null,
      "metadata": {
        "colab": {
          "base_uri": "https://localhost:8080/"
        },
        "id": "AmIiSDdmg_Tu",
        "outputId": "c5a02b3b-a631-4aa5-a47a-e50ce824c869"
      },
      "outputs": [
        {
          "name": "stdout",
          "output_type": "stream",
          "text": [
            "Requirement already satisfied: squarify in /usr/local/lib/python3.10/dist-packages (0.4.3)\n"
          ]
        }
      ],
      "source": [
        "pip install squarify"
      ]
    },
    {
      "cell_type": "code",
      "execution_count": null,
      "metadata": {
        "colab": {
          "base_uri": "https://localhost:8080/",
          "height": 717
        },
        "id": "JhrgK0S5hF9z",
        "outputId": "523e7b2e-9a23-4b0c-bcc3-8f62573b160c"
      },
      "outputs": [
        {
          "data": {
            "text/html": [
              "<html>\n",
              "<head><meta charset=\"utf-8\" /></head>\n",
              "<body>\n",
              "    <div>            <script src=\"https://cdnjs.cloudflare.com/ajax/libs/mathjax/2.7.5/MathJax.js?config=TeX-AMS-MML_SVG\"></script><script type=\"text/javascript\">if (window.MathJax && window.MathJax.Hub && window.MathJax.Hub.Config) {window.MathJax.Hub.Config({SVG: {font: \"STIX-Web\"}});}</script>                <script type=\"text/javascript\">window.PlotlyConfig = {MathJaxConfig: 'local'};</script>\n",
              "        <script charset=\"utf-8\" src=\"https://cdn.plot.ly/plotly-2.24.1.min.js\"></script>                <div id=\"22314cad-16a4-4e3a-839e-247715a7fd99\" class=\"plotly-graph-div\" style=\"height:700px; width:1000px;\"></div>            <script type=\"text/javascript\">                                    window.PLOTLYENV=window.PLOTLYENV || {};                                    if (document.getElementById(\"22314cad-16a4-4e3a-839e-247715a7fd99\")) {                    Plotly.newPlot(                        \"22314cad-16a4-4e3a-839e-247715a7fd99\",                        [{\"branchvalues\":\"total\",\"domain\":{\"x\":[0.0,1.0],\"y\":[0.0,1.0]},\"hovertemplate\":\"labels=%{label}\\u003cbr\\u003esize=%{value}\\u003cbr\\u003eparent=%{parent}\\u003cbr\\u003eid=%{id}\\u003cextra\\u003e\\u003c\\u002fextra\\u003e\",\"ids\":[\"\\u0e40\\u0e2b\\u0e47\\u0e19\\u0e14\\u0e49\\u0e27\\u0e22\\u0e1b\\u0e32\\u0e19\\u0e01\\u0e25\\u0e32\\u0e07=39\",\"\\u0e40\\u0e2b\\u0e47\\u0e19\\u0e14\\u0e49\\u0e27\\u0e22\\u0e21\\u0e32\\u0e01=42\",\"\\u0e40\\u0e2b\\u0e47\\u0e19\\u0e14\\u0e49\\u0e27\\u0e22\\u0e21\\u0e32\\u0e01\\u0e17\\u0e35\\u0e48\\u0e2a\\u0e38\\u0e14=22\",\"\\u0e44\\u0e21\\u0e48\\u0e40\\u0e2b\\u0e47\\u0e19\\u0e14\\u0e49\\u0e27\\u0e22 =5\",\"\\u0e44\\u0e21\\u0e48\\u0e40\\u0e2b\\u0e47\\u0e19\\u0e14\\u0e49\\u0e27\\u0e22\\u0e2d\\u0e22\\u0e48\\u0e32\\u0e07\\u0e22\\u0e34\\u0e48\\u0e07=1\"],\"labels\":[\"\\u0e40\\u0e2b\\u0e47\\u0e19\\u0e14\\u0e49\\u0e27\\u0e22\\u0e1b\\u0e32\\u0e19\\u0e01\\u0e25\\u0e32\\u0e07=39\",\"\\u0e40\\u0e2b\\u0e47\\u0e19\\u0e14\\u0e49\\u0e27\\u0e22\\u0e21\\u0e32\\u0e01=42\",\"\\u0e40\\u0e2b\\u0e47\\u0e19\\u0e14\\u0e49\\u0e27\\u0e22\\u0e21\\u0e32\\u0e01\\u0e17\\u0e35\\u0e48\\u0e2a\\u0e38\\u0e14=22\",\"\\u0e44\\u0e21\\u0e48\\u0e40\\u0e2b\\u0e47\\u0e19\\u0e14\\u0e49\\u0e27\\u0e22 =5\",\"\\u0e44\\u0e21\\u0e48\\u0e40\\u0e2b\\u0e47\\u0e19\\u0e14\\u0e49\\u0e27\\u0e22\\u0e2d\\u0e22\\u0e48\\u0e32\\u0e07\\u0e22\\u0e34\\u0e48\\u0e07=1\"],\"name\":\"\",\"parents\":[\"\",\"\",\"\",\"\",\"\"],\"values\":[39,42,22,5,1],\"type\":\"treemap\",\"marker\":{\"colors\":[\"#C6AC84\",\"#E2E5CC\",\"#D9C2BD\",\"#A2C4C6\",\"#82B2B7\"]}}],                        {\"template\":{\"data\":{\"histogram2dcontour\":[{\"type\":\"histogram2dcontour\",\"colorbar\":{\"outlinewidth\":0,\"ticks\":\"\"},\"colorscale\":[[0.0,\"#0d0887\"],[0.1111111111111111,\"#46039f\"],[0.2222222222222222,\"#7201a8\"],[0.3333333333333333,\"#9c179e\"],[0.4444444444444444,\"#bd3786\"],[0.5555555555555556,\"#d8576b\"],[0.6666666666666666,\"#ed7953\"],[0.7777777777777778,\"#fb9f3a\"],[0.8888888888888888,\"#fdca26\"],[1.0,\"#f0f921\"]]}],\"choropleth\":[{\"type\":\"choropleth\",\"colorbar\":{\"outlinewidth\":0,\"ticks\":\"\"}}],\"histogram2d\":[{\"type\":\"histogram2d\",\"colorbar\":{\"outlinewidth\":0,\"ticks\":\"\"},\"colorscale\":[[0.0,\"#0d0887\"],[0.1111111111111111,\"#46039f\"],[0.2222222222222222,\"#7201a8\"],[0.3333333333333333,\"#9c179e\"],[0.4444444444444444,\"#bd3786\"],[0.5555555555555556,\"#d8576b\"],[0.6666666666666666,\"#ed7953\"],[0.7777777777777778,\"#fb9f3a\"],[0.8888888888888888,\"#fdca26\"],[1.0,\"#f0f921\"]]}],\"heatmap\":[{\"type\":\"heatmap\",\"colorbar\":{\"outlinewidth\":0,\"ticks\":\"\"},\"colorscale\":[[0.0,\"#0d0887\"],[0.1111111111111111,\"#46039f\"],[0.2222222222222222,\"#7201a8\"],[0.3333333333333333,\"#9c179e\"],[0.4444444444444444,\"#bd3786\"],[0.5555555555555556,\"#d8576b\"],[0.6666666666666666,\"#ed7953\"],[0.7777777777777778,\"#fb9f3a\"],[0.8888888888888888,\"#fdca26\"],[1.0,\"#f0f921\"]]}],\"heatmapgl\":[{\"type\":\"heatmapgl\",\"colorbar\":{\"outlinewidth\":0,\"ticks\":\"\"},\"colorscale\":[[0.0,\"#0d0887\"],[0.1111111111111111,\"#46039f\"],[0.2222222222222222,\"#7201a8\"],[0.3333333333333333,\"#9c179e\"],[0.4444444444444444,\"#bd3786\"],[0.5555555555555556,\"#d8576b\"],[0.6666666666666666,\"#ed7953\"],[0.7777777777777778,\"#fb9f3a\"],[0.8888888888888888,\"#fdca26\"],[1.0,\"#f0f921\"]]}],\"contourcarpet\":[{\"type\":\"contourcarpet\",\"colorbar\":{\"outlinewidth\":0,\"ticks\":\"\"}}],\"contour\":[{\"type\":\"contour\",\"colorbar\":{\"outlinewidth\":0,\"ticks\":\"\"},\"colorscale\":[[0.0,\"#0d0887\"],[0.1111111111111111,\"#46039f\"],[0.2222222222222222,\"#7201a8\"],[0.3333333333333333,\"#9c179e\"],[0.4444444444444444,\"#bd3786\"],[0.5555555555555556,\"#d8576b\"],[0.6666666666666666,\"#ed7953\"],[0.7777777777777778,\"#fb9f3a\"],[0.8888888888888888,\"#fdca26\"],[1.0,\"#f0f921\"]]}],\"surface\":[{\"type\":\"surface\",\"colorbar\":{\"outlinewidth\":0,\"ticks\":\"\"},\"colorscale\":[[0.0,\"#0d0887\"],[0.1111111111111111,\"#46039f\"],[0.2222222222222222,\"#7201a8\"],[0.3333333333333333,\"#9c179e\"],[0.4444444444444444,\"#bd3786\"],[0.5555555555555556,\"#d8576b\"],[0.6666666666666666,\"#ed7953\"],[0.7777777777777778,\"#fb9f3a\"],[0.8888888888888888,\"#fdca26\"],[1.0,\"#f0f921\"]]}],\"mesh3d\":[{\"type\":\"mesh3d\",\"colorbar\":{\"outlinewidth\":0,\"ticks\":\"\"}}],\"scatter\":[{\"fillpattern\":{\"fillmode\":\"overlay\",\"size\":10,\"solidity\":0.2},\"type\":\"scatter\"}],\"parcoords\":[{\"type\":\"parcoords\",\"line\":{\"colorbar\":{\"outlinewidth\":0,\"ticks\":\"\"}}}],\"scatterpolargl\":[{\"type\":\"scatterpolargl\",\"marker\":{\"colorbar\":{\"outlinewidth\":0,\"ticks\":\"\"}}}],\"bar\":[{\"error_x\":{\"color\":\"#2a3f5f\"},\"error_y\":{\"color\":\"#2a3f5f\"},\"marker\":{\"line\":{\"color\":\"#E5ECF6\",\"width\":0.5},\"pattern\":{\"fillmode\":\"overlay\",\"size\":10,\"solidity\":0.2}},\"type\":\"bar\"}],\"scattergeo\":[{\"type\":\"scattergeo\",\"marker\":{\"colorbar\":{\"outlinewidth\":0,\"ticks\":\"\"}}}],\"scatterpolar\":[{\"type\":\"scatterpolar\",\"marker\":{\"colorbar\":{\"outlinewidth\":0,\"ticks\":\"\"}}}],\"histogram\":[{\"marker\":{\"pattern\":{\"fillmode\":\"overlay\",\"size\":10,\"solidity\":0.2}},\"type\":\"histogram\"}],\"scattergl\":[{\"type\":\"scattergl\",\"marker\":{\"colorbar\":{\"outlinewidth\":0,\"ticks\":\"\"}}}],\"scatter3d\":[{\"type\":\"scatter3d\",\"line\":{\"colorbar\":{\"outlinewidth\":0,\"ticks\":\"\"}},\"marker\":{\"colorbar\":{\"outlinewidth\":0,\"ticks\":\"\"}}}],\"scattermapbox\":[{\"type\":\"scattermapbox\",\"marker\":{\"colorbar\":{\"outlinewidth\":0,\"ticks\":\"\"}}}],\"scatterternary\":[{\"type\":\"scatterternary\",\"marker\":{\"colorbar\":{\"outlinewidth\":0,\"ticks\":\"\"}}}],\"scattercarpet\":[{\"type\":\"scattercarpet\",\"marker\":{\"colorbar\":{\"outlinewidth\":0,\"ticks\":\"\"}}}],\"carpet\":[{\"aaxis\":{\"endlinecolor\":\"#2a3f5f\",\"gridcolor\":\"white\",\"linecolor\":\"white\",\"minorgridcolor\":\"white\",\"startlinecolor\":\"#2a3f5f\"},\"baxis\":{\"endlinecolor\":\"#2a3f5f\",\"gridcolor\":\"white\",\"linecolor\":\"white\",\"minorgridcolor\":\"white\",\"startlinecolor\":\"#2a3f5f\"},\"type\":\"carpet\"}],\"table\":[{\"cells\":{\"fill\":{\"color\":\"#EBF0F8\"},\"line\":{\"color\":\"white\"}},\"header\":{\"fill\":{\"color\":\"#C8D4E3\"},\"line\":{\"color\":\"white\"}},\"type\":\"table\"}],\"barpolar\":[{\"marker\":{\"line\":{\"color\":\"#E5ECF6\",\"width\":0.5},\"pattern\":{\"fillmode\":\"overlay\",\"size\":10,\"solidity\":0.2}},\"type\":\"barpolar\"}],\"pie\":[{\"automargin\":true,\"type\":\"pie\"}]},\"layout\":{\"autotypenumbers\":\"strict\",\"colorway\":[\"#636efa\",\"#EF553B\",\"#00cc96\",\"#ab63fa\",\"#FFA15A\",\"#19d3f3\",\"#FF6692\",\"#B6E880\",\"#FF97FF\",\"#FECB52\"],\"font\":{\"color\":\"#2a3f5f\"},\"hovermode\":\"closest\",\"hoverlabel\":{\"align\":\"left\"},\"paper_bgcolor\":\"white\",\"plot_bgcolor\":\"#E5ECF6\",\"polar\":{\"bgcolor\":\"#E5ECF6\",\"angularaxis\":{\"gridcolor\":\"white\",\"linecolor\":\"white\",\"ticks\":\"\"},\"radialaxis\":{\"gridcolor\":\"white\",\"linecolor\":\"white\",\"ticks\":\"\"}},\"ternary\":{\"bgcolor\":\"#E5ECF6\",\"aaxis\":{\"gridcolor\":\"white\",\"linecolor\":\"white\",\"ticks\":\"\"},\"baxis\":{\"gridcolor\":\"white\",\"linecolor\":\"white\",\"ticks\":\"\"},\"caxis\":{\"gridcolor\":\"white\",\"linecolor\":\"white\",\"ticks\":\"\"}},\"coloraxis\":{\"colorbar\":{\"outlinewidth\":0,\"ticks\":\"\"}},\"colorscale\":{\"sequential\":[[0.0,\"#0d0887\"],[0.1111111111111111,\"#46039f\"],[0.2222222222222222,\"#7201a8\"],[0.3333333333333333,\"#9c179e\"],[0.4444444444444444,\"#bd3786\"],[0.5555555555555556,\"#d8576b\"],[0.6666666666666666,\"#ed7953\"],[0.7777777777777778,\"#fb9f3a\"],[0.8888888888888888,\"#fdca26\"],[1.0,\"#f0f921\"]],\"sequentialminus\":[[0.0,\"#0d0887\"],[0.1111111111111111,\"#46039f\"],[0.2222222222222222,\"#7201a8\"],[0.3333333333333333,\"#9c179e\"],[0.4444444444444444,\"#bd3786\"],[0.5555555555555556,\"#d8576b\"],[0.6666666666666666,\"#ed7953\"],[0.7777777777777778,\"#fb9f3a\"],[0.8888888888888888,\"#fdca26\"],[1.0,\"#f0f921\"]],\"diverging\":[[0,\"#8e0152\"],[0.1,\"#c51b7d\"],[0.2,\"#de77ae\"],[0.3,\"#f1b6da\"],[0.4,\"#fde0ef\"],[0.5,\"#f7f7f7\"],[0.6,\"#e6f5d0\"],[0.7,\"#b8e186\"],[0.8,\"#7fbc41\"],[0.9,\"#4d9221\"],[1,\"#276419\"]]},\"xaxis\":{\"gridcolor\":\"white\",\"linecolor\":\"white\",\"ticks\":\"\",\"title\":{\"standoff\":15},\"zerolinecolor\":\"white\",\"automargin\":true,\"zerolinewidth\":2},\"yaxis\":{\"gridcolor\":\"white\",\"linecolor\":\"white\",\"ticks\":\"\",\"title\":{\"standoff\":15},\"zerolinecolor\":\"white\",\"automargin\":true,\"zerolinewidth\":2},\"scene\":{\"xaxis\":{\"backgroundcolor\":\"#E5ECF6\",\"gridcolor\":\"white\",\"linecolor\":\"white\",\"showbackground\":true,\"ticks\":\"\",\"zerolinecolor\":\"white\",\"gridwidth\":2},\"yaxis\":{\"backgroundcolor\":\"#E5ECF6\",\"gridcolor\":\"white\",\"linecolor\":\"white\",\"showbackground\":true,\"ticks\":\"\",\"zerolinecolor\":\"white\",\"gridwidth\":2},\"zaxis\":{\"backgroundcolor\":\"#E5ECF6\",\"gridcolor\":\"white\",\"linecolor\":\"white\",\"showbackground\":true,\"ticks\":\"\",\"zerolinecolor\":\"white\",\"gridwidth\":2}},\"shapedefaults\":{\"line\":{\"color\":\"#2a3f5f\"}},\"annotationdefaults\":{\"arrowcolor\":\"#2a3f5f\",\"arrowhead\":0,\"arrowwidth\":1},\"geo\":{\"bgcolor\":\"white\",\"landcolor\":\"#E5ECF6\",\"subunitcolor\":\"white\",\"showland\":true,\"showlakes\":true,\"lakecolor\":\"white\"},\"title\":{\"x\":0.05},\"mapbox\":{\"style\":\"light\"}}},\"legend\":{\"tracegroupgap\":0},\"margin\":{\"t\":60},\"font\":{\"family\":\"TH Sarabun New\"},\"title\":{\"text\":\"\\u0e04\\u0e27\\u0e32\\u0e21\\u0e1e\\u0e36\\u0e07\\u0e1e\\u0e2d\\u0e43\\u0e08\\u0e01\\u0e31\\u0e1a\\u0e01\\u0e32\\u0e23\\u0e40\\u0e23\\u0e35\\u0e22\\u0e19\\u0e23\\u0e39\\u0e49\\u0e43\\u0e19\\u0e23\\u0e30\\u0e2b\\u0e27\\u0e48\\u0e32\\u0e07\\u0e01\\u0e32\\u0e23\\u0e40\\u0e23\\u0e35\\u0e22\\u0e19\",\"x\":0.5},\"xaxis\":{\"title\":{\"text\":\"\\u0e04\\u0e27\\u0e32\\u0e21\\u0e40\\u0e2b\\u0e47\\u0e19\"}},\"yaxis\":{\"title\":{\"text\":\"\\u0e08\\u0e33\\u0e19\\u0e27\\u0e19\"}},\"height\":700,\"width\":1000},                        {\"responsive\": true}                    ).then(function(){\n",
              "                            \n",
              "var gd = document.getElementById('22314cad-16a4-4e3a-839e-247715a7fd99');\n",
              "var x = new MutationObserver(function (mutations, observer) {{\n",
              "        var display = window.getComputedStyle(gd).display;\n",
              "        if (!display || display === 'none') {{\n",
              "            console.log([gd, 'removed!']);\n",
              "            Plotly.purge(gd);\n",
              "            observer.disconnect();\n",
              "        }}\n",
              "}});\n",
              "\n",
              "// Listen for the removal of the full notebook cells\n",
              "var notebookContainer = gd.closest('#notebook-container');\n",
              "if (notebookContainer) {{\n",
              "    x.observe(notebookContainer, {childList: true});\n",
              "}}\n",
              "\n",
              "// Listen for the clearing of the current output cell\n",
              "var outputEl = gd.closest('.output');\n",
              "if (outputEl) {{\n",
              "    x.observe(outputEl, {childList: true});\n",
              "}}\n",
              "\n",
              "                        })                };                            </script>        </div>\n",
              "</body>\n",
              "</html>"
            ]
          },
          "metadata": {},
          "output_type": "display_data"
        }
      ],
      "source": [
        "import squarify\n",
        "A='เห็นด้วยมากที่สุด'\n",
        "B='เห็นด้วยมาก'\n",
        "C='เห็นด้วยปานกลาง'\n",
        "D='ไม่เห็นด้วย '\n",
        "E='ไม่เห็นด้วยอย่างยิ่ง'\n",
        "sizes = [1, 5, 39, 42, 22]\n",
        "labels = [f'{E}=1', f'{D}=5', f'{C}=39', f'{B}=42',f'{A}=22']\n",
        "data_feel = pd.DataFrame({'label': labels, 'size': sizes})\n",
        "\n",
        "fig = px.treemap(data_feel, path=['label'], values='size')\n",
        "\n",
        "colors = ['#C6AC84', '#E2E5CC',\t'#D9C2BD',\t'#A2C4C6',\t'#82B2B7']\n",
        "\n",
        "fig.update_traces(marker=dict(colors=colors))\n",
        "\n",
        "fig.update_layout(\n",
        "    xaxis=dict(title='ความเห็น'),\n",
        "    yaxis=dict(title='จำนวน'),\n",
        "    font_family=\"TH Sarabun New\",\n",
        "    height=700, width=1000,\n",
        "    title={\n",
        "        'text': \"ความพึงพอใจกับการเรียนรู้ในระหว่างการเรียน\",\n",
        "        'x': 0.5}\n",
        ")\n",
        "\n",
        "\n",
        "fig.show()"
      ]
    },
    {
      "cell_type": "markdown",
      "metadata": {
        "id": "WEr-3JgJhQIa"
      },
      "source": [
        "**ท่านรู้สึกว่าความตั้งใจในการเรียนรู้มีผลต่อการประสบความสำเร็จในการเรียน**"
      ]
    },
    {
      "cell_type": "code",
      "execution_count": null,
      "metadata": {
        "colab": {
          "base_uri": "https://localhost:8080/"
        },
        "id": "MNvkl2sZhUij",
        "outputId": "92a44701-8d15-4152-903e-d8c5891e2fc2"
      },
      "outputs": [
        {
          "name": "stdout",
          "output_type": "stream",
          "text": [
            "{5: 66, 4: 38, 3: 3, 2: 2}\n"
          ]
        }
      ],
      "source": [
        "column_position = 11\n",
        "\n",
        "data_exam = data.iloc[:, column_position].value_counts()\n",
        "\n",
        "data_exam_dict = data_exam.to_dict()\n",
        "\n",
        "print(data_exam_dict)"
      ]
    },
    {
      "cell_type": "code",
      "execution_count": null,
      "metadata": {
        "colab": {
          "base_uri": "https://localhost:8080/",
          "height": 717
        },
        "id": "prX28d3_hVx1",
        "outputId": "6b55ec9d-b2d5-4fac-f2f8-118f2ce9ad91"
      },
      "outputs": [
        {
          "data": {
            "text/html": [
              "<html>\n",
              "<head><meta charset=\"utf-8\" /></head>\n",
              "<body>\n",
              "    <div>            <script src=\"https://cdnjs.cloudflare.com/ajax/libs/mathjax/2.7.5/MathJax.js?config=TeX-AMS-MML_SVG\"></script><script type=\"text/javascript\">if (window.MathJax && window.MathJax.Hub && window.MathJax.Hub.Config) {window.MathJax.Hub.Config({SVG: {font: \"STIX-Web\"}});}</script>                <script type=\"text/javascript\">window.PlotlyConfig = {MathJaxConfig: 'local'};</script>\n",
              "        <script charset=\"utf-8\" src=\"https://cdn.plot.ly/plotly-2.24.1.min.js\"></script>                <div id=\"4bfc57ff-8601-453b-9aed-b3f71c8ea441\" class=\"plotly-graph-div\" style=\"height:700px; width:1000px;\"></div>            <script type=\"text/javascript\">                                    window.PLOTLYENV=window.PLOTLYENV || {};                                    if (document.getElementById(\"4bfc57ff-8601-453b-9aed-b3f71c8ea441\")) {                    Plotly.newPlot(                        \"4bfc57ff-8601-453b-9aed-b3f71c8ea441\",                        [{\"hole\":0.3,\"hoverinfo\":\"label+percent\",\"labels\":[\"\\u0e40\\u0e2b\\u0e47\\u0e19\\u0e14\\u0e49\\u0e27\\u0e22\\u0e21\\u0e32\\u0e01\\u0e17\\u0e35\\u0e48\\u0e2a\\u0e38\\u0e14=66\",\"\\u0e40\\u0e2b\\u0e47\\u0e19\\u0e14\\u0e49\\u0e27\\u0e22\\u0e21\\u0e32\\u0e01=38\",\"\\u0e40\\u0e2b\\u0e47\\u0e19\\u0e14\\u0e49\\u0e27\\u0e22\\u0e1b\\u0e32\\u0e19\\u0e01\\u0e25\\u0e32\\u0e07=3\",\"\\u0e44\\u0e21\\u0e48\\u0e40\\u0e2b\\u0e47\\u0e19\\u0e14\\u0e49\\u0e27\\u0e22 =2\",\"\\u0e44\\u0e21\\u0e48\\u0e40\\u0e2b\\u0e47\\u0e19\\u0e14\\u0e49\\u0e27\\u0e22\\u0e2d\\u0e22\\u0e48\\u0e32\\u0e07\\u0e22\\u0e34\\u0e48\\u0e07=0\"],\"marker\":{\"colors\":[\"rgb(255,237,111)\",\"rgb(204,235,197)\",\"rgb(188,128,189)\",\"rgb(217,217,217)\",\"rgb(252,205,229)\",\"rgb(179,222,105)\",\"rgb(253,180,98)\",\"rgb(128,177,211)\",\"rgb(251,128,114)\",\"rgb(190,186,218)\",\"rgb(255,255,179)\",\"rgb(141,211,199)\"]},\"pull\":[0.1,0,0,0,0],\"textinfo\":\"percent\",\"values\":[66,38,3,2,0],\"type\":\"pie\"}],                        {\"template\":{\"data\":{\"histogram2dcontour\":[{\"type\":\"histogram2dcontour\",\"colorbar\":{\"outlinewidth\":0,\"ticks\":\"\"},\"colorscale\":[[0.0,\"#0d0887\"],[0.1111111111111111,\"#46039f\"],[0.2222222222222222,\"#7201a8\"],[0.3333333333333333,\"#9c179e\"],[0.4444444444444444,\"#bd3786\"],[0.5555555555555556,\"#d8576b\"],[0.6666666666666666,\"#ed7953\"],[0.7777777777777778,\"#fb9f3a\"],[0.8888888888888888,\"#fdca26\"],[1.0,\"#f0f921\"]]}],\"choropleth\":[{\"type\":\"choropleth\",\"colorbar\":{\"outlinewidth\":0,\"ticks\":\"\"}}],\"histogram2d\":[{\"type\":\"histogram2d\",\"colorbar\":{\"outlinewidth\":0,\"ticks\":\"\"},\"colorscale\":[[0.0,\"#0d0887\"],[0.1111111111111111,\"#46039f\"],[0.2222222222222222,\"#7201a8\"],[0.3333333333333333,\"#9c179e\"],[0.4444444444444444,\"#bd3786\"],[0.5555555555555556,\"#d8576b\"],[0.6666666666666666,\"#ed7953\"],[0.7777777777777778,\"#fb9f3a\"],[0.8888888888888888,\"#fdca26\"],[1.0,\"#f0f921\"]]}],\"heatmap\":[{\"type\":\"heatmap\",\"colorbar\":{\"outlinewidth\":0,\"ticks\":\"\"},\"colorscale\":[[0.0,\"#0d0887\"],[0.1111111111111111,\"#46039f\"],[0.2222222222222222,\"#7201a8\"],[0.3333333333333333,\"#9c179e\"],[0.4444444444444444,\"#bd3786\"],[0.5555555555555556,\"#d8576b\"],[0.6666666666666666,\"#ed7953\"],[0.7777777777777778,\"#fb9f3a\"],[0.8888888888888888,\"#fdca26\"],[1.0,\"#f0f921\"]]}],\"heatmapgl\":[{\"type\":\"heatmapgl\",\"colorbar\":{\"outlinewidth\":0,\"ticks\":\"\"},\"colorscale\":[[0.0,\"#0d0887\"],[0.1111111111111111,\"#46039f\"],[0.2222222222222222,\"#7201a8\"],[0.3333333333333333,\"#9c179e\"],[0.4444444444444444,\"#bd3786\"],[0.5555555555555556,\"#d8576b\"],[0.6666666666666666,\"#ed7953\"],[0.7777777777777778,\"#fb9f3a\"],[0.8888888888888888,\"#fdca26\"],[1.0,\"#f0f921\"]]}],\"contourcarpet\":[{\"type\":\"contourcarpet\",\"colorbar\":{\"outlinewidth\":0,\"ticks\":\"\"}}],\"contour\":[{\"type\":\"contour\",\"colorbar\":{\"outlinewidth\":0,\"ticks\":\"\"},\"colorscale\":[[0.0,\"#0d0887\"],[0.1111111111111111,\"#46039f\"],[0.2222222222222222,\"#7201a8\"],[0.3333333333333333,\"#9c179e\"],[0.4444444444444444,\"#bd3786\"],[0.5555555555555556,\"#d8576b\"],[0.6666666666666666,\"#ed7953\"],[0.7777777777777778,\"#fb9f3a\"],[0.8888888888888888,\"#fdca26\"],[1.0,\"#f0f921\"]]}],\"surface\":[{\"type\":\"surface\",\"colorbar\":{\"outlinewidth\":0,\"ticks\":\"\"},\"colorscale\":[[0.0,\"#0d0887\"],[0.1111111111111111,\"#46039f\"],[0.2222222222222222,\"#7201a8\"],[0.3333333333333333,\"#9c179e\"],[0.4444444444444444,\"#bd3786\"],[0.5555555555555556,\"#d8576b\"],[0.6666666666666666,\"#ed7953\"],[0.7777777777777778,\"#fb9f3a\"],[0.8888888888888888,\"#fdca26\"],[1.0,\"#f0f921\"]]}],\"mesh3d\":[{\"type\":\"mesh3d\",\"colorbar\":{\"outlinewidth\":0,\"ticks\":\"\"}}],\"scatter\":[{\"fillpattern\":{\"fillmode\":\"overlay\",\"size\":10,\"solidity\":0.2},\"type\":\"scatter\"}],\"parcoords\":[{\"type\":\"parcoords\",\"line\":{\"colorbar\":{\"outlinewidth\":0,\"ticks\":\"\"}}}],\"scatterpolargl\":[{\"type\":\"scatterpolargl\",\"marker\":{\"colorbar\":{\"outlinewidth\":0,\"ticks\":\"\"}}}],\"bar\":[{\"error_x\":{\"color\":\"#2a3f5f\"},\"error_y\":{\"color\":\"#2a3f5f\"},\"marker\":{\"line\":{\"color\":\"#E5ECF6\",\"width\":0.5},\"pattern\":{\"fillmode\":\"overlay\",\"size\":10,\"solidity\":0.2}},\"type\":\"bar\"}],\"scattergeo\":[{\"type\":\"scattergeo\",\"marker\":{\"colorbar\":{\"outlinewidth\":0,\"ticks\":\"\"}}}],\"scatterpolar\":[{\"type\":\"scatterpolar\",\"marker\":{\"colorbar\":{\"outlinewidth\":0,\"ticks\":\"\"}}}],\"histogram\":[{\"marker\":{\"pattern\":{\"fillmode\":\"overlay\",\"size\":10,\"solidity\":0.2}},\"type\":\"histogram\"}],\"scattergl\":[{\"type\":\"scattergl\",\"marker\":{\"colorbar\":{\"outlinewidth\":0,\"ticks\":\"\"}}}],\"scatter3d\":[{\"type\":\"scatter3d\",\"line\":{\"colorbar\":{\"outlinewidth\":0,\"ticks\":\"\"}},\"marker\":{\"colorbar\":{\"outlinewidth\":0,\"ticks\":\"\"}}}],\"scattermapbox\":[{\"type\":\"scattermapbox\",\"marker\":{\"colorbar\":{\"outlinewidth\":0,\"ticks\":\"\"}}}],\"scatterternary\":[{\"type\":\"scatterternary\",\"marker\":{\"colorbar\":{\"outlinewidth\":0,\"ticks\":\"\"}}}],\"scattercarpet\":[{\"type\":\"scattercarpet\",\"marker\":{\"colorbar\":{\"outlinewidth\":0,\"ticks\":\"\"}}}],\"carpet\":[{\"aaxis\":{\"endlinecolor\":\"#2a3f5f\",\"gridcolor\":\"white\",\"linecolor\":\"white\",\"minorgridcolor\":\"white\",\"startlinecolor\":\"#2a3f5f\"},\"baxis\":{\"endlinecolor\":\"#2a3f5f\",\"gridcolor\":\"white\",\"linecolor\":\"white\",\"minorgridcolor\":\"white\",\"startlinecolor\":\"#2a3f5f\"},\"type\":\"carpet\"}],\"table\":[{\"cells\":{\"fill\":{\"color\":\"#EBF0F8\"},\"line\":{\"color\":\"white\"}},\"header\":{\"fill\":{\"color\":\"#C8D4E3\"},\"line\":{\"color\":\"white\"}},\"type\":\"table\"}],\"barpolar\":[{\"marker\":{\"line\":{\"color\":\"#E5ECF6\",\"width\":0.5},\"pattern\":{\"fillmode\":\"overlay\",\"size\":10,\"solidity\":0.2}},\"type\":\"barpolar\"}],\"pie\":[{\"automargin\":true,\"type\":\"pie\"}]},\"layout\":{\"autotypenumbers\":\"strict\",\"colorway\":[\"#636efa\",\"#EF553B\",\"#00cc96\",\"#ab63fa\",\"#FFA15A\",\"#19d3f3\",\"#FF6692\",\"#B6E880\",\"#FF97FF\",\"#FECB52\"],\"font\":{\"color\":\"#2a3f5f\"},\"hovermode\":\"closest\",\"hoverlabel\":{\"align\":\"left\"},\"paper_bgcolor\":\"white\",\"plot_bgcolor\":\"#E5ECF6\",\"polar\":{\"bgcolor\":\"#E5ECF6\",\"angularaxis\":{\"gridcolor\":\"white\",\"linecolor\":\"white\",\"ticks\":\"\"},\"radialaxis\":{\"gridcolor\":\"white\",\"linecolor\":\"white\",\"ticks\":\"\"}},\"ternary\":{\"bgcolor\":\"#E5ECF6\",\"aaxis\":{\"gridcolor\":\"white\",\"linecolor\":\"white\",\"ticks\":\"\"},\"baxis\":{\"gridcolor\":\"white\",\"linecolor\":\"white\",\"ticks\":\"\"},\"caxis\":{\"gridcolor\":\"white\",\"linecolor\":\"white\",\"ticks\":\"\"}},\"coloraxis\":{\"colorbar\":{\"outlinewidth\":0,\"ticks\":\"\"}},\"colorscale\":{\"sequential\":[[0.0,\"#0d0887\"],[0.1111111111111111,\"#46039f\"],[0.2222222222222222,\"#7201a8\"],[0.3333333333333333,\"#9c179e\"],[0.4444444444444444,\"#bd3786\"],[0.5555555555555556,\"#d8576b\"],[0.6666666666666666,\"#ed7953\"],[0.7777777777777778,\"#fb9f3a\"],[0.8888888888888888,\"#fdca26\"],[1.0,\"#f0f921\"]],\"sequentialminus\":[[0.0,\"#0d0887\"],[0.1111111111111111,\"#46039f\"],[0.2222222222222222,\"#7201a8\"],[0.3333333333333333,\"#9c179e\"],[0.4444444444444444,\"#bd3786\"],[0.5555555555555556,\"#d8576b\"],[0.6666666666666666,\"#ed7953\"],[0.7777777777777778,\"#fb9f3a\"],[0.8888888888888888,\"#fdca26\"],[1.0,\"#f0f921\"]],\"diverging\":[[0,\"#8e0152\"],[0.1,\"#c51b7d\"],[0.2,\"#de77ae\"],[0.3,\"#f1b6da\"],[0.4,\"#fde0ef\"],[0.5,\"#f7f7f7\"],[0.6,\"#e6f5d0\"],[0.7,\"#b8e186\"],[0.8,\"#7fbc41\"],[0.9,\"#4d9221\"],[1,\"#276419\"]]},\"xaxis\":{\"gridcolor\":\"white\",\"linecolor\":\"white\",\"ticks\":\"\",\"title\":{\"standoff\":15},\"zerolinecolor\":\"white\",\"automargin\":true,\"zerolinewidth\":2},\"yaxis\":{\"gridcolor\":\"white\",\"linecolor\":\"white\",\"ticks\":\"\",\"title\":{\"standoff\":15},\"zerolinecolor\":\"white\",\"automargin\":true,\"zerolinewidth\":2},\"scene\":{\"xaxis\":{\"backgroundcolor\":\"#E5ECF6\",\"gridcolor\":\"white\",\"linecolor\":\"white\",\"showbackground\":true,\"ticks\":\"\",\"zerolinecolor\":\"white\",\"gridwidth\":2},\"yaxis\":{\"backgroundcolor\":\"#E5ECF6\",\"gridcolor\":\"white\",\"linecolor\":\"white\",\"showbackground\":true,\"ticks\":\"\",\"zerolinecolor\":\"white\",\"gridwidth\":2},\"zaxis\":{\"backgroundcolor\":\"#E5ECF6\",\"gridcolor\":\"white\",\"linecolor\":\"white\",\"showbackground\":true,\"ticks\":\"\",\"zerolinecolor\":\"white\",\"gridwidth\":2}},\"shapedefaults\":{\"line\":{\"color\":\"#2a3f5f\"}},\"annotationdefaults\":{\"arrowcolor\":\"#2a3f5f\",\"arrowhead\":0,\"arrowwidth\":1},\"geo\":{\"bgcolor\":\"white\",\"landcolor\":\"#E5ECF6\",\"subunitcolor\":\"white\",\"showland\":true,\"showlakes\":true,\"lakecolor\":\"white\"},\"title\":{\"x\":0.05},\"mapbox\":{\"style\":\"light\"}}},\"font\":{\"family\":\"TH Sarabun New\"},\"title\":{\"text\":\"\\u0e17\\u0e48\\u0e32\\u0e19\\u0e23\\u0e39\\u0e49\\u0e2a\\u0e36\\u0e01\\u0e27\\u0e48\\u0e32\\u0e04\\u0e27\\u0e32\\u0e21\\u0e15\\u0e31\\u0e49\\u0e07\\u0e43\\u0e08\\u0e43\\u0e19\\u0e01\\u0e32\\u0e23\\u0e40\\u0e23\\u0e35\\u0e22\\u0e19\\u0e23\\u0e39\\u0e49\\u0e21\\u0e35\\u0e1c\\u0e25\\u0e15\\u0e48\\u0e2d\\u0e01\\u0e32\\u0e23\\u0e1b\\u0e23\\u0e30\\u0e2a\\u0e1a\\u0e04\\u0e27\\u0e32\\u0e21\\u0e2a\\u0e33\\u0e40\\u0e23\\u0e47\\u0e08\\u0e43\\u0e19\\u0e01\\u0e32\\u0e23\\u0e40\\u0e23\\u0e35\\u0e22\\u0e19\",\"x\":0.5},\"xaxis\":{\"title\":{\"text\":\"\\u0e04\\u0e27\\u0e32\\u0e21\\u0e40\\u0e2b\\u0e47\\u0e19\"}},\"yaxis\":{\"title\":{\"text\":\"\\u0e08\\u0e33\\u0e19\\u0e27\\u0e19\"}},\"height\":700,\"width\":1000},                        {\"responsive\": true}                    ).then(function(){\n",
              "                            \n",
              "var gd = document.getElementById('4bfc57ff-8601-453b-9aed-b3f71c8ea441');\n",
              "var x = new MutationObserver(function (mutations, observer) {{\n",
              "        var display = window.getComputedStyle(gd).display;\n",
              "        if (!display || display === 'none') {{\n",
              "            console.log([gd, 'removed!']);\n",
              "            Plotly.purge(gd);\n",
              "            observer.disconnect();\n",
              "        }}\n",
              "}});\n",
              "\n",
              "// Listen for the removal of the full notebook cells\n",
              "var notebookContainer = gd.closest('#notebook-container');\n",
              "if (notebookContainer) {{\n",
              "    x.observe(notebookContainer, {childList: true});\n",
              "}}\n",
              "\n",
              "// Listen for the clearing of the current output cell\n",
              "var outputEl = gd.closest('.output');\n",
              "if (outputEl) {{\n",
              "    x.observe(outputEl, {childList: true});\n",
              "}}\n",
              "\n",
              "                        })                };                            </script>        </div>\n",
              "</body>\n",
              "</html>"
            ]
          },
          "metadata": {},
          "output_type": "display_data"
        }
      ],
      "source": [
        "A='เห็นด้วยมากที่สุด'\n",
        "B='เห็นด้วยมาก'\n",
        "C='เห็นด้วยปานกลาง'\n",
        "D='ไม่เห็นด้วย '\n",
        "E='ไม่เห็นด้วยอย่างยิ่ง'\n",
        "sizes = [66, 38, 3, 2, 0]\n",
        "labels = [f'{A}=66', f'{B}=38', f'{C}=3', f'{D}=2',f'{E}=0']\n",
        "\n",
        "\n",
        "# หาส่วนที่มีคนตอบเยอะสุด\n",
        "max_index = sizes.index(max(sizes))\n",
        "explode = [0] * len(labels)\n",
        "explode[max_index] = 0.1  # highlight ส่วนที่มีคนตอบเยอะสุด\n",
        "\n",
        "# สร้าง Pie Chart\n",
        "colors = ['#FF9999', '#66B2FF', '#99FF99', '#FFCC99', '#c2c2f0']  # กำหนดสีให้แต่ละส่วน\n",
        "fig = go.Figure(data=[go.Pie(labels=labels, values=sizes,\n",
        "                             hole=0.3,\n",
        "                             marker=dict(colors=px.colors.qualitative.Set3_r),\n",
        "                             pull=[0.1 if i == max_index else 0 for i in range(len(labels))],\n",
        "                             textinfo='percent',\n",
        "                             hoverinfo='label+percent'\n",
        "                            )])\n",
        "\n",
        "# กำหนดรายละเอียดเพิ่มเติม\n",
        "fig.update_layout(\n",
        "    xaxis=dict(title='ความเห็น'),\n",
        "    yaxis=dict(title='จำนวน'),\n",
        "    font_family=\"TH Sarabun New\",\n",
        "    height=700, width=1000,\n",
        "    title={\n",
        "        'text': \"ท่านรู้สึกว่าความตั้งใจในการเรียนรู้มีผลต่อการประสบความสำเร็จในการเรียน\",\n",
        "        'x': 0.5}\n",
        ")\n",
        "\n",
        "# แสดงกราฟ\n",
        "fig.show()"
      ]
    },
    {
      "cell_type": "markdown",
      "metadata": {
        "id": "F2f-3i9xiFXW"
      },
      "source": [
        "**ท่านพึงพอใจกับสื่อการสอนที่ใช้ในชั้นเรียน (เช่น หนังสือเรียน, วิดีโอการสอน, หรือโปรแกรมคอมพิวเตอร์)**"
      ]
    },
    {
      "cell_type": "code",
      "execution_count": null,
      "metadata": {
        "colab": {
          "base_uri": "https://localhost:8080/"
        },
        "id": "7-dFWLE6iFDH",
        "outputId": "5a03dedf-a94a-489b-d605-83db14a321ee"
      },
      "outputs": [
        {
          "name": "stdout",
          "output_type": "stream",
          "text": [
            "{4: 50, 3: 29, 5: 21, 2: 8, 1: 1}\n"
          ]
        }
      ],
      "source": [
        "column_position = 12\n",
        "\n",
        "data_exam = data.iloc[:, column_position].value_counts()\n",
        "\n",
        "data_exam_dict = data_exam.to_dict()\n",
        "\n",
        "print(data_exam_dict)"
      ]
    },
    {
      "cell_type": "code",
      "execution_count": null,
      "metadata": {
        "colab": {
          "base_uri": "https://localhost:8080/",
          "height": 717
        },
        "id": "S6KYj87YiOlf",
        "outputId": "aa55f8a0-e12c-4f78-bc25-c144205f1103"
      },
      "outputs": [
        {
          "data": {
            "text/html": [
              "<html>\n",
              "<head><meta charset=\"utf-8\" /></head>\n",
              "<body>\n",
              "    <div>            <script src=\"https://cdnjs.cloudflare.com/ajax/libs/mathjax/2.7.5/MathJax.js?config=TeX-AMS-MML_SVG\"></script><script type=\"text/javascript\">if (window.MathJax && window.MathJax.Hub && window.MathJax.Hub.Config) {window.MathJax.Hub.Config({SVG: {font: \"STIX-Web\"}});}</script>                <script type=\"text/javascript\">window.PlotlyConfig = {MathJaxConfig: 'local'};</script>\n",
              "        <script charset=\"utf-8\" src=\"https://cdn.plot.ly/plotly-2.24.1.min.js\"></script>                <div id=\"da59012e-f407-426b-9587-452a30431e22\" class=\"plotly-graph-div\" style=\"height:700px; width:1000px;\"></div>            <script type=\"text/javascript\">                                    window.PLOTLYENV=window.PLOTLYENV || {};                                    if (document.getElementById(\"da59012e-f407-426b-9587-452a30431e22\")) {                    Plotly.newPlot(                        \"da59012e-f407-426b-9587-452a30431e22\",                        [{\"marker\":{\"color\":[\"rgb(141,211,199)\",\"rgb(255,255,179)\",\"rgb(190,186,218)\",\"rgb(251,128,114)\",\"rgb(128,177,211)\",\"rgb(253,180,98)\",\"rgb(179,222,105)\",\"rgb(252,205,229)\",\"rgb(217,217,217)\",\"rgb(188,128,189)\",\"rgb(204,235,197)\",\"rgb(255,237,111)\"]},\"orientation\":\"h\",\"text\":[\"21\",\"50\",\"29\",\"8\",\"1\"],\"textposition\":\"inside\",\"x\":[21,50,29,8,1],\"y\":[\"\\u0e40\\u0e2b\\u0e47\\u0e19\\u0e14\\u0e49\\u0e27\\u0e22\\u0e21\\u0e32\\u0e01\\u0e17\\u0e35\\u0e48\\u0e2a\\u0e38\\u0e14\",\"\\u0e40\\u0e2b\\u0e47\\u0e19\\u0e14\\u0e49\\u0e27\\u0e22\\u0e21\\u0e32\\u0e01\",\"\\u0e40\\u0e2b\\u0e47\\u0e19\\u0e14\\u0e49\\u0e27\\u0e22\\u0e1b\\u0e32\\u0e19\\u0e01\\u0e25\\u0e32\\u0e07\",\"\\u0e44\\u0e21\\u0e48\\u0e40\\u0e2b\\u0e47\\u0e19\\u0e14\\u0e49\\u0e27\\u0e22 \",\"\\u0e44\\u0e21\\u0e48\\u0e40\\u0e2b\\u0e47\\u0e19\\u0e14\\u0e49\\u0e27\\u0e22\\u0e2d\\u0e22\\u0e48\\u0e32\\u0e07\\u0e22\\u0e34\\u0e48\\u0e07\"],\"type\":\"bar\"}],                        {\"template\":{\"data\":{\"histogram2dcontour\":[{\"type\":\"histogram2dcontour\",\"colorbar\":{\"outlinewidth\":0,\"ticks\":\"\"},\"colorscale\":[[0.0,\"#0d0887\"],[0.1111111111111111,\"#46039f\"],[0.2222222222222222,\"#7201a8\"],[0.3333333333333333,\"#9c179e\"],[0.4444444444444444,\"#bd3786\"],[0.5555555555555556,\"#d8576b\"],[0.6666666666666666,\"#ed7953\"],[0.7777777777777778,\"#fb9f3a\"],[0.8888888888888888,\"#fdca26\"],[1.0,\"#f0f921\"]]}],\"choropleth\":[{\"type\":\"choropleth\",\"colorbar\":{\"outlinewidth\":0,\"ticks\":\"\"}}],\"histogram2d\":[{\"type\":\"histogram2d\",\"colorbar\":{\"outlinewidth\":0,\"ticks\":\"\"},\"colorscale\":[[0.0,\"#0d0887\"],[0.1111111111111111,\"#46039f\"],[0.2222222222222222,\"#7201a8\"],[0.3333333333333333,\"#9c179e\"],[0.4444444444444444,\"#bd3786\"],[0.5555555555555556,\"#d8576b\"],[0.6666666666666666,\"#ed7953\"],[0.7777777777777778,\"#fb9f3a\"],[0.8888888888888888,\"#fdca26\"],[1.0,\"#f0f921\"]]}],\"heatmap\":[{\"type\":\"heatmap\",\"colorbar\":{\"outlinewidth\":0,\"ticks\":\"\"},\"colorscale\":[[0.0,\"#0d0887\"],[0.1111111111111111,\"#46039f\"],[0.2222222222222222,\"#7201a8\"],[0.3333333333333333,\"#9c179e\"],[0.4444444444444444,\"#bd3786\"],[0.5555555555555556,\"#d8576b\"],[0.6666666666666666,\"#ed7953\"],[0.7777777777777778,\"#fb9f3a\"],[0.8888888888888888,\"#fdca26\"],[1.0,\"#f0f921\"]]}],\"heatmapgl\":[{\"type\":\"heatmapgl\",\"colorbar\":{\"outlinewidth\":0,\"ticks\":\"\"},\"colorscale\":[[0.0,\"#0d0887\"],[0.1111111111111111,\"#46039f\"],[0.2222222222222222,\"#7201a8\"],[0.3333333333333333,\"#9c179e\"],[0.4444444444444444,\"#bd3786\"],[0.5555555555555556,\"#d8576b\"],[0.6666666666666666,\"#ed7953\"],[0.7777777777777778,\"#fb9f3a\"],[0.8888888888888888,\"#fdca26\"],[1.0,\"#f0f921\"]]}],\"contourcarpet\":[{\"type\":\"contourcarpet\",\"colorbar\":{\"outlinewidth\":0,\"ticks\":\"\"}}],\"contour\":[{\"type\":\"contour\",\"colorbar\":{\"outlinewidth\":0,\"ticks\":\"\"},\"colorscale\":[[0.0,\"#0d0887\"],[0.1111111111111111,\"#46039f\"],[0.2222222222222222,\"#7201a8\"],[0.3333333333333333,\"#9c179e\"],[0.4444444444444444,\"#bd3786\"],[0.5555555555555556,\"#d8576b\"],[0.6666666666666666,\"#ed7953\"],[0.7777777777777778,\"#fb9f3a\"],[0.8888888888888888,\"#fdca26\"],[1.0,\"#f0f921\"]]}],\"surface\":[{\"type\":\"surface\",\"colorbar\":{\"outlinewidth\":0,\"ticks\":\"\"},\"colorscale\":[[0.0,\"#0d0887\"],[0.1111111111111111,\"#46039f\"],[0.2222222222222222,\"#7201a8\"],[0.3333333333333333,\"#9c179e\"],[0.4444444444444444,\"#bd3786\"],[0.5555555555555556,\"#d8576b\"],[0.6666666666666666,\"#ed7953\"],[0.7777777777777778,\"#fb9f3a\"],[0.8888888888888888,\"#fdca26\"],[1.0,\"#f0f921\"]]}],\"mesh3d\":[{\"type\":\"mesh3d\",\"colorbar\":{\"outlinewidth\":0,\"ticks\":\"\"}}],\"scatter\":[{\"fillpattern\":{\"fillmode\":\"overlay\",\"size\":10,\"solidity\":0.2},\"type\":\"scatter\"}],\"parcoords\":[{\"type\":\"parcoords\",\"line\":{\"colorbar\":{\"outlinewidth\":0,\"ticks\":\"\"}}}],\"scatterpolargl\":[{\"type\":\"scatterpolargl\",\"marker\":{\"colorbar\":{\"outlinewidth\":0,\"ticks\":\"\"}}}],\"bar\":[{\"error_x\":{\"color\":\"#2a3f5f\"},\"error_y\":{\"color\":\"#2a3f5f\"},\"marker\":{\"line\":{\"color\":\"#E5ECF6\",\"width\":0.5},\"pattern\":{\"fillmode\":\"overlay\",\"size\":10,\"solidity\":0.2}},\"type\":\"bar\"}],\"scattergeo\":[{\"type\":\"scattergeo\",\"marker\":{\"colorbar\":{\"outlinewidth\":0,\"ticks\":\"\"}}}],\"scatterpolar\":[{\"type\":\"scatterpolar\",\"marker\":{\"colorbar\":{\"outlinewidth\":0,\"ticks\":\"\"}}}],\"histogram\":[{\"marker\":{\"pattern\":{\"fillmode\":\"overlay\",\"size\":10,\"solidity\":0.2}},\"type\":\"histogram\"}],\"scattergl\":[{\"type\":\"scattergl\",\"marker\":{\"colorbar\":{\"outlinewidth\":0,\"ticks\":\"\"}}}],\"scatter3d\":[{\"type\":\"scatter3d\",\"line\":{\"colorbar\":{\"outlinewidth\":0,\"ticks\":\"\"}},\"marker\":{\"colorbar\":{\"outlinewidth\":0,\"ticks\":\"\"}}}],\"scattermapbox\":[{\"type\":\"scattermapbox\",\"marker\":{\"colorbar\":{\"outlinewidth\":0,\"ticks\":\"\"}}}],\"scatterternary\":[{\"type\":\"scatterternary\",\"marker\":{\"colorbar\":{\"outlinewidth\":0,\"ticks\":\"\"}}}],\"scattercarpet\":[{\"type\":\"scattercarpet\",\"marker\":{\"colorbar\":{\"outlinewidth\":0,\"ticks\":\"\"}}}],\"carpet\":[{\"aaxis\":{\"endlinecolor\":\"#2a3f5f\",\"gridcolor\":\"white\",\"linecolor\":\"white\",\"minorgridcolor\":\"white\",\"startlinecolor\":\"#2a3f5f\"},\"baxis\":{\"endlinecolor\":\"#2a3f5f\",\"gridcolor\":\"white\",\"linecolor\":\"white\",\"minorgridcolor\":\"white\",\"startlinecolor\":\"#2a3f5f\"},\"type\":\"carpet\"}],\"table\":[{\"cells\":{\"fill\":{\"color\":\"#EBF0F8\"},\"line\":{\"color\":\"white\"}},\"header\":{\"fill\":{\"color\":\"#C8D4E3\"},\"line\":{\"color\":\"white\"}},\"type\":\"table\"}],\"barpolar\":[{\"marker\":{\"line\":{\"color\":\"#E5ECF6\",\"width\":0.5},\"pattern\":{\"fillmode\":\"overlay\",\"size\":10,\"solidity\":0.2}},\"type\":\"barpolar\"}],\"pie\":[{\"automargin\":true,\"type\":\"pie\"}]},\"layout\":{\"autotypenumbers\":\"strict\",\"colorway\":[\"#636efa\",\"#EF553B\",\"#00cc96\",\"#ab63fa\",\"#FFA15A\",\"#19d3f3\",\"#FF6692\",\"#B6E880\",\"#FF97FF\",\"#FECB52\"],\"font\":{\"color\":\"#2a3f5f\"},\"hovermode\":\"closest\",\"hoverlabel\":{\"align\":\"left\"},\"paper_bgcolor\":\"white\",\"plot_bgcolor\":\"#E5ECF6\",\"polar\":{\"bgcolor\":\"#E5ECF6\",\"angularaxis\":{\"gridcolor\":\"white\",\"linecolor\":\"white\",\"ticks\":\"\"},\"radialaxis\":{\"gridcolor\":\"white\",\"linecolor\":\"white\",\"ticks\":\"\"}},\"ternary\":{\"bgcolor\":\"#E5ECF6\",\"aaxis\":{\"gridcolor\":\"white\",\"linecolor\":\"white\",\"ticks\":\"\"},\"baxis\":{\"gridcolor\":\"white\",\"linecolor\":\"white\",\"ticks\":\"\"},\"caxis\":{\"gridcolor\":\"white\",\"linecolor\":\"white\",\"ticks\":\"\"}},\"coloraxis\":{\"colorbar\":{\"outlinewidth\":0,\"ticks\":\"\"}},\"colorscale\":{\"sequential\":[[0.0,\"#0d0887\"],[0.1111111111111111,\"#46039f\"],[0.2222222222222222,\"#7201a8\"],[0.3333333333333333,\"#9c179e\"],[0.4444444444444444,\"#bd3786\"],[0.5555555555555556,\"#d8576b\"],[0.6666666666666666,\"#ed7953\"],[0.7777777777777778,\"#fb9f3a\"],[0.8888888888888888,\"#fdca26\"],[1.0,\"#f0f921\"]],\"sequentialminus\":[[0.0,\"#0d0887\"],[0.1111111111111111,\"#46039f\"],[0.2222222222222222,\"#7201a8\"],[0.3333333333333333,\"#9c179e\"],[0.4444444444444444,\"#bd3786\"],[0.5555555555555556,\"#d8576b\"],[0.6666666666666666,\"#ed7953\"],[0.7777777777777778,\"#fb9f3a\"],[0.8888888888888888,\"#fdca26\"],[1.0,\"#f0f921\"]],\"diverging\":[[0,\"#8e0152\"],[0.1,\"#c51b7d\"],[0.2,\"#de77ae\"],[0.3,\"#f1b6da\"],[0.4,\"#fde0ef\"],[0.5,\"#f7f7f7\"],[0.6,\"#e6f5d0\"],[0.7,\"#b8e186\"],[0.8,\"#7fbc41\"],[0.9,\"#4d9221\"],[1,\"#276419\"]]},\"xaxis\":{\"gridcolor\":\"white\",\"linecolor\":\"white\",\"ticks\":\"\",\"title\":{\"standoff\":15},\"zerolinecolor\":\"white\",\"automargin\":true,\"zerolinewidth\":2},\"yaxis\":{\"gridcolor\":\"white\",\"linecolor\":\"white\",\"ticks\":\"\",\"title\":{\"standoff\":15},\"zerolinecolor\":\"white\",\"automargin\":true,\"zerolinewidth\":2},\"scene\":{\"xaxis\":{\"backgroundcolor\":\"#E5ECF6\",\"gridcolor\":\"white\",\"linecolor\":\"white\",\"showbackground\":true,\"ticks\":\"\",\"zerolinecolor\":\"white\",\"gridwidth\":2},\"yaxis\":{\"backgroundcolor\":\"#E5ECF6\",\"gridcolor\":\"white\",\"linecolor\":\"white\",\"showbackground\":true,\"ticks\":\"\",\"zerolinecolor\":\"white\",\"gridwidth\":2},\"zaxis\":{\"backgroundcolor\":\"#E5ECF6\",\"gridcolor\":\"white\",\"linecolor\":\"white\",\"showbackground\":true,\"ticks\":\"\",\"zerolinecolor\":\"white\",\"gridwidth\":2}},\"shapedefaults\":{\"line\":{\"color\":\"#2a3f5f\"}},\"annotationdefaults\":{\"arrowcolor\":\"#2a3f5f\",\"arrowhead\":0,\"arrowwidth\":1},\"geo\":{\"bgcolor\":\"white\",\"landcolor\":\"#E5ECF6\",\"subunitcolor\":\"white\",\"showland\":true,\"showlakes\":true,\"lakecolor\":\"white\"},\"title\":{\"x\":0.05},\"mapbox\":{\"style\":\"light\"}}},\"font\":{\"family\":\"TH Sarabun New\"},\"title\":{\"text\":\"\\u0e04\\u0e27\\u0e32\\u0e21\\u0e1e\\u0e36\\u0e07\\u0e1e\\u0e2d\\u0e43\\u0e08\\u0e01\\u0e31\\u0e1a\\u0e2a\\u0e37\\u0e48\\u0e2d\\u0e01\\u0e32\\u0e23\\u0e2a\\u0e2d\\u0e19\\u0e17\\u0e35\\u0e48\\u0e43\\u0e0a\\u0e49\\u0e43\\u0e19\\u0e0a\\u0e31\\u0e49\\u0e19\\u0e40\\u0e23\\u0e35\\u0e22\\u0e19 (\\u0e40\\u0e0a\\u0e48\\u0e19 \\u0e2b\\u0e19\\u0e31\\u0e07\\u0e2a\\u0e37\\u0e2d\\u0e40\\u0e23\\u0e35\\u0e22\\u0e19, \\u0e27\\u0e34\\u0e14\\u0e35\\u0e42\\u0e2d\\u0e01\\u0e32\\u0e23\\u0e2a\\u0e2d\\u0e19, \\u0e2b\\u0e23\\u0e37\\u0e2d\\u0e42\\u0e1b\\u0e23\\u0e41\\u0e01\\u0e23\\u0e21\\u0e04\\u0e2d\\u0e21\\u0e1e\\u0e34\\u0e27\\u0e40\\u0e15\\u0e2d\\u0e23\\u0e4c)\",\"x\":0.5},\"xaxis\":{\"title\":{\"text\":\"Sizes\"}},\"yaxis\":{\"title\":{\"text\":\"\\u0e08\\u0e33\\u0e19\\u0e27\\u0e19\"}},\"height\":700,\"width\":1000},                        {\"responsive\": true}                    ).then(function(){\n",
              "                            \n",
              "var gd = document.getElementById('da59012e-f407-426b-9587-452a30431e22');\n",
              "var x = new MutationObserver(function (mutations, observer) {{\n",
              "        var display = window.getComputedStyle(gd).display;\n",
              "        if (!display || display === 'none') {{\n",
              "            console.log([gd, 'removed!']);\n",
              "            Plotly.purge(gd);\n",
              "            observer.disconnect();\n",
              "        }}\n",
              "}});\n",
              "\n",
              "// Listen for the removal of the full notebook cells\n",
              "var notebookContainer = gd.closest('#notebook-container');\n",
              "if (notebookContainer) {{\n",
              "    x.observe(notebookContainer, {childList: true});\n",
              "}}\n",
              "\n",
              "// Listen for the clearing of the current output cell\n",
              "var outputEl = gd.closest('.output');\n",
              "if (outputEl) {{\n",
              "    x.observe(outputEl, {childList: true});\n",
              "}}\n",
              "\n",
              "                        })                };                            </script>        </div>\n",
              "</body>\n",
              "</html>"
            ]
          },
          "metadata": {},
          "output_type": "display_data"
        }
      ],
      "source": [
        "# ข้อมูล\n",
        "sizes = [21, 50, 29, 8, 1]\n",
        "labels = [A,B,C,D,E]\n",
        "\n",
        "colors = ['lightblue', 'lightgreen', 'lightcoral', 'lightskyblue', 'lightpink']\n",
        "\n",
        "fig = go.Figure(data=[go.Bar(y=labels, x=sizes, orientation='h',\n",
        "                             text=sizes, textposition='inside',\n",
        "                             marker=dict(color=px.colors.qualitative.Set3))])\n",
        "\n",
        "fig.update_layout(\n",
        "    xaxis=dict(title='ความเห็น'),\n",
        "    yaxis=dict(title='จำนวน'),\n",
        "    font_family=\"TH Sarabun New\",\n",
        "    height=700, width=1000,\n",
        "    xaxis_title='Sizes',\n",
        "    title={\n",
        "        'text': \"ความพึงพอใจกับสื่อการสอนที่ใช้ในชั้นเรียน (เช่น หนังสือเรียน, วิดีโอการสอน, หรือโปรแกรมคอมพิวเตอร์)\",\n",
        "        'x': 0.5}\n",
        ")\n",
        "\n",
        "fig.show()"
      ]
    },
    {
      "cell_type": "markdown",
      "metadata": {
        "id": "ZWwcGT0fiRce"
      },
      "source": [
        "**ท่านคิดว่าการใช้เทคโนโลยีสารสนเทศและการสื่อสารมีผลต่อการเรียนการสอน**"
      ]
    },
    {
      "cell_type": "code",
      "execution_count": null,
      "metadata": {
        "colab": {
          "base_uri": "https://localhost:8080/"
        },
        "id": "yDhL6ZTGiVPj",
        "outputId": "689f883d-12a4-47f7-da17-888eceeeca82"
      },
      "outputs": [
        {
          "name": "stdout",
          "output_type": "stream",
          "text": [
            "{5: 65, 4: 34, 3: 8, 2: 2}\n"
          ]
        }
      ],
      "source": [
        "column_position = 13\n",
        "\n",
        "data_exam = data.iloc[:, column_position].value_counts()\n",
        "\n",
        "data_exam_dict = data_exam.to_dict()\n",
        "\n",
        "print(data_exam_dict)"
      ]
    },
    {
      "cell_type": "code",
      "execution_count": null,
      "metadata": {
        "colab": {
          "base_uri": "https://localhost:8080/",
          "height": 717
        },
        "id": "zw9XX0NxiYfZ",
        "outputId": "08807651-e4f3-4e9d-e772-d1fbd1b225b0"
      },
      "outputs": [
        {
          "data": {
            "text/html": [
              "<html>\n",
              "<head><meta charset=\"utf-8\" /></head>\n",
              "<body>\n",
              "    <div>            <script src=\"https://cdnjs.cloudflare.com/ajax/libs/mathjax/2.7.5/MathJax.js?config=TeX-AMS-MML_SVG\"></script><script type=\"text/javascript\">if (window.MathJax && window.MathJax.Hub && window.MathJax.Hub.Config) {window.MathJax.Hub.Config({SVG: {font: \"STIX-Web\"}});}</script>                <script type=\"text/javascript\">window.PlotlyConfig = {MathJaxConfig: 'local'};</script>\n",
              "        <script charset=\"utf-8\" src=\"https://cdn.plot.ly/plotly-2.24.1.min.js\"></script>                <div id=\"f1cc6813-db81-4c80-bb34-fbe7263bb868\" class=\"plotly-graph-div\" style=\"height:700px; width:1000px;\"></div>            <script type=\"text/javascript\">                                    window.PLOTLYENV=window.PLOTLYENV || {};                                    if (document.getElementById(\"f1cc6813-db81-4c80-bb34-fbe7263bb868\")) {                    Plotly.newPlot(                        \"f1cc6813-db81-4c80-bb34-fbe7263bb868\",                        [{\"hole\":0.3,\"labels\":[\"\\u0e40\\u0e2b\\u0e47\\u0e19\\u0e14\\u0e49\\u0e27\\u0e22\\u0e21\\u0e32\\u0e01\\u0e17\\u0e35\\u0e48\\u0e2a\\u0e38\\u0e14=21\",\"\\u0e40\\u0e2b\\u0e47\\u0e19\\u0e14\\u0e49\\u0e27\\u0e22\\u0e21\\u0e32\\u0e01=50\",\"\\u0e40\\u0e2b\\u0e47\\u0e19\\u0e14\\u0e49\\u0e27\\u0e22\\u0e1b\\u0e32\\u0e19\\u0e01\\u0e25\\u0e32\\u0e07=29\",\"\\u0e44\\u0e21\\u0e48\\u0e40\\u0e2b\\u0e47\\u0e19\\u0e14\\u0e49\\u0e27\\u0e22 =8\",\"\\u0e44\\u0e21\\u0e48\\u0e40\\u0e2b\\u0e47\\u0e19\\u0e14\\u0e49\\u0e27\\u0e22\\u0e2d\\u0e22\\u0e48\\u0e32\\u0e07\\u0e22\\u0e34\\u0e48\\u0e07=1\"],\"marker\":{\"colors\":[\"rgb(251,180,174)\",\"rgb(179,205,227)\",\"rgb(204,235,197)\",\"rgb(222,203,228)\",\"rgb(254,217,166)\",\"rgb(255,255,204)\",\"rgb(229,216,189)\",\"rgb(253,218,236)\",\"rgb(242,242,242)\"]},\"values\":[21,50,29,8,1],\"type\":\"pie\"}],                        {\"template\":{\"data\":{\"histogram2dcontour\":[{\"type\":\"histogram2dcontour\",\"colorbar\":{\"outlinewidth\":0,\"ticks\":\"\"},\"colorscale\":[[0.0,\"#0d0887\"],[0.1111111111111111,\"#46039f\"],[0.2222222222222222,\"#7201a8\"],[0.3333333333333333,\"#9c179e\"],[0.4444444444444444,\"#bd3786\"],[0.5555555555555556,\"#d8576b\"],[0.6666666666666666,\"#ed7953\"],[0.7777777777777778,\"#fb9f3a\"],[0.8888888888888888,\"#fdca26\"],[1.0,\"#f0f921\"]]}],\"choropleth\":[{\"type\":\"choropleth\",\"colorbar\":{\"outlinewidth\":0,\"ticks\":\"\"}}],\"histogram2d\":[{\"type\":\"histogram2d\",\"colorbar\":{\"outlinewidth\":0,\"ticks\":\"\"},\"colorscale\":[[0.0,\"#0d0887\"],[0.1111111111111111,\"#46039f\"],[0.2222222222222222,\"#7201a8\"],[0.3333333333333333,\"#9c179e\"],[0.4444444444444444,\"#bd3786\"],[0.5555555555555556,\"#d8576b\"],[0.6666666666666666,\"#ed7953\"],[0.7777777777777778,\"#fb9f3a\"],[0.8888888888888888,\"#fdca26\"],[1.0,\"#f0f921\"]]}],\"heatmap\":[{\"type\":\"heatmap\",\"colorbar\":{\"outlinewidth\":0,\"ticks\":\"\"},\"colorscale\":[[0.0,\"#0d0887\"],[0.1111111111111111,\"#46039f\"],[0.2222222222222222,\"#7201a8\"],[0.3333333333333333,\"#9c179e\"],[0.4444444444444444,\"#bd3786\"],[0.5555555555555556,\"#d8576b\"],[0.6666666666666666,\"#ed7953\"],[0.7777777777777778,\"#fb9f3a\"],[0.8888888888888888,\"#fdca26\"],[1.0,\"#f0f921\"]]}],\"heatmapgl\":[{\"type\":\"heatmapgl\",\"colorbar\":{\"outlinewidth\":0,\"ticks\":\"\"},\"colorscale\":[[0.0,\"#0d0887\"],[0.1111111111111111,\"#46039f\"],[0.2222222222222222,\"#7201a8\"],[0.3333333333333333,\"#9c179e\"],[0.4444444444444444,\"#bd3786\"],[0.5555555555555556,\"#d8576b\"],[0.6666666666666666,\"#ed7953\"],[0.7777777777777778,\"#fb9f3a\"],[0.8888888888888888,\"#fdca26\"],[1.0,\"#f0f921\"]]}],\"contourcarpet\":[{\"type\":\"contourcarpet\",\"colorbar\":{\"outlinewidth\":0,\"ticks\":\"\"}}],\"contour\":[{\"type\":\"contour\",\"colorbar\":{\"outlinewidth\":0,\"ticks\":\"\"},\"colorscale\":[[0.0,\"#0d0887\"],[0.1111111111111111,\"#46039f\"],[0.2222222222222222,\"#7201a8\"],[0.3333333333333333,\"#9c179e\"],[0.4444444444444444,\"#bd3786\"],[0.5555555555555556,\"#d8576b\"],[0.6666666666666666,\"#ed7953\"],[0.7777777777777778,\"#fb9f3a\"],[0.8888888888888888,\"#fdca26\"],[1.0,\"#f0f921\"]]}],\"surface\":[{\"type\":\"surface\",\"colorbar\":{\"outlinewidth\":0,\"ticks\":\"\"},\"colorscale\":[[0.0,\"#0d0887\"],[0.1111111111111111,\"#46039f\"],[0.2222222222222222,\"#7201a8\"],[0.3333333333333333,\"#9c179e\"],[0.4444444444444444,\"#bd3786\"],[0.5555555555555556,\"#d8576b\"],[0.6666666666666666,\"#ed7953\"],[0.7777777777777778,\"#fb9f3a\"],[0.8888888888888888,\"#fdca26\"],[1.0,\"#f0f921\"]]}],\"mesh3d\":[{\"type\":\"mesh3d\",\"colorbar\":{\"outlinewidth\":0,\"ticks\":\"\"}}],\"scatter\":[{\"fillpattern\":{\"fillmode\":\"overlay\",\"size\":10,\"solidity\":0.2},\"type\":\"scatter\"}],\"parcoords\":[{\"type\":\"parcoords\",\"line\":{\"colorbar\":{\"outlinewidth\":0,\"ticks\":\"\"}}}],\"scatterpolargl\":[{\"type\":\"scatterpolargl\",\"marker\":{\"colorbar\":{\"outlinewidth\":0,\"ticks\":\"\"}}}],\"bar\":[{\"error_x\":{\"color\":\"#2a3f5f\"},\"error_y\":{\"color\":\"#2a3f5f\"},\"marker\":{\"line\":{\"color\":\"#E5ECF6\",\"width\":0.5},\"pattern\":{\"fillmode\":\"overlay\",\"size\":10,\"solidity\":0.2}},\"type\":\"bar\"}],\"scattergeo\":[{\"type\":\"scattergeo\",\"marker\":{\"colorbar\":{\"outlinewidth\":0,\"ticks\":\"\"}}}],\"scatterpolar\":[{\"type\":\"scatterpolar\",\"marker\":{\"colorbar\":{\"outlinewidth\":0,\"ticks\":\"\"}}}],\"histogram\":[{\"marker\":{\"pattern\":{\"fillmode\":\"overlay\",\"size\":10,\"solidity\":0.2}},\"type\":\"histogram\"}],\"scattergl\":[{\"type\":\"scattergl\",\"marker\":{\"colorbar\":{\"outlinewidth\":0,\"ticks\":\"\"}}}],\"scatter3d\":[{\"type\":\"scatter3d\",\"line\":{\"colorbar\":{\"outlinewidth\":0,\"ticks\":\"\"}},\"marker\":{\"colorbar\":{\"outlinewidth\":0,\"ticks\":\"\"}}}],\"scattermapbox\":[{\"type\":\"scattermapbox\",\"marker\":{\"colorbar\":{\"outlinewidth\":0,\"ticks\":\"\"}}}],\"scatterternary\":[{\"type\":\"scatterternary\",\"marker\":{\"colorbar\":{\"outlinewidth\":0,\"ticks\":\"\"}}}],\"scattercarpet\":[{\"type\":\"scattercarpet\",\"marker\":{\"colorbar\":{\"outlinewidth\":0,\"ticks\":\"\"}}}],\"carpet\":[{\"aaxis\":{\"endlinecolor\":\"#2a3f5f\",\"gridcolor\":\"white\",\"linecolor\":\"white\",\"minorgridcolor\":\"white\",\"startlinecolor\":\"#2a3f5f\"},\"baxis\":{\"endlinecolor\":\"#2a3f5f\",\"gridcolor\":\"white\",\"linecolor\":\"white\",\"minorgridcolor\":\"white\",\"startlinecolor\":\"#2a3f5f\"},\"type\":\"carpet\"}],\"table\":[{\"cells\":{\"fill\":{\"color\":\"#EBF0F8\"},\"line\":{\"color\":\"white\"}},\"header\":{\"fill\":{\"color\":\"#C8D4E3\"},\"line\":{\"color\":\"white\"}},\"type\":\"table\"}],\"barpolar\":[{\"marker\":{\"line\":{\"color\":\"#E5ECF6\",\"width\":0.5},\"pattern\":{\"fillmode\":\"overlay\",\"size\":10,\"solidity\":0.2}},\"type\":\"barpolar\"}],\"pie\":[{\"automargin\":true,\"type\":\"pie\"}]},\"layout\":{\"autotypenumbers\":\"strict\",\"colorway\":[\"#636efa\",\"#EF553B\",\"#00cc96\",\"#ab63fa\",\"#FFA15A\",\"#19d3f3\",\"#FF6692\",\"#B6E880\",\"#FF97FF\",\"#FECB52\"],\"font\":{\"color\":\"#2a3f5f\"},\"hovermode\":\"closest\",\"hoverlabel\":{\"align\":\"left\"},\"paper_bgcolor\":\"white\",\"plot_bgcolor\":\"#E5ECF6\",\"polar\":{\"bgcolor\":\"#E5ECF6\",\"angularaxis\":{\"gridcolor\":\"white\",\"linecolor\":\"white\",\"ticks\":\"\"},\"radialaxis\":{\"gridcolor\":\"white\",\"linecolor\":\"white\",\"ticks\":\"\"}},\"ternary\":{\"bgcolor\":\"#E5ECF6\",\"aaxis\":{\"gridcolor\":\"white\",\"linecolor\":\"white\",\"ticks\":\"\"},\"baxis\":{\"gridcolor\":\"white\",\"linecolor\":\"white\",\"ticks\":\"\"},\"caxis\":{\"gridcolor\":\"white\",\"linecolor\":\"white\",\"ticks\":\"\"}},\"coloraxis\":{\"colorbar\":{\"outlinewidth\":0,\"ticks\":\"\"}},\"colorscale\":{\"sequential\":[[0.0,\"#0d0887\"],[0.1111111111111111,\"#46039f\"],[0.2222222222222222,\"#7201a8\"],[0.3333333333333333,\"#9c179e\"],[0.4444444444444444,\"#bd3786\"],[0.5555555555555556,\"#d8576b\"],[0.6666666666666666,\"#ed7953\"],[0.7777777777777778,\"#fb9f3a\"],[0.8888888888888888,\"#fdca26\"],[1.0,\"#f0f921\"]],\"sequentialminus\":[[0.0,\"#0d0887\"],[0.1111111111111111,\"#46039f\"],[0.2222222222222222,\"#7201a8\"],[0.3333333333333333,\"#9c179e\"],[0.4444444444444444,\"#bd3786\"],[0.5555555555555556,\"#d8576b\"],[0.6666666666666666,\"#ed7953\"],[0.7777777777777778,\"#fb9f3a\"],[0.8888888888888888,\"#fdca26\"],[1.0,\"#f0f921\"]],\"diverging\":[[0,\"#8e0152\"],[0.1,\"#c51b7d\"],[0.2,\"#de77ae\"],[0.3,\"#f1b6da\"],[0.4,\"#fde0ef\"],[0.5,\"#f7f7f7\"],[0.6,\"#e6f5d0\"],[0.7,\"#b8e186\"],[0.8,\"#7fbc41\"],[0.9,\"#4d9221\"],[1,\"#276419\"]]},\"xaxis\":{\"gridcolor\":\"white\",\"linecolor\":\"white\",\"ticks\":\"\",\"title\":{\"standoff\":15},\"zerolinecolor\":\"white\",\"automargin\":true,\"zerolinewidth\":2},\"yaxis\":{\"gridcolor\":\"white\",\"linecolor\":\"white\",\"ticks\":\"\",\"title\":{\"standoff\":15},\"zerolinecolor\":\"white\",\"automargin\":true,\"zerolinewidth\":2},\"scene\":{\"xaxis\":{\"backgroundcolor\":\"#E5ECF6\",\"gridcolor\":\"white\",\"linecolor\":\"white\",\"showbackground\":true,\"ticks\":\"\",\"zerolinecolor\":\"white\",\"gridwidth\":2},\"yaxis\":{\"backgroundcolor\":\"#E5ECF6\",\"gridcolor\":\"white\",\"linecolor\":\"white\",\"showbackground\":true,\"ticks\":\"\",\"zerolinecolor\":\"white\",\"gridwidth\":2},\"zaxis\":{\"backgroundcolor\":\"#E5ECF6\",\"gridcolor\":\"white\",\"linecolor\":\"white\",\"showbackground\":true,\"ticks\":\"\",\"zerolinecolor\":\"white\",\"gridwidth\":2}},\"shapedefaults\":{\"line\":{\"color\":\"#2a3f5f\"}},\"annotationdefaults\":{\"arrowcolor\":\"#2a3f5f\",\"arrowhead\":0,\"arrowwidth\":1},\"geo\":{\"bgcolor\":\"white\",\"landcolor\":\"#E5ECF6\",\"subunitcolor\":\"white\",\"showland\":true,\"showlakes\":true,\"lakecolor\":\"white\"},\"title\":{\"x\":0.05},\"mapbox\":{\"style\":\"light\"}}},\"title\":{\"text\":\"\\u0e17\\u0e48\\u0e32\\u0e19\\u0e23\\u0e39\\u0e49\\u0e2a\\u0e36\\u0e01\\u0e27\\u0e48\\u0e32\\u0e01\\u0e32\\u0e23\\u0e43\\u0e0a\\u0e49\\u0e40\\u0e17\\u0e04\\u0e42\\u0e19\\u0e42\\u0e25\\u0e22\\u0e35\\u0e2a\\u0e32\\u0e23\\u0e2a\\u0e19\\u0e40\\u0e17\\u0e28\\u0e41\\u0e25\\u0e30\\u0e01\\u0e32\\u0e23\\u0e2a\\u0e37\\u0e48\\u0e2d\\u0e2a\\u0e32\\u0e23\\u0e21\\u0e35\\u0e1c\\u0e25\\u0e15\\u0e48\\u0e2d\\u0e01\\u0e32\\u0e23\\u0e40\\u0e23\\u0e35\\u0e22\\u0e19\\u0e01\\u0e32\\u0e23\\u0e2a\\u0e2d\\u0e19\",\"x\":0.5},\"font\":{\"family\":\"TH Sarabun New\"},\"xaxis\":{\"title\":{\"text\":\"Sizes\"}},\"yaxis\":{\"title\":{\"text\":\"\\u0e08\\u0e33\\u0e19\\u0e27\\u0e19\"}},\"height\":700,\"width\":1000},                        {\"responsive\": true}                    ).then(function(){\n",
              "                            \n",
              "var gd = document.getElementById('f1cc6813-db81-4c80-bb34-fbe7263bb868');\n",
              "var x = new MutationObserver(function (mutations, observer) {{\n",
              "        var display = window.getComputedStyle(gd).display;\n",
              "        if (!display || display === 'none') {{\n",
              "            console.log([gd, 'removed!']);\n",
              "            Plotly.purge(gd);\n",
              "            observer.disconnect();\n",
              "        }}\n",
              "}});\n",
              "\n",
              "// Listen for the removal of the full notebook cells\n",
              "var notebookContainer = gd.closest('#notebook-container');\n",
              "if (notebookContainer) {{\n",
              "    x.observe(notebookContainer, {childList: true});\n",
              "}}\n",
              "\n",
              "// Listen for the clearing of the current output cell\n",
              "var outputEl = gd.closest('.output');\n",
              "if (outputEl) {{\n",
              "    x.observe(outputEl, {childList: true});\n",
              "}}\n",
              "\n",
              "                        })                };                            </script>        </div>\n",
              "</body>\n",
              "</html>"
            ]
          },
          "metadata": {},
          "output_type": "display_data"
        }
      ],
      "source": [
        "sizes = [21, 50, 29, 8, 1]\n",
        "labels = [f'{A}=21', f'{B}=50', f'{C}=29', f'{D}=8',f'{E}=1']\n",
        "colors = ['lightblue', 'lightgreen', 'lightcoral', 'lightskyblue', 'lightpink']\n",
        "\n",
        "fig = go.Figure(data=[go.Pie(labels=labels, values=sizes, hole=0.3, marker=dict(colors=px.colors.qualitative.Pastel1))])\n",
        "\n",
        "fig.update_layout(title='ความคิดเห็นในเรื่องการใช้เทคโนโลยีสารสนเทศและการสื่อสารมีผลต่อการเรียนการสอน')\n",
        "\n",
        "fig.update_layout(\n",
        "    xaxis=dict(title='ความเห็น'),\n",
        "    yaxis=dict(title='จำนวน'),\n",
        "    font_family=\"TH Sarabun New\",\n",
        "    height=700, width=1000,\n",
        "    xaxis_title='Sizes',\n",
        "    title={\n",
        "        'text': \"ท่านรู้สึกว่าการใช้เทคโนโลยีสารสนเทศและการสื่อสารมีผลต่อการเรียนการสอน\",\n",
        "        'x': 0.5}\n",
        ")\n",
        "fig.show()"
      ]
    },
    {
      "cell_type": "markdown",
      "metadata": {
        "id": "o0UiA9Voic9V"
      },
      "source": [
        "**ท่านคิดว่าสภาพแวดล้อมสังคมและวัฒนธรรมมีผลต่อการเรียนการสอน**"
      ]
    },
    {
      "cell_type": "code",
      "execution_count": null,
      "metadata": {
        "colab": {
          "base_uri": "https://localhost:8080/"
        },
        "id": "KMy703V6icnt",
        "outputId": "7bc4aee1-3e4f-402c-e8b9-a9939a0182b5"
      },
      "outputs": [
        {
          "name": "stdout",
          "output_type": "stream",
          "text": [
            "{5: 73, 4: 26, 3: 7, 2: 3}\n"
          ]
        }
      ],
      "source": [
        "column_position = 14\n",
        "\n",
        "data_exam = data.iloc[:, column_position].value_counts()\n",
        "\n",
        "data_exam_dict = data_exam.to_dict()\n",
        "\n",
        "print(data_exam_dict)"
      ]
    },
    {
      "cell_type": "code",
      "execution_count": null,
      "metadata": {
        "colab": {
          "base_uri": "https://localhost:8080/",
          "height": 717
        },
        "id": "ByAuavo6iq35",
        "outputId": "4ae131ed-1345-4caf-b061-5996689254c8"
      },
      "outputs": [
        {
          "data": {
            "text/html": [
              "<html>\n",
              "<head><meta charset=\"utf-8\" /></head>\n",
              "<body>\n",
              "    <div>            <script src=\"https://cdnjs.cloudflare.com/ajax/libs/mathjax/2.7.5/MathJax.js?config=TeX-AMS-MML_SVG\"></script><script type=\"text/javascript\">if (window.MathJax && window.MathJax.Hub && window.MathJax.Hub.Config) {window.MathJax.Hub.Config({SVG: {font: \"STIX-Web\"}});}</script>                <script type=\"text/javascript\">window.PlotlyConfig = {MathJaxConfig: 'local'};</script>\n",
              "        <script charset=\"utf-8\" src=\"https://cdn.plot.ly/plotly-2.24.1.min.js\"></script>                <div id=\"cbec45c8-2b1a-413d-ad60-77cfdaa18f5c\" class=\"plotly-graph-div\" style=\"height:700px; width:1000px;\"></div>            <script type=\"text/javascript\">                                    window.PLOTLYENV=window.PLOTLYENV || {};                                    if (document.getElementById(\"cbec45c8-2b1a-413d-ad60-77cfdaa18f5c\")) {                    Plotly.newPlot(                        \"cbec45c8-2b1a-413d-ad60-77cfdaa18f5c\",                        [{\"marker\":{\"color\":[\"#C6AC84\",\"#E2E5CC\",\"#D9C2BD\",\"#A2C4C6\",\"#82B2B7\"]},\"orientation\":\"h\",\"text\":[\"73\",\"26\",\"7\",\"3\",\"0\"],\"textposition\":\"inside\",\"x\":[73,26,7,3,0],\"y\":[\"\\u0e40\\u0e2b\\u0e47\\u0e19\\u0e14\\u0e49\\u0e27\\u0e22\\u0e21\\u0e32\\u0e01\\u0e17\\u0e35\\u0e48\\u0e2a\\u0e38\\u0e14\",\"\\u0e40\\u0e2b\\u0e47\\u0e19\\u0e14\\u0e49\\u0e27\\u0e22\\u0e21\\u0e32\\u0e01\",\"\\u0e40\\u0e2b\\u0e47\\u0e19\\u0e14\\u0e49\\u0e27\\u0e22\\u0e1b\\u0e32\\u0e19\\u0e01\\u0e25\\u0e32\\u0e07\",\"\\u0e44\\u0e21\\u0e48\\u0e40\\u0e2b\\u0e47\\u0e19\\u0e14\\u0e49\\u0e27\\u0e22 \",\"\\u0e44\\u0e21\\u0e48\\u0e40\\u0e2b\\u0e47\\u0e19\\u0e14\\u0e49\\u0e27\\u0e22\\u0e2d\\u0e22\\u0e48\\u0e32\\u0e07\\u0e22\\u0e34\\u0e48\\u0e07\"],\"type\":\"bar\"}],                        {\"template\":{\"data\":{\"histogram2dcontour\":[{\"type\":\"histogram2dcontour\",\"colorbar\":{\"outlinewidth\":0,\"ticks\":\"\"},\"colorscale\":[[0.0,\"#0d0887\"],[0.1111111111111111,\"#46039f\"],[0.2222222222222222,\"#7201a8\"],[0.3333333333333333,\"#9c179e\"],[0.4444444444444444,\"#bd3786\"],[0.5555555555555556,\"#d8576b\"],[0.6666666666666666,\"#ed7953\"],[0.7777777777777778,\"#fb9f3a\"],[0.8888888888888888,\"#fdca26\"],[1.0,\"#f0f921\"]]}],\"choropleth\":[{\"type\":\"choropleth\",\"colorbar\":{\"outlinewidth\":0,\"ticks\":\"\"}}],\"histogram2d\":[{\"type\":\"histogram2d\",\"colorbar\":{\"outlinewidth\":0,\"ticks\":\"\"},\"colorscale\":[[0.0,\"#0d0887\"],[0.1111111111111111,\"#46039f\"],[0.2222222222222222,\"#7201a8\"],[0.3333333333333333,\"#9c179e\"],[0.4444444444444444,\"#bd3786\"],[0.5555555555555556,\"#d8576b\"],[0.6666666666666666,\"#ed7953\"],[0.7777777777777778,\"#fb9f3a\"],[0.8888888888888888,\"#fdca26\"],[1.0,\"#f0f921\"]]}],\"heatmap\":[{\"type\":\"heatmap\",\"colorbar\":{\"outlinewidth\":0,\"ticks\":\"\"},\"colorscale\":[[0.0,\"#0d0887\"],[0.1111111111111111,\"#46039f\"],[0.2222222222222222,\"#7201a8\"],[0.3333333333333333,\"#9c179e\"],[0.4444444444444444,\"#bd3786\"],[0.5555555555555556,\"#d8576b\"],[0.6666666666666666,\"#ed7953\"],[0.7777777777777778,\"#fb9f3a\"],[0.8888888888888888,\"#fdca26\"],[1.0,\"#f0f921\"]]}],\"heatmapgl\":[{\"type\":\"heatmapgl\",\"colorbar\":{\"outlinewidth\":0,\"ticks\":\"\"},\"colorscale\":[[0.0,\"#0d0887\"],[0.1111111111111111,\"#46039f\"],[0.2222222222222222,\"#7201a8\"],[0.3333333333333333,\"#9c179e\"],[0.4444444444444444,\"#bd3786\"],[0.5555555555555556,\"#d8576b\"],[0.6666666666666666,\"#ed7953\"],[0.7777777777777778,\"#fb9f3a\"],[0.8888888888888888,\"#fdca26\"],[1.0,\"#f0f921\"]]}],\"contourcarpet\":[{\"type\":\"contourcarpet\",\"colorbar\":{\"outlinewidth\":0,\"ticks\":\"\"}}],\"contour\":[{\"type\":\"contour\",\"colorbar\":{\"outlinewidth\":0,\"ticks\":\"\"},\"colorscale\":[[0.0,\"#0d0887\"],[0.1111111111111111,\"#46039f\"],[0.2222222222222222,\"#7201a8\"],[0.3333333333333333,\"#9c179e\"],[0.4444444444444444,\"#bd3786\"],[0.5555555555555556,\"#d8576b\"],[0.6666666666666666,\"#ed7953\"],[0.7777777777777778,\"#fb9f3a\"],[0.8888888888888888,\"#fdca26\"],[1.0,\"#f0f921\"]]}],\"surface\":[{\"type\":\"surface\",\"colorbar\":{\"outlinewidth\":0,\"ticks\":\"\"},\"colorscale\":[[0.0,\"#0d0887\"],[0.1111111111111111,\"#46039f\"],[0.2222222222222222,\"#7201a8\"],[0.3333333333333333,\"#9c179e\"],[0.4444444444444444,\"#bd3786\"],[0.5555555555555556,\"#d8576b\"],[0.6666666666666666,\"#ed7953\"],[0.7777777777777778,\"#fb9f3a\"],[0.8888888888888888,\"#fdca26\"],[1.0,\"#f0f921\"]]}],\"mesh3d\":[{\"type\":\"mesh3d\",\"colorbar\":{\"outlinewidth\":0,\"ticks\":\"\"}}],\"scatter\":[{\"fillpattern\":{\"fillmode\":\"overlay\",\"size\":10,\"solidity\":0.2},\"type\":\"scatter\"}],\"parcoords\":[{\"type\":\"parcoords\",\"line\":{\"colorbar\":{\"outlinewidth\":0,\"ticks\":\"\"}}}],\"scatterpolargl\":[{\"type\":\"scatterpolargl\",\"marker\":{\"colorbar\":{\"outlinewidth\":0,\"ticks\":\"\"}}}],\"bar\":[{\"error_x\":{\"color\":\"#2a3f5f\"},\"error_y\":{\"color\":\"#2a3f5f\"},\"marker\":{\"line\":{\"color\":\"#E5ECF6\",\"width\":0.5},\"pattern\":{\"fillmode\":\"overlay\",\"size\":10,\"solidity\":0.2}},\"type\":\"bar\"}],\"scattergeo\":[{\"type\":\"scattergeo\",\"marker\":{\"colorbar\":{\"outlinewidth\":0,\"ticks\":\"\"}}}],\"scatterpolar\":[{\"type\":\"scatterpolar\",\"marker\":{\"colorbar\":{\"outlinewidth\":0,\"ticks\":\"\"}}}],\"histogram\":[{\"marker\":{\"pattern\":{\"fillmode\":\"overlay\",\"size\":10,\"solidity\":0.2}},\"type\":\"histogram\"}],\"scattergl\":[{\"type\":\"scattergl\",\"marker\":{\"colorbar\":{\"outlinewidth\":0,\"ticks\":\"\"}}}],\"scatter3d\":[{\"type\":\"scatter3d\",\"line\":{\"colorbar\":{\"outlinewidth\":0,\"ticks\":\"\"}},\"marker\":{\"colorbar\":{\"outlinewidth\":0,\"ticks\":\"\"}}}],\"scattermapbox\":[{\"type\":\"scattermapbox\",\"marker\":{\"colorbar\":{\"outlinewidth\":0,\"ticks\":\"\"}}}],\"scatterternary\":[{\"type\":\"scatterternary\",\"marker\":{\"colorbar\":{\"outlinewidth\":0,\"ticks\":\"\"}}}],\"scattercarpet\":[{\"type\":\"scattercarpet\",\"marker\":{\"colorbar\":{\"outlinewidth\":0,\"ticks\":\"\"}}}],\"carpet\":[{\"aaxis\":{\"endlinecolor\":\"#2a3f5f\",\"gridcolor\":\"white\",\"linecolor\":\"white\",\"minorgridcolor\":\"white\",\"startlinecolor\":\"#2a3f5f\"},\"baxis\":{\"endlinecolor\":\"#2a3f5f\",\"gridcolor\":\"white\",\"linecolor\":\"white\",\"minorgridcolor\":\"white\",\"startlinecolor\":\"#2a3f5f\"},\"type\":\"carpet\"}],\"table\":[{\"cells\":{\"fill\":{\"color\":\"#EBF0F8\"},\"line\":{\"color\":\"white\"}},\"header\":{\"fill\":{\"color\":\"#C8D4E3\"},\"line\":{\"color\":\"white\"}},\"type\":\"table\"}],\"barpolar\":[{\"marker\":{\"line\":{\"color\":\"#E5ECF6\",\"width\":0.5},\"pattern\":{\"fillmode\":\"overlay\",\"size\":10,\"solidity\":0.2}},\"type\":\"barpolar\"}],\"pie\":[{\"automargin\":true,\"type\":\"pie\"}]},\"layout\":{\"autotypenumbers\":\"strict\",\"colorway\":[\"#636efa\",\"#EF553B\",\"#00cc96\",\"#ab63fa\",\"#FFA15A\",\"#19d3f3\",\"#FF6692\",\"#B6E880\",\"#FF97FF\",\"#FECB52\"],\"font\":{\"color\":\"#2a3f5f\"},\"hovermode\":\"closest\",\"hoverlabel\":{\"align\":\"left\"},\"paper_bgcolor\":\"white\",\"plot_bgcolor\":\"#E5ECF6\",\"polar\":{\"bgcolor\":\"#E5ECF6\",\"angularaxis\":{\"gridcolor\":\"white\",\"linecolor\":\"white\",\"ticks\":\"\"},\"radialaxis\":{\"gridcolor\":\"white\",\"linecolor\":\"white\",\"ticks\":\"\"}},\"ternary\":{\"bgcolor\":\"#E5ECF6\",\"aaxis\":{\"gridcolor\":\"white\",\"linecolor\":\"white\",\"ticks\":\"\"},\"baxis\":{\"gridcolor\":\"white\",\"linecolor\":\"white\",\"ticks\":\"\"},\"caxis\":{\"gridcolor\":\"white\",\"linecolor\":\"white\",\"ticks\":\"\"}},\"coloraxis\":{\"colorbar\":{\"outlinewidth\":0,\"ticks\":\"\"}},\"colorscale\":{\"sequential\":[[0.0,\"#0d0887\"],[0.1111111111111111,\"#46039f\"],[0.2222222222222222,\"#7201a8\"],[0.3333333333333333,\"#9c179e\"],[0.4444444444444444,\"#bd3786\"],[0.5555555555555556,\"#d8576b\"],[0.6666666666666666,\"#ed7953\"],[0.7777777777777778,\"#fb9f3a\"],[0.8888888888888888,\"#fdca26\"],[1.0,\"#f0f921\"]],\"sequentialminus\":[[0.0,\"#0d0887\"],[0.1111111111111111,\"#46039f\"],[0.2222222222222222,\"#7201a8\"],[0.3333333333333333,\"#9c179e\"],[0.4444444444444444,\"#bd3786\"],[0.5555555555555556,\"#d8576b\"],[0.6666666666666666,\"#ed7953\"],[0.7777777777777778,\"#fb9f3a\"],[0.8888888888888888,\"#fdca26\"],[1.0,\"#f0f921\"]],\"diverging\":[[0,\"#8e0152\"],[0.1,\"#c51b7d\"],[0.2,\"#de77ae\"],[0.3,\"#f1b6da\"],[0.4,\"#fde0ef\"],[0.5,\"#f7f7f7\"],[0.6,\"#e6f5d0\"],[0.7,\"#b8e186\"],[0.8,\"#7fbc41\"],[0.9,\"#4d9221\"],[1,\"#276419\"]]},\"xaxis\":{\"gridcolor\":\"white\",\"linecolor\":\"white\",\"ticks\":\"\",\"title\":{\"standoff\":15},\"zerolinecolor\":\"white\",\"automargin\":true,\"zerolinewidth\":2},\"yaxis\":{\"gridcolor\":\"white\",\"linecolor\":\"white\",\"ticks\":\"\",\"title\":{\"standoff\":15},\"zerolinecolor\":\"white\",\"automargin\":true,\"zerolinewidth\":2},\"scene\":{\"xaxis\":{\"backgroundcolor\":\"#E5ECF6\",\"gridcolor\":\"white\",\"linecolor\":\"white\",\"showbackground\":true,\"ticks\":\"\",\"zerolinecolor\":\"white\",\"gridwidth\":2},\"yaxis\":{\"backgroundcolor\":\"#E5ECF6\",\"gridcolor\":\"white\",\"linecolor\":\"white\",\"showbackground\":true,\"ticks\":\"\",\"zerolinecolor\":\"white\",\"gridwidth\":2},\"zaxis\":{\"backgroundcolor\":\"#E5ECF6\",\"gridcolor\":\"white\",\"linecolor\":\"white\",\"showbackground\":true,\"ticks\":\"\",\"zerolinecolor\":\"white\",\"gridwidth\":2}},\"shapedefaults\":{\"line\":{\"color\":\"#2a3f5f\"}},\"annotationdefaults\":{\"arrowcolor\":\"#2a3f5f\",\"arrowhead\":0,\"arrowwidth\":1},\"geo\":{\"bgcolor\":\"white\",\"landcolor\":\"#E5ECF6\",\"subunitcolor\":\"white\",\"showland\":true,\"showlakes\":true,\"lakecolor\":\"white\"},\"title\":{\"x\":0.05},\"mapbox\":{\"style\":\"light\"}}},\"font\":{\"family\":\"TH Sarabun New\"},\"title\":{\"text\":\"\\u0e17\\u0e48\\u0e32\\u0e19\\u0e23\\u0e39\\u0e49\\u0e2a\\u0e36\\u0e01\\u0e27\\u0e48\\u0e32\\u0e2a\\u0e20\\u0e32\\u0e1e\\u0e41\\u0e27\\u0e14\\u0e25\\u0e49\\u0e2d\\u0e21\\u0e2a\\u0e31\\u0e07\\u0e04\\u0e21\\u0e41\\u0e25\\u0e30\\u0e27\\u0e31\\u0e12\\u0e19\\u0e18\\u0e23\\u0e23\\u0e21\\u0e21\\u0e35\\u0e1c\\u0e25\\u0e15\\u0e48\\u0e2d\\u0e01\\u0e32\\u0e23\\u0e40\\u0e23\\u0e35\\u0e22\\u0e19\\u0e01\\u0e32\\u0e23\\u0e2a\\u0e2d\\u0e19\",\"x\":0.5},\"xaxis\":{\"title\":{\"text\":\"Sizes\"}},\"yaxis\":{\"title\":{\"text\":\"\\u0e08\\u0e33\\u0e19\\u0e27\\u0e19\"}},\"height\":700,\"width\":1000},                        {\"responsive\": true}                    ).then(function(){\n",
              "                            \n",
              "var gd = document.getElementById('cbec45c8-2b1a-413d-ad60-77cfdaa18f5c');\n",
              "var x = new MutationObserver(function (mutations, observer) {{\n",
              "        var display = window.getComputedStyle(gd).display;\n",
              "        if (!display || display === 'none') {{\n",
              "            console.log([gd, 'removed!']);\n",
              "            Plotly.purge(gd);\n",
              "            observer.disconnect();\n",
              "        }}\n",
              "}});\n",
              "\n",
              "// Listen for the removal of the full notebook cells\n",
              "var notebookContainer = gd.closest('#notebook-container');\n",
              "if (notebookContainer) {{\n",
              "    x.observe(notebookContainer, {childList: true});\n",
              "}}\n",
              "\n",
              "// Listen for the clearing of the current output cell\n",
              "var outputEl = gd.closest('.output');\n",
              "if (outputEl) {{\n",
              "    x.observe(outputEl, {childList: true});\n",
              "}}\n",
              "\n",
              "                        })                };                            </script>        </div>\n",
              "</body>\n",
              "</html>"
            ]
          },
          "metadata": {},
          "output_type": "display_data"
        }
      ],
      "source": [
        "labels = [A, B, C, D, E]\n",
        "sizes = [73, 26, 7, 3,0]\n",
        "colors = ['#C6AC84', '#E2E5CC',\t'#D9C2BD',\t'#A2C4C6',\t'#82B2B7']\n",
        "\n",
        "fig = go.Figure(data=[go.Bar(y=labels, x=sizes, orientation='h',\n",
        "                             text=sizes, textposition='inside',\n",
        "                             marker=dict(color=colors))])\n",
        "\n",
        "fig.update_layout(\n",
        "    xaxis=dict(title='ความเห็น'),\n",
        "    yaxis=dict(title='จำนวน'),\n",
        "    font_family=\"TH Sarabun New\",\n",
        "    height=700, width=1000,\n",
        "    xaxis_title='Sizes',\n",
        "    title={\n",
        "        'text': \"ท่านรู้สึกว่าสภาพแวดล้อมสังคมและวัฒนธรรมมีผลต่อการเรียนการสอน\",\n",
        "        'x': 0.5}\n",
        ")\n",
        "fig.show()"
      ]
    },
    {
      "cell_type": "markdown",
      "metadata": {
        "id": "aaAly0-Piysg"
      },
      "source": [
        "**ท่านพึงพอใจกับโครงสร้างและการจัดการของระบบการศึกษาที่คุณกำลังศึกษา**"
      ]
    },
    {
      "cell_type": "code",
      "execution_count": null,
      "metadata": {
        "colab": {
          "base_uri": "https://localhost:8080/"
        },
        "id": "uF-uHovni0Qq",
        "outputId": "473ad6cb-3afc-4fa1-a6dd-cae4105b429e"
      },
      "outputs": [
        {
          "name": "stdout",
          "output_type": "stream",
          "text": [
            "{3: 49, 4: 30, 5: 18, 2: 8, 1: 4}\n"
          ]
        }
      ],
      "source": [
        "column_position = 15\n",
        "\n",
        "data_exam = data.iloc[:, column_position].value_counts()\n",
        "\n",
        "data_exam_dict = data_exam.to_dict()\n",
        "\n",
        "print(data_exam_dict)"
      ]
    },
    {
      "cell_type": "code",
      "execution_count": null,
      "metadata": {
        "colab": {
          "base_uri": "https://localhost:8080/",
          "height": 717
        },
        "id": "ewR2-m_1i2eS",
        "outputId": "0ccf234e-be8b-49d3-81ff-a9e553f2f454"
      },
      "outputs": [
        {
          "data": {
            "text/html": [
              "<html>\n",
              "<head><meta charset=\"utf-8\" /></head>\n",
              "<body>\n",
              "    <div>            <script src=\"https://cdnjs.cloudflare.com/ajax/libs/mathjax/2.7.5/MathJax.js?config=TeX-AMS-MML_SVG\"></script><script type=\"text/javascript\">if (window.MathJax && window.MathJax.Hub && window.MathJax.Hub.Config) {window.MathJax.Hub.Config({SVG: {font: \"STIX-Web\"}});}</script>                <script type=\"text/javascript\">window.PlotlyConfig = {MathJaxConfig: 'local'};</script>\n",
              "        <script charset=\"utf-8\" src=\"https://cdn.plot.ly/plotly-2.24.1.min.js\"></script>                <div id=\"1a206005-aa86-4eeb-bf16-60e11f3967d1\" class=\"plotly-graph-div\" style=\"height:700px; width:1000px;\"></div>            <script type=\"text/javascript\">                                    window.PLOTLYENV=window.PLOTLYENV || {};                                    if (document.getElementById(\"1a206005-aa86-4eeb-bf16-60e11f3967d1\")) {                    Plotly.newPlot(                        \"1a206005-aa86-4eeb-bf16-60e11f3967d1\",                        [{\"marker\":{\"color\":[\"#D69593\",\"#A96E7F\",\"#492D53\",\"#5B5581\",\"#794B69\"],\"size\":[4,8,49,30,18],\"sizemin\":4,\"sizemode\":\"diameter\",\"sizeref\":0.245},\"mode\":\"markers+text\",\"text\":[\"4\",\"8\",\"49\",\"30\",\"18\"],\"textposition\":\"bottom center\",\"x\":[\"\\u0e44\\u0e21\\u0e48\\u0e40\\u0e2b\\u0e47\\u0e19\\u0e14\\u0e49\\u0e27\\u0e22\\u0e2d\\u0e22\\u0e48\\u0e32\\u0e07\\u0e22\\u0e34\\u0e48\\u0e07\",\"\\u0e44\\u0e21\\u0e48\\u0e40\\u0e2b\\u0e47\\u0e19\\u0e14\\u0e49\\u0e27\\u0e22 \",\"\\u0e40\\u0e2b\\u0e47\\u0e19\\u0e14\\u0e49\\u0e27\\u0e22\\u0e1b\\u0e32\\u0e19\\u0e01\\u0e25\\u0e32\\u0e07\",\"\\u0e40\\u0e2b\\u0e47\\u0e19\\u0e14\\u0e49\\u0e27\\u0e22\\u0e21\\u0e32\\u0e01\",\"\\u0e40\\u0e2b\\u0e47\\u0e19\\u0e14\\u0e49\\u0e27\\u0e22\\u0e21\\u0e32\\u0e01\\u0e17\\u0e35\\u0e48\\u0e2a\\u0e38\\u0e14\"],\"y\":[4,8,49,30,18],\"type\":\"scatter\"}],                        {\"template\":{\"data\":{\"histogram2dcontour\":[{\"type\":\"histogram2dcontour\",\"colorbar\":{\"outlinewidth\":0,\"ticks\":\"\"},\"colorscale\":[[0.0,\"#0d0887\"],[0.1111111111111111,\"#46039f\"],[0.2222222222222222,\"#7201a8\"],[0.3333333333333333,\"#9c179e\"],[0.4444444444444444,\"#bd3786\"],[0.5555555555555556,\"#d8576b\"],[0.6666666666666666,\"#ed7953\"],[0.7777777777777778,\"#fb9f3a\"],[0.8888888888888888,\"#fdca26\"],[1.0,\"#f0f921\"]]}],\"choropleth\":[{\"type\":\"choropleth\",\"colorbar\":{\"outlinewidth\":0,\"ticks\":\"\"}}],\"histogram2d\":[{\"type\":\"histogram2d\",\"colorbar\":{\"outlinewidth\":0,\"ticks\":\"\"},\"colorscale\":[[0.0,\"#0d0887\"],[0.1111111111111111,\"#46039f\"],[0.2222222222222222,\"#7201a8\"],[0.3333333333333333,\"#9c179e\"],[0.4444444444444444,\"#bd3786\"],[0.5555555555555556,\"#d8576b\"],[0.6666666666666666,\"#ed7953\"],[0.7777777777777778,\"#fb9f3a\"],[0.8888888888888888,\"#fdca26\"],[1.0,\"#f0f921\"]]}],\"heatmap\":[{\"type\":\"heatmap\",\"colorbar\":{\"outlinewidth\":0,\"ticks\":\"\"},\"colorscale\":[[0.0,\"#0d0887\"],[0.1111111111111111,\"#46039f\"],[0.2222222222222222,\"#7201a8\"],[0.3333333333333333,\"#9c179e\"],[0.4444444444444444,\"#bd3786\"],[0.5555555555555556,\"#d8576b\"],[0.6666666666666666,\"#ed7953\"],[0.7777777777777778,\"#fb9f3a\"],[0.8888888888888888,\"#fdca26\"],[1.0,\"#f0f921\"]]}],\"heatmapgl\":[{\"type\":\"heatmapgl\",\"colorbar\":{\"outlinewidth\":0,\"ticks\":\"\"},\"colorscale\":[[0.0,\"#0d0887\"],[0.1111111111111111,\"#46039f\"],[0.2222222222222222,\"#7201a8\"],[0.3333333333333333,\"#9c179e\"],[0.4444444444444444,\"#bd3786\"],[0.5555555555555556,\"#d8576b\"],[0.6666666666666666,\"#ed7953\"],[0.7777777777777778,\"#fb9f3a\"],[0.8888888888888888,\"#fdca26\"],[1.0,\"#f0f921\"]]}],\"contourcarpet\":[{\"type\":\"contourcarpet\",\"colorbar\":{\"outlinewidth\":0,\"ticks\":\"\"}}],\"contour\":[{\"type\":\"contour\",\"colorbar\":{\"outlinewidth\":0,\"ticks\":\"\"},\"colorscale\":[[0.0,\"#0d0887\"],[0.1111111111111111,\"#46039f\"],[0.2222222222222222,\"#7201a8\"],[0.3333333333333333,\"#9c179e\"],[0.4444444444444444,\"#bd3786\"],[0.5555555555555556,\"#d8576b\"],[0.6666666666666666,\"#ed7953\"],[0.7777777777777778,\"#fb9f3a\"],[0.8888888888888888,\"#fdca26\"],[1.0,\"#f0f921\"]]}],\"surface\":[{\"type\":\"surface\",\"colorbar\":{\"outlinewidth\":0,\"ticks\":\"\"},\"colorscale\":[[0.0,\"#0d0887\"],[0.1111111111111111,\"#46039f\"],[0.2222222222222222,\"#7201a8\"],[0.3333333333333333,\"#9c179e\"],[0.4444444444444444,\"#bd3786\"],[0.5555555555555556,\"#d8576b\"],[0.6666666666666666,\"#ed7953\"],[0.7777777777777778,\"#fb9f3a\"],[0.8888888888888888,\"#fdca26\"],[1.0,\"#f0f921\"]]}],\"mesh3d\":[{\"type\":\"mesh3d\",\"colorbar\":{\"outlinewidth\":0,\"ticks\":\"\"}}],\"scatter\":[{\"fillpattern\":{\"fillmode\":\"overlay\",\"size\":10,\"solidity\":0.2},\"type\":\"scatter\"}],\"parcoords\":[{\"type\":\"parcoords\",\"line\":{\"colorbar\":{\"outlinewidth\":0,\"ticks\":\"\"}}}],\"scatterpolargl\":[{\"type\":\"scatterpolargl\",\"marker\":{\"colorbar\":{\"outlinewidth\":0,\"ticks\":\"\"}}}],\"bar\":[{\"error_x\":{\"color\":\"#2a3f5f\"},\"error_y\":{\"color\":\"#2a3f5f\"},\"marker\":{\"line\":{\"color\":\"#E5ECF6\",\"width\":0.5},\"pattern\":{\"fillmode\":\"overlay\",\"size\":10,\"solidity\":0.2}},\"type\":\"bar\"}],\"scattergeo\":[{\"type\":\"scattergeo\",\"marker\":{\"colorbar\":{\"outlinewidth\":0,\"ticks\":\"\"}}}],\"scatterpolar\":[{\"type\":\"scatterpolar\",\"marker\":{\"colorbar\":{\"outlinewidth\":0,\"ticks\":\"\"}}}],\"histogram\":[{\"marker\":{\"pattern\":{\"fillmode\":\"overlay\",\"size\":10,\"solidity\":0.2}},\"type\":\"histogram\"}],\"scattergl\":[{\"type\":\"scattergl\",\"marker\":{\"colorbar\":{\"outlinewidth\":0,\"ticks\":\"\"}}}],\"scatter3d\":[{\"type\":\"scatter3d\",\"line\":{\"colorbar\":{\"outlinewidth\":0,\"ticks\":\"\"}},\"marker\":{\"colorbar\":{\"outlinewidth\":0,\"ticks\":\"\"}}}],\"scattermapbox\":[{\"type\":\"scattermapbox\",\"marker\":{\"colorbar\":{\"outlinewidth\":0,\"ticks\":\"\"}}}],\"scatterternary\":[{\"type\":\"scatterternary\",\"marker\":{\"colorbar\":{\"outlinewidth\":0,\"ticks\":\"\"}}}],\"scattercarpet\":[{\"type\":\"scattercarpet\",\"marker\":{\"colorbar\":{\"outlinewidth\":0,\"ticks\":\"\"}}}],\"carpet\":[{\"aaxis\":{\"endlinecolor\":\"#2a3f5f\",\"gridcolor\":\"white\",\"linecolor\":\"white\",\"minorgridcolor\":\"white\",\"startlinecolor\":\"#2a3f5f\"},\"baxis\":{\"endlinecolor\":\"#2a3f5f\",\"gridcolor\":\"white\",\"linecolor\":\"white\",\"minorgridcolor\":\"white\",\"startlinecolor\":\"#2a3f5f\"},\"type\":\"carpet\"}],\"table\":[{\"cells\":{\"fill\":{\"color\":\"#EBF0F8\"},\"line\":{\"color\":\"white\"}},\"header\":{\"fill\":{\"color\":\"#C8D4E3\"},\"line\":{\"color\":\"white\"}},\"type\":\"table\"}],\"barpolar\":[{\"marker\":{\"line\":{\"color\":\"#E5ECF6\",\"width\":0.5},\"pattern\":{\"fillmode\":\"overlay\",\"size\":10,\"solidity\":0.2}},\"type\":\"barpolar\"}],\"pie\":[{\"automargin\":true,\"type\":\"pie\"}]},\"layout\":{\"autotypenumbers\":\"strict\",\"colorway\":[\"#636efa\",\"#EF553B\",\"#00cc96\",\"#ab63fa\",\"#FFA15A\",\"#19d3f3\",\"#FF6692\",\"#B6E880\",\"#FF97FF\",\"#FECB52\"],\"font\":{\"color\":\"#2a3f5f\"},\"hovermode\":\"closest\",\"hoverlabel\":{\"align\":\"left\"},\"paper_bgcolor\":\"white\",\"plot_bgcolor\":\"#E5ECF6\",\"polar\":{\"bgcolor\":\"#E5ECF6\",\"angularaxis\":{\"gridcolor\":\"white\",\"linecolor\":\"white\",\"ticks\":\"\"},\"radialaxis\":{\"gridcolor\":\"white\",\"linecolor\":\"white\",\"ticks\":\"\"}},\"ternary\":{\"bgcolor\":\"#E5ECF6\",\"aaxis\":{\"gridcolor\":\"white\",\"linecolor\":\"white\",\"ticks\":\"\"},\"baxis\":{\"gridcolor\":\"white\",\"linecolor\":\"white\",\"ticks\":\"\"},\"caxis\":{\"gridcolor\":\"white\",\"linecolor\":\"white\",\"ticks\":\"\"}},\"coloraxis\":{\"colorbar\":{\"outlinewidth\":0,\"ticks\":\"\"}},\"colorscale\":{\"sequential\":[[0.0,\"#0d0887\"],[0.1111111111111111,\"#46039f\"],[0.2222222222222222,\"#7201a8\"],[0.3333333333333333,\"#9c179e\"],[0.4444444444444444,\"#bd3786\"],[0.5555555555555556,\"#d8576b\"],[0.6666666666666666,\"#ed7953\"],[0.7777777777777778,\"#fb9f3a\"],[0.8888888888888888,\"#fdca26\"],[1.0,\"#f0f921\"]],\"sequentialminus\":[[0.0,\"#0d0887\"],[0.1111111111111111,\"#46039f\"],[0.2222222222222222,\"#7201a8\"],[0.3333333333333333,\"#9c179e\"],[0.4444444444444444,\"#bd3786\"],[0.5555555555555556,\"#d8576b\"],[0.6666666666666666,\"#ed7953\"],[0.7777777777777778,\"#fb9f3a\"],[0.8888888888888888,\"#fdca26\"],[1.0,\"#f0f921\"]],\"diverging\":[[0,\"#8e0152\"],[0.1,\"#c51b7d\"],[0.2,\"#de77ae\"],[0.3,\"#f1b6da\"],[0.4,\"#fde0ef\"],[0.5,\"#f7f7f7\"],[0.6,\"#e6f5d0\"],[0.7,\"#b8e186\"],[0.8,\"#7fbc41\"],[0.9,\"#4d9221\"],[1,\"#276419\"]]},\"xaxis\":{\"gridcolor\":\"white\",\"linecolor\":\"white\",\"ticks\":\"\",\"title\":{\"standoff\":15},\"zerolinecolor\":\"white\",\"automargin\":true,\"zerolinewidth\":2},\"yaxis\":{\"gridcolor\":\"white\",\"linecolor\":\"white\",\"ticks\":\"\",\"title\":{\"standoff\":15},\"zerolinecolor\":\"white\",\"automargin\":true,\"zerolinewidth\":2},\"scene\":{\"xaxis\":{\"backgroundcolor\":\"#E5ECF6\",\"gridcolor\":\"white\",\"linecolor\":\"white\",\"showbackground\":true,\"ticks\":\"\",\"zerolinecolor\":\"white\",\"gridwidth\":2},\"yaxis\":{\"backgroundcolor\":\"#E5ECF6\",\"gridcolor\":\"white\",\"linecolor\":\"white\",\"showbackground\":true,\"ticks\":\"\",\"zerolinecolor\":\"white\",\"gridwidth\":2},\"zaxis\":{\"backgroundcolor\":\"#E5ECF6\",\"gridcolor\":\"white\",\"linecolor\":\"white\",\"showbackground\":true,\"ticks\":\"\",\"zerolinecolor\":\"white\",\"gridwidth\":2}},\"shapedefaults\":{\"line\":{\"color\":\"#2a3f5f\"}},\"annotationdefaults\":{\"arrowcolor\":\"#2a3f5f\",\"arrowhead\":0,\"arrowwidth\":1},\"geo\":{\"bgcolor\":\"white\",\"landcolor\":\"#E5ECF6\",\"subunitcolor\":\"white\",\"showland\":true,\"showlakes\":true,\"lakecolor\":\"white\"},\"title\":{\"x\":0.05},\"mapbox\":{\"style\":\"light\"}}},\"title\":{\"text\":\"\\u0e04\\u0e27\\u0e32\\u0e21\\u0e1e\\u0e36\\u0e07\\u0e1e\\u0e2d\\u0e43\\u0e08\\u0e01\\u0e31\\u0e1a\\u0e42\\u0e04\\u0e23\\u0e07\\u0e2a\\u0e23\\u0e49\\u0e32\\u0e07\\u0e41\\u0e25\\u0e30\\u0e01\\u0e32\\u0e23\\u0e08\\u0e31\\u0e14\\u0e01\\u0e32\\u0e23\\u0e02\\u0e2d\\u0e07\\u0e23\\u0e30\\u0e1a\\u0e1a\\u0e01\\u0e32\\u0e23\\u0e28\\u0e36\\u0e01\\u0e29\\u0e32\\u0e17\\u0e35\\u0e48\\u0e04\\u0e38\\u0e13\\u0e01\\u0e33\\u0e25\\u0e31\\u0e07\\u0e28\\u0e36\\u0e01\\u0e29\\u0e32\",\"x\":0.5},\"font\":{\"family\":\"TH Sarabun New\"},\"height\":700,\"width\":1000,\"xaxis\":{\"title\":{\"text\":\"\\u0e04\\u0e27\\u0e32\\u0e21\\u0e40\\u0e2b\\u0e47\\u0e19\"}},\"yaxis\":{\"title\":{\"text\":\"\\u0e08\\u0e33\\u0e19\\u0e27\\u0e19\"}}},                        {\"responsive\": true}                    ).then(function(){\n",
              "                            \n",
              "var gd = document.getElementById('1a206005-aa86-4eeb-bf16-60e11f3967d1');\n",
              "var x = new MutationObserver(function (mutations, observer) {{\n",
              "        var display = window.getComputedStyle(gd).display;\n",
              "        if (!display || display === 'none') {{\n",
              "            console.log([gd, 'removed!']);\n",
              "            Plotly.purge(gd);\n",
              "            observer.disconnect();\n",
              "        }}\n",
              "}});\n",
              "\n",
              "// Listen for the removal of the full notebook cells\n",
              "var notebookContainer = gd.closest('#notebook-container');\n",
              "if (notebookContainer) {{\n",
              "    x.observe(notebookContainer, {childList: true});\n",
              "}}\n",
              "\n",
              "// Listen for the clearing of the current output cell\n",
              "var outputEl = gd.closest('.output');\n",
              "if (outputEl) {{\n",
              "    x.observe(outputEl, {childList: true});\n",
              "}}\n",
              "\n",
              "                        })                };                            </script>        </div>\n",
              "</body>\n",
              "</html>"
            ]
          },
          "metadata": {},
          "output_type": "display_data"
        }
      ],
      "source": [
        "y_values = [4, 8, 49, 30, 18]\n",
        "bubble_sizes = [4, 8, 49, 30, 18]\n",
        "bubble_labels = [str(size) for size in bubble_sizes]\n",
        "\n",
        "colors = ['#D69593','#A96E7F', '#492D53','#5B5581','#794B69']\n",
        "\n",
        "fig = go.Figure(go.Scatter(\n",
        "    x=x_values,\n",
        "    y=y_values,\n",
        "    mode='markers+text',\n",
        "    text=bubble_labels,\n",
        "    textposition='bottom center',\n",
        "    marker=dict(\n",
        "        size=bubble_sizes,\n",
        "        sizemode='diameter',\n",
        "        sizeref=2.*max(bubble_sizes)/(20.**2),\n",
        "        sizemin=4,\n",
        "        color=colors\n",
        "    )\n",
        "))\n",
        "fig.update_layout(\n",
        "    height=700, width=1000,\n",
        "    xaxis=dict(title='ความเห็น'),\n",
        "    yaxis=dict(title='จำนวน'),\n",
        "    title={\n",
        "        'text': \"ความพึงพอใจกับโครงสร้างและการจัดการของระบบการศึกษาที่คุณกำลังศึกษา\",\n",
        "        'x': 0.5},\n",
        "    font_family=\"TH Sarabun New\"\n",
        ")\n",
        "fig.show()"
      ]
    },
    {
      "cell_type": "markdown",
      "metadata": {
        "id": "mzmA8zCj6tOc"
      },
      "source": [
        "**ท่านคิดว่าในอนาคต การศึกษาปริญญาตรีในยังมีบทบาทสำคัญอยู่หรือไม่**"
      ]
    },
    {
      "cell_type": "code",
      "execution_count": null,
      "metadata": {
        "colab": {
          "base_uri": "https://localhost:8080/",
          "height": 786
        },
        "id": "VXrNahW4F-ml",
        "outputId": "44ca943b-97ac-42ed-9f09-fc77026ece0d"
      },
      "outputs": [
        {
          "name": "stdout",
          "output_type": "stream",
          "text": [
            "ท่านคิดว่าในอนาคต การศึกษาปริญญาตรียังมีบทบาทสำคัญอยู่หรือไม่ \n",
            "มีบทบาทสำคัญ       95\n",
            "ไม่มีบทบาทสำคัญ    14\n",
            "dtype: int64\n"
          ]
        },
        {
          "data": {
            "text/html": [
              "<html>\n",
              "<head><meta charset=\"utf-8\" /></head>\n",
              "<body>\n",
              "    <div>            <script src=\"https://cdnjs.cloudflare.com/ajax/libs/mathjax/2.7.5/MathJax.js?config=TeX-AMS-MML_SVG\"></script><script type=\"text/javascript\">if (window.MathJax && window.MathJax.Hub && window.MathJax.Hub.Config) {window.MathJax.Hub.Config({SVG: {font: \"STIX-Web\"}});}</script>                <script type=\"text/javascript\">window.PlotlyConfig = {MathJaxConfig: 'local'};</script>\n",
              "        <script charset=\"utf-8\" src=\"https://cdn.plot.ly/plotly-2.24.1.min.js\"></script>                <div id=\"9c7a2aa8-d06c-4327-a737-81f55dedc4c8\" class=\"plotly-graph-div\" style=\"height:700px; width:700px;\"></div>            <script type=\"text/javascript\">                                    window.PLOTLYENV=window.PLOTLYENV || {};                                    if (document.getElementById(\"9c7a2aa8-d06c-4327-a737-81f55dedc4c8\")) {                    Plotly.newPlot(                        \"9c7a2aa8-d06c-4327-a737-81f55dedc4c8\",                        [{\"domain\":{\"x\":[0.0,1.0],\"y\":[0.0,1.0]},\"hovertemplate\":\"label=%{label}\\u003cbr\\u003evalue=%{value}\\u003cextra\\u003e\\u003c\\u002fextra\\u003e\",\"labels\":[\"\\u0e21\\u0e35\\u0e1a\\u0e17\\u0e1a\\u0e32\\u0e17\\u0e2a\\u0e33\\u0e04\\u0e31\\u0e0d\",\"\\u0e44\\u0e21\\u0e48\\u0e21\\u0e35\\u0e1a\\u0e17\\u0e1a\\u0e32\\u0e17\\u0e2a\\u0e33\\u0e04\\u0e31\\u0e0d\"],\"legendgroup\":\"\",\"name\":\"\",\"showlegend\":true,\"values\":[95,14],\"type\":\"pie\",\"textposition\":\"outside\",\"texttemplate\":\"%{value} \\u003cbr\\u003e(%{percent})\"}],                        {\"template\":{\"data\":{\"histogram2dcontour\":[{\"type\":\"histogram2dcontour\",\"colorbar\":{\"outlinewidth\":0,\"ticks\":\"\"},\"colorscale\":[[0.0,\"#0d0887\"],[0.1111111111111111,\"#46039f\"],[0.2222222222222222,\"#7201a8\"],[0.3333333333333333,\"#9c179e\"],[0.4444444444444444,\"#bd3786\"],[0.5555555555555556,\"#d8576b\"],[0.6666666666666666,\"#ed7953\"],[0.7777777777777778,\"#fb9f3a\"],[0.8888888888888888,\"#fdca26\"],[1.0,\"#f0f921\"]]}],\"choropleth\":[{\"type\":\"choropleth\",\"colorbar\":{\"outlinewidth\":0,\"ticks\":\"\"}}],\"histogram2d\":[{\"type\":\"histogram2d\",\"colorbar\":{\"outlinewidth\":0,\"ticks\":\"\"},\"colorscale\":[[0.0,\"#0d0887\"],[0.1111111111111111,\"#46039f\"],[0.2222222222222222,\"#7201a8\"],[0.3333333333333333,\"#9c179e\"],[0.4444444444444444,\"#bd3786\"],[0.5555555555555556,\"#d8576b\"],[0.6666666666666666,\"#ed7953\"],[0.7777777777777778,\"#fb9f3a\"],[0.8888888888888888,\"#fdca26\"],[1.0,\"#f0f921\"]]}],\"heatmap\":[{\"type\":\"heatmap\",\"colorbar\":{\"outlinewidth\":0,\"ticks\":\"\"},\"colorscale\":[[0.0,\"#0d0887\"],[0.1111111111111111,\"#46039f\"],[0.2222222222222222,\"#7201a8\"],[0.3333333333333333,\"#9c179e\"],[0.4444444444444444,\"#bd3786\"],[0.5555555555555556,\"#d8576b\"],[0.6666666666666666,\"#ed7953\"],[0.7777777777777778,\"#fb9f3a\"],[0.8888888888888888,\"#fdca26\"],[1.0,\"#f0f921\"]]}],\"heatmapgl\":[{\"type\":\"heatmapgl\",\"colorbar\":{\"outlinewidth\":0,\"ticks\":\"\"},\"colorscale\":[[0.0,\"#0d0887\"],[0.1111111111111111,\"#46039f\"],[0.2222222222222222,\"#7201a8\"],[0.3333333333333333,\"#9c179e\"],[0.4444444444444444,\"#bd3786\"],[0.5555555555555556,\"#d8576b\"],[0.6666666666666666,\"#ed7953\"],[0.7777777777777778,\"#fb9f3a\"],[0.8888888888888888,\"#fdca26\"],[1.0,\"#f0f921\"]]}],\"contourcarpet\":[{\"type\":\"contourcarpet\",\"colorbar\":{\"outlinewidth\":0,\"ticks\":\"\"}}],\"contour\":[{\"type\":\"contour\",\"colorbar\":{\"outlinewidth\":0,\"ticks\":\"\"},\"colorscale\":[[0.0,\"#0d0887\"],[0.1111111111111111,\"#46039f\"],[0.2222222222222222,\"#7201a8\"],[0.3333333333333333,\"#9c179e\"],[0.4444444444444444,\"#bd3786\"],[0.5555555555555556,\"#d8576b\"],[0.6666666666666666,\"#ed7953\"],[0.7777777777777778,\"#fb9f3a\"],[0.8888888888888888,\"#fdca26\"],[1.0,\"#f0f921\"]]}],\"surface\":[{\"type\":\"surface\",\"colorbar\":{\"outlinewidth\":0,\"ticks\":\"\"},\"colorscale\":[[0.0,\"#0d0887\"],[0.1111111111111111,\"#46039f\"],[0.2222222222222222,\"#7201a8\"],[0.3333333333333333,\"#9c179e\"],[0.4444444444444444,\"#bd3786\"],[0.5555555555555556,\"#d8576b\"],[0.6666666666666666,\"#ed7953\"],[0.7777777777777778,\"#fb9f3a\"],[0.8888888888888888,\"#fdca26\"],[1.0,\"#f0f921\"]]}],\"mesh3d\":[{\"type\":\"mesh3d\",\"colorbar\":{\"outlinewidth\":0,\"ticks\":\"\"}}],\"scatter\":[{\"fillpattern\":{\"fillmode\":\"overlay\",\"size\":10,\"solidity\":0.2},\"type\":\"scatter\"}],\"parcoords\":[{\"type\":\"parcoords\",\"line\":{\"colorbar\":{\"outlinewidth\":0,\"ticks\":\"\"}}}],\"scatterpolargl\":[{\"type\":\"scatterpolargl\",\"marker\":{\"colorbar\":{\"outlinewidth\":0,\"ticks\":\"\"}}}],\"bar\":[{\"error_x\":{\"color\":\"#2a3f5f\"},\"error_y\":{\"color\":\"#2a3f5f\"},\"marker\":{\"line\":{\"color\":\"#E5ECF6\",\"width\":0.5},\"pattern\":{\"fillmode\":\"overlay\",\"size\":10,\"solidity\":0.2}},\"type\":\"bar\"}],\"scattergeo\":[{\"type\":\"scattergeo\",\"marker\":{\"colorbar\":{\"outlinewidth\":0,\"ticks\":\"\"}}}],\"scatterpolar\":[{\"type\":\"scatterpolar\",\"marker\":{\"colorbar\":{\"outlinewidth\":0,\"ticks\":\"\"}}}],\"histogram\":[{\"marker\":{\"pattern\":{\"fillmode\":\"overlay\",\"size\":10,\"solidity\":0.2}},\"type\":\"histogram\"}],\"scattergl\":[{\"type\":\"scattergl\",\"marker\":{\"colorbar\":{\"outlinewidth\":0,\"ticks\":\"\"}}}],\"scatter3d\":[{\"type\":\"scatter3d\",\"line\":{\"colorbar\":{\"outlinewidth\":0,\"ticks\":\"\"}},\"marker\":{\"colorbar\":{\"outlinewidth\":0,\"ticks\":\"\"}}}],\"scattermapbox\":[{\"type\":\"scattermapbox\",\"marker\":{\"colorbar\":{\"outlinewidth\":0,\"ticks\":\"\"}}}],\"scatterternary\":[{\"type\":\"scatterternary\",\"marker\":{\"colorbar\":{\"outlinewidth\":0,\"ticks\":\"\"}}}],\"scattercarpet\":[{\"type\":\"scattercarpet\",\"marker\":{\"colorbar\":{\"outlinewidth\":0,\"ticks\":\"\"}}}],\"carpet\":[{\"aaxis\":{\"endlinecolor\":\"#2a3f5f\",\"gridcolor\":\"white\",\"linecolor\":\"white\",\"minorgridcolor\":\"white\",\"startlinecolor\":\"#2a3f5f\"},\"baxis\":{\"endlinecolor\":\"#2a3f5f\",\"gridcolor\":\"white\",\"linecolor\":\"white\",\"minorgridcolor\":\"white\",\"startlinecolor\":\"#2a3f5f\"},\"type\":\"carpet\"}],\"table\":[{\"cells\":{\"fill\":{\"color\":\"#EBF0F8\"},\"line\":{\"color\":\"white\"}},\"header\":{\"fill\":{\"color\":\"#C8D4E3\"},\"line\":{\"color\":\"white\"}},\"type\":\"table\"}],\"barpolar\":[{\"marker\":{\"line\":{\"color\":\"#E5ECF6\",\"width\":0.5},\"pattern\":{\"fillmode\":\"overlay\",\"size\":10,\"solidity\":0.2}},\"type\":\"barpolar\"}],\"pie\":[{\"automargin\":true,\"type\":\"pie\"}]},\"layout\":{\"autotypenumbers\":\"strict\",\"colorway\":[\"#636efa\",\"#EF553B\",\"#00cc96\",\"#ab63fa\",\"#FFA15A\",\"#19d3f3\",\"#FF6692\",\"#B6E880\",\"#FF97FF\",\"#FECB52\"],\"font\":{\"color\":\"#2a3f5f\"},\"hovermode\":\"closest\",\"hoverlabel\":{\"align\":\"left\"},\"paper_bgcolor\":\"white\",\"plot_bgcolor\":\"#E5ECF6\",\"polar\":{\"bgcolor\":\"#E5ECF6\",\"angularaxis\":{\"gridcolor\":\"white\",\"linecolor\":\"white\",\"ticks\":\"\"},\"radialaxis\":{\"gridcolor\":\"white\",\"linecolor\":\"white\",\"ticks\":\"\"}},\"ternary\":{\"bgcolor\":\"#E5ECF6\",\"aaxis\":{\"gridcolor\":\"white\",\"linecolor\":\"white\",\"ticks\":\"\"},\"baxis\":{\"gridcolor\":\"white\",\"linecolor\":\"white\",\"ticks\":\"\"},\"caxis\":{\"gridcolor\":\"white\",\"linecolor\":\"white\",\"ticks\":\"\"}},\"coloraxis\":{\"colorbar\":{\"outlinewidth\":0,\"ticks\":\"\"}},\"colorscale\":{\"sequential\":[[0.0,\"#0d0887\"],[0.1111111111111111,\"#46039f\"],[0.2222222222222222,\"#7201a8\"],[0.3333333333333333,\"#9c179e\"],[0.4444444444444444,\"#bd3786\"],[0.5555555555555556,\"#d8576b\"],[0.6666666666666666,\"#ed7953\"],[0.7777777777777778,\"#fb9f3a\"],[0.8888888888888888,\"#fdca26\"],[1.0,\"#f0f921\"]],\"sequentialminus\":[[0.0,\"#0d0887\"],[0.1111111111111111,\"#46039f\"],[0.2222222222222222,\"#7201a8\"],[0.3333333333333333,\"#9c179e\"],[0.4444444444444444,\"#bd3786\"],[0.5555555555555556,\"#d8576b\"],[0.6666666666666666,\"#ed7953\"],[0.7777777777777778,\"#fb9f3a\"],[0.8888888888888888,\"#fdca26\"],[1.0,\"#f0f921\"]],\"diverging\":[[0,\"#8e0152\"],[0.1,\"#c51b7d\"],[0.2,\"#de77ae\"],[0.3,\"#f1b6da\"],[0.4,\"#fde0ef\"],[0.5,\"#f7f7f7\"],[0.6,\"#e6f5d0\"],[0.7,\"#b8e186\"],[0.8,\"#7fbc41\"],[0.9,\"#4d9221\"],[1,\"#276419\"]]},\"xaxis\":{\"gridcolor\":\"white\",\"linecolor\":\"white\",\"ticks\":\"\",\"title\":{\"standoff\":15},\"zerolinecolor\":\"white\",\"automargin\":true,\"zerolinewidth\":2},\"yaxis\":{\"gridcolor\":\"white\",\"linecolor\":\"white\",\"ticks\":\"\",\"title\":{\"standoff\":15},\"zerolinecolor\":\"white\",\"automargin\":true,\"zerolinewidth\":2},\"scene\":{\"xaxis\":{\"backgroundcolor\":\"#E5ECF6\",\"gridcolor\":\"white\",\"linecolor\":\"white\",\"showbackground\":true,\"ticks\":\"\",\"zerolinecolor\":\"white\",\"gridwidth\":2},\"yaxis\":{\"backgroundcolor\":\"#E5ECF6\",\"gridcolor\":\"white\",\"linecolor\":\"white\",\"showbackground\":true,\"ticks\":\"\",\"zerolinecolor\":\"white\",\"gridwidth\":2},\"zaxis\":{\"backgroundcolor\":\"#E5ECF6\",\"gridcolor\":\"white\",\"linecolor\":\"white\",\"showbackground\":true,\"ticks\":\"\",\"zerolinecolor\":\"white\",\"gridwidth\":2}},\"shapedefaults\":{\"line\":{\"color\":\"#2a3f5f\"}},\"annotationdefaults\":{\"arrowcolor\":\"#2a3f5f\",\"arrowhead\":0,\"arrowwidth\":1},\"geo\":{\"bgcolor\":\"white\",\"landcolor\":\"#E5ECF6\",\"subunitcolor\":\"white\",\"showland\":true,\"showlakes\":true,\"lakecolor\":\"white\"},\"title\":{\"x\":0.05},\"mapbox\":{\"style\":\"light\"}}},\"legend\":{\"tracegroupgap\":0,\"title\":{\"text\":\"\\u0e04\\u0e27\\u0e32\\u0e21\\u0e2a\\u0e33\\u0e04\\u0e31\\u0e0d\"},\"orientation\":\"h\",\"yanchor\":\"bottom\",\"y\":1,\"xanchor\":\"center\",\"x\":0.5},\"margin\":{\"t\":60},\"piecolorway\":[\"rgb(251,180,174)\",\"rgb(179,205,227)\",\"rgb(204,235,197)\",\"rgb(222,203,228)\",\"rgb(254,217,166)\",\"rgb(255,255,204)\",\"rgb(229,216,189)\",\"rgb(253,218,236)\",\"rgb(242,242,242)\"],\"title\":{\"text\":\"\\u0e01\\u0e32\\u0e23\\u0e28\\u0e36\\u0e01\\u0e29\\u0e32\\u0e1b\\u0e23\\u0e34\\u0e0d\\u0e0d\\u0e32\\u0e15\\u0e23\\u0e35\\u0e22\\u0e31\\u0e07\\u0e21\\u0e35\\u0e1a\\u0e17\\u0e1a\\u0e32\\u0e17\\u0e2a\\u0e33\\u0e04\\u0e31\\u0e0d\\u0e2d\\u0e22\\u0e39\\u0e48\\u0e2b\\u0e23\\u0e37\\u0e2d\\u0e44\\u0e21\\u0e48\",\"x\":0.5},\"font\":{\"family\":\"TH Sarabun New\"},\"height\":700,\"width\":700},                        {\"responsive\": true}                    ).then(function(){\n",
              "                            \n",
              "var gd = document.getElementById('9c7a2aa8-d06c-4327-a737-81f55dedc4c8');\n",
              "var x = new MutationObserver(function (mutations, observer) {{\n",
              "        var display = window.getComputedStyle(gd).display;\n",
              "        if (!display || display === 'none') {{\n",
              "            console.log([gd, 'removed!']);\n",
              "            Plotly.purge(gd);\n",
              "            observer.disconnect();\n",
              "        }}\n",
              "}});\n",
              "\n",
              "// Listen for the removal of the full notebook cells\n",
              "var notebookContainer = gd.closest('#notebook-container');\n",
              "if (notebookContainer) {{\n",
              "    x.observe(notebookContainer, {childList: true});\n",
              "}}\n",
              "\n",
              "// Listen for the clearing of the current output cell\n",
              "var outputEl = gd.closest('.output');\n",
              "if (outputEl) {{\n",
              "    x.observe(outputEl, {childList: true});\n",
              "}}\n",
              "\n",
              "                        })                };                            </script>        </div>\n",
              "</body>\n",
              "</html>"
            ]
          },
          "metadata": {},
          "output_type": "display_data"
        }
      ],
      "source": [
        "importan = data.groupby(data.iloc[:, 16])\n",
        "importan = importan.size()\n",
        "print(importan)\n",
        "\n",
        "fig = px.pie(values=importan.values, names=importan.index,\n",
        "             color_discrete_sequence=px.colors.qualitative.Pastel1)\n",
        "fig.update_traces(texttemplate = \"%{value} <br>(%{percent})\",\n",
        "                 textposition = \"outside\")\n",
        "fig.update_layout(\n",
        "    title={\n",
        "        'text': \"การศึกษาปริญญาตรียังมีบทบาทสำคัญอยู่หรือไม่\",\n",
        "        'x': 0.5\n",
        "    },\n",
        "    font_family=\"TH Sarabun New\",\n",
        "    height=700, width=700,legend=dict(\n",
        "        title=\"ความสำคัญ\",\n",
        "        orientation=\"h\",\n",
        "        yanchor=\"bottom\",\n",
        "        y=1,\n",
        "        xanchor=\"center\",\n",
        "        x=0.5\n",
        "    )\n",
        " )\n",
        "fig.show()"
      ]
    },
    {
      "cell_type": "markdown",
      "metadata": {
        "id": "2WMnz8Yz63XZ"
      },
      "source": [
        "**จากข้อที่แล้ว ท่านคิดว่าเป็นเพราะเหตุ?**"
      ]
    },
    {
      "cell_type": "code",
      "execution_count": null,
      "metadata": {
        "id": "fEs8BK3pfUa3"
      },
      "outputs": [],
      "source": [
        "#นำแถวที่มี '-' ออก\n",
        "reason2 = data.drop(data[data['จากข้อที่แล้ว ท่านคิดว่าเป็นเพราะเหตุ?'] == ('-')].index)\n",
        "\n",
        "stop_words = {'ทุกคน','ต้อง','ใน','เพื่อ','นำ','ไป','เพราะ','มี','ทุก','ขึ้น','ไว้','ย่อม','การ','จาก','เป็น','สิ่ง','ที่','ใน','อาจ','ถูก','มองว่า','เป็น','สิ่ง','แต่',\\\n",
        "              'ถ้า','ทุกคน','มี','เหมือนกัน','จาก','จะ','กลาย','ใช้','หลาย','ได้','บาง','ยัง','เช่น','คิด','ว่า','ใน','ไทย','รับ','และ','นั้นๆ','ส่วนตัว','ยังคง','อยู่'\\\n",
        "              'ไม่','ของ','ก็','ทำให้','ต่างๆ','แล้ว','กว่า','อยู่','เรา','ไม่','ต่อ','ให้','ด้าน','ใบ','หรือ','ป','ๆ','มัน','สาย','จรืง','อะไร','เน้น','เกินไป','มากกว่า'\\\n",
        "              'น่าจะ','จริง','คน','แค่','ใช่','มากกว่า','ใครๆ','ที่จะ','มาก','ทำ','ผู้คน','สำคัญ'}\n",
        "path = '/content/drive/MyDrive/CS246/Prompt-Black.ttf'"
      ]
    },
    {
      "cell_type": "code",
      "execution_count": null,
      "metadata": {
        "colab": {
          "base_uri": "https://localhost:8080/",
          "height": 334
        },
        "id": "iXO44T5CKG2y",
        "outputId": "52fca62f-c191-4f03-ce78-3dd3fa1f82b1"
      },
      "outputs": [
        {
          "data": {
            "image/png": "[encoded data removed]",
            "text/plain": [
              "<Figure size 640x480 with 1 Axes>"
            ]
          },
          "metadata": {},
          "output_type": "display_data"
        }
      ],
      "source": [
        "#เลือกเฉพาะแถวที่ตอบ มีบทบาทสำคัญ\n",
        "yes_data = reason2[reason2.iloc[:, 16] == 'มีบทบาทสำคัญ']\n",
        "#เปลี่ยนคอลัมน์ 'จากข้อที่แล้ว ท่านคิดว่าเป็นเพราะเหตุ?' เป็นชนิด list\n",
        "yes_word = yes_data['จากข้อที่แล้ว ท่านคิดว่าเป็นเพราะเหตุ?'].values.tolist()\n",
        "#แบ่งคำ/ประโยคในแต่ละelement\n",
        "wordLists = []\n",
        "for w in yes_word:\n",
        "  wordList = w.split(' ')\n",
        "  wordLists.extend(wordList)\n",
        "#ตัด element ที่เป็น ' ' ออก\n",
        "for wo in wordLists:\n",
        "  if wo == '':\n",
        "    wordLists.remove(wo)\n",
        "#นำทุก elements ใน list มารวมเป็นหนึ่ง str\n",
        "word = ' '.join(wordLists).lower().strip('')\n",
        "words = word_tokenize(word)\n",
        "all_words = ' '.join(words).lower().strip('')\n",
        "\n",
        "\n",
        "wordcloud = WordCloud(font_path=path,\n",
        "                      stopwords = stop_words ,\n",
        "                      background_color=\"white\",\n",
        "                      width=2000, # กว้าง\n",
        "                      height=1200, # ยาว\n",
        "                      #colormap = 'turbo', #ธีมสีในคำ\n",
        "                      #colormap = 'nipy_spectral',\n",
        "                      colormap = 'tab20',\n",
        "                      collocations=False,\n",
        "                      regexp=r\"[\\u0E00-\\u0E7Fa-zA-Z']+\",\n",
        "                      prefer_horizontal = 0.7, #แสดงผลแนวนอน 0.7\n",
        "                      max_words = 30\n",
        "                      ).generate(all_words)\n",
        "plt.imshow(wordcloud, cmap=plt.cm.gray, interpolation='bilinear')\n",
        "plt.axis(\"off\")\n",
        "plt.show()"
      ]
    },
    {
      "cell_type": "code",
      "execution_count": null,
      "metadata": {
        "colab": {
          "base_uri": "https://localhost:8080/",
          "height": 334
        },
        "id": "uG3uk3teHWLe",
        "outputId": "e2b4ef71-5633-4763-e4cb-a5e3f3131c5d"
      },
      "outputs": [
        {
          "data": {
            "image/png": "[encoded data removed]",
            "text/plain": [
              "<Figure size 640x480 with 1 Axes>"
            ]
          },
          "metadata": {},
          "output_type": "display_data"
        }
      ],
      "source": [
        "#เลือกเฉพาะแถวที่ตอบ ไม่มีบทบาทสำคัญ\n",
        "no_data = data[data.iloc[:, 16] == 'ไม่มีบทบาทสำคัญ']\n",
        "#เปลี่ยนคอลัมน์ 'จากข้อที่แล้ว ท่านคิดว่าเป็นเพราะเหตุ?' เป็นชนิด list\n",
        "no_word = no_data['จากข้อที่แล้ว ท่านคิดว่าเป็นเพราะเหตุ?'].values.tolist()\n",
        "#แบ่งคำ/ประโยคในแต่ละelement\n",
        "wordLists = []\n",
        "for w in no_word:\n",
        "  wordList = w.split(' ')\n",
        "  wordLists.extend(wordList)\n",
        "#ตัด element ที่เป็น ' ' ออก\n",
        "for wo in wordLists:\n",
        "  if wo == '':\n",
        "    wordLists.remove(wo)\n",
        "#นำทุก elements ใน list มารวมเป็นหนึ่ง str\n",
        "word = ' '.join(wordLists).lower().strip('')\n",
        "words = word_tokenize(word)\n",
        "all_words = ' '.join(words).lower().strip('')\n",
        "\n",
        "\n",
        "wordcloud = WordCloud(font_path=path,\n",
        "                      stopwords = stop_words ,\n",
        "                      background_color=\"white\",\n",
        "                      width=2000, # กว้าง\n",
        "                      height=1200, # ยาว\n",
        "                      #colormap = 'turbo', #ธีมสีในคำ\n",
        "                      #colormap = 'nipy_spectral',\n",
        "                      colormap = 'tab20',\n",
        "                      collocations=False,\n",
        "                      regexp=r\"[\\u0E00-\\u0E7Fa-zA-Z']+\",\n",
        "                      prefer_horizontal = 0.7, #แสดงผลแนวนอน 0.7\n",
        "                      max_words = 20\n",
        "                      ).generate(all_words)\n",
        "plt.imshow(wordcloud, cmap=plt.cm.gray, interpolation='bilinear')\n",
        "plt.axis(\"off\")\n",
        "plt.show()"
      ]
    },
    {
      "cell_type": "markdown",
      "metadata": {
        "id": "ZPQx4dWTMieO"
      },
      "source": [
        "# ส่วนที่ 3 : ความคาดหวังของการเรียนการสอนในอนาคต"
      ]
    },
    {
      "cell_type": "markdown",
      "metadata": {
        "id": "towQYpE4MsA7"
      },
      "source": [
        "**ทักษะอะไรที่นักศึกษาจำเป็นต้องมีสำหรับการเรียนการสอนในอนาคต?**"
      ]
    },
    {
      "cell_type": "code",
      "execution_count": null,
      "metadata": {
        "colab": {
          "base_uri": "https://localhost:8080/"
        },
        "id": "M_vlhOKLmHab",
        "outputId": "40a97d12-e5eb-4f67-a793-e3af50e2a4b7"
      },
      "outputs": [
        {
          "name": "stdout",
          "output_type": "stream",
          "text": [
            "ความถี่ของแต่ละคำ:\n",
            "ทักษะการคิดวิเคราะห์และแก้ปัญหา: 98\n",
            "ทักษะการเรียนรู้และปรับตัว: 96\n",
            "ทักษะการสื่อสารและการทำงานเป็นทีม:: 67\n",
            "ทักษะด้านเทคโนโลยี: 87\n",
            "ทักษะด้านภาษา: 83\n",
            "ทักษะด้านความคิดสร้างสรรค์: 77\n",
            "ทักษะด้านความฉลาดทางอารมณ์: 85\n",
            "ทักษะด้านความเป็นผู้นำ: 61\n",
            "ทักษะการสื่อสารและการทำงานเป็นทีม: 26\n"
          ]
        }
      ],
      "source": [
        "#เปลี่ยนคอลัมน์ จาก dataframe เป็นชนิด list\n",
        "x_word = data.iloc[:, 18].values.tolist()\n",
        "#นำทุก elements ใน list มารวมเป็นหนึ่ง str\n",
        "word = ' '.join(x_word).lower().strip('')\n",
        "# ตัดคำด้วยเครื่องหมาย \",\"\n",
        "words = word.split(', ')\n",
        "#แบ่งคำ/ประโยคในแต่ละelement\n",
        "wordLists = []\n",
        "for w in words:\n",
        "  wordList = w.split(' ')\n",
        "  wordLists.extend(wordList)\n",
        "\n",
        "#นับความถี่ของแต่ละข้อ\n",
        "frequencies = {}\n",
        "for wo in wordLists:\n",
        "    if wo in frequencies:\n",
        "        frequencies[wo] += 1\n",
        "    else:\n",
        "        frequencies[wo] = 1\n",
        "print(\"ความถี่ของแต่ละคำ:\")\n",
        "for word, freq in frequencies.items():\n",
        "    print(f\"{word}: {freq}\")"
      ]
    },
    {
      "cell_type": "code",
      "execution_count": null,
      "metadata": {
        "colab": {
          "base_uri": "https://localhost:8080/",
          "height": 717
        },
        "id": "t3nNLHygxTa6",
        "outputId": "4daaf689-497f-4ac0-fe82-41f12fdf4c1c"
      },
      "outputs": [
        {
          "data": {
            "text/html": [
              "<html>\n",
              "<head><meta charset=\"utf-8\" /></head>\n",
              "<body>\n",
              "    <div>            <script src=\"https://cdnjs.cloudflare.com/ajax/libs/mathjax/2.7.5/MathJax.js?config=TeX-AMS-MML_SVG\"></script><script type=\"text/javascript\">if (window.MathJax && window.MathJax.Hub && window.MathJax.Hub.Config) {window.MathJax.Hub.Config({SVG: {font: \"STIX-Web\"}});}</script>                <script type=\"text/javascript\">window.PlotlyConfig = {MathJaxConfig: 'local'};</script>\n",
              "        <script charset=\"utf-8\" src=\"https://cdn.plot.ly/plotly-2.24.1.min.js\"></script>                <div id=\"a51528cc-45eb-4451-99b4-5b823a3f5efe\" class=\"plotly-graph-div\" style=\"height:700px; width:1000px;\"></div>            <script type=\"text/javascript\">                                    window.PLOTLYENV=window.PLOTLYENV || {};                                    if (document.getElementById(\"a51528cc-45eb-4451-99b4-5b823a3f5efe\")) {                    Plotly.newPlot(                        \"a51528cc-45eb-4451-99b4-5b823a3f5efe\",                        [{\"marker\":{\"color\":[\"#03045e\",\"#023e8a\",\"#0077b6\",\"#0096c7\",\"#48cae4\",\"#90e0ef\",\"#00b4d8\",\"#ade8f4\"]},\"orientation\":\"h\",\"text\":[\"95\",\"94\",\"90\",\"84\",\"81\",\"73\",\"83\",\"58\"],\"textposition\":\"inside\",\"x\":[95,94,90,84,81,73,83,58],\"y\":[\"\\u0e17\\u0e31\\u0e01\\u0e29\\u0e30\\u0e01\\u0e32\\u0e23\\u0e04\\u0e34\\u0e14\\u0e27\\u0e34\\u0e40\\u0e04\\u0e23\\u0e32\\u0e30\\u0e2b\\u0e4c\\u0e41\\u0e25\\u0e30\\u0e41\\u0e01\\u0e49\\u0e1b\\u0e31\\u0e0d\\u0e2b\\u0e32\",\"\\u0e17\\u0e31\\u0e01\\u0e29\\u0e30\\u0e01\\u0e32\\u0e23\\u0e40\\u0e23\\u0e35\\u0e22\\u0e19\\u0e23\\u0e39\\u0e49\\u0e41\\u0e25\\u0e30\\u0e1b\\u0e23\\u0e31\\u0e1a\\u0e15\\u0e31\\u0e27\",\"\\u0e17\\u0e31\\u0e01\\u0e29\\u0e30\\u0e01\\u0e32\\u0e23\\u0e2a\\u0e37\\u0e48\\u0e2d\\u0e2a\\u0e32\\u0e23\\u0e41\\u0e25\\u0e30\\u0e01\\u0e32\\u0e23\\u0e17\\u0e33\\u0e07\\u0e32\\u0e19\\u0e40\\u0e1b\\u0e47\\u0e19\\u0e17\\u0e35\\u0e21:\",\"\\u0e17\\u0e31\\u0e01\\u0e29\\u0e30\\u0e14\\u0e49\\u0e32\\u0e19\\u0e40\\u0e17\\u0e04\\u0e42\\u0e19\\u0e42\\u0e25\\u0e22\\u0e35\",\"\\u0e17\\u0e31\\u0e01\\u0e29\\u0e30\\u0e14\\u0e49\\u0e32\\u0e19\\u0e20\\u0e32\\u0e29\\u0e32\",\"\\u0e17\\u0e31\\u0e01\\u0e29\\u0e30\\u0e14\\u0e49\\u0e32\\u0e19\\u0e04\\u0e27\\u0e32\\u0e21\\u0e04\\u0e34\\u0e14\\u0e2a\\u0e23\\u0e49\\u0e32\\u0e07\\u0e2a\\u0e23\\u0e23\\u0e04\\u0e4c\",\"\\u0e17\\u0e31\\u0e01\\u0e29\\u0e30\\u0e14\\u0e49\\u0e32\\u0e19\\u0e04\\u0e27\\u0e32\\u0e21\\u0e09\\u0e25\\u0e32\\u0e14\\u0e17\\u0e32\\u0e07\\u0e2d\\u0e32\\u0e23\\u0e21\\u0e13\\u0e4c\",\"\\u0e17\\u0e31\\u0e01\\u0e29\\u0e30\\u0e14\\u0e49\\u0e32\\u0e19\\u0e04\\u0e27\\u0e32\\u0e21\\u0e40\\u0e1b\\u0e47\\u0e19\\u0e1c\\u0e39\\u0e49\\u0e19\\u0e33\"],\"type\":\"bar\"}],                        {\"template\":{\"data\":{\"histogram2dcontour\":[{\"type\":\"histogram2dcontour\",\"colorbar\":{\"outlinewidth\":0,\"ticks\":\"\"},\"colorscale\":[[0.0,\"#0d0887\"],[0.1111111111111111,\"#46039f\"],[0.2222222222222222,\"#7201a8\"],[0.3333333333333333,\"#9c179e\"],[0.4444444444444444,\"#bd3786\"],[0.5555555555555556,\"#d8576b\"],[0.6666666666666666,\"#ed7953\"],[0.7777777777777778,\"#fb9f3a\"],[0.8888888888888888,\"#fdca26\"],[1.0,\"#f0f921\"]]}],\"choropleth\":[{\"type\":\"choropleth\",\"colorbar\":{\"outlinewidth\":0,\"ticks\":\"\"}}],\"histogram2d\":[{\"type\":\"histogram2d\",\"colorbar\":{\"outlinewidth\":0,\"ticks\":\"\"},\"colorscale\":[[0.0,\"#0d0887\"],[0.1111111111111111,\"#46039f\"],[0.2222222222222222,\"#7201a8\"],[0.3333333333333333,\"#9c179e\"],[0.4444444444444444,\"#bd3786\"],[0.5555555555555556,\"#d8576b\"],[0.6666666666666666,\"#ed7953\"],[0.7777777777777778,\"#fb9f3a\"],[0.8888888888888888,\"#fdca26\"],[1.0,\"#f0f921\"]]}],\"heatmap\":[{\"type\":\"heatmap\",\"colorbar\":{\"outlinewidth\":0,\"ticks\":\"\"},\"colorscale\":[[0.0,\"#0d0887\"],[0.1111111111111111,\"#46039f\"],[0.2222222222222222,\"#7201a8\"],[0.3333333333333333,\"#9c179e\"],[0.4444444444444444,\"#bd3786\"],[0.5555555555555556,\"#d8576b\"],[0.6666666666666666,\"#ed7953\"],[0.7777777777777778,\"#fb9f3a\"],[0.8888888888888888,\"#fdca26\"],[1.0,\"#f0f921\"]]}],\"heatmapgl\":[{\"type\":\"heatmapgl\",\"colorbar\":{\"outlinewidth\":0,\"ticks\":\"\"},\"colorscale\":[[0.0,\"#0d0887\"],[0.1111111111111111,\"#46039f\"],[0.2222222222222222,\"#7201a8\"],[0.3333333333333333,\"#9c179e\"],[0.4444444444444444,\"#bd3786\"],[0.5555555555555556,\"#d8576b\"],[0.6666666666666666,\"#ed7953\"],[0.7777777777777778,\"#fb9f3a\"],[0.8888888888888888,\"#fdca26\"],[1.0,\"#f0f921\"]]}],\"contourcarpet\":[{\"type\":\"contourcarpet\",\"colorbar\":{\"outlinewidth\":0,\"ticks\":\"\"}}],\"contour\":[{\"type\":\"contour\",\"colorbar\":{\"outlinewidth\":0,\"ticks\":\"\"},\"colorscale\":[[0.0,\"#0d0887\"],[0.1111111111111111,\"#46039f\"],[0.2222222222222222,\"#7201a8\"],[0.3333333333333333,\"#9c179e\"],[0.4444444444444444,\"#bd3786\"],[0.5555555555555556,\"#d8576b\"],[0.6666666666666666,\"#ed7953\"],[0.7777777777777778,\"#fb9f3a\"],[0.8888888888888888,\"#fdca26\"],[1.0,\"#f0f921\"]]}],\"surface\":[{\"type\":\"surface\",\"colorbar\":{\"outlinewidth\":0,\"ticks\":\"\"},\"colorscale\":[[0.0,\"#0d0887\"],[0.1111111111111111,\"#46039f\"],[0.2222222222222222,\"#7201a8\"],[0.3333333333333333,\"#9c179e\"],[0.4444444444444444,\"#bd3786\"],[0.5555555555555556,\"#d8576b\"],[0.6666666666666666,\"#ed7953\"],[0.7777777777777778,\"#fb9f3a\"],[0.8888888888888888,\"#fdca26\"],[1.0,\"#f0f921\"]]}],\"mesh3d\":[{\"type\":\"mesh3d\",\"colorbar\":{\"outlinewidth\":0,\"ticks\":\"\"}}],\"scatter\":[{\"fillpattern\":{\"fillmode\":\"overlay\",\"size\":10,\"solidity\":0.2},\"type\":\"scatter\"}],\"parcoords\":[{\"type\":\"parcoords\",\"line\":{\"colorbar\":{\"outlinewidth\":0,\"ticks\":\"\"}}}],\"scatterpolargl\":[{\"type\":\"scatterpolargl\",\"marker\":{\"colorbar\":{\"outlinewidth\":0,\"ticks\":\"\"}}}],\"bar\":[{\"error_x\":{\"color\":\"#2a3f5f\"},\"error_y\":{\"color\":\"#2a3f5f\"},\"marker\":{\"line\":{\"color\":\"#E5ECF6\",\"width\":0.5},\"pattern\":{\"fillmode\":\"overlay\",\"size\":10,\"solidity\":0.2}},\"type\":\"bar\"}],\"scattergeo\":[{\"type\":\"scattergeo\",\"marker\":{\"colorbar\":{\"outlinewidth\":0,\"ticks\":\"\"}}}],\"scatterpolar\":[{\"type\":\"scatterpolar\",\"marker\":{\"colorbar\":{\"outlinewidth\":0,\"ticks\":\"\"}}}],\"histogram\":[{\"marker\":{\"pattern\":{\"fillmode\":\"overlay\",\"size\":10,\"solidity\":0.2}},\"type\":\"histogram\"}],\"scattergl\":[{\"type\":\"scattergl\",\"marker\":{\"colorbar\":{\"outlinewidth\":0,\"ticks\":\"\"}}}],\"scatter3d\":[{\"type\":\"scatter3d\",\"line\":{\"colorbar\":{\"outlinewidth\":0,\"ticks\":\"\"}},\"marker\":{\"colorbar\":{\"outlinewidth\":0,\"ticks\":\"\"}}}],\"scattermapbox\":[{\"type\":\"scattermapbox\",\"marker\":{\"colorbar\":{\"outlinewidth\":0,\"ticks\":\"\"}}}],\"scatterternary\":[{\"type\":\"scatterternary\",\"marker\":{\"colorbar\":{\"outlinewidth\":0,\"ticks\":\"\"}}}],\"scattercarpet\":[{\"type\":\"scattercarpet\",\"marker\":{\"colorbar\":{\"outlinewidth\":0,\"ticks\":\"\"}}}],\"carpet\":[{\"aaxis\":{\"endlinecolor\":\"#2a3f5f\",\"gridcolor\":\"white\",\"linecolor\":\"white\",\"minorgridcolor\":\"white\",\"startlinecolor\":\"#2a3f5f\"},\"baxis\":{\"endlinecolor\":\"#2a3f5f\",\"gridcolor\":\"white\",\"linecolor\":\"white\",\"minorgridcolor\":\"white\",\"startlinecolor\":\"#2a3f5f\"},\"type\":\"carpet\"}],\"table\":[{\"cells\":{\"fill\":{\"color\":\"#EBF0F8\"},\"line\":{\"color\":\"white\"}},\"header\":{\"fill\":{\"color\":\"#C8D4E3\"},\"line\":{\"color\":\"white\"}},\"type\":\"table\"}],\"barpolar\":[{\"marker\":{\"line\":{\"color\":\"#E5ECF6\",\"width\":0.5},\"pattern\":{\"fillmode\":\"overlay\",\"size\":10,\"solidity\":0.2}},\"type\":\"barpolar\"}],\"pie\":[{\"automargin\":true,\"type\":\"pie\"}]},\"layout\":{\"autotypenumbers\":\"strict\",\"colorway\":[\"#636efa\",\"#EF553B\",\"#00cc96\",\"#ab63fa\",\"#FFA15A\",\"#19d3f3\",\"#FF6692\",\"#B6E880\",\"#FF97FF\",\"#FECB52\"],\"font\":{\"color\":\"#2a3f5f\"},\"hovermode\":\"closest\",\"hoverlabel\":{\"align\":\"left\"},\"paper_bgcolor\":\"white\",\"plot_bgcolor\":\"#E5ECF6\",\"polar\":{\"bgcolor\":\"#E5ECF6\",\"angularaxis\":{\"gridcolor\":\"white\",\"linecolor\":\"white\",\"ticks\":\"\"},\"radialaxis\":{\"gridcolor\":\"white\",\"linecolor\":\"white\",\"ticks\":\"\"}},\"ternary\":{\"bgcolor\":\"#E5ECF6\",\"aaxis\":{\"gridcolor\":\"white\",\"linecolor\":\"white\",\"ticks\":\"\"},\"baxis\":{\"gridcolor\":\"white\",\"linecolor\":\"white\",\"ticks\":\"\"},\"caxis\":{\"gridcolor\":\"white\",\"linecolor\":\"white\",\"ticks\":\"\"}},\"coloraxis\":{\"colorbar\":{\"outlinewidth\":0,\"ticks\":\"\"}},\"colorscale\":{\"sequential\":[[0.0,\"#0d0887\"],[0.1111111111111111,\"#46039f\"],[0.2222222222222222,\"#7201a8\"],[0.3333333333333333,\"#9c179e\"],[0.4444444444444444,\"#bd3786\"],[0.5555555555555556,\"#d8576b\"],[0.6666666666666666,\"#ed7953\"],[0.7777777777777778,\"#fb9f3a\"],[0.8888888888888888,\"#fdca26\"],[1.0,\"#f0f921\"]],\"sequentialminus\":[[0.0,\"#0d0887\"],[0.1111111111111111,\"#46039f\"],[0.2222222222222222,\"#7201a8\"],[0.3333333333333333,\"#9c179e\"],[0.4444444444444444,\"#bd3786\"],[0.5555555555555556,\"#d8576b\"],[0.6666666666666666,\"#ed7953\"],[0.7777777777777778,\"#fb9f3a\"],[0.8888888888888888,\"#fdca26\"],[1.0,\"#f0f921\"]],\"diverging\":[[0,\"#8e0152\"],[0.1,\"#c51b7d\"],[0.2,\"#de77ae\"],[0.3,\"#f1b6da\"],[0.4,\"#fde0ef\"],[0.5,\"#f7f7f7\"],[0.6,\"#e6f5d0\"],[0.7,\"#b8e186\"],[0.8,\"#7fbc41\"],[0.9,\"#4d9221\"],[1,\"#276419\"]]},\"xaxis\":{\"gridcolor\":\"white\",\"linecolor\":\"white\",\"ticks\":\"\",\"title\":{\"standoff\":15},\"zerolinecolor\":\"white\",\"automargin\":true,\"zerolinewidth\":2},\"yaxis\":{\"gridcolor\":\"white\",\"linecolor\":\"white\",\"ticks\":\"\",\"title\":{\"standoff\":15},\"zerolinecolor\":\"white\",\"automargin\":true,\"zerolinewidth\":2},\"scene\":{\"xaxis\":{\"backgroundcolor\":\"#E5ECF6\",\"gridcolor\":\"white\",\"linecolor\":\"white\",\"showbackground\":true,\"ticks\":\"\",\"zerolinecolor\":\"white\",\"gridwidth\":2},\"yaxis\":{\"backgroundcolor\":\"#E5ECF6\",\"gridcolor\":\"white\",\"linecolor\":\"white\",\"showbackground\":true,\"ticks\":\"\",\"zerolinecolor\":\"white\",\"gridwidth\":2},\"zaxis\":{\"backgroundcolor\":\"#E5ECF6\",\"gridcolor\":\"white\",\"linecolor\":\"white\",\"showbackground\":true,\"ticks\":\"\",\"zerolinecolor\":\"white\",\"gridwidth\":2}},\"shapedefaults\":{\"line\":{\"color\":\"#2a3f5f\"}},\"annotationdefaults\":{\"arrowcolor\":\"#2a3f5f\",\"arrowhead\":0,\"arrowwidth\":1},\"geo\":{\"bgcolor\":\"white\",\"landcolor\":\"#E5ECF6\",\"subunitcolor\":\"white\",\"showland\":true,\"showlakes\":true,\"lakecolor\":\"white\"},\"title\":{\"x\":0.05},\"mapbox\":{\"style\":\"light\"}}},\"title\":{\"text\":\"\\u0e17\\u0e31\\u0e01\\u0e29\\u0e30\\u0e17\\u0e35\\u0e48\\u0e19\\u0e31\\u0e01\\u0e28\\u0e36\\u0e01\\u0e29\\u0e32\\u0e08\\u0e33\\u0e40\\u0e1b\\u0e47\\u0e19\\u0e15\\u0e49\\u0e2d\\u0e07\\u0e21\\u0e35\\u0e2a\\u0e33\\u0e2b\\u0e23\\u0e31\\u0e1a\\u0e01\\u0e32\\u0e23\\u0e40\\u0e23\\u0e35\\u0e22\\u0e19\\u0e01\\u0e32\\u0e23\\u0e2a\\u0e2d\\u0e19\\u0e43\\u0e19\\u0e2d\\u0e19\\u0e32\\u0e04\\u0e15\",\"x\":0.5},\"font\":{\"family\":\"TH Sarabun New\"},\"yaxis\":{\"categoryorder\":\"total ascending\",\"title\":{\"text\":\"\\u0e04\\u0e33\\u0e15\\u0e2d\\u0e1a\"}},\"height\":700,\"width\":1000,\"xaxis\":{\"title\":{\"text\":\"\\u0e08\\u0e33\\u0e19\\u0e27\\u0e19\\u0e04\\u0e19\"}}},                        {\"responsive\": true}                    ).then(function(){\n",
              "                            \n",
              "var gd = document.getElementById('a51528cc-45eb-4451-99b4-5b823a3f5efe');\n",
              "var x = new MutationObserver(function (mutations, observer) {{\n",
              "        var display = window.getComputedStyle(gd).display;\n",
              "        if (!display || display === 'none') {{\n",
              "            console.log([gd, 'removed!']);\n",
              "            Plotly.purge(gd);\n",
              "            observer.disconnect();\n",
              "        }}\n",
              "}});\n",
              "\n",
              "// Listen for the removal of the full notebook cells\n",
              "var notebookContainer = gd.closest('#notebook-container');\n",
              "if (notebookContainer) {{\n",
              "    x.observe(notebookContainer, {childList: true});\n",
              "}}\n",
              "\n",
              "// Listen for the clearing of the current output cell\n",
              "var outputEl = gd.closest('.output');\n",
              "if (outputEl) {{\n",
              "    x.observe(outputEl, {childList: true});\n",
              "}}\n",
              "\n",
              "                        })                };                            </script>        </div>\n",
              "</body>\n",
              "</html>"
            ]
          },
          "metadata": {},
          "output_type": "display_data"
        }
      ],
      "source": [
        "a='ทักษะการคิดวิเคราะห์และแก้ปัญหา'\n",
        "a_d=95\n",
        "b='ทักษะการเรียนรู้และปรับตัว'\n",
        "b_d=94\n",
        "c='ทักษะการสื่อสารและการทำงานเป็นทีม:'\n",
        "c_d=90\n",
        "d='ทักษะด้านเทคโนโลยี'\n",
        "d_d=84\n",
        "e='ทักษะด้านภาษา'\n",
        "e_d=81\n",
        "f='ทักษะด้านความคิดสร้างสรรค์'\n",
        "f_d=73\n",
        "g='ทักษะด้านความฉลาดทางอารมณ์'\n",
        "g_d=83\n",
        "h='ทักษะด้านความเป็นผู้นำ'\n",
        "h_d=58\n",
        "\n",
        "x_values = [a, b, c, d, e, f, g, h]\n",
        "y_values = [95, 94, 90, 84, 81, 73, 83, 58]\n",
        "\n",
        "colors = ['#03045e', '#023e8a', '#0077b6', '#0096c7', '#48cae4', '#90e0ef', '#00b4d8', '#ade8f4']\n",
        "\n",
        "fig = go.Figure(data=[go.Bar(y=x_values, x=y_values, orientation='h',\n",
        "                             text=y_values, textposition='inside',\n",
        "                             marker=dict(color=colors\n",
        "                                         ))])\n",
        "fig.update_layout(title={\n",
        "        'text': \"ทักษะที่นักศึกษาจำเป็นต้องมีสำหรับการเรียนการสอนในอนาคต\",\n",
        "        'x': 0.5},\n",
        "                  height=700, width=1000,\n",
        "                  font_family=\"TH Sarabun New\",\n",
        "                  xaxis_title='จำนวนคน',\n",
        "                  yaxis={'categoryorder':'total ascending'},\n",
        "                  yaxis_title='คำตอบ')\n",
        "fig.show()"
      ]
    },
    {
      "cell_type": "markdown",
      "metadata": {
        "id": "PWtFEsq7xbZi"
      },
      "source": [
        "**ท่านคิดว่าอะไรคือสิ่งที่สำคัญที่สุดที่เราควรทำเพื่อเตรียมพร้อมสำหรับการศึกษาในอนาคต?**"
      ]
    },
    {
      "cell_type": "code",
      "execution_count": null,
      "metadata": {
        "colab": {
          "base_uri": "https://localhost:8080/"
        },
        "id": "6BLm1BGPxc2b",
        "outputId": "4944ce05-abc8-4d97-840d-fe9dc0962f0c"
      },
      "outputs": [
        {
          "name": "stdout",
          "output_type": "stream",
          "text": [
            "{'ยืดหยุ่น ปรับตัว': 48, 'คิดวิเคราะห์ แก้ปัญหา': 26, 'เรียนรู้ด้วยตนเอง': 26, 'สื่อสาร ทำงานเป็นทีม': 9}\n"
          ]
        }
      ],
      "source": [
        "column_position = 19\n",
        "\n",
        "data_exam = data.iloc[:, column_position].value_counts()\n",
        "\n",
        "data_exam_dict = data_exam.to_dict()\n",
        "\n",
        "print(data_exam_dict)"
      ]
    },
    {
      "cell_type": "code",
      "execution_count": null,
      "metadata": {
        "colab": {
          "base_uri": "https://localhost:8080/",
          "height": 717
        },
        "id": "tnBiohg0xf1R",
        "outputId": "324629d1-fdce-4f3b-8a00-b599b2a81ba7"
      },
      "outputs": [
        {
          "data": {
            "text/html": [
              "<html>\n",
              "<head><meta charset=\"utf-8\" /></head>\n",
              "<body>\n",
              "    <div>            <script src=\"https://cdnjs.cloudflare.com/ajax/libs/mathjax/2.7.5/MathJax.js?config=TeX-AMS-MML_SVG\"></script><script type=\"text/javascript\">if (window.MathJax && window.MathJax.Hub && window.MathJax.Hub.Config) {window.MathJax.Hub.Config({SVG: {font: \"STIX-Web\"}});}</script>                <script type=\"text/javascript\">window.PlotlyConfig = {MathJaxConfig: 'local'};</script>\n",
              "        <script charset=\"utf-8\" src=\"https://cdn.plot.ly/plotly-2.24.1.min.js\"></script>                <div id=\"591a70eb-a6b6-461e-b66a-7d71893a53a3\" class=\"plotly-graph-div\" style=\"height:700px; width:1000px;\"></div>            <script type=\"text/javascript\">                                    window.PLOTLYENV=window.PLOTLYENV || {};                                    if (document.getElementById(\"591a70eb-a6b6-461e-b66a-7d71893a53a3\")) {                    Plotly.newPlot(                        \"591a70eb-a6b6-461e-b66a-7d71893a53a3\",                        [{\"marker\":{\"color\":[\"#D69593\",\"#492D53\",\"#A96E7F\",\"#794B69\",\"#794B69\"],\"size\":[0,48,9,26,26],\"sizemin\":4,\"sizemode\":\"diameter\",\"sizeref\":0.24},\"mode\":\"markers+text\",\"text\":[\"0\",\"48\",\"9\",\"26\",\"26\"],\"textposition\":\"bottom center\",\"x\":[\"\\u0e2d\\u0e37\\u0e48\\u0e19\\u0e46\",\"\\u0e22\\u0e37\\u0e14\\u0e2b\\u0e22\\u0e38\\u0e48\\u0e19 \\u0e1b\\u0e23\\u0e31\\u0e1a\\u0e15\\u0e31\\u0e27\",\"\\u0e2a\\u0e37\\u0e48\\u0e2d\\u0e2a\\u0e32\\u0e23 \\u0e17\\u0e33\\u0e07\\u0e32\\u0e19\\u0e40\\u0e1b\\u0e47\\u0e19\\u0e17\\u0e35\\u0e21\",\"\\u0e04\\u0e34\\u0e14\\u0e27\\u0e34\\u0e40\\u0e04\\u0e23\\u0e32\\u0e30\\u0e2b\\u0e4c \\u0e41\\u0e01\\u0e49\\u0e1b\\u0e31\\u0e0d\\u0e2b\\u0e32\",\"\\u0e40\\u0e23\\u0e35\\u0e22\\u0e19\\u0e23\\u0e39\\u0e49\\u0e14\\u0e49\\u0e27\\u0e22\\u0e15\\u0e19\\u0e40\\u0e2d\\u0e07\"],\"y\":[0,48,9,26,26],\"type\":\"scatter\"}],                        {\"template\":{\"data\":{\"histogram2dcontour\":[{\"type\":\"histogram2dcontour\",\"colorbar\":{\"outlinewidth\":0,\"ticks\":\"\"},\"colorscale\":[[0.0,\"#0d0887\"],[0.1111111111111111,\"#46039f\"],[0.2222222222222222,\"#7201a8\"],[0.3333333333333333,\"#9c179e\"],[0.4444444444444444,\"#bd3786\"],[0.5555555555555556,\"#d8576b\"],[0.6666666666666666,\"#ed7953\"],[0.7777777777777778,\"#fb9f3a\"],[0.8888888888888888,\"#fdca26\"],[1.0,\"#f0f921\"]]}],\"choropleth\":[{\"type\":\"choropleth\",\"colorbar\":{\"outlinewidth\":0,\"ticks\":\"\"}}],\"histogram2d\":[{\"type\":\"histogram2d\",\"colorbar\":{\"outlinewidth\":0,\"ticks\":\"\"},\"colorscale\":[[0.0,\"#0d0887\"],[0.1111111111111111,\"#46039f\"],[0.2222222222222222,\"#7201a8\"],[0.3333333333333333,\"#9c179e\"],[0.4444444444444444,\"#bd3786\"],[0.5555555555555556,\"#d8576b\"],[0.6666666666666666,\"#ed7953\"],[0.7777777777777778,\"#fb9f3a\"],[0.8888888888888888,\"#fdca26\"],[1.0,\"#f0f921\"]]}],\"heatmap\":[{\"type\":\"heatmap\",\"colorbar\":{\"outlinewidth\":0,\"ticks\":\"\"},\"colorscale\":[[0.0,\"#0d0887\"],[0.1111111111111111,\"#46039f\"],[0.2222222222222222,\"#7201a8\"],[0.3333333333333333,\"#9c179e\"],[0.4444444444444444,\"#bd3786\"],[0.5555555555555556,\"#d8576b\"],[0.6666666666666666,\"#ed7953\"],[0.7777777777777778,\"#fb9f3a\"],[0.8888888888888888,\"#fdca26\"],[1.0,\"#f0f921\"]]}],\"heatmapgl\":[{\"type\":\"heatmapgl\",\"colorbar\":{\"outlinewidth\":0,\"ticks\":\"\"},\"colorscale\":[[0.0,\"#0d0887\"],[0.1111111111111111,\"#46039f\"],[0.2222222222222222,\"#7201a8\"],[0.3333333333333333,\"#9c179e\"],[0.4444444444444444,\"#bd3786\"],[0.5555555555555556,\"#d8576b\"],[0.6666666666666666,\"#ed7953\"],[0.7777777777777778,\"#fb9f3a\"],[0.8888888888888888,\"#fdca26\"],[1.0,\"#f0f921\"]]}],\"contourcarpet\":[{\"type\":\"contourcarpet\",\"colorbar\":{\"outlinewidth\":0,\"ticks\":\"\"}}],\"contour\":[{\"type\":\"contour\",\"colorbar\":{\"outlinewidth\":0,\"ticks\":\"\"},\"colorscale\":[[0.0,\"#0d0887\"],[0.1111111111111111,\"#46039f\"],[0.2222222222222222,\"#7201a8\"],[0.3333333333333333,\"#9c179e\"],[0.4444444444444444,\"#bd3786\"],[0.5555555555555556,\"#d8576b\"],[0.6666666666666666,\"#ed7953\"],[0.7777777777777778,\"#fb9f3a\"],[0.8888888888888888,\"#fdca26\"],[1.0,\"#f0f921\"]]}],\"surface\":[{\"type\":\"surface\",\"colorbar\":{\"outlinewidth\":0,\"ticks\":\"\"},\"colorscale\":[[0.0,\"#0d0887\"],[0.1111111111111111,\"#46039f\"],[0.2222222222222222,\"#7201a8\"],[0.3333333333333333,\"#9c179e\"],[0.4444444444444444,\"#bd3786\"],[0.5555555555555556,\"#d8576b\"],[0.6666666666666666,\"#ed7953\"],[0.7777777777777778,\"#fb9f3a\"],[0.8888888888888888,\"#fdca26\"],[1.0,\"#f0f921\"]]}],\"mesh3d\":[{\"type\":\"mesh3d\",\"colorbar\":{\"outlinewidth\":0,\"ticks\":\"\"}}],\"scatter\":[{\"fillpattern\":{\"fillmode\":\"overlay\",\"size\":10,\"solidity\":0.2},\"type\":\"scatter\"}],\"parcoords\":[{\"type\":\"parcoords\",\"line\":{\"colorbar\":{\"outlinewidth\":0,\"ticks\":\"\"}}}],\"scatterpolargl\":[{\"type\":\"scatterpolargl\",\"marker\":{\"colorbar\":{\"outlinewidth\":0,\"ticks\":\"\"}}}],\"bar\":[{\"error_x\":{\"color\":\"#2a3f5f\"},\"error_y\":{\"color\":\"#2a3f5f\"},\"marker\":{\"line\":{\"color\":\"#E5ECF6\",\"width\":0.5},\"pattern\":{\"fillmode\":\"overlay\",\"size\":10,\"solidity\":0.2}},\"type\":\"bar\"}],\"scattergeo\":[{\"type\":\"scattergeo\",\"marker\":{\"colorbar\":{\"outlinewidth\":0,\"ticks\":\"\"}}}],\"scatterpolar\":[{\"type\":\"scatterpolar\",\"marker\":{\"colorbar\":{\"outlinewidth\":0,\"ticks\":\"\"}}}],\"histogram\":[{\"marker\":{\"pattern\":{\"fillmode\":\"overlay\",\"size\":10,\"solidity\":0.2}},\"type\":\"histogram\"}],\"scattergl\":[{\"type\":\"scattergl\",\"marker\":{\"colorbar\":{\"outlinewidth\":0,\"ticks\":\"\"}}}],\"scatter3d\":[{\"type\":\"scatter3d\",\"line\":{\"colorbar\":{\"outlinewidth\":0,\"ticks\":\"\"}},\"marker\":{\"colorbar\":{\"outlinewidth\":0,\"ticks\":\"\"}}}],\"scattermapbox\":[{\"type\":\"scattermapbox\",\"marker\":{\"colorbar\":{\"outlinewidth\":0,\"ticks\":\"\"}}}],\"scatterternary\":[{\"type\":\"scatterternary\",\"marker\":{\"colorbar\":{\"outlinewidth\":0,\"ticks\":\"\"}}}],\"scattercarpet\":[{\"type\":\"scattercarpet\",\"marker\":{\"colorbar\":{\"outlinewidth\":0,\"ticks\":\"\"}}}],\"carpet\":[{\"aaxis\":{\"endlinecolor\":\"#2a3f5f\",\"gridcolor\":\"white\",\"linecolor\":\"white\",\"minorgridcolor\":\"white\",\"startlinecolor\":\"#2a3f5f\"},\"baxis\":{\"endlinecolor\":\"#2a3f5f\",\"gridcolor\":\"white\",\"linecolor\":\"white\",\"minorgridcolor\":\"white\",\"startlinecolor\":\"#2a3f5f\"},\"type\":\"carpet\"}],\"table\":[{\"cells\":{\"fill\":{\"color\":\"#EBF0F8\"},\"line\":{\"color\":\"white\"}},\"header\":{\"fill\":{\"color\":\"#C8D4E3\"},\"line\":{\"color\":\"white\"}},\"type\":\"table\"}],\"barpolar\":[{\"marker\":{\"line\":{\"color\":\"#E5ECF6\",\"width\":0.5},\"pattern\":{\"fillmode\":\"overlay\",\"size\":10,\"solidity\":0.2}},\"type\":\"barpolar\"}],\"pie\":[{\"automargin\":true,\"type\":\"pie\"}]},\"layout\":{\"autotypenumbers\":\"strict\",\"colorway\":[\"#636efa\",\"#EF553B\",\"#00cc96\",\"#ab63fa\",\"#FFA15A\",\"#19d3f3\",\"#FF6692\",\"#B6E880\",\"#FF97FF\",\"#FECB52\"],\"font\":{\"color\":\"#2a3f5f\"},\"hovermode\":\"closest\",\"hoverlabel\":{\"align\":\"left\"},\"paper_bgcolor\":\"white\",\"plot_bgcolor\":\"#E5ECF6\",\"polar\":{\"bgcolor\":\"#E5ECF6\",\"angularaxis\":{\"gridcolor\":\"white\",\"linecolor\":\"white\",\"ticks\":\"\"},\"radialaxis\":{\"gridcolor\":\"white\",\"linecolor\":\"white\",\"ticks\":\"\"}},\"ternary\":{\"bgcolor\":\"#E5ECF6\",\"aaxis\":{\"gridcolor\":\"white\",\"linecolor\":\"white\",\"ticks\":\"\"},\"baxis\":{\"gridcolor\":\"white\",\"linecolor\":\"white\",\"ticks\":\"\"},\"caxis\":{\"gridcolor\":\"white\",\"linecolor\":\"white\",\"ticks\":\"\"}},\"coloraxis\":{\"colorbar\":{\"outlinewidth\":0,\"ticks\":\"\"}},\"colorscale\":{\"sequential\":[[0.0,\"#0d0887\"],[0.1111111111111111,\"#46039f\"],[0.2222222222222222,\"#7201a8\"],[0.3333333333333333,\"#9c179e\"],[0.4444444444444444,\"#bd3786\"],[0.5555555555555556,\"#d8576b\"],[0.6666666666666666,\"#ed7953\"],[0.7777777777777778,\"#fb9f3a\"],[0.8888888888888888,\"#fdca26\"],[1.0,\"#f0f921\"]],\"sequentialminus\":[[0.0,\"#0d0887\"],[0.1111111111111111,\"#46039f\"],[0.2222222222222222,\"#7201a8\"],[0.3333333333333333,\"#9c179e\"],[0.4444444444444444,\"#bd3786\"],[0.5555555555555556,\"#d8576b\"],[0.6666666666666666,\"#ed7953\"],[0.7777777777777778,\"#fb9f3a\"],[0.8888888888888888,\"#fdca26\"],[1.0,\"#f0f921\"]],\"diverging\":[[0,\"#8e0152\"],[0.1,\"#c51b7d\"],[0.2,\"#de77ae\"],[0.3,\"#f1b6da\"],[0.4,\"#fde0ef\"],[0.5,\"#f7f7f7\"],[0.6,\"#e6f5d0\"],[0.7,\"#b8e186\"],[0.8,\"#7fbc41\"],[0.9,\"#4d9221\"],[1,\"#276419\"]]},\"xaxis\":{\"gridcolor\":\"white\",\"linecolor\":\"white\",\"ticks\":\"\",\"title\":{\"standoff\":15},\"zerolinecolor\":\"white\",\"automargin\":true,\"zerolinewidth\":2},\"yaxis\":{\"gridcolor\":\"white\",\"linecolor\":\"white\",\"ticks\":\"\",\"title\":{\"standoff\":15},\"zerolinecolor\":\"white\",\"automargin\":true,\"zerolinewidth\":2},\"scene\":{\"xaxis\":{\"backgroundcolor\":\"#E5ECF6\",\"gridcolor\":\"white\",\"linecolor\":\"white\",\"showbackground\":true,\"ticks\":\"\",\"zerolinecolor\":\"white\",\"gridwidth\":2},\"yaxis\":{\"backgroundcolor\":\"#E5ECF6\",\"gridcolor\":\"white\",\"linecolor\":\"white\",\"showbackground\":true,\"ticks\":\"\",\"zerolinecolor\":\"white\",\"gridwidth\":2},\"zaxis\":{\"backgroundcolor\":\"#E5ECF6\",\"gridcolor\":\"white\",\"linecolor\":\"white\",\"showbackground\":true,\"ticks\":\"\",\"zerolinecolor\":\"white\",\"gridwidth\":2}},\"shapedefaults\":{\"line\":{\"color\":\"#2a3f5f\"}},\"annotationdefaults\":{\"arrowcolor\":\"#2a3f5f\",\"arrowhead\":0,\"arrowwidth\":1},\"geo\":{\"bgcolor\":\"white\",\"landcolor\":\"#E5ECF6\",\"subunitcolor\":\"white\",\"showland\":true,\"showlakes\":true,\"lakecolor\":\"white\"},\"title\":{\"x\":0.05},\"mapbox\":{\"style\":\"light\"}}},\"title\":{\"text\":\"\\u0e2a\\u0e34\\u0e48\\u0e07\\u0e17\\u0e35\\u0e48\\u0e2a\\u0e33\\u0e04\\u0e31\\u0e0d\\u0e17\\u0e35\\u0e48\\u0e2a\\u0e38\\u0e14\\u0e17\\u0e35\\u0e48\\u0e40\\u0e23\\u0e32\\u0e04\\u0e27\\u0e23\\u0e17\\u0e33\\u0e40\\u0e1e\\u0e37\\u0e48\\u0e2d\\u0e40\\u0e15\\u0e23\\u0e35\\u0e22\\u0e21\\u0e1e\\u0e23\\u0e49\\u0e2d\\u0e21\\u0e2a\\u0e33\\u0e2b\\u0e23\\u0e31\\u0e1a\\u0e01\\u0e32\\u0e23\\u0e28\\u0e36\\u0e01\\u0e29\\u0e32\\u0e43\\u0e19\\u0e2d\\u0e19\\u0e32\\u0e04\\u0e15\",\"x\":0.5},\"font\":{\"family\":\"TH Sarabun New\"},\"xaxis\":{\"title\":{\"text\":\"\\u0e04\\u0e27\\u0e32\\u0e21\\u0e40\\u0e2b\\u0e47\\u0e19\"}},\"yaxis\":{\"title\":{\"text\":\"\\u0e08\\u0e33\\u0e19\\u0e27\\u0e19\"}},\"height\":700,\"width\":1000},                        {\"responsive\": true}                    ).then(function(){\n",
              "                            \n",
              "var gd = document.getElementById('591a70eb-a6b6-461e-b66a-7d71893a53a3');\n",
              "var x = new MutationObserver(function (mutations, observer) {{\n",
              "        var display = window.getComputedStyle(gd).display;\n",
              "        if (!display || display === 'none') {{\n",
              "            console.log([gd, 'removed!']);\n",
              "            Plotly.purge(gd);\n",
              "            observer.disconnect();\n",
              "        }}\n",
              "}});\n",
              "\n",
              "// Listen for the removal of the full notebook cells\n",
              "var notebookContainer = gd.closest('#notebook-container');\n",
              "if (notebookContainer) {{\n",
              "    x.observe(notebookContainer, {childList: true});\n",
              "}}\n",
              "\n",
              "// Listen for the clearing of the current output cell\n",
              "var outputEl = gd.closest('.output');\n",
              "if (outputEl) {{\n",
              "    x.observe(outputEl, {childList: true});\n",
              "}}\n",
              "\n",
              "                        })                };                            </script>        </div>\n",
              "</body>\n",
              "</html>"
            ]
          },
          "metadata": {},
          "output_type": "display_data"
        }
      ],
      "source": [
        "A='เรียนรู้ด้วยตนเอง'\n",
        "B='คิดวิเคราะห์ แก้ปัญหา'\n",
        "C='สื่อสาร ทำงานเป็นทีม'\n",
        "D='ยืดหยุ่น ปรับตัว'\n",
        "E='อื่นๆ'\n",
        "\n",
        "x_values = [E, D, C, B, A]\n",
        "y_values = [0, 48, 9, 26, 26]\n",
        "bubble_sizes = [0, 48, 9, 26, 26]\n",
        "bubble_labels = [str(size) for size in bubble_sizes]\n",
        "#hover_text = [\"คะแนน: \" + str(val) for val in y_values]\n",
        "#point_positions = [0, 48, 9, 26, 26]\n",
        "colors = ['#D69593', '#492D53','#A96E7F','#794B69','#794B69']\n",
        "\n",
        "fig = go.Figure(go.Scatter(\n",
        "    x=x_values,\n",
        "    y=y_values,\n",
        "    mode='markers+text',\n",
        "    text=bubble_labels,\n",
        "    textposition='bottom center',\n",
        "    marker=dict(\n",
        "        size=bubble_sizes,\n",
        "        sizemode='diameter',\n",
        "        sizeref=2.*max(bubble_sizes)/(20.**2),\n",
        "        sizemin=4,\n",
        "        color=colors\n",
        "    )\n",
        "))\n",
        "\n",
        "fig.update_layout(\n",
        "    xaxis=dict(title='ความเห็น'),\n",
        "    yaxis=dict(title='จำนวน'),\n",
        "    title={\n",
        "        'text': \"สิ่งที่สำคัญที่สุดที่เราควรทำเพื่อเตรียมพร้อมสำหรับการศึกษาในอนาคต\",\n",
        "        'x': 0.5},\n",
        "    height=700, width=1000,\n",
        "    font_family=\"TH Sarabun New\"\n",
        ")\n",
        "fig.show()"
      ]
    },
    {
      "cell_type": "markdown",
      "metadata": {
        "id": "nmeEYaAgyAN8"
      },
      "source": [
        "**ท่านคิดว่ารูปแบบการเรียนการสอนในอนาคตจะเปลี่ยนไปอย่างไร?**"
      ]
    },
    {
      "cell_type": "code",
      "execution_count": null,
      "metadata": {
        "colab": {
          "base_uri": "https://localhost:8080/"
        },
        "id": "8vmr9PJZyDwF",
        "outputId": "810fc480-9673-4b8b-dcd5-a1f985a465bf"
      },
      "outputs": [
        {
          "name": "stdout",
          "output_type": "stream",
          "text": [
            "{'เน้นการเรียนรู้แบบ Active Learning : คือ ผู้เรียนมีส่วนร่วมในการเรียนรู้ ลงมือทำ กิจกรรม': 48, 'เน้นการเรียนรู้แบบ Personalized : คือ ปรับเนื้อหา รูปแบบการเรียนรู้ ให้เหมาะกับผู้เรียนแต่ละคน': 33, 'น้นการเรียนรู้ด้วยตนเอง: คือ ผู้เรียนค้นหาข้อมูล เรียนรู้ด้วยตัวเอง': 16, 'เน้นการเรียนรู้แบบ Blended Learning : คือ ผสมผสานการเรียนรู้แบบออนไลน์ และ ออฟไลน์': 12}\n"
          ]
        }
      ],
      "source": [
        "column_position = 20\n",
        "\n",
        "data_exam = data.iloc[:, column_position].value_counts()\n",
        "\n",
        "data_exam_dict = data_exam.to_dict()\n",
        "\n",
        "print(data_exam_dict)\n"
      ]
    },
    {
      "cell_type": "code",
      "execution_count": null,
      "metadata": {
        "id": "5PhPEXSoyH-A"
      },
      "outputs": [],
      "source": [
        "A='เน้นการเรียนรู้แบบ Personalized'\n",
        "B='เน้นการเรียนรู้ด้วยตนเอง'\n",
        "C='เน้นการเรียนรู้แบบ Active Learning'\n",
        "D='เน้นการเรียนรู้แบบ Blended Learning'\n",
        "E='อื่นๆ:'"
      ]
    },
    {
      "cell_type": "code",
      "execution_count": null,
      "metadata": {
        "colab": {
          "base_uri": "https://localhost:8080/",
          "height": 717
        },
        "id": "EAh-9RowyMu_",
        "outputId": "0cc6789d-eb54-4c45-9bb6-49a2e614b953"
      },
      "outputs": [
        {
          "data": {
            "text/html": [
              "<html>\n",
              "<head><meta charset=\"utf-8\" /></head>\n",
              "<body>\n",
              "    <div>            <script src=\"https://cdnjs.cloudflare.com/ajax/libs/mathjax/2.7.5/MathJax.js?config=TeX-AMS-MML_SVG\"></script><script type=\"text/javascript\">if (window.MathJax && window.MathJax.Hub && window.MathJax.Hub.Config) {window.MathJax.Hub.Config({SVG: {font: \"STIX-Web\"}});}</script>                <script type=\"text/javascript\">window.PlotlyConfig = {MathJaxConfig: 'local'};</script>\n",
              "        <script charset=\"utf-8\" src=\"https://cdn.plot.ly/plotly-2.24.1.min.js\"></script>                <div id=\"b768eaa8-bc7d-4bd1-bab8-83f375da73c4\" class=\"plotly-graph-div\" style=\"height:700px; width:1000px;\"></div>            <script type=\"text/javascript\">                                    window.PLOTLYENV=window.PLOTLYENV || {};                                    if (document.getElementById(\"b768eaa8-bc7d-4bd1-bab8-83f375da73c4\")) {                    Plotly.newPlot(                        \"b768eaa8-bc7d-4bd1-bab8-83f375da73c4\",                        [{\"labels\":[\"\\u0e40\\u0e19\\u0e49\\u0e19\\u0e01\\u0e32\\u0e23\\u0e40\\u0e23\\u0e35\\u0e22\\u0e19\\u0e23\\u0e39\\u0e49\\u0e41\\u0e1a\\u0e1a Personalized = 33\",\"\\u0e40\\u0e19\\u0e49\\u0e19\\u0e01\\u0e32\\u0e23\\u0e40\\u0e23\\u0e35\\u0e22\\u0e19\\u0e23\\u0e39\\u0e49\\u0e14\\u0e49\\u0e27\\u0e22\\u0e15\\u0e19\\u0e40\\u0e2d\\u0e07 = 16\",\"\\u0e40\\u0e19\\u0e49\\u0e19\\u0e01\\u0e32\\u0e23\\u0e40\\u0e23\\u0e35\\u0e22\\u0e19\\u0e23\\u0e39\\u0e49\\u0e41\\u0e1a\\u0e1a Active Learning = 48\",\"\\u0e40\\u0e19\\u0e49\\u0e19\\u0e01\\u0e32\\u0e23\\u0e40\\u0e23\\u0e35\\u0e22\\u0e19\\u0e23\\u0e39\\u0e49\\u0e41\\u0e1a\\u0e1a Blended Learning = 12\",\"\\u0e2d\\u0e37\\u0e48\\u0e19\\u0e46: = 0\"],\"values\":[33,16,48,12,0],\"type\":\"pie\",\"textfont\":{\"size\":15},\"textinfo\":\"label+percent\",\"textposition\":\"outside\",\"marker\":{\"colors\":[\"rgb(251,180,174)\",\"rgb(179,205,227)\",\"rgb(204,235,197)\",\"rgb(222,203,228)\",\"rgb(254,217,166)\",\"rgb(255,255,204)\",\"rgb(229,216,189)\",\"rgb(253,218,236)\",\"rgb(242,242,242)\"]}}],                        {\"template\":{\"data\":{\"histogram2dcontour\":[{\"type\":\"histogram2dcontour\",\"colorbar\":{\"outlinewidth\":0,\"ticks\":\"\"},\"colorscale\":[[0.0,\"#0d0887\"],[0.1111111111111111,\"#46039f\"],[0.2222222222222222,\"#7201a8\"],[0.3333333333333333,\"#9c179e\"],[0.4444444444444444,\"#bd3786\"],[0.5555555555555556,\"#d8576b\"],[0.6666666666666666,\"#ed7953\"],[0.7777777777777778,\"#fb9f3a\"],[0.8888888888888888,\"#fdca26\"],[1.0,\"#f0f921\"]]}],\"choropleth\":[{\"type\":\"choropleth\",\"colorbar\":{\"outlinewidth\":0,\"ticks\":\"\"}}],\"histogram2d\":[{\"type\":\"histogram2d\",\"colorbar\":{\"outlinewidth\":0,\"ticks\":\"\"},\"colorscale\":[[0.0,\"#0d0887\"],[0.1111111111111111,\"#46039f\"],[0.2222222222222222,\"#7201a8\"],[0.3333333333333333,\"#9c179e\"],[0.4444444444444444,\"#bd3786\"],[0.5555555555555556,\"#d8576b\"],[0.6666666666666666,\"#ed7953\"],[0.7777777777777778,\"#fb9f3a\"],[0.8888888888888888,\"#fdca26\"],[1.0,\"#f0f921\"]]}],\"heatmap\":[{\"type\":\"heatmap\",\"colorbar\":{\"outlinewidth\":0,\"ticks\":\"\"},\"colorscale\":[[0.0,\"#0d0887\"],[0.1111111111111111,\"#46039f\"],[0.2222222222222222,\"#7201a8\"],[0.3333333333333333,\"#9c179e\"],[0.4444444444444444,\"#bd3786\"],[0.5555555555555556,\"#d8576b\"],[0.6666666666666666,\"#ed7953\"],[0.7777777777777778,\"#fb9f3a\"],[0.8888888888888888,\"#fdca26\"],[1.0,\"#f0f921\"]]}],\"heatmapgl\":[{\"type\":\"heatmapgl\",\"colorbar\":{\"outlinewidth\":0,\"ticks\":\"\"},\"colorscale\":[[0.0,\"#0d0887\"],[0.1111111111111111,\"#46039f\"],[0.2222222222222222,\"#7201a8\"],[0.3333333333333333,\"#9c179e\"],[0.4444444444444444,\"#bd3786\"],[0.5555555555555556,\"#d8576b\"],[0.6666666666666666,\"#ed7953\"],[0.7777777777777778,\"#fb9f3a\"],[0.8888888888888888,\"#fdca26\"],[1.0,\"#f0f921\"]]}],\"contourcarpet\":[{\"type\":\"contourcarpet\",\"colorbar\":{\"outlinewidth\":0,\"ticks\":\"\"}}],\"contour\":[{\"type\":\"contour\",\"colorbar\":{\"outlinewidth\":0,\"ticks\":\"\"},\"colorscale\":[[0.0,\"#0d0887\"],[0.1111111111111111,\"#46039f\"],[0.2222222222222222,\"#7201a8\"],[0.3333333333333333,\"#9c179e\"],[0.4444444444444444,\"#bd3786\"],[0.5555555555555556,\"#d8576b\"],[0.6666666666666666,\"#ed7953\"],[0.7777777777777778,\"#fb9f3a\"],[0.8888888888888888,\"#fdca26\"],[1.0,\"#f0f921\"]]}],\"surface\":[{\"type\":\"surface\",\"colorbar\":{\"outlinewidth\":0,\"ticks\":\"\"},\"colorscale\":[[0.0,\"#0d0887\"],[0.1111111111111111,\"#46039f\"],[0.2222222222222222,\"#7201a8\"],[0.3333333333333333,\"#9c179e\"],[0.4444444444444444,\"#bd3786\"],[0.5555555555555556,\"#d8576b\"],[0.6666666666666666,\"#ed7953\"],[0.7777777777777778,\"#fb9f3a\"],[0.8888888888888888,\"#fdca26\"],[1.0,\"#f0f921\"]]}],\"mesh3d\":[{\"type\":\"mesh3d\",\"colorbar\":{\"outlinewidth\":0,\"ticks\":\"\"}}],\"scatter\":[{\"fillpattern\":{\"fillmode\":\"overlay\",\"size\":10,\"solidity\":0.2},\"type\":\"scatter\"}],\"parcoords\":[{\"type\":\"parcoords\",\"line\":{\"colorbar\":{\"outlinewidth\":0,\"ticks\":\"\"}}}],\"scatterpolargl\":[{\"type\":\"scatterpolargl\",\"marker\":{\"colorbar\":{\"outlinewidth\":0,\"ticks\":\"\"}}}],\"bar\":[{\"error_x\":{\"color\":\"#2a3f5f\"},\"error_y\":{\"color\":\"#2a3f5f\"},\"marker\":{\"line\":{\"color\":\"#E5ECF6\",\"width\":0.5},\"pattern\":{\"fillmode\":\"overlay\",\"size\":10,\"solidity\":0.2}},\"type\":\"bar\"}],\"scattergeo\":[{\"type\":\"scattergeo\",\"marker\":{\"colorbar\":{\"outlinewidth\":0,\"ticks\":\"\"}}}],\"scatterpolar\":[{\"type\":\"scatterpolar\",\"marker\":{\"colorbar\":{\"outlinewidth\":0,\"ticks\":\"\"}}}],\"histogram\":[{\"marker\":{\"pattern\":{\"fillmode\":\"overlay\",\"size\":10,\"solidity\":0.2}},\"type\":\"histogram\"}],\"scattergl\":[{\"type\":\"scattergl\",\"marker\":{\"colorbar\":{\"outlinewidth\":0,\"ticks\":\"\"}}}],\"scatter3d\":[{\"type\":\"scatter3d\",\"line\":{\"colorbar\":{\"outlinewidth\":0,\"ticks\":\"\"}},\"marker\":{\"colorbar\":{\"outlinewidth\":0,\"ticks\":\"\"}}}],\"scattermapbox\":[{\"type\":\"scattermapbox\",\"marker\":{\"colorbar\":{\"outlinewidth\":0,\"ticks\":\"\"}}}],\"scatterternary\":[{\"type\":\"scatterternary\",\"marker\":{\"colorbar\":{\"outlinewidth\":0,\"ticks\":\"\"}}}],\"scattercarpet\":[{\"type\":\"scattercarpet\",\"marker\":{\"colorbar\":{\"outlinewidth\":0,\"ticks\":\"\"}}}],\"carpet\":[{\"aaxis\":{\"endlinecolor\":\"#2a3f5f\",\"gridcolor\":\"white\",\"linecolor\":\"white\",\"minorgridcolor\":\"white\",\"startlinecolor\":\"#2a3f5f\"},\"baxis\":{\"endlinecolor\":\"#2a3f5f\",\"gridcolor\":\"white\",\"linecolor\":\"white\",\"minorgridcolor\":\"white\",\"startlinecolor\":\"#2a3f5f\"},\"type\":\"carpet\"}],\"table\":[{\"cells\":{\"fill\":{\"color\":\"#EBF0F8\"},\"line\":{\"color\":\"white\"}},\"header\":{\"fill\":{\"color\":\"#C8D4E3\"},\"line\":{\"color\":\"white\"}},\"type\":\"table\"}],\"barpolar\":[{\"marker\":{\"line\":{\"color\":\"#E5ECF6\",\"width\":0.5},\"pattern\":{\"fillmode\":\"overlay\",\"size\":10,\"solidity\":0.2}},\"type\":\"barpolar\"}],\"pie\":[{\"automargin\":true,\"type\":\"pie\"}]},\"layout\":{\"autotypenumbers\":\"strict\",\"colorway\":[\"#636efa\",\"#EF553B\",\"#00cc96\",\"#ab63fa\",\"#FFA15A\",\"#19d3f3\",\"#FF6692\",\"#B6E880\",\"#FF97FF\",\"#FECB52\"],\"font\":{\"color\":\"#2a3f5f\"},\"hovermode\":\"closest\",\"hoverlabel\":{\"align\":\"left\"},\"paper_bgcolor\":\"white\",\"plot_bgcolor\":\"#E5ECF6\",\"polar\":{\"bgcolor\":\"#E5ECF6\",\"angularaxis\":{\"gridcolor\":\"white\",\"linecolor\":\"white\",\"ticks\":\"\"},\"radialaxis\":{\"gridcolor\":\"white\",\"linecolor\":\"white\",\"ticks\":\"\"}},\"ternary\":{\"bgcolor\":\"#E5ECF6\",\"aaxis\":{\"gridcolor\":\"white\",\"linecolor\":\"white\",\"ticks\":\"\"},\"baxis\":{\"gridcolor\":\"white\",\"linecolor\":\"white\",\"ticks\":\"\"},\"caxis\":{\"gridcolor\":\"white\",\"linecolor\":\"white\",\"ticks\":\"\"}},\"coloraxis\":{\"colorbar\":{\"outlinewidth\":0,\"ticks\":\"\"}},\"colorscale\":{\"sequential\":[[0.0,\"#0d0887\"],[0.1111111111111111,\"#46039f\"],[0.2222222222222222,\"#7201a8\"],[0.3333333333333333,\"#9c179e\"],[0.4444444444444444,\"#bd3786\"],[0.5555555555555556,\"#d8576b\"],[0.6666666666666666,\"#ed7953\"],[0.7777777777777778,\"#fb9f3a\"],[0.8888888888888888,\"#fdca26\"],[1.0,\"#f0f921\"]],\"sequentialminus\":[[0.0,\"#0d0887\"],[0.1111111111111111,\"#46039f\"],[0.2222222222222222,\"#7201a8\"],[0.3333333333333333,\"#9c179e\"],[0.4444444444444444,\"#bd3786\"],[0.5555555555555556,\"#d8576b\"],[0.6666666666666666,\"#ed7953\"],[0.7777777777777778,\"#fb9f3a\"],[0.8888888888888888,\"#fdca26\"],[1.0,\"#f0f921\"]],\"diverging\":[[0,\"#8e0152\"],[0.1,\"#c51b7d\"],[0.2,\"#de77ae\"],[0.3,\"#f1b6da\"],[0.4,\"#fde0ef\"],[0.5,\"#f7f7f7\"],[0.6,\"#e6f5d0\"],[0.7,\"#b8e186\"],[0.8,\"#7fbc41\"],[0.9,\"#4d9221\"],[1,\"#276419\"]]},\"xaxis\":{\"gridcolor\":\"white\",\"linecolor\":\"white\",\"ticks\":\"\",\"title\":{\"standoff\":15},\"zerolinecolor\":\"white\",\"automargin\":true,\"zerolinewidth\":2},\"yaxis\":{\"gridcolor\":\"white\",\"linecolor\":\"white\",\"ticks\":\"\",\"title\":{\"standoff\":15},\"zerolinecolor\":\"white\",\"automargin\":true,\"zerolinewidth\":2},\"scene\":{\"xaxis\":{\"backgroundcolor\":\"#E5ECF6\",\"gridcolor\":\"white\",\"linecolor\":\"white\",\"showbackground\":true,\"ticks\":\"\",\"zerolinecolor\":\"white\",\"gridwidth\":2},\"yaxis\":{\"backgroundcolor\":\"#E5ECF6\",\"gridcolor\":\"white\",\"linecolor\":\"white\",\"showbackground\":true,\"ticks\":\"\",\"zerolinecolor\":\"white\",\"gridwidth\":2},\"zaxis\":{\"backgroundcolor\":\"#E5ECF6\",\"gridcolor\":\"white\",\"linecolor\":\"white\",\"showbackground\":true,\"ticks\":\"\",\"zerolinecolor\":\"white\",\"gridwidth\":2}},\"shapedefaults\":{\"line\":{\"color\":\"#2a3f5f\"}},\"annotationdefaults\":{\"arrowcolor\":\"#2a3f5f\",\"arrowhead\":0,\"arrowwidth\":1},\"geo\":{\"bgcolor\":\"white\",\"landcolor\":\"#E5ECF6\",\"subunitcolor\":\"white\",\"showland\":true,\"showlakes\":true,\"lakecolor\":\"white\"},\"title\":{\"x\":0.05},\"mapbox\":{\"style\":\"light\"}}},\"title\":{\"text\":\"\\u0e01\\u0e32\\u0e23\\u0e40\\u0e1b\\u0e25\\u0e35\\u0e48\\u0e22\\u0e19\\u0e41\\u0e1b\\u0e25\\u0e07\\u0e02\\u0e2d\\u0e07\\u0e23\\u0e39\\u0e1b\\u0e41\\u0e1a\\u0e1a\\u0e01\\u0e32\\u0e23\\u0e40\\u0e23\\u0e35\\u0e22\\u0e19\\u0e01\\u0e32\\u0e23\\u0e2a\\u0e2d\\u0e19\\u0e43\\u0e19\\u0e2d\\u0e19\\u0e32\\u0e04\\u0e15\",\"x\":0.5},\"font\":{\"family\":\"TH Sarabun New\"},\"xaxis\":{\"title\":{\"text\":\"\\u0e04\\u0e27\\u0e32\\u0e21\\u0e40\\u0e2b\\u0e47\\u0e19\"}},\"yaxis\":{\"title\":{\"text\":\"\\u0e08\\u0e33\\u0e19\\u0e27\\u0e19\"}},\"height\":700,\"width\":1000},                        {\"responsive\": true}                    ).then(function(){\n",
              "                            \n",
              "var gd = document.getElementById('b768eaa8-bc7d-4bd1-bab8-83f375da73c4');\n",
              "var x = new MutationObserver(function (mutations, observer) {{\n",
              "        var display = window.getComputedStyle(gd).display;\n",
              "        if (!display || display === 'none') {{\n",
              "            console.log([gd, 'removed!']);\n",
              "            Plotly.purge(gd);\n",
              "            observer.disconnect();\n",
              "        }}\n",
              "}});\n",
              "\n",
              "// Listen for the removal of the full notebook cells\n",
              "var notebookContainer = gd.closest('#notebook-container');\n",
              "if (notebookContainer) {{\n",
              "    x.observe(notebookContainer, {childList: true});\n",
              "}}\n",
              "\n",
              "// Listen for the clearing of the current output cell\n",
              "var outputEl = gd.closest('.output');\n",
              "if (outputEl) {{\n",
              "    x.observe(outputEl, {childList: true});\n",
              "}}\n",
              "\n",
              "                        })                };                            </script>        </div>\n",
              "</body>\n",
              "</html>"
            ]
          },
          "metadata": {},
          "output_type": "display_data"
        }
      ],
      "source": [
        "sizes = [33, 16, 48, 12, 0]\n",
        "labels = [f'{A} = 33', f'{B} = 16', f'{C} = 48', f'{D} = 12', f'{E} = 0']\n",
        "colors = px.colors.qualitative.Pastel1\n",
        "\n",
        "fig = go.Figure(data=[go.Pie(labels=labels, values=sizes)])\n",
        "fig.update_traces(textinfo='label+percent', textfont_size=15,textposition = \"outside\")\n",
        "#fig.update_traces(texttemplate = \"%{value} <br>(%{percent})\")\n",
        "\n",
        "# ปรับสีให้เป็นสีอ่อน\n",
        "fig.update_traces(marker=dict(colors=colors))\n",
        "\n",
        "fig.update_layout(\n",
        "    xaxis=dict(title='ความเห็น'),\n",
        "    yaxis=dict(title='จำนวน'),\n",
        "    title={\n",
        "        'text': \"การเปลี่ยนแปลงของรูปแบบการเรียนการสอนในอนาคต\",\n",
        "        'x': 0.5},\n",
        "    height=700, width=1000,\n",
        "    font_family=\"TH Sarabun New\"\n",
        ")\n",
        "fig.show()"
      ]
    },
    {
      "cell_type": "markdown",
      "metadata": {
        "id": "lnBhpDShyWKH"
      },
      "source": [
        "**ท่านคิดว่าเทคโนโลยีอะไรบ้างจะส่งผลต่อการศึกษาอนาคต**"
      ]
    },
    {
      "cell_type": "code",
      "execution_count": null,
      "metadata": {
        "colab": {
          "base_uri": "https://localhost:8080/"
        },
        "id": "AlSnSm_cyoYm",
        "outputId": "575dd744-b29f-4bee-a9f9-c67c74b8f492"
      },
      "outputs": [
        {
          "name": "stdout",
          "output_type": "stream",
          "text": [
            "{'ปัญญาประดิษฐ์ (AI) คือ วิเคราะห์ข้อมูล แนะนำแนวทางการเรียนรู้': 67, 'เทคโนโลยีเสมือนจริง (VR) คือ จำลองสถานการณ์เสมือนจริง': 16, 'เทคโนโลยีการแปลภาษาแบบเรียลไทม์ : เข้าใจภาษาต่างประเทศ': 13, 'เกม (Gamification) คือ ฝึกทักษะการคิดวิเคราะห์ แก้ปัญหา': 12, 'ท้งหมด': 1}\n"
          ]
        }
      ],
      "source": [
        "column_position = 21\n",
        "\n",
        "data_exam = data.iloc[:, column_position].value_counts()\n",
        "\n",
        "data_exam_dict = data_exam.to_dict()\n",
        "\n",
        "print(data_exam_dict)"
      ]
    },
    {
      "cell_type": "code",
      "execution_count": null,
      "metadata": {
        "id": "nea9Dp-ryq7c"
      },
      "outputs": [],
      "source": [
        "A='ปัญญาประดิษฐ์(AI)'\n",
        "B='เทคโนโลยีเสมือนจริง(VR)'\n",
        "C='เกม(Gamification)'\n",
        "D='เทคโนโลยีการแปลภาษาแบบเรียลไทม์'\n",
        "E='ทั้งหมด'"
      ]
    },
    {
      "cell_type": "code",
      "execution_count": null,
      "metadata": {
        "colab": {
          "base_uri": "https://localhost:8080/",
          "height": 717
        },
        "id": "r-3hALd3y3JF",
        "outputId": "1f804861-d8b0-46b3-9a69-ef54a02fa679"
      },
      "outputs": [
        {
          "data": {
            "text/html": [
              "<html>\n",
              "<head><meta charset=\"utf-8\" /></head>\n",
              "<body>\n",
              "    <div>            <script src=\"https://cdnjs.cloudflare.com/ajax/libs/mathjax/2.7.5/MathJax.js?config=TeX-AMS-MML_SVG\"></script><script type=\"text/javascript\">if (window.MathJax && window.MathJax.Hub && window.MathJax.Hub.Config) {window.MathJax.Hub.Config({SVG: {font: \"STIX-Web\"}});}</script>                <script type=\"text/javascript\">window.PlotlyConfig = {MathJaxConfig: 'local'};</script>\n",
              "        <script charset=\"utf-8\" src=\"https://cdn.plot.ly/plotly-2.24.1.min.js\"></script>                <div id=\"07a99182-9c38-4774-94ae-7d5cf7b4a508\" class=\"plotly-graph-div\" style=\"height:700px; width:1000px;\"></div>            <script type=\"text/javascript\">                                    window.PLOTLYENV=window.PLOTLYENV || {};                                    if (document.getElementById(\"07a99182-9c38-4774-94ae-7d5cf7b4a508\")) {                    Plotly.newPlot(                        \"07a99182-9c38-4774-94ae-7d5cf7b4a508\",                        [{\"marker\":{\"color\":[\"rgb(102, 197, 204)\",\"rgb(246, 207, 113)\",\"rgb(248, 156, 116)\",\"rgb(220, 176, 242)\",\"rgb(135, 197, 95)\",\"rgb(158, 185, 243)\",\"rgb(254, 136, 177)\",\"rgb(201, 219, 116)\",\"rgb(139, 224, 164)\",\"rgb(180, 151, 231)\",\"rgb(179, 179, 179)\"]},\"orientation\":\"h\",\"text\":[\"67\",\"16\",\"13\",\"12\",\"1\"],\"textposition\":\"inside\",\"x\":[67,16,13,12,1],\"y\":[\"\\u0e1b\\u0e31\\u0e0d\\u0e0d\\u0e32\\u0e1b\\u0e23\\u0e30\\u0e14\\u0e34\\u0e29\\u0e10\\u0e4c(AI)\",\"\\u0e40\\u0e17\\u0e04\\u0e42\\u0e19\\u0e42\\u0e25\\u0e22\\u0e35\\u0e40\\u0e2a\\u0e21\\u0e37\\u0e2d\\u0e19\\u0e08\\u0e23\\u0e34\\u0e07(VR)\",\"\\u0e40\\u0e01\\u0e21(Gamification)\",\"\\u0e40\\u0e17\\u0e04\\u0e42\\u0e19\\u0e42\\u0e25\\u0e22\\u0e35\\u0e01\\u0e32\\u0e23\\u0e41\\u0e1b\\u0e25\\u0e20\\u0e32\\u0e29\\u0e32\\u0e41\\u0e1a\\u0e1a\\u0e40\\u0e23\\u0e35\\u0e22\\u0e25\\u0e44\\u0e17\\u0e21\\u0e4c\",\"\\u0e17\\u0e31\\u0e49\\u0e07\\u0e2b\\u0e21\\u0e14\"],\"type\":\"bar\"}],                        {\"template\":{\"data\":{\"histogram2dcontour\":[{\"type\":\"histogram2dcontour\",\"colorbar\":{\"outlinewidth\":0,\"ticks\":\"\"},\"colorscale\":[[0.0,\"#0d0887\"],[0.1111111111111111,\"#46039f\"],[0.2222222222222222,\"#7201a8\"],[0.3333333333333333,\"#9c179e\"],[0.4444444444444444,\"#bd3786\"],[0.5555555555555556,\"#d8576b\"],[0.6666666666666666,\"#ed7953\"],[0.7777777777777778,\"#fb9f3a\"],[0.8888888888888888,\"#fdca26\"],[1.0,\"#f0f921\"]]}],\"choropleth\":[{\"type\":\"choropleth\",\"colorbar\":{\"outlinewidth\":0,\"ticks\":\"\"}}],\"histogram2d\":[{\"type\":\"histogram2d\",\"colorbar\":{\"outlinewidth\":0,\"ticks\":\"\"},\"colorscale\":[[0.0,\"#0d0887\"],[0.1111111111111111,\"#46039f\"],[0.2222222222222222,\"#7201a8\"],[0.3333333333333333,\"#9c179e\"],[0.4444444444444444,\"#bd3786\"],[0.5555555555555556,\"#d8576b\"],[0.6666666666666666,\"#ed7953\"],[0.7777777777777778,\"#fb9f3a\"],[0.8888888888888888,\"#fdca26\"],[1.0,\"#f0f921\"]]}],\"heatmap\":[{\"type\":\"heatmap\",\"colorbar\":{\"outlinewidth\":0,\"ticks\":\"\"},\"colorscale\":[[0.0,\"#0d0887\"],[0.1111111111111111,\"#46039f\"],[0.2222222222222222,\"#7201a8\"],[0.3333333333333333,\"#9c179e\"],[0.4444444444444444,\"#bd3786\"],[0.5555555555555556,\"#d8576b\"],[0.6666666666666666,\"#ed7953\"],[0.7777777777777778,\"#fb9f3a\"],[0.8888888888888888,\"#fdca26\"],[1.0,\"#f0f921\"]]}],\"heatmapgl\":[{\"type\":\"heatmapgl\",\"colorbar\":{\"outlinewidth\":0,\"ticks\":\"\"},\"colorscale\":[[0.0,\"#0d0887\"],[0.1111111111111111,\"#46039f\"],[0.2222222222222222,\"#7201a8\"],[0.3333333333333333,\"#9c179e\"],[0.4444444444444444,\"#bd3786\"],[0.5555555555555556,\"#d8576b\"],[0.6666666666666666,\"#ed7953\"],[0.7777777777777778,\"#fb9f3a\"],[0.8888888888888888,\"#fdca26\"],[1.0,\"#f0f921\"]]}],\"contourcarpet\":[{\"type\":\"contourcarpet\",\"colorbar\":{\"outlinewidth\":0,\"ticks\":\"\"}}],\"contour\":[{\"type\":\"contour\",\"colorbar\":{\"outlinewidth\":0,\"ticks\":\"\"},\"colorscale\":[[0.0,\"#0d0887\"],[0.1111111111111111,\"#46039f\"],[0.2222222222222222,\"#7201a8\"],[0.3333333333333333,\"#9c179e\"],[0.4444444444444444,\"#bd3786\"],[0.5555555555555556,\"#d8576b\"],[0.6666666666666666,\"#ed7953\"],[0.7777777777777778,\"#fb9f3a\"],[0.8888888888888888,\"#fdca26\"],[1.0,\"#f0f921\"]]}],\"surface\":[{\"type\":\"surface\",\"colorbar\":{\"outlinewidth\":0,\"ticks\":\"\"},\"colorscale\":[[0.0,\"#0d0887\"],[0.1111111111111111,\"#46039f\"],[0.2222222222222222,\"#7201a8\"],[0.3333333333333333,\"#9c179e\"],[0.4444444444444444,\"#bd3786\"],[0.5555555555555556,\"#d8576b\"],[0.6666666666666666,\"#ed7953\"],[0.7777777777777778,\"#fb9f3a\"],[0.8888888888888888,\"#fdca26\"],[1.0,\"#f0f921\"]]}],\"mesh3d\":[{\"type\":\"mesh3d\",\"colorbar\":{\"outlinewidth\":0,\"ticks\":\"\"}}],\"scatter\":[{\"fillpattern\":{\"fillmode\":\"overlay\",\"size\":10,\"solidity\":0.2},\"type\":\"scatter\"}],\"parcoords\":[{\"type\":\"parcoords\",\"line\":{\"colorbar\":{\"outlinewidth\":0,\"ticks\":\"\"}}}],\"scatterpolargl\":[{\"type\":\"scatterpolargl\",\"marker\":{\"colorbar\":{\"outlinewidth\":0,\"ticks\":\"\"}}}],\"bar\":[{\"error_x\":{\"color\":\"#2a3f5f\"},\"error_y\":{\"color\":\"#2a3f5f\"},\"marker\":{\"line\":{\"color\":\"#E5ECF6\",\"width\":0.5},\"pattern\":{\"fillmode\":\"overlay\",\"size\":10,\"solidity\":0.2}},\"type\":\"bar\"}],\"scattergeo\":[{\"type\":\"scattergeo\",\"marker\":{\"colorbar\":{\"outlinewidth\":0,\"ticks\":\"\"}}}],\"scatterpolar\":[{\"type\":\"scatterpolar\",\"marker\":{\"colorbar\":{\"outlinewidth\":0,\"ticks\":\"\"}}}],\"histogram\":[{\"marker\":{\"pattern\":{\"fillmode\":\"overlay\",\"size\":10,\"solidity\":0.2}},\"type\":\"histogram\"}],\"scattergl\":[{\"type\":\"scattergl\",\"marker\":{\"colorbar\":{\"outlinewidth\":0,\"ticks\":\"\"}}}],\"scatter3d\":[{\"type\":\"scatter3d\",\"line\":{\"colorbar\":{\"outlinewidth\":0,\"ticks\":\"\"}},\"marker\":{\"colorbar\":{\"outlinewidth\":0,\"ticks\":\"\"}}}],\"scattermapbox\":[{\"type\":\"scattermapbox\",\"marker\":{\"colorbar\":{\"outlinewidth\":0,\"ticks\":\"\"}}}],\"scatterternary\":[{\"type\":\"scatterternary\",\"marker\":{\"colorbar\":{\"outlinewidth\":0,\"ticks\":\"\"}}}],\"scattercarpet\":[{\"type\":\"scattercarpet\",\"marker\":{\"colorbar\":{\"outlinewidth\":0,\"ticks\":\"\"}}}],\"carpet\":[{\"aaxis\":{\"endlinecolor\":\"#2a3f5f\",\"gridcolor\":\"white\",\"linecolor\":\"white\",\"minorgridcolor\":\"white\",\"startlinecolor\":\"#2a3f5f\"},\"baxis\":{\"endlinecolor\":\"#2a3f5f\",\"gridcolor\":\"white\",\"linecolor\":\"white\",\"minorgridcolor\":\"white\",\"startlinecolor\":\"#2a3f5f\"},\"type\":\"carpet\"}],\"table\":[{\"cells\":{\"fill\":{\"color\":\"#EBF0F8\"},\"line\":{\"color\":\"white\"}},\"header\":{\"fill\":{\"color\":\"#C8D4E3\"},\"line\":{\"color\":\"white\"}},\"type\":\"table\"}],\"barpolar\":[{\"marker\":{\"line\":{\"color\":\"#E5ECF6\",\"width\":0.5},\"pattern\":{\"fillmode\":\"overlay\",\"size\":10,\"solidity\":0.2}},\"type\":\"barpolar\"}],\"pie\":[{\"automargin\":true,\"type\":\"pie\"}]},\"layout\":{\"autotypenumbers\":\"strict\",\"colorway\":[\"#636efa\",\"#EF553B\",\"#00cc96\",\"#ab63fa\",\"#FFA15A\",\"#19d3f3\",\"#FF6692\",\"#B6E880\",\"#FF97FF\",\"#FECB52\"],\"font\":{\"color\":\"#2a3f5f\"},\"hovermode\":\"closest\",\"hoverlabel\":{\"align\":\"left\"},\"paper_bgcolor\":\"white\",\"plot_bgcolor\":\"#E5ECF6\",\"polar\":{\"bgcolor\":\"#E5ECF6\",\"angularaxis\":{\"gridcolor\":\"white\",\"linecolor\":\"white\",\"ticks\":\"\"},\"radialaxis\":{\"gridcolor\":\"white\",\"linecolor\":\"white\",\"ticks\":\"\"}},\"ternary\":{\"bgcolor\":\"#E5ECF6\",\"aaxis\":{\"gridcolor\":\"white\",\"linecolor\":\"white\",\"ticks\":\"\"},\"baxis\":{\"gridcolor\":\"white\",\"linecolor\":\"white\",\"ticks\":\"\"},\"caxis\":{\"gridcolor\":\"white\",\"linecolor\":\"white\",\"ticks\":\"\"}},\"coloraxis\":{\"colorbar\":{\"outlinewidth\":0,\"ticks\":\"\"}},\"colorscale\":{\"sequential\":[[0.0,\"#0d0887\"],[0.1111111111111111,\"#46039f\"],[0.2222222222222222,\"#7201a8\"],[0.3333333333333333,\"#9c179e\"],[0.4444444444444444,\"#bd3786\"],[0.5555555555555556,\"#d8576b\"],[0.6666666666666666,\"#ed7953\"],[0.7777777777777778,\"#fb9f3a\"],[0.8888888888888888,\"#fdca26\"],[1.0,\"#f0f921\"]],\"sequentialminus\":[[0.0,\"#0d0887\"],[0.1111111111111111,\"#46039f\"],[0.2222222222222222,\"#7201a8\"],[0.3333333333333333,\"#9c179e\"],[0.4444444444444444,\"#bd3786\"],[0.5555555555555556,\"#d8576b\"],[0.6666666666666666,\"#ed7953\"],[0.7777777777777778,\"#fb9f3a\"],[0.8888888888888888,\"#fdca26\"],[1.0,\"#f0f921\"]],\"diverging\":[[0,\"#8e0152\"],[0.1,\"#c51b7d\"],[0.2,\"#de77ae\"],[0.3,\"#f1b6da\"],[0.4,\"#fde0ef\"],[0.5,\"#f7f7f7\"],[0.6,\"#e6f5d0\"],[0.7,\"#b8e186\"],[0.8,\"#7fbc41\"],[0.9,\"#4d9221\"],[1,\"#276419\"]]},\"xaxis\":{\"gridcolor\":\"white\",\"linecolor\":\"white\",\"ticks\":\"\",\"title\":{\"standoff\":15},\"zerolinecolor\":\"white\",\"automargin\":true,\"zerolinewidth\":2},\"yaxis\":{\"gridcolor\":\"white\",\"linecolor\":\"white\",\"ticks\":\"\",\"title\":{\"standoff\":15},\"zerolinecolor\":\"white\",\"automargin\":true,\"zerolinewidth\":2},\"scene\":{\"xaxis\":{\"backgroundcolor\":\"#E5ECF6\",\"gridcolor\":\"white\",\"linecolor\":\"white\",\"showbackground\":true,\"ticks\":\"\",\"zerolinecolor\":\"white\",\"gridwidth\":2},\"yaxis\":{\"backgroundcolor\":\"#E5ECF6\",\"gridcolor\":\"white\",\"linecolor\":\"white\",\"showbackground\":true,\"ticks\":\"\",\"zerolinecolor\":\"white\",\"gridwidth\":2},\"zaxis\":{\"backgroundcolor\":\"#E5ECF6\",\"gridcolor\":\"white\",\"linecolor\":\"white\",\"showbackground\":true,\"ticks\":\"\",\"zerolinecolor\":\"white\",\"gridwidth\":2}},\"shapedefaults\":{\"line\":{\"color\":\"#2a3f5f\"}},\"annotationdefaults\":{\"arrowcolor\":\"#2a3f5f\",\"arrowhead\":0,\"arrowwidth\":1},\"geo\":{\"bgcolor\":\"white\",\"landcolor\":\"#E5ECF6\",\"subunitcolor\":\"white\",\"showland\":true,\"showlakes\":true,\"lakecolor\":\"white\"},\"title\":{\"x\":0.05},\"mapbox\":{\"style\":\"light\"}}},\"title\":{\"text\":\"\\u0e40\\u0e17\\u0e04\\u0e42\\u0e19\\u0e42\\u0e25\\u0e22\\u0e35\\u0e17\\u0e35\\u0e48\\u0e08\\u0e30\\u0e2a\\u0e48\\u0e07\\u0e1c\\u0e25\\u0e15\\u0e48\\u0e2d\\u0e01\\u0e32\\u0e23\\u0e28\\u0e36\\u0e01\\u0e29\\u0e32\\u0e2d\\u0e19\\u0e32\\u0e04\\u0e15\",\"x\":0.5},\"font\":{\"family\":\"TH Sarabun New\"},\"height\":700,\"width\":1000,\"xaxis\":{\"title\":{\"text\":\"Sizes\"}}},                        {\"responsive\": true}                    ).then(function(){\n",
              "                            \n",
              "var gd = document.getElementById('07a99182-9c38-4774-94ae-7d5cf7b4a508');\n",
              "var x = new MutationObserver(function (mutations, observer) {{\n",
              "        var display = window.getComputedStyle(gd).display;\n",
              "        if (!display || display === 'none') {{\n",
              "            console.log([gd, 'removed!']);\n",
              "            Plotly.purge(gd);\n",
              "            observer.disconnect();\n",
              "        }}\n",
              "}});\n",
              "\n",
              "// Listen for the removal of the full notebook cells\n",
              "var notebookContainer = gd.closest('#notebook-container');\n",
              "if (notebookContainer) {{\n",
              "    x.observe(notebookContainer, {childList: true});\n",
              "}}\n",
              "\n",
              "// Listen for the clearing of the current output cell\n",
              "var outputEl = gd.closest('.output');\n",
              "if (outputEl) {{\n",
              "    x.observe(outputEl, {childList: true});\n",
              "}}\n",
              "\n",
              "                        })                };                            </script>        </div>\n",
              "</body>\n",
              "</html>"
            ]
          },
          "metadata": {},
          "output_type": "display_data"
        }
      ],
      "source": [
        "sizes = [67, 16, 13, 12, 1]\n",
        "labels = [A, B, C, D, E]\n",
        "colors = ['lightblue', 'lightgreen', 'lightcoral', 'lightskyblue', 'lightpink']\n",
        "\n",
        "fig = go.Figure(data=[go.Bar(y=labels, x=sizes, orientation='h',\n",
        "                             text=sizes, textposition='inside',\n",
        "                             marker=dict(color=px.colors.qualitative.Pastel))])\n",
        "fig.update_layout(title={\n",
        "        'text': \"เทคโนโลยีที่จะส่งผลต่อการศึกษาอนาคต\",\n",
        "        'x': 0.5},\n",
        "                  height=700, width=1000,\n",
        "                  font_family=\"TH Sarabun New\",\n",
        "                  xaxis_title='Sizes')\n",
        "fig.show()"
      ]
    },
    {
      "cell_type": "markdown",
      "metadata": {
        "id": "Vpf4qu-j1B8Y"
      },
      "source": [
        "**ท่านคิดว่าระบบการประเมินผลในอนาคตควรเป็นอย่างไร**"
      ]
    },
    {
      "cell_type": "code",
      "execution_count": null,
      "metadata": {
        "colab": {
          "base_uri": "https://localhost:8080/"
        },
        "id": "Xc_c62_70cOW",
        "outputId": "edba7fba-b495-4706-cf57-d413397a8b9d"
      },
      "outputs": [
        {
          "name": "stdout",
          "output_type": "stream",
          "text": [
            "{'ประเมินผลแบบองค์รวม คือ ประเมินผลมากกว่าความรู้ เน้นทักษะ ความสามารถ พฤติกรรม': 45, 'ประเมินผลแบบ Personalized คือ ออกแบบการประเมินผล เหมาะกับผู้เรียนแต่ละคน': 35, 'ประเมินผลแบบ Real-time คือ ประเมินผลตลอดการเรียนรู้ ไม่รอสอบปลายภาค': 25, 'ประเมินผลแบบ Peer-assessment คือ ผู้เรียนประเมินผลกันเอง เรียนรู้จากเพื่อน': 2, 'ใช้เกณฑ์ต่างๆแบบปัจจุบัน ดีอยู่แล้ว': 1, 'ประเมินด้วยการสอบ แต่เป็นการสอบที่สามารถใช้เครื่องมือได้ สามารถเข้าถึงแหล่งข้อมูลได้อิสระ ทั้งแบบเดี่ยวและการทำงานเป็นทีม ซึ่งสอดคล้องกับชีวิตการทำงานจริงมากกว่าการสอบที่ใช้ความจำเขียนใส่กระดาษเพียงอย่างเดียว': 1}\n"
          ]
        }
      ],
      "source": [
        "column_position = 23\n",
        "\n",
        "data_exam = data.iloc[:, column_position].value_counts()\n",
        "\n",
        "data_exam_dict = data_exam.to_dict()\n",
        "\n",
        "print(data_exam_dict)"
      ]
    },
    {
      "cell_type": "code",
      "execution_count": null,
      "metadata": {
        "id": "rlVS3WFI1Hbh"
      },
      "outputs": [],
      "source": [
        "A='ประเมินผลแบบองค์รวม'\n",
        "B='ประเมินผลแบบ Real-time'\n",
        "C='ประเมินผลแบบ Personalized'\n",
        "D='ประเมินผลแบบ Peer-assessment'\n",
        "E='อื่นๆ'"
      ]
    },
    {
      "cell_type": "code",
      "execution_count": null,
      "metadata": {
        "colab": {
          "base_uri": "https://localhost:8080/",
          "height": 517
        },
        "id": "GjHPZ6zd1dxc",
        "outputId": "e2830b8e-7c25-4fdd-98dc-086f116d2eb0"
      },
      "outputs": [
        {
          "data": {
            "text/html": [
              "<html>\n",
              "<head><meta charset=\"utf-8\" /></head>\n",
              "<body>\n",
              "    <div>            <script src=\"https://cdnjs.cloudflare.com/ajax/libs/mathjax/2.7.5/MathJax.js?config=TeX-AMS-MML_SVG\"></script><script type=\"text/javascript\">if (window.MathJax && window.MathJax.Hub && window.MathJax.Hub.Config) {window.MathJax.Hub.Config({SVG: {font: \"STIX-Web\"}});}</script>                <script type=\"text/javascript\">window.PlotlyConfig = {MathJaxConfig: 'local'};</script>\n",
              "        <script charset=\"utf-8\" src=\"https://cdn.plot.ly/plotly-2.24.1.min.js\"></script>                <div id=\"2186ba98-b857-4f1f-9517-22fcb7555e2e\" class=\"plotly-graph-div\" style=\"height:500px; width:1000px;\"></div>            <script type=\"text/javascript\">                                    window.PLOTLYENV=window.PLOTLYENV || {};                                    if (document.getElementById(\"2186ba98-b857-4f1f-9517-22fcb7555e2e\")) {                    Plotly.newPlot(                        \"2186ba98-b857-4f1f-9517-22fcb7555e2e\",                        [{\"branchvalues\":\"total\",\"domain\":{\"x\":[0.0,1.0],\"y\":[0.0,1.0]},\"hovertemplate\":\"labels=%{label}\\u003cbr\\u003esize=%{value}\\u003cbr\\u003eparent=%{parent}\\u003cbr\\u003eid=%{id}\\u003cextra\\u003e\\u003c\\u002fextra\\u003e\",\"ids\":[\"\\u0e1b\\u0e23\\u0e30\\u0e40\\u0e21\\u0e34\\u0e19\\u0e1c\\u0e25\\u0e41\\u0e1a\\u0e1a Peer-assessment=2\",\"\\u0e1b\\u0e23\\u0e30\\u0e40\\u0e21\\u0e34\\u0e19\\u0e1c\\u0e25\\u0e41\\u0e1a\\u0e1a Personalized=25\",\"\\u0e1b\\u0e23\\u0e30\\u0e40\\u0e21\\u0e34\\u0e19\\u0e1c\\u0e25\\u0e41\\u0e1a\\u0e1a Real-time=35\",\"\\u0e1b\\u0e23\\u0e30\\u0e40\\u0e21\\u0e34\\u0e19\\u0e1c\\u0e25\\u0e41\\u0e1a\\u0e1a\\u0e2d\\u0e07\\u0e04\\u0e4c\\u0e23\\u0e27\\u0e21=45\",\"\\u0e2d\\u0e37\\u0e48\\u0e19\\u0e46=2\"],\"labels\":[\"\\u0e1b\\u0e23\\u0e30\\u0e40\\u0e21\\u0e34\\u0e19\\u0e1c\\u0e25\\u0e41\\u0e1a\\u0e1a Peer-assessment=2\",\"\\u0e1b\\u0e23\\u0e30\\u0e40\\u0e21\\u0e34\\u0e19\\u0e1c\\u0e25\\u0e41\\u0e1a\\u0e1a Personalized=25\",\"\\u0e1b\\u0e23\\u0e30\\u0e40\\u0e21\\u0e34\\u0e19\\u0e1c\\u0e25\\u0e41\\u0e1a\\u0e1a Real-time=35\",\"\\u0e1b\\u0e23\\u0e30\\u0e40\\u0e21\\u0e34\\u0e19\\u0e1c\\u0e25\\u0e41\\u0e1a\\u0e1a\\u0e2d\\u0e07\\u0e04\\u0e4c\\u0e23\\u0e27\\u0e21=45\",\"\\u0e2d\\u0e37\\u0e48\\u0e19\\u0e46=2\"],\"name\":\"\",\"parents\":[\"\",\"\",\"\",\"\",\"\"],\"values\":[2,25,35,45,2],\"type\":\"treemap\",\"marker\":{\"colors\":[\"#A2C4C6\",\"#82B2B7\",\"#D9C2BD\",\"#E2E5CC\",\"#C6AC84\"]}}],                        {\"template\":{\"data\":{\"histogram2dcontour\":[{\"type\":\"histogram2dcontour\",\"colorbar\":{\"outlinewidth\":0,\"ticks\":\"\"},\"colorscale\":[[0.0,\"#0d0887\"],[0.1111111111111111,\"#46039f\"],[0.2222222222222222,\"#7201a8\"],[0.3333333333333333,\"#9c179e\"],[0.4444444444444444,\"#bd3786\"],[0.5555555555555556,\"#d8576b\"],[0.6666666666666666,\"#ed7953\"],[0.7777777777777778,\"#fb9f3a\"],[0.8888888888888888,\"#fdca26\"],[1.0,\"#f0f921\"]]}],\"choropleth\":[{\"type\":\"choropleth\",\"colorbar\":{\"outlinewidth\":0,\"ticks\":\"\"}}],\"histogram2d\":[{\"type\":\"histogram2d\",\"colorbar\":{\"outlinewidth\":0,\"ticks\":\"\"},\"colorscale\":[[0.0,\"#0d0887\"],[0.1111111111111111,\"#46039f\"],[0.2222222222222222,\"#7201a8\"],[0.3333333333333333,\"#9c179e\"],[0.4444444444444444,\"#bd3786\"],[0.5555555555555556,\"#d8576b\"],[0.6666666666666666,\"#ed7953\"],[0.7777777777777778,\"#fb9f3a\"],[0.8888888888888888,\"#fdca26\"],[1.0,\"#f0f921\"]]}],\"heatmap\":[{\"type\":\"heatmap\",\"colorbar\":{\"outlinewidth\":0,\"ticks\":\"\"},\"colorscale\":[[0.0,\"#0d0887\"],[0.1111111111111111,\"#46039f\"],[0.2222222222222222,\"#7201a8\"],[0.3333333333333333,\"#9c179e\"],[0.4444444444444444,\"#bd3786\"],[0.5555555555555556,\"#d8576b\"],[0.6666666666666666,\"#ed7953\"],[0.7777777777777778,\"#fb9f3a\"],[0.8888888888888888,\"#fdca26\"],[1.0,\"#f0f921\"]]}],\"heatmapgl\":[{\"type\":\"heatmapgl\",\"colorbar\":{\"outlinewidth\":0,\"ticks\":\"\"},\"colorscale\":[[0.0,\"#0d0887\"],[0.1111111111111111,\"#46039f\"],[0.2222222222222222,\"#7201a8\"],[0.3333333333333333,\"#9c179e\"],[0.4444444444444444,\"#bd3786\"],[0.5555555555555556,\"#d8576b\"],[0.6666666666666666,\"#ed7953\"],[0.7777777777777778,\"#fb9f3a\"],[0.8888888888888888,\"#fdca26\"],[1.0,\"#f0f921\"]]}],\"contourcarpet\":[{\"type\":\"contourcarpet\",\"colorbar\":{\"outlinewidth\":0,\"ticks\":\"\"}}],\"contour\":[{\"type\":\"contour\",\"colorbar\":{\"outlinewidth\":0,\"ticks\":\"\"},\"colorscale\":[[0.0,\"#0d0887\"],[0.1111111111111111,\"#46039f\"],[0.2222222222222222,\"#7201a8\"],[0.3333333333333333,\"#9c179e\"],[0.4444444444444444,\"#bd3786\"],[0.5555555555555556,\"#d8576b\"],[0.6666666666666666,\"#ed7953\"],[0.7777777777777778,\"#fb9f3a\"],[0.8888888888888888,\"#fdca26\"],[1.0,\"#f0f921\"]]}],\"surface\":[{\"type\":\"surface\",\"colorbar\":{\"outlinewidth\":0,\"ticks\":\"\"},\"colorscale\":[[0.0,\"#0d0887\"],[0.1111111111111111,\"#46039f\"],[0.2222222222222222,\"#7201a8\"],[0.3333333333333333,\"#9c179e\"],[0.4444444444444444,\"#bd3786\"],[0.5555555555555556,\"#d8576b\"],[0.6666666666666666,\"#ed7953\"],[0.7777777777777778,\"#fb9f3a\"],[0.8888888888888888,\"#fdca26\"],[1.0,\"#f0f921\"]]}],\"mesh3d\":[{\"type\":\"mesh3d\",\"colorbar\":{\"outlinewidth\":0,\"ticks\":\"\"}}],\"scatter\":[{\"fillpattern\":{\"fillmode\":\"overlay\",\"size\":10,\"solidity\":0.2},\"type\":\"scatter\"}],\"parcoords\":[{\"type\":\"parcoords\",\"line\":{\"colorbar\":{\"outlinewidth\":0,\"ticks\":\"\"}}}],\"scatterpolargl\":[{\"type\":\"scatterpolargl\",\"marker\":{\"colorbar\":{\"outlinewidth\":0,\"ticks\":\"\"}}}],\"bar\":[{\"error_x\":{\"color\":\"#2a3f5f\"},\"error_y\":{\"color\":\"#2a3f5f\"},\"marker\":{\"line\":{\"color\":\"#E5ECF6\",\"width\":0.5},\"pattern\":{\"fillmode\":\"overlay\",\"size\":10,\"solidity\":0.2}},\"type\":\"bar\"}],\"scattergeo\":[{\"type\":\"scattergeo\",\"marker\":{\"colorbar\":{\"outlinewidth\":0,\"ticks\":\"\"}}}],\"scatterpolar\":[{\"type\":\"scatterpolar\",\"marker\":{\"colorbar\":{\"outlinewidth\":0,\"ticks\":\"\"}}}],\"histogram\":[{\"marker\":{\"pattern\":{\"fillmode\":\"overlay\",\"size\":10,\"solidity\":0.2}},\"type\":\"histogram\"}],\"scattergl\":[{\"type\":\"scattergl\",\"marker\":{\"colorbar\":{\"outlinewidth\":0,\"ticks\":\"\"}}}],\"scatter3d\":[{\"type\":\"scatter3d\",\"line\":{\"colorbar\":{\"outlinewidth\":0,\"ticks\":\"\"}},\"marker\":{\"colorbar\":{\"outlinewidth\":0,\"ticks\":\"\"}}}],\"scattermapbox\":[{\"type\":\"scattermapbox\",\"marker\":{\"colorbar\":{\"outlinewidth\":0,\"ticks\":\"\"}}}],\"scatterternary\":[{\"type\":\"scatterternary\",\"marker\":{\"colorbar\":{\"outlinewidth\":0,\"ticks\":\"\"}}}],\"scattercarpet\":[{\"type\":\"scattercarpet\",\"marker\":{\"colorbar\":{\"outlinewidth\":0,\"ticks\":\"\"}}}],\"carpet\":[{\"aaxis\":{\"endlinecolor\":\"#2a3f5f\",\"gridcolor\":\"white\",\"linecolor\":\"white\",\"minorgridcolor\":\"white\",\"startlinecolor\":\"#2a3f5f\"},\"baxis\":{\"endlinecolor\":\"#2a3f5f\",\"gridcolor\":\"white\",\"linecolor\":\"white\",\"minorgridcolor\":\"white\",\"startlinecolor\":\"#2a3f5f\"},\"type\":\"carpet\"}],\"table\":[{\"cells\":{\"fill\":{\"color\":\"#EBF0F8\"},\"line\":{\"color\":\"white\"}},\"header\":{\"fill\":{\"color\":\"#C8D4E3\"},\"line\":{\"color\":\"white\"}},\"type\":\"table\"}],\"barpolar\":[{\"marker\":{\"line\":{\"color\":\"#E5ECF6\",\"width\":0.5},\"pattern\":{\"fillmode\":\"overlay\",\"size\":10,\"solidity\":0.2}},\"type\":\"barpolar\"}],\"pie\":[{\"automargin\":true,\"type\":\"pie\"}]},\"layout\":{\"autotypenumbers\":\"strict\",\"colorway\":[\"#636efa\",\"#EF553B\",\"#00cc96\",\"#ab63fa\",\"#FFA15A\",\"#19d3f3\",\"#FF6692\",\"#B6E880\",\"#FF97FF\",\"#FECB52\"],\"font\":{\"color\":\"#2a3f5f\"},\"hovermode\":\"closest\",\"hoverlabel\":{\"align\":\"left\"},\"paper_bgcolor\":\"white\",\"plot_bgcolor\":\"#E5ECF6\",\"polar\":{\"bgcolor\":\"#E5ECF6\",\"angularaxis\":{\"gridcolor\":\"white\",\"linecolor\":\"white\",\"ticks\":\"\"},\"radialaxis\":{\"gridcolor\":\"white\",\"linecolor\":\"white\",\"ticks\":\"\"}},\"ternary\":{\"bgcolor\":\"#E5ECF6\",\"aaxis\":{\"gridcolor\":\"white\",\"linecolor\":\"white\",\"ticks\":\"\"},\"baxis\":{\"gridcolor\":\"white\",\"linecolor\":\"white\",\"ticks\":\"\"},\"caxis\":{\"gridcolor\":\"white\",\"linecolor\":\"white\",\"ticks\":\"\"}},\"coloraxis\":{\"colorbar\":{\"outlinewidth\":0,\"ticks\":\"\"}},\"colorscale\":{\"sequential\":[[0.0,\"#0d0887\"],[0.1111111111111111,\"#46039f\"],[0.2222222222222222,\"#7201a8\"],[0.3333333333333333,\"#9c179e\"],[0.4444444444444444,\"#bd3786\"],[0.5555555555555556,\"#d8576b\"],[0.6666666666666666,\"#ed7953\"],[0.7777777777777778,\"#fb9f3a\"],[0.8888888888888888,\"#fdca26\"],[1.0,\"#f0f921\"]],\"sequentialminus\":[[0.0,\"#0d0887\"],[0.1111111111111111,\"#46039f\"],[0.2222222222222222,\"#7201a8\"],[0.3333333333333333,\"#9c179e\"],[0.4444444444444444,\"#bd3786\"],[0.5555555555555556,\"#d8576b\"],[0.6666666666666666,\"#ed7953\"],[0.7777777777777778,\"#fb9f3a\"],[0.8888888888888888,\"#fdca26\"],[1.0,\"#f0f921\"]],\"diverging\":[[0,\"#8e0152\"],[0.1,\"#c51b7d\"],[0.2,\"#de77ae\"],[0.3,\"#f1b6da\"],[0.4,\"#fde0ef\"],[0.5,\"#f7f7f7\"],[0.6,\"#e6f5d0\"],[0.7,\"#b8e186\"],[0.8,\"#7fbc41\"],[0.9,\"#4d9221\"],[1,\"#276419\"]]},\"xaxis\":{\"gridcolor\":\"white\",\"linecolor\":\"white\",\"ticks\":\"\",\"title\":{\"standoff\":15},\"zerolinecolor\":\"white\",\"automargin\":true,\"zerolinewidth\":2},\"yaxis\":{\"gridcolor\":\"white\",\"linecolor\":\"white\",\"ticks\":\"\",\"title\":{\"standoff\":15},\"zerolinecolor\":\"white\",\"automargin\":true,\"zerolinewidth\":2},\"scene\":{\"xaxis\":{\"backgroundcolor\":\"#E5ECF6\",\"gridcolor\":\"white\",\"linecolor\":\"white\",\"showbackground\":true,\"ticks\":\"\",\"zerolinecolor\":\"white\",\"gridwidth\":2},\"yaxis\":{\"backgroundcolor\":\"#E5ECF6\",\"gridcolor\":\"white\",\"linecolor\":\"white\",\"showbackground\":true,\"ticks\":\"\",\"zerolinecolor\":\"white\",\"gridwidth\":2},\"zaxis\":{\"backgroundcolor\":\"#E5ECF6\",\"gridcolor\":\"white\",\"linecolor\":\"white\",\"showbackground\":true,\"ticks\":\"\",\"zerolinecolor\":\"white\",\"gridwidth\":2}},\"shapedefaults\":{\"line\":{\"color\":\"#2a3f5f\"}},\"annotationdefaults\":{\"arrowcolor\":\"#2a3f5f\",\"arrowhead\":0,\"arrowwidth\":1},\"geo\":{\"bgcolor\":\"white\",\"landcolor\":\"#E5ECF6\",\"subunitcolor\":\"white\",\"showland\":true,\"showlakes\":true,\"lakecolor\":\"white\"},\"title\":{\"x\":0.05},\"mapbox\":{\"style\":\"light\"}}},\"legend\":{\"tracegroupgap\":0},\"margin\":{\"t\":60},\"title\":{\"text\":\"\\u0e23\\u0e30\\u0e1a\\u0e1a\\u0e01\\u0e32\\u0e23\\u0e1b\\u0e23\\u0e30\\u0e40\\u0e21\\u0e34\\u0e19\\u0e1c\\u0e25\\u0e43\\u0e19\\u0e2d\\u0e19\\u0e32\\u0e04\\u0e15\",\"x\":0.5},\"font\":{\"family\":\"TH Sarabun New\"},\"height\":500,\"width\":1000,\"xaxis\":{\"title\":{\"text\":\"Sizes\"}}},                        {\"responsive\": true}                    ).then(function(){\n",
              "                            \n",
              "var gd = document.getElementById('2186ba98-b857-4f1f-9517-22fcb7555e2e');\n",
              "var x = new MutationObserver(function (mutations, observer) {{\n",
              "        var display = window.getComputedStyle(gd).display;\n",
              "        if (!display || display === 'none') {{\n",
              "            console.log([gd, 'removed!']);\n",
              "            Plotly.purge(gd);\n",
              "            observer.disconnect();\n",
              "        }}\n",
              "}});\n",
              "\n",
              "// Listen for the removal of the full notebook cells\n",
              "var notebookContainer = gd.closest('#notebook-container');\n",
              "if (notebookContainer) {{\n",
              "    x.observe(notebookContainer, {childList: true});\n",
              "}}\n",
              "\n",
              "// Listen for the clearing of the current output cell\n",
              "var outputEl = gd.closest('.output');\n",
              "if (outputEl) {{\n",
              "    x.observe(outputEl, {childList: true});\n",
              "}}\n",
              "\n",
              "                        })                };                            </script>        </div>\n",
              "</body>\n",
              "</html>"
            ]
          },
          "metadata": {},
          "output_type": "display_data"
        }
      ],
      "source": [
        "sizes = [45, 35, 25, 2, 2]\n",
        "labels = [f'{A}=45', f'{B}=35', f'{C}=25', f'{D}=2',f'{E}=2']\n",
        "\n",
        "import pandas as pd\n",
        "data_system = pd.DataFrame({'label': labels, 'size': sizes})\n",
        "\n",
        "fig = px.treemap(data_system, path=['label'], values='size')\n",
        "\n",
        "fig.update_layout(title={\n",
        "        'text': \"ระบบการประเมินผลในอนาคต\",\n",
        "        'x': 0.5},\n",
        "                  height=500, width=1000,\n",
        "                  font_family=\"TH Sarabun New\",\n",
        "                  xaxis_title='Sizes')\n",
        "\n",
        "colors = ['#A2C4C6','#82B2B7','#D9C2BD', '#E2E5CC',\t'#C6AC84'\t]\n",
        "fig.update_traces(marker=dict(colors=colors))\n",
        "\n",
        "fig.show()"
      ]
    },
    {
      "cell_type": "markdown",
      "metadata": {
        "id": "XvgVcRwT1oFa"
      },
      "source": [
        "**ท่านคิดว่าอะไรคืออุปสรรคที่สำคัญที่สุดต่อการศึกษาที่มีคุณภาพในอนาคต?**"
      ]
    },
    {
      "cell_type": "code",
      "execution_count": null,
      "metadata": {
        "colab": {
          "base_uri": "https://localhost:8080/"
        },
        "id": "q0vE-wXC1htw",
        "outputId": "57b4ec0f-2d9e-49da-bbed-6b2d0c2b86e8"
      },
      "outputs": [
        {
          "name": "stdout",
          "output_type": "stream",
          "text": [
            "{'ความเหลื่อมล้ำ': 72, 'แรงจูงใจ': 15, 'การจัดการเวลา': 12, 'เทคโนโลยี': 7, 'สภาพแวดล้อม': 1, 'คุณภาพของศาสตร์ที่จะเรียน': 1, 'ทุกอย่าง': 1}\n"
          ]
        }
      ],
      "source": [
        "column_position = 24\n",
        "\n",
        "data_exam = data.iloc[:, column_position].value_counts()\n",
        "\n",
        "data_exam_dict = data_exam.to_dict()\n",
        "\n",
        "print(data_exam_dict)"
      ]
    },
    {
      "cell_type": "code",
      "execution_count": null,
      "metadata": {
        "id": "EenjN3z11noC"
      },
      "outputs": [],
      "source": [
        "A='ความเหลื่อมล้ำ'\n",
        "B='เทคโนโลยี'\n",
        "C='การจัดการเวลา'\n",
        "D='แรงจูงใจ'\n",
        "E='อื่นๆ:'"
      ]
    },
    {
      "cell_type": "code",
      "execution_count": null,
      "metadata": {
        "colab": {
          "base_uri": "https://localhost:8080/",
          "height": 1000
        },
        "id": "UvBbQLZC2Fcp",
        "outputId": "5877b533-ff1a-47bd-8de8-fe68f80fa35c"
      },
      "outputs": [
        {
          "data": {
            "text/html": [
              "<html>\n",
              "<head><meta charset=\"utf-8\" /></head>\n",
              "<body>\n",
              "    <div>            <script src=\"https://cdnjs.cloudflare.com/ajax/libs/mathjax/2.7.5/MathJax.js?config=TeX-AMS-MML_SVG\"></script><script type=\"text/javascript\">if (window.MathJax && window.MathJax.Hub && window.MathJax.Hub.Config) {window.MathJax.Hub.Config({SVG: {font: \"STIX-Web\"}});}</script>                <script type=\"text/javascript\">window.PlotlyConfig = {MathJaxConfig: 'local'};</script>\n",
              "        <script charset=\"utf-8\" src=\"https://cdn.plot.ly/plotly-2.24.1.min.js\"></script>                <div id=\"0e6cccc6-b365-4703-9eeb-56fa1b4f2195\" class=\"plotly-graph-div\" style=\"height:1000px; width:1000px;\"></div>            <script type=\"text/javascript\">                                    window.PLOTLYENV=window.PLOTLYENV || {};                                    if (document.getElementById(\"0e6cccc6-b365-4703-9eeb-56fa1b4f2195\")) {                    Plotly.newPlot(                        \"0e6cccc6-b365-4703-9eeb-56fa1b4f2195\",                        [{\"hole\":0.3,\"labels\":[\"\\u0e04\\u0e27\\u0e32\\u0e21\\u0e40\\u0e2b\\u0e25\\u0e37\\u0e48\\u0e2d\\u0e21\\u0e25\\u0e49\\u0e33=72\",\"\\u0e40\\u0e17\\u0e04\\u0e42\\u0e19\\u0e42\\u0e25\\u0e22\\u0e35=7\",\"\\u0e01\\u0e32\\u0e23\\u0e08\\u0e31\\u0e14\\u0e01\\u0e32\\u0e23\\u0e40\\u0e27\\u0e25\\u0e32=12\",\"\\u0e41\\u0e23\\u0e07\\u0e08\\u0e39\\u0e07\\u0e43\\u0e08=15\",\"\\u0e2d\\u0e37\\u0e48\\u0e19\\u0e46:=3\"],\"marker\":{\"colors\":[\"rgb(141,211,199)\",\"rgb(255,255,179)\",\"rgb(190,186,218)\",\"rgb(251,128,114)\",\"rgb(128,177,211)\",\"rgb(253,180,98)\",\"rgb(179,222,105)\",\"rgb(252,205,229)\",\"rgb(217,217,217)\",\"rgb(188,128,189)\",\"rgb(204,235,197)\",\"rgb(255,237,111)\"]},\"values\":[72,7,12,15,3],\"type\":\"pie\",\"textfont\":{\"size\":15},\"textinfo\":\"label+percent\",\"textposition\":\"outside\"}],                        {\"template\":{\"data\":{\"histogram2dcontour\":[{\"type\":\"histogram2dcontour\",\"colorbar\":{\"outlinewidth\":0,\"ticks\":\"\"},\"colorscale\":[[0.0,\"#0d0887\"],[0.1111111111111111,\"#46039f\"],[0.2222222222222222,\"#7201a8\"],[0.3333333333333333,\"#9c179e\"],[0.4444444444444444,\"#bd3786\"],[0.5555555555555556,\"#d8576b\"],[0.6666666666666666,\"#ed7953\"],[0.7777777777777778,\"#fb9f3a\"],[0.8888888888888888,\"#fdca26\"],[1.0,\"#f0f921\"]]}],\"choropleth\":[{\"type\":\"choropleth\",\"colorbar\":{\"outlinewidth\":0,\"ticks\":\"\"}}],\"histogram2d\":[{\"type\":\"histogram2d\",\"colorbar\":{\"outlinewidth\":0,\"ticks\":\"\"},\"colorscale\":[[0.0,\"#0d0887\"],[0.1111111111111111,\"#46039f\"],[0.2222222222222222,\"#7201a8\"],[0.3333333333333333,\"#9c179e\"],[0.4444444444444444,\"#bd3786\"],[0.5555555555555556,\"#d8576b\"],[0.6666666666666666,\"#ed7953\"],[0.7777777777777778,\"#fb9f3a\"],[0.8888888888888888,\"#fdca26\"],[1.0,\"#f0f921\"]]}],\"heatmap\":[{\"type\":\"heatmap\",\"colorbar\":{\"outlinewidth\":0,\"ticks\":\"\"},\"colorscale\":[[0.0,\"#0d0887\"],[0.1111111111111111,\"#46039f\"],[0.2222222222222222,\"#7201a8\"],[0.3333333333333333,\"#9c179e\"],[0.4444444444444444,\"#bd3786\"],[0.5555555555555556,\"#d8576b\"],[0.6666666666666666,\"#ed7953\"],[0.7777777777777778,\"#fb9f3a\"],[0.8888888888888888,\"#fdca26\"],[1.0,\"#f0f921\"]]}],\"heatmapgl\":[{\"type\":\"heatmapgl\",\"colorbar\":{\"outlinewidth\":0,\"ticks\":\"\"},\"colorscale\":[[0.0,\"#0d0887\"],[0.1111111111111111,\"#46039f\"],[0.2222222222222222,\"#7201a8\"],[0.3333333333333333,\"#9c179e\"],[0.4444444444444444,\"#bd3786\"],[0.5555555555555556,\"#d8576b\"],[0.6666666666666666,\"#ed7953\"],[0.7777777777777778,\"#fb9f3a\"],[0.8888888888888888,\"#fdca26\"],[1.0,\"#f0f921\"]]}],\"contourcarpet\":[{\"type\":\"contourcarpet\",\"colorbar\":{\"outlinewidth\":0,\"ticks\":\"\"}}],\"contour\":[{\"type\":\"contour\",\"colorbar\":{\"outlinewidth\":0,\"ticks\":\"\"},\"colorscale\":[[0.0,\"#0d0887\"],[0.1111111111111111,\"#46039f\"],[0.2222222222222222,\"#7201a8\"],[0.3333333333333333,\"#9c179e\"],[0.4444444444444444,\"#bd3786\"],[0.5555555555555556,\"#d8576b\"],[0.6666666666666666,\"#ed7953\"],[0.7777777777777778,\"#fb9f3a\"],[0.8888888888888888,\"#fdca26\"],[1.0,\"#f0f921\"]]}],\"surface\":[{\"type\":\"surface\",\"colorbar\":{\"outlinewidth\":0,\"ticks\":\"\"},\"colorscale\":[[0.0,\"#0d0887\"],[0.1111111111111111,\"#46039f\"],[0.2222222222222222,\"#7201a8\"],[0.3333333333333333,\"#9c179e\"],[0.4444444444444444,\"#bd3786\"],[0.5555555555555556,\"#d8576b\"],[0.6666666666666666,\"#ed7953\"],[0.7777777777777778,\"#fb9f3a\"],[0.8888888888888888,\"#fdca26\"],[1.0,\"#f0f921\"]]}],\"mesh3d\":[{\"type\":\"mesh3d\",\"colorbar\":{\"outlinewidth\":0,\"ticks\":\"\"}}],\"scatter\":[{\"fillpattern\":{\"fillmode\":\"overlay\",\"size\":10,\"solidity\":0.2},\"type\":\"scatter\"}],\"parcoords\":[{\"type\":\"parcoords\",\"line\":{\"colorbar\":{\"outlinewidth\":0,\"ticks\":\"\"}}}],\"scatterpolargl\":[{\"type\":\"scatterpolargl\",\"marker\":{\"colorbar\":{\"outlinewidth\":0,\"ticks\":\"\"}}}],\"bar\":[{\"error_x\":{\"color\":\"#2a3f5f\"},\"error_y\":{\"color\":\"#2a3f5f\"},\"marker\":{\"line\":{\"color\":\"#E5ECF6\",\"width\":0.5},\"pattern\":{\"fillmode\":\"overlay\",\"size\":10,\"solidity\":0.2}},\"type\":\"bar\"}],\"scattergeo\":[{\"type\":\"scattergeo\",\"marker\":{\"colorbar\":{\"outlinewidth\":0,\"ticks\":\"\"}}}],\"scatterpolar\":[{\"type\":\"scatterpolar\",\"marker\":{\"colorbar\":{\"outlinewidth\":0,\"ticks\":\"\"}}}],\"histogram\":[{\"marker\":{\"pattern\":{\"fillmode\":\"overlay\",\"size\":10,\"solidity\":0.2}},\"type\":\"histogram\"}],\"scattergl\":[{\"type\":\"scattergl\",\"marker\":{\"colorbar\":{\"outlinewidth\":0,\"ticks\":\"\"}}}],\"scatter3d\":[{\"type\":\"scatter3d\",\"line\":{\"colorbar\":{\"outlinewidth\":0,\"ticks\":\"\"}},\"marker\":{\"colorbar\":{\"outlinewidth\":0,\"ticks\":\"\"}}}],\"scattermapbox\":[{\"type\":\"scattermapbox\",\"marker\":{\"colorbar\":{\"outlinewidth\":0,\"ticks\":\"\"}}}],\"scatterternary\":[{\"type\":\"scatterternary\",\"marker\":{\"colorbar\":{\"outlinewidth\":0,\"ticks\":\"\"}}}],\"scattercarpet\":[{\"type\":\"scattercarpet\",\"marker\":{\"colorbar\":{\"outlinewidth\":0,\"ticks\":\"\"}}}],\"carpet\":[{\"aaxis\":{\"endlinecolor\":\"#2a3f5f\",\"gridcolor\":\"white\",\"linecolor\":\"white\",\"minorgridcolor\":\"white\",\"startlinecolor\":\"#2a3f5f\"},\"baxis\":{\"endlinecolor\":\"#2a3f5f\",\"gridcolor\":\"white\",\"linecolor\":\"white\",\"minorgridcolor\":\"white\",\"startlinecolor\":\"#2a3f5f\"},\"type\":\"carpet\"}],\"table\":[{\"cells\":{\"fill\":{\"color\":\"#EBF0F8\"},\"line\":{\"color\":\"white\"}},\"header\":{\"fill\":{\"color\":\"#C8D4E3\"},\"line\":{\"color\":\"white\"}},\"type\":\"table\"}],\"barpolar\":[{\"marker\":{\"line\":{\"color\":\"#E5ECF6\",\"width\":0.5},\"pattern\":{\"fillmode\":\"overlay\",\"size\":10,\"solidity\":0.2}},\"type\":\"barpolar\"}],\"pie\":[{\"automargin\":true,\"type\":\"pie\"}]},\"layout\":{\"autotypenumbers\":\"strict\",\"colorway\":[\"#636efa\",\"#EF553B\",\"#00cc96\",\"#ab63fa\",\"#FFA15A\",\"#19d3f3\",\"#FF6692\",\"#B6E880\",\"#FF97FF\",\"#FECB52\"],\"font\":{\"color\":\"#2a3f5f\"},\"hovermode\":\"closest\",\"hoverlabel\":{\"align\":\"left\"},\"paper_bgcolor\":\"white\",\"plot_bgcolor\":\"#E5ECF6\",\"polar\":{\"bgcolor\":\"#E5ECF6\",\"angularaxis\":{\"gridcolor\":\"white\",\"linecolor\":\"white\",\"ticks\":\"\"},\"radialaxis\":{\"gridcolor\":\"white\",\"linecolor\":\"white\",\"ticks\":\"\"}},\"ternary\":{\"bgcolor\":\"#E5ECF6\",\"aaxis\":{\"gridcolor\":\"white\",\"linecolor\":\"white\",\"ticks\":\"\"},\"baxis\":{\"gridcolor\":\"white\",\"linecolor\":\"white\",\"ticks\":\"\"},\"caxis\":{\"gridcolor\":\"white\",\"linecolor\":\"white\",\"ticks\":\"\"}},\"coloraxis\":{\"colorbar\":{\"outlinewidth\":0,\"ticks\":\"\"}},\"colorscale\":{\"sequential\":[[0.0,\"#0d0887\"],[0.1111111111111111,\"#46039f\"],[0.2222222222222222,\"#7201a8\"],[0.3333333333333333,\"#9c179e\"],[0.4444444444444444,\"#bd3786\"],[0.5555555555555556,\"#d8576b\"],[0.6666666666666666,\"#ed7953\"],[0.7777777777777778,\"#fb9f3a\"],[0.8888888888888888,\"#fdca26\"],[1.0,\"#f0f921\"]],\"sequentialminus\":[[0.0,\"#0d0887\"],[0.1111111111111111,\"#46039f\"],[0.2222222222222222,\"#7201a8\"],[0.3333333333333333,\"#9c179e\"],[0.4444444444444444,\"#bd3786\"],[0.5555555555555556,\"#d8576b\"],[0.6666666666666666,\"#ed7953\"],[0.7777777777777778,\"#fb9f3a\"],[0.8888888888888888,\"#fdca26\"],[1.0,\"#f0f921\"]],\"diverging\":[[0,\"#8e0152\"],[0.1,\"#c51b7d\"],[0.2,\"#de77ae\"],[0.3,\"#f1b6da\"],[0.4,\"#fde0ef\"],[0.5,\"#f7f7f7\"],[0.6,\"#e6f5d0\"],[0.7,\"#b8e186\"],[0.8,\"#7fbc41\"],[0.9,\"#4d9221\"],[1,\"#276419\"]]},\"xaxis\":{\"gridcolor\":\"white\",\"linecolor\":\"white\",\"ticks\":\"\",\"title\":{\"standoff\":15},\"zerolinecolor\":\"white\",\"automargin\":true,\"zerolinewidth\":2},\"yaxis\":{\"gridcolor\":\"white\",\"linecolor\":\"white\",\"ticks\":\"\",\"title\":{\"standoff\":15},\"zerolinecolor\":\"white\",\"automargin\":true,\"zerolinewidth\":2},\"scene\":{\"xaxis\":{\"backgroundcolor\":\"#E5ECF6\",\"gridcolor\":\"white\",\"linecolor\":\"white\",\"showbackground\":true,\"ticks\":\"\",\"zerolinecolor\":\"white\",\"gridwidth\":2},\"yaxis\":{\"backgroundcolor\":\"#E5ECF6\",\"gridcolor\":\"white\",\"linecolor\":\"white\",\"showbackground\":true,\"ticks\":\"\",\"zerolinecolor\":\"white\",\"gridwidth\":2},\"zaxis\":{\"backgroundcolor\":\"#E5ECF6\",\"gridcolor\":\"white\",\"linecolor\":\"white\",\"showbackground\":true,\"ticks\":\"\",\"zerolinecolor\":\"white\",\"gridwidth\":2}},\"shapedefaults\":{\"line\":{\"color\":\"#2a3f5f\"}},\"annotationdefaults\":{\"arrowcolor\":\"#2a3f5f\",\"arrowhead\":0,\"arrowwidth\":1},\"geo\":{\"bgcolor\":\"white\",\"landcolor\":\"#E5ECF6\",\"subunitcolor\":\"white\",\"showland\":true,\"showlakes\":true,\"lakecolor\":\"white\"},\"title\":{\"x\":0.05},\"mapbox\":{\"style\":\"light\"}}},\"title\":{\"text\":\"\\u0e2d\\u0e38\\u0e1b\\u0e2a\\u0e23\\u0e23\\u0e04\\u0e17\\u0e35\\u0e48\\u0e2a\\u0e33\\u0e04\\u0e31\\u0e0d\\u0e17\\u0e35\\u0e48\\u0e2a\\u0e38\\u0e14\\u0e15\\u0e48\\u0e2d\\u0e01\\u0e32\\u0e23\\u0e28\\u0e36\\u0e01\\u0e29\\u0e32\\u0e17\\u0e35\\u0e48\\u0e21\\u0e35\\u0e04\\u0e38\\u0e13\\u0e20\\u0e32\\u0e1e\\u0e43\\u0e19\\u0e2d\\u0e19\\u0e32\\u0e04\\u0e15\",\"x\":0.5},\"font\":{\"family\":\"TH Sarabun New\"},\"height\":1000,\"width\":1000,\"xaxis\":{\"title\":{\"text\":\"Sizes\"}}},                        {\"responsive\": true}                    ).then(function(){\n",
              "                            \n",
              "var gd = document.getElementById('0e6cccc6-b365-4703-9eeb-56fa1b4f2195');\n",
              "var x = new MutationObserver(function (mutations, observer) {{\n",
              "        var display = window.getComputedStyle(gd).display;\n",
              "        if (!display || display === 'none') {{\n",
              "            console.log([gd, 'removed!']);\n",
              "            Plotly.purge(gd);\n",
              "            observer.disconnect();\n",
              "        }}\n",
              "}});\n",
              "\n",
              "// Listen for the removal of the full notebook cells\n",
              "var notebookContainer = gd.closest('#notebook-container');\n",
              "if (notebookContainer) {{\n",
              "    x.observe(notebookContainer, {childList: true});\n",
              "}}\n",
              "\n",
              "// Listen for the clearing of the current output cell\n",
              "var outputEl = gd.closest('.output');\n",
              "if (outputEl) {{\n",
              "    x.observe(outputEl, {childList: true});\n",
              "}}\n",
              "\n",
              "                        })                };                            </script>        </div>\n",
              "</body>\n",
              "</html>"
            ]
          },
          "metadata": {},
          "output_type": "display_data"
        }
      ],
      "source": [
        "#fig, ax = plt.subplots(figsize=(8, 10))\n",
        "\n",
        "sizes = [72, 7, 12, 15, 3]\n",
        "labels = [f'{A}=72', f'{B}=7', f'{C}=12', f'{D}=15',f'{E}=3']\n",
        "colors = ['lightblue', 'lightgreen', 'lightcoral', 'lightskyblue', 'lightpink']\n",
        "\n",
        "max_index = sizes.index(max(sizes))\n",
        "explode = [0] * len(labels)\n",
        "explode[max_index] = 0.1\n",
        "\n",
        "fig = go.Figure(data=[go.Pie(labels=labels, values=sizes, hole=.3,\n",
        "                             marker=dict(colors=px.colors.qualitative.Set3))])\n",
        "\n",
        "fig.update_traces(textinfo='label+percent', textfont_size=15,textposition = \"outside\")\n",
        "\n",
        "fig.update_layout(title={\n",
        "        'text': \"อุปสรรคที่สำคัญที่สุดต่อการศึกษาที่มีคุณภาพในอนาคต\",\n",
        "        'x': 0.5},\n",
        "                  height=1000, width=1000,\n",
        "                  font_family=\"TH Sarabun New\",\n",
        "                  xaxis_title='Sizes')\n",
        "\n",
        "fig.show()"
      ]
    }
  ],
  "metadata": {
    "colab": {
      "provenance": []
    },
    "kernelspec": {
      "display_name": "Python 3",
      "name": "python3"
    },
    "language_info": {
      "name": "python"
    }
  },
  "nbformat": 4,
  "nbformat_minor": 0
}
